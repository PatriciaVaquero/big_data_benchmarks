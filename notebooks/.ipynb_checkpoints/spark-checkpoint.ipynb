{
 "cells": [
  {
   "cell_type": "markdown",
   "metadata": {},
   "source": [
    "# Get data and packages"
   ]
  },
  {
   "cell_type": "code",
   "execution_count": 3,
   "metadata": {
    "ExecuteTime": {
     "end_time": "2020-01-23T13:11:41.361198Z",
     "start_time": "2020-01-23T13:10:00.918436Z"
    }
   },
   "outputs": [],
   "source": [
    "%%capture\n",
    "!aws s3 cp --recursive s3://xdss-public-datasets/demos/taxi_parquet ../datasets/taxi_parquet"
   ]
  },
  {
   "cell_type": "code",
   "execution_count": 1,
   "metadata": {
    "ExecuteTime": {
     "end_time": "2020-01-23T13:33:57.945841Z",
     "start_time": "2020-01-23T13:33:55.091628Z"
    }
   },
   "outputs": [],
   "source": [
    "import gc\n",
    "from src.benchmarks_utils import benchmark, get_results\n",
    "from src.spark_utils import *\n",
    "from src.config import repetitions\n",
    "\n",
    "\n",
    "name = 'spark'\n",
    "data_path = '../datasets/taxi_parquet/'\n",
    "results_path = f\"../results/{name}_1b_mlm52xlarge.csv\"\n",
    "benchmarks = {}"
   ]
  },
  {
   "cell_type": "markdown",
   "metadata": {},
   "source": [
    "# Benchmarks"
   ]
  },
  {
   "cell_type": "code",
   "execution_count": 2,
   "metadata": {
    "ExecuteTime": {
     "end_time": "2020-01-23T13:34:07.055629Z",
     "start_time": "2020-01-23T13:34:02.651215Z"
    }
   },
   "outputs": [
    {
     "name": "stdout",
     "output_type": "stream",
     "text": [
      "size: 1173057928 with 19 columns\n"
     ]
    }
   ],
   "source": [
    "# Load data\n",
    "data = read_file(data_path=data_path)\n",
    "data = data.withColumn('pickup_hour', sql.functions.split(data['pickup_datetime'], ' ').getItem(1))\n",
    "print(f\"size: {data.count()} with {len(data.columns)} columns\")"
   ]
  },
  {
   "cell_type": "code",
   "execution_count": null,
   "metadata": {
    "ExecuteTime": {
     "start_time": "2020-01-23T13:35:36.063Z"
    }
   },
   "outputs": [],
   "source": [
    "benchmarks['read_file']= benchmark(read_file, df=data, data_path=data_path, repetitions=repetitions)\n",
    "benchmarks['mean']= benchmark(mean, data, repetitions=repetitions)\n",
    "benchmarks['standard deviation']= benchmark(standard_deviation, data, repetitions=repetitions)\n",
    "benchmarks['sum columns']= benchmark(sum_columns, data, repetitions=repetitions)\n",
    "benchmarks['product columns']= benchmark(product_columns, data, repetitions=repetitions)\n",
    "benchmarks['arithmetic operation']= benchmark(complicated_arithmetic_operation, data, repetitions=repetitions)\n",
    "benchmarks['value counts']= benchmark(value_counts, data, repetitions=repetitions)\n",
    "benchmarks['groupby statistics']= benchmark(groupby_statistics, data, repetitions=repetitions)\n",
    "benchmarks['filter']= benchmark(filter_data, data, repetitions=repetitions)"
   ]
  },
  {
   "cell_type": "raw",
   "metadata": {
    "ExecuteTime": {
     "end_time": "2020-01-23T13:31:24.872352Z",
     "start_time": "2020-01-23T13:31:23.815651Z"
    }
   },
   "source": [
    "print(f\"cleaned {gc.collect()} mb\")\n",
    "get_results(benchmarks, name).to_csv(results_path)\n",
    "!aws s3 cp  ../results/spark_1b_mlm52xlarge.csv s3://vaex-sagemaker-demo/benchmarks/spark_1b_mlm52xlarge_results.csv \n",
    "    "
   ]
  },
  {
   "cell_type": "raw",
   "metadata": {
    "ExecuteTime": {
     "end_time": "2020-01-23T13:32:34.187330Z",
     "start_time": "2020-01-23T13:31:24.874401Z"
    }
   },
   "source": [
    "print(f\"cleaned {gc.collect()} mb\")\n",
    "benchmarks['join'] = benchmark(join, data, repetitions=repetitions, other=groupby_statistics(data))\n",
    "print(f\"Done benchmarks on all data\")"
   ]
  },
  {
   "cell_type": "raw",
   "metadata": {
    "ExecuteTime": {
     "end_time": "2020-01-23T13:32:34.188147Z",
     "start_time": "2020-01-23T13:28:46.180Z"
    }
   },
   "source": [
    "print(f\"cleaned {gc.collect()} mb\")\n",
    "get_results(benchmarks, name).to_csv(results_path)\n",
    "!aws s3 cp  ../results/spark_1b_mlm52xlarge.csv s3://vaex-sagemaker-demo/benchmarks/spark_1b_mlm52xlarge_results.csv "
   ]
  },
  {
   "cell_type": "code",
   "execution_count": null,
   "metadata": {
    "ExecuteTime": {
     "start_time": "2020-01-23T13:35:40.273Z"
    }
   },
   "outputs": [],
   "source": [
    "# filtered\n",
    "filterd = filter_data(data)\n",
    "del data\n",
    "\n",
    "print(f\"Prepare filtered data and deleted {gc.collect()} MB\")\n",
    "benchmarks['filtered mean'] = benchmark(mean, filterd, repetitions=repetitions)\n",
    "benchmarks['filtered standard deviation'] = benchmark(standard_deviation, filterd, repetitions=repetitions)\n",
    "benchmarks['filtered sum columns'] = benchmark(sum_columns , filterd, repetitions=repetitions)\n",
    "benchmarks['filtered product_columns'] = benchmark(product_columns , filterd, repetitions=repetitions)\n",
    "benchmarks['filtered complicated arithmetic operation'] = benchmark(complicated_arithmetic_operation, filterd, repetitions=repetitions)\n",
    "benchmarks['filtered value counts'] = benchmark(value_counts, filterd, repetitions=repetitions)\n",
    "benchmarks['filtered groupby statistics'] = benchmark(groupby_statistics, filterd, repetitions=repetitions)\n",
    "\n",
    "print(f\"Done benchmarks on filterd data\")"
   ]
  },
  {
   "cell_type": "code",
   "execution_count": null,
   "metadata": {
    "ExecuteTime": {
     "start_time": "2020-01-23T13:35:40.707Z"
    }
   },
   "outputs": [],
   "source": [
    "print(f\"cleaned {gc.collect()} mb\")\n",
    "get_results(benchmarks, name).to_csv(results_path)\n",
    "!aws s3 cp  ../results/spark_1b_mlm52xlarge.csv s3://vaex-sagemaker-demo/benchmarks/spark_1b_mlm52xlarge_results.csv "
   ]
  },
  {
   "cell_type": "code",
   "execution_count": null,
   "metadata": {
    "ExecuteTime": {
     "start_time": "2020-01-23T13:35:42.520Z"
    }
   },
   "outputs": [],
   "source": [
    "benchmarks['filtered join'] = benchmark(join, filterd, repetitions=repetitions, other=groupby_statistics(filterd))"
   ]
  },
  {
   "cell_type": "code",
   "execution_count": null,
   "metadata": {
    "ExecuteTime": {
     "start_time": "2020-01-23T13:35:42.761Z"
    }
   },
   "outputs": [],
   "source": [
    "results = get_results(benchmarks, name)\n",
    "results.to_csv(results_path)\n",
    "results.head()"
   ]
  },
  {
   "cell_type": "code",
   "execution_count": null,
   "metadata": {
    "ExecuteTime": {
     "start_time": "2020-01-23T13:35:43.105Z"
    }
   },
   "outputs": [],
   "source": [
    "!aws s3 cp  ../results/spark_1b_mlm52xlarge.csv s3://vaex-sagemaker-demo/benchmarks/spark_1b_mlm52xlarge_results.csv \n",
    "    "
   ]
  },
  {
   "cell_type": "code",
   "execution_count": null,
   "metadata": {},
   "outputs": [],
   "source": []
  }
 ],
 "metadata": {
  "kernelspec": {
   "display_name": "conda_mxnet_p36",
   "language": "python",
   "name": "conda_mxnet_p36"
  },
  "language_info": {
   "codemirror_mode": {
    "name": "ipython",
    "version": 3
   },
   "file_extension": ".py",
   "mimetype": "text/x-python",
   "name": "python",
   "nbconvert_exporter": "python",
   "pygments_lexer": "ipython3",
   "version": "3.6.5"
  }
 },
 "nbformat": 4,
 "nbformat_minor": 4
}
