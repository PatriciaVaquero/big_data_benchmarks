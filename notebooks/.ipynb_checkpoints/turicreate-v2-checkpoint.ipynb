{
 "cells": [
  {
   "cell_type": "markdown",
   "metadata": {},
   "source": [
    "# Get data and packages"
   ]
  },
  {
   "cell_type": "code",
   "execution_count": 1,
   "metadata": {
    "ExecuteTime": {
     "end_time": "2020-01-13T14:21:06.690430Z",
     "start_time": "2020-01-13T14:20:54.182849Z"
    },
    "code_folding": [
     0
    ]
   },
   "outputs": [],
   "source": [
    "%%capture\n",
    "%%bash\n",
    "pip install jupyter_contrib_nbextensions\n",
    "pip install jupyter_nbextensions_configurator\n",
    "jupyter contrib nbextension install --user\n",
    "jupyter nbextensions_configurator enable --user\n",
    "\n",
    "jupyter nbextension enable codefolding/main\n",
    "jupyter nbextension enable scratchpad/main\n",
    "jupyter nbextension enable execute_time/ExecuteTime\n",
    "jupyter nbextension enable autosavetime/main\n",
    "pip install -U pip dask numpy fsspec>=0.3.3 tqdm pyarrow\n"
   ]
  },
  {
   "cell_type": "code",
   "execution_count": 4,
   "metadata": {
    "ExecuteTime": {
     "end_time": "2020-01-25T14:57:19.224963Z",
     "start_time": "2020-01-25T14:57:19.213651Z"
    }
   },
   "outputs": [],
   "source": [
    "%%capture\n",
    "%%bash\n",
    "!pip install --upgrade turicreate"
   ]
  },
  {
   "cell_type": "raw",
   "metadata": {},
   "source": [
    "!aws s3 cp --recursive s3://xdss-public-datasets/demos/taxi_1B.sf ../datasets/taxi_1B.sf"
   ]
  },
  {
   "cell_type": "code",
   "execution_count": 1,
   "metadata": {
    "ExecuteTime": {
     "end_time": "2020-01-25T15:43:42.761525Z",
     "start_time": "2020-01-25T15:43:42.496148Z"
    }
   },
   "outputs": [
    {
     "name": "stdout",
     "output_type": "stream",
     "text": [
      "test for 1 repetitions\n"
     ]
    }
   ],
   "source": [
    "import gc\n",
    "from src.config import repetitions\n",
    "import time\n",
    "import numpy as np\n",
    "import pandas as pd\n",
    "import numpy as np\n",
    "import datetime as dt\n",
    "import warnings\n",
    "import time\n",
    "import gc\n",
    "import os\n",
    "\n",
    "instance_type = 'mlm52xlarge'\n",
    "name = 'turicreate'\n",
    "data_path = '../datasets/taxi_1B.sf'\n",
    "instance_type = 'mlm52xlarge'\n",
    "results_path = f\"../results/{name}_1b_{instance_type}.csv\"\n",
    "benchmarks = {}\n",
    "print(f\"test for {repetitions} repetitions\")"
   ]
  },
  {
   "cell_type": "code",
   "execution_count": 9,
   "metadata": {
    "ExecuteTime": {
     "end_time": "2020-01-25T15:43:58.948349Z",
     "start_time": "2020-01-25T15:43:58.943379Z"
    }
   },
   "outputs": [],
   "source": [
    "import numpy as np\n",
    "import pandas as pd\n",
    "import time \n",
    "\n",
    "\n",
    "def get_results(benchmarks, name):\n",
    "    results = pd.DataFrame.from_dict(benchmarks, orient='index')\n",
    "    results.columns = [name]\n",
    "    return results\n",
    "\n",
    "def persist():\n",
    "    get_results(benchmarks, name).to_csv(results_path)\n",
    "    !aws s3 cp  ../results/turicreate_1b_mlm52xlarge.csv s3://vaex-sagemaker-demo/benchmarks/turicreate_1b_mlm52xlarge_results.csv \n",
    "    \n",
    "def benchmark(f, df, name, repetitions=1, **kwargs):\n",
    "    times = []\n",
    "    for i in range(repetitions):\n",
    "        start_time = time.time()\n",
    "        ret = f(df, **kwargs)\n",
    "        times.append(time.time()-start_time)\n",
    "    benchmarks[name] = np.mean(times)\n",
    "    persist()\n",
    "    print(f\"{name} took: {benchmarks[name]}\")\n",
    "    return benchmarks[name]\n",
    "\n",
    "\n",
    "long_min = -74.05\n",
    "long_max = -73.75\n",
    "lat_min = 40.58\n",
    "lat_max = 40.90"
   ]
  },
  {
   "cell_type": "markdown",
   "metadata": {},
   "source": [
    "# Benchmark"
   ]
  },
  {
   "cell_type": "code",
   "execution_count": 10,
   "metadata": {
    "ExecuteTime": {
     "end_time": "2020-01-25T15:43:59.943485Z",
     "start_time": "2020-01-25T15:43:59.785007Z"
    }
   },
   "outputs": [
    {
     "name": "stdout",
     "output_type": "stream",
     "text": [
      "size: 1000 with 18 columns\n"
     ]
    }
   ],
   "source": [
    "import turicreate as tc\n",
    "import numpy as np\n",
    "\n",
    "# Load data\n",
    "data = tc.SFrame(data_path)\n",
    "print(f\"size: {data.shape[0]} with {data.shape[1]} columns\")"
   ]
  },
  {
   "cell_type": "code",
   "execution_count": 11,
   "metadata": {
    "ExecuteTime": {
     "end_time": "2020-01-25T15:44:04.159839Z",
     "start_time": "2020-01-25T15:44:03.526506Z"
    }
   },
   "outputs": [
    {
     "name": "stdout",
     "output_type": "stream",
     "text": [
      "upload: ../results/turicreate_1b_mlm52xlarge.csv to s3://vaex-sagemaker-demo/benchmarks/turicreate_1b_mlm52xlarge_results.csv\n",
      "read_file took: 0.0012040138244628906\n"
     ]
    },
    {
     "data": {
      "text/plain": [
       "0.0012040138244628906"
      ]
     },
     "execution_count": 11,
     "metadata": {},
     "output_type": "execute_result"
    }
   ],
   "source": [
    "def open_file(df=None):\n",
    "    return tc.SFrame(data_path)\n",
    "\n",
    "benchmark(open_file, df=data, name='read_file', repetitions=repetitions)"
   ]
  },
  {
   "cell_type": "code",
   "execution_count": 12,
   "metadata": {
    "ExecuteTime": {
     "end_time": "2020-01-25T15:44:05.160456Z",
     "start_time": "2020-01-25T15:44:04.521633Z"
    }
   },
   "outputs": [
    {
     "name": "stdout",
     "output_type": "stream",
     "text": [
      "upload: ../results/turicreate_1b_mlm52xlarge.csv to s3://vaex-sagemaker-demo/benchmarks/turicreate_1b_mlm52xlarge_results.csv\n",
      "count took: 3.0517578125e-05\n"
     ]
    },
    {
     "data": {
      "text/plain": [
       "3.0517578125e-05"
      ]
     },
     "execution_count": 12,
     "metadata": {},
     "output_type": "execute_result"
    }
   ],
   "source": [
    "def count(df=None):\n",
    "    return len(df)\n",
    "\n",
    "benchmark(count, df=data, name='count', repetitions=repetitions)"
   ]
  },
  {
   "cell_type": "code",
   "execution_count": 13,
   "metadata": {
    "ExecuteTime": {
     "end_time": "2020-01-25T15:44:05.845364Z",
     "start_time": "2020-01-25T15:44:05.228592Z"
    }
   },
   "outputs": [
    {
     "name": "stdout",
     "output_type": "stream",
     "text": [
      "upload: ../results/turicreate_1b_mlm52xlarge.csv to s3://vaex-sagemaker-demo/benchmarks/turicreate_1b_mlm52xlarge_results.csv\n",
      "mean took: 0.001392364501953125\n"
     ]
    },
    {
     "data": {
      "text/plain": [
       "0.001392364501953125"
      ]
     },
     "execution_count": 13,
     "metadata": {},
     "output_type": "execute_result"
    }
   ],
   "source": [
    "def mean(df):\n",
    "    return df['fare_amount'].mean()\n",
    "\n",
    "benchmark(mean, df=data, name='mean', repetitions=repetitions)"
   ]
  },
  {
   "cell_type": "code",
   "execution_count": 14,
   "metadata": {
    "ExecuteTime": {
     "end_time": "2020-01-25T15:44:06.456004Z",
     "start_time": "2020-01-25T15:44:05.847338Z"
    }
   },
   "outputs": [
    {
     "name": "stdout",
     "output_type": "stream",
     "text": [
      "upload: ../results/turicreate_1b_mlm52xlarge.csv to s3://vaex-sagemaker-demo/benchmarks/turicreate_1b_mlm52xlarge_results.csv\n",
      "standard took: 0.0012896060943603516\n"
     ]
    },
    {
     "data": {
      "text/plain": [
       "0.0012896060943603516"
      ]
     },
     "execution_count": 14,
     "metadata": {},
     "output_type": "execute_result"
    }
   ],
   "source": [
    "def standard_deviation(df):\n",
    "    return df['fare_amount'].std()\n",
    "\n",
    "benchmark(standard_deviation, df=data, name='standard', repetitions=repetitions)"
   ]
  },
  {
   "cell_type": "markdown",
   "metadata": {},
   "source": [
    "Unlike other techonlogies, vaex can return columns, or subset of values to explore lazely, \n",
    "but becouse many of the other tecnologies crashed at this point, we return a scalar instead."
   ]
  },
  {
   "cell_type": "code",
   "execution_count": 15,
   "metadata": {
    "ExecuteTime": {
     "end_time": "2020-01-25T15:44:07.075947Z",
     "start_time": "2020-01-25T15:44:06.458527Z"
    }
   },
   "outputs": [
    {
     "name": "stdout",
     "output_type": "stream",
     "text": [
      "upload: ../results/turicreate_1b_mlm52xlarge.csv to s3://vaex-sagemaker-demo/benchmarks/turicreate_1b_mlm52xlarge_results.csv\n",
      "sum columns mean took: 0.0019731521606445312\n"
     ]
    }
   ],
   "source": [
    "def mean_of_sum(df):\n",
    "    return (df['fare_amount'] + df['trip_distance']).mean()\n",
    "\n",
    "benchmark(mean_of_sum, df=data, name='sum columns mean', repetitions=repetitions)\n",
    "benchmarks['sum columns'] =  benchmarks['sum columns mean'] - benchmarks['mean']"
   ]
  },
  {
   "cell_type": "code",
   "execution_count": 16,
   "metadata": {
    "ExecuteTime": {
     "end_time": "2020-01-25T15:44:07.720168Z",
     "start_time": "2020-01-25T15:44:07.078406Z"
    }
   },
   "outputs": [
    {
     "name": "stdout",
     "output_type": "stream",
     "text": [
      "upload: ../results/turicreate_1b_mlm52xlarge.csv to s3://vaex-sagemaker-demo/benchmarks/turicreate_1b_mlm52xlarge_results.csv\n",
      "product columns mean took: 0.002002716064453125\n"
     ]
    }
   ],
   "source": [
    "def mean_of_product(df):\n",
    "    return (df['fare_amount'] * df['trip_distance']).mean()\n",
    "\n",
    "benchmark(mean_of_product, df=data, name='product columns mean', repetitions=repetitions)\n",
    "benchmarks['product columns'] =  benchmarks['product columns mean'] - benchmarks['mean']"
   ]
  },
  {
   "cell_type": "code",
   "execution_count": 17,
   "metadata": {
    "ExecuteTime": {
     "end_time": "2020-01-25T15:44:08.354800Z",
     "start_time": "2020-01-25T15:44:07.722015Z"
    },
    "code_folding": [
     0
    ]
   },
   "outputs": [
    {
     "name": "stdout",
     "output_type": "stream",
     "text": [
      "upload: ../results/turicreate_1b_mlm52xlarge.csv to s3://vaex-sagemaker-demo/benchmarks/turicreate_1b_mlm52xlarge_results.csv\n",
      "arithmetic operation mean took: 0.00744318962097168\n"
     ]
    }
   ],
   "source": [
    "def mean_of_complicated_arithmetic_operation(df):\n",
    "    theta_1 = df['pickup_longitude']\n",
    "    phi_1 = df['pickup_latitude']\n",
    "    theta_2 = df['dropoff_longitude']\n",
    "    phi_2 = df['dropoff_latitude']\n",
    "    temp = (np.sin((theta_2-theta_1)/2*np.pi/180)**2\n",
    "           + np.cos(theta_1*np.pi/180)*np.cos(theta_2*np.pi/180) * np.sin((phi_2-phi_1)/2*np.pi/180)**2)\n",
    "    return (2 * np.arctan2(np.sqrt(temp), np.sqrt(1-temp))).mean()\n",
    "\n",
    "benchmark(mean_of_complicated_arithmetic_operation, df=data, name='arithmetic operation mean', repetitions=repetitions)\n",
    "benchmarks['arithmetic operation'] =  benchmarks['arithmetic operation mean'] - benchmarks['mean']"
   ]
  },
  {
   "cell_type": "code",
   "execution_count": 18,
   "metadata": {
    "ExecuteTime": {
     "end_time": "2020-01-25T15:44:08.988964Z",
     "start_time": "2020-01-25T15:44:08.356640Z"
    }
   },
   "outputs": [
    {
     "name": "stdout",
     "output_type": "stream",
     "text": [
      "upload: ../results/turicreate_1b_mlm52xlarge.csv to s3://vaex-sagemaker-demo/benchmarks/turicreate_1b_mlm52xlarge_results.csv\n",
      "value counts took: 0.010123968124389648\n"
     ]
    },
    {
     "data": {
      "text/plain": [
       "0.010123968124389648"
      ]
     },
     "execution_count": 18,
     "metadata": {},
     "output_type": "execute_result"
    }
   ],
   "source": [
    "def value_counts(df):\n",
    "    return df['passenger_count'].value_counts()\n",
    "\n",
    "benchmark(value_counts, df=data, name='value counts', repetitions=repetitions)"
   ]
  },
  {
   "cell_type": "code",
   "execution_count": 19,
   "metadata": {
    "ExecuteTime": {
     "end_time": "2020-01-25T15:44:09.626226Z",
     "start_time": "2020-01-25T15:44:08.990685Z"
    }
   },
   "outputs": [
    {
     "name": "stdout",
     "output_type": "stream",
     "text": [
      "upload: ../results/turicreate_1b_mlm52xlarge.csv to s3://vaex-sagemaker-demo/benchmarks/turicreate_1b_mlm52xlarge_results.csv\n",
      "groupby statistics took: 0.009274482727050781\n"
     ]
    },
    {
     "data": {
      "text/plain": [
       "0.009274482727050781"
      ]
     },
     "execution_count": 19,
     "metadata": {},
     "output_type": "execute_result"
    }
   ],
   "source": [
    "def groupby_statistics(df):\n",
    "    return df.groupby(key_column_names = 'passenger_count', \n",
    "           operations = {\n",
    "               'fare_amount_mean':tc.aggregate.MEAN('fare_amount'),\n",
    "               'fare_amount_std':tc.aggregate.STD('fare_amount'),\n",
    "               'tip_amount_mean':tc.aggregate.MEAN('tip_amount'),\n",
    "               'tip_amount_mean':tc.aggregate.STD('tip_amount')\n",
    "           })\n",
    "\n",
    "benchmark(groupby_statistics, df=data, name='groupby statistics', repetitions=repetitions)"
   ]
  },
  {
   "cell_type": "code",
   "execution_count": 20,
   "metadata": {
    "ExecuteTime": {
     "end_time": "2020-01-25T15:44:09.639302Z",
     "start_time": "2020-01-25T15:44:09.627965Z"
    }
   },
   "outputs": [],
   "source": [
    "other = groupby_statistics(data)"
   ]
  },
  {
   "cell_type": "code",
   "execution_count": null,
   "metadata": {
    "ExecuteTime": {
     "end_time": "2020-01-25T15:47:26.544456Z",
     "start_time": "2020-01-25T15:47:26.496438Z"
    }
   },
   "outputs": [],
   "source": [
    "def join(df, other):\n",
    "    return df.join(other, on = 'passenger_count')\n",
    "\n",
    "benchmark(join, data, name='join', repetitions=repetitions, other=other)"
   ]
  },
  {
   "cell_type": "code",
   "execution_count": 22,
   "metadata": {
    "ExecuteTime": {
     "end_time": "2020-01-25T15:44:10.914366Z",
     "start_time": "2020-01-25T15:44:10.282093Z"
    }
   },
   "outputs": [
    {
     "name": "stdout",
     "output_type": "stream",
     "text": [
      "upload: ../results/turicreate_1b_mlm52xlarge.csv to s3://vaex-sagemaker-demo/benchmarks/turicreate_1b_mlm52xlarge_results.csv\n",
      "join count took: 0.008756399154663086\n"
     ]
    },
    {
     "data": {
      "text/plain": [
       "0.008756399154663086"
      ]
     },
     "execution_count": 22,
     "metadata": {},
     "output_type": "execute_result"
    }
   ],
   "source": [
    "def join_count(df, other):\n",
    "    return len(df.join(other, on = 'passenger_count'))\n",
    "\n",
    "benchmark(join_count, data, name='join count', repetitions=repetitions, other=other)"
   ]
  },
  {
   "cell_type": "markdown",
   "metadata": {},
   "source": [
    "Turi have a special tool for statistics called \"Sketch\""
   ]
  },
  {
   "cell_type": "code",
   "execution_count": 23,
   "metadata": {
    "ExecuteTime": {
     "end_time": "2020-01-25T15:44:11.589605Z",
     "start_time": "2020-01-25T15:44:10.916255Z"
    }
   },
   "outputs": [
    {
     "name": "stdout",
     "output_type": "stream",
     "text": [
      "upload: ../results/turicreate_1b_mlm52xlarge.csv to s3://vaex-sagemaker-demo/benchmarks/turicreate_1b_mlm52xlarge_results.csv\n",
      "skeatch mean took: 0.04694008827209473\n"
     ]
    },
    {
     "data": {
      "text/plain": [
       "0.04694008827209473"
      ]
     },
     "execution_count": 23,
     "metadata": {},
     "output_type": "execute_result"
    }
   ],
   "source": [
    "def skeatch_mean(df):\n",
    "    return tc.Sketch(df['fare_amount']).mean()\n",
    "\n",
    "benchmark(skeatch_mean, data, name='skeatch mean', repetitions=repetitions)"
   ]
  },
  {
   "cell_type": "code",
   "execution_count": 24,
   "metadata": {
    "ExecuteTime": {
     "end_time": "2020-01-25T15:44:12.245340Z",
     "start_time": "2020-01-25T15:44:11.591266Z"
    }
   },
   "outputs": [
    {
     "name": "stdout",
     "output_type": "stream",
     "text": [
      "upload: ../results/turicreate_1b_mlm52xlarge.csv to s3://vaex-sagemaker-demo/benchmarks/turicreate_1b_mlm52xlarge_results.csv\n",
      "skeatch standatd deviation took: 0.04503369331359863\n"
     ]
    },
    {
     "data": {
      "text/plain": [
       "0.04503369331359863"
      ]
     },
     "execution_count": 24,
     "metadata": {},
     "output_type": "execute_result"
    }
   ],
   "source": [
    "def skeatch_standatd_deviation(df):\n",
    "    return  tc.Sketch(df['fare_amount']).std()\n",
    "\n",
    "benchmark(skeatch_standatd_deviation, data, name='skeatch standatd deviation', repetitions=repetitions)"
   ]
  },
  {
   "cell_type": "code",
   "execution_count": 25,
   "metadata": {
    "ExecuteTime": {
     "end_time": "2020-01-25T15:44:12.916977Z",
     "start_time": "2020-01-25T15:44:12.247137Z"
    }
   },
   "outputs": [
    {
     "name": "stdout",
     "output_type": "stream",
     "text": [
      "upload: ../results/turicreate_1b_mlm52xlarge.csv to s3://vaex-sagemaker-demo/benchmarks/turicreate_1b_mlm52xlarge_results.csv\n",
      "skeatch frequent items took: 0.04623079299926758\n"
     ]
    },
    {
     "data": {
      "text/plain": [
       "0.04623079299926758"
      ]
     },
     "execution_count": 25,
     "metadata": {},
     "output_type": "execute_result"
    }
   ],
   "source": [
    "def skeatch_frequent_items(df):\n",
    "    return tc.Sketch(df['passenger_count']).frequent_items()\n",
    "\n",
    "benchmark(skeatch_frequent_items, data, name='skeatch frequent items', repetitions=repetitions)"
   ]
  },
  {
   "cell_type": "markdown",
   "metadata": {},
   "source": [
    "## Filtered data"
   ]
  },
  {
   "cell_type": "markdown",
   "metadata": {},
   "source": [
    "Dask is not build to run on filter data like you would normally, so we will apply the same strategy"
   ]
  },
  {
   "cell_type": "code",
   "execution_count": 26,
   "metadata": {
    "ExecuteTime": {
     "end_time": "2020-01-25T15:44:12.964472Z",
     "start_time": "2020-01-25T15:44:12.918714Z"
    }
   },
   "outputs": [
    {
     "name": "stdout",
     "output_type": "stream",
     "text": [
      "Prepare filtered data and deleted 0 MB\n"
     ]
    }
   ],
   "source": [
    "print(f\"Prepare filtered data and deleted {gc.collect()} MB\")"
   ]
  },
  {
   "cell_type": "code",
   "execution_count": 27,
   "metadata": {
    "ExecuteTime": {
     "end_time": "2020-01-25T15:44:13.586747Z",
     "start_time": "2020-01-25T15:44:12.965849Z"
    }
   },
   "outputs": [
    {
     "name": "stdout",
     "output_type": "stream",
     "text": [
      "upload: ../results/turicreate_1b_mlm52xlarge.csv to s3://vaex-sagemaker-demo/benchmarks/turicreate_1b_mlm52xlarge_results.csv\n",
      "filter data took: 0.0015516281127929688\n"
     ]
    },
    {
     "data": {
      "text/plain": [
       "0.0015516281127929688"
      ]
     },
     "execution_count": 27,
     "metadata": {},
     "output_type": "execute_result"
    }
   ],
   "source": [
    "def filter_data(df):\n",
    "    expr_filter = (df['pickup_longitude'] > long_min)  & (df['pickup_longitude'] < long_max) & \\\n",
    "                  (df['pickup_latitude'] > lat_min)    & (df['pickup_latitude'] < lat_max) & \\\n",
    "                  (df['dropoff_longitude'] > long_min) & (df['dropoff_longitude'] < long_max) & \\\n",
    "                  (df['dropoff_latitude'] > lat_min)   & (df['dropoff_latitude'] < lat_max)\n",
    "    return df[expr_filter]\n",
    "\n",
    "benchmark(filter_data, data, name='filter data', repetitions=repetitions)"
   ]
  },
  {
   "cell_type": "code",
   "execution_count": 28,
   "metadata": {
    "ExecuteTime": {
     "end_time": "2020-01-25T15:44:13.638355Z",
     "start_time": "2020-01-25T15:44:13.588642Z"
    }
   },
   "outputs": [
    {
     "name": "stdout",
     "output_type": "stream",
     "text": [
      "cleaned 0 mb\n"
     ]
    }
   ],
   "source": [
    "filterd = filter_data(data)\n",
    "\n",
    "del data\n",
    "print(f\"cleaned {gc.collect()} mb\")"
   ]
  },
  {
   "cell_type": "code",
   "execution_count": 29,
   "metadata": {
    "ExecuteTime": {
     "end_time": "2020-01-25T15:44:21.972049Z",
     "start_time": "2020-01-25T15:44:13.639887Z"
    }
   },
   "outputs": [
    {
     "name": "stdout",
     "output_type": "stream",
     "text": [
      "upload: ../results/turicreate_1b_mlm52xlarge.csv to s3://vaex-sagemaker-demo/benchmarks/turicreate_1b_mlm52xlarge_results.csv\n",
      "filterd count took: 0.007070064544677734\n",
      "upload: ../results/turicreate_1b_mlm52xlarge.csv to s3://vaex-sagemaker-demo/benchmarks/turicreate_1b_mlm52xlarge_results.csv\n",
      "filterd mean took: 0.002871274948120117\n",
      "upload: ../results/turicreate_1b_mlm52xlarge.csv to s3://vaex-sagemaker-demo/benchmarks/turicreate_1b_mlm52xlarge_results.csv\n",
      "filtered standard deviation took: 0.0034503936767578125\n",
      "upload: ../results/turicreate_1b_mlm52xlarge.csv to s3://vaex-sagemaker-demo/benchmarks/turicreate_1b_mlm52xlarge_results.csv\n",
      "filtered sum columns mean took: 0.003434896469116211\n",
      "upload: ../results/turicreate_1b_mlm52xlarge.csv to s3://vaex-sagemaker-demo/benchmarks/turicreate_1b_mlm52xlarge_results.csv\n",
      "filterd product columns mean took: 0.003442525863647461\n",
      "upload: ../results/turicreate_1b_mlm52xlarge.csv to s3://vaex-sagemaker-demo/benchmarks/turicreate_1b_mlm52xlarge_results.csv\n",
      "filterd arithmetic operation mean took: 0.013581514358520508\n",
      "upload: ../results/turicreate_1b_mlm52xlarge.csv to s3://vaex-sagemaker-demo/benchmarks/turicreate_1b_mlm52xlarge_results.csv\n",
      "filtered value counts took: 0.011298179626464844\n",
      "upload: ../results/turicreate_1b_mlm52xlarge.csv to s3://vaex-sagemaker-demo/benchmarks/turicreate_1b_mlm52xlarge_results.csv\n",
      "filtered groupby statistics took: 0.01088857650756836\n",
      "upload: ../results/turicreate_1b_mlm52xlarge.csv to s3://vaex-sagemaker-demo/benchmarks/turicreate_1b_mlm52xlarge_results.csv\n",
      "filterd skeatch mean took: 0.04773235321044922\n",
      "upload: ../results/turicreate_1b_mlm52xlarge.csv to s3://vaex-sagemaker-demo/benchmarks/turicreate_1b_mlm52xlarge_results.csv\n",
      "skeatch standatd deviation took: 0.04865407943725586\n",
      "upload: ../results/turicreate_1b_mlm52xlarge.csv to s3://vaex-sagemaker-demo/benchmarks/turicreate_1b_mlm52xlarge_results.csv\n",
      "skeatch frequent items took: 0.04953908920288086\n",
      "upload: ../results/turicreate_1b_mlm52xlarge.csv to s3://vaex-sagemaker-demo/benchmarks/turicreate_1b_mlm52xlarge_results.csv\n",
      "filtered join took: 0.015201807022094727\n",
      "upload: ../results/turicreate_1b_mlm52xlarge.csv to s3://vaex-sagemaker-demo/benchmarks/turicreate_1b_mlm52xlarge_results.csv\n",
      "filtered join count took: 0.00937509536743164\n",
      "Done!\n"
     ]
    }
   ],
   "source": [
    "benchmark(filter_data, filterd, name='filterd count', repetitions=repetitions)\n",
    "benchmark(mean, filterd, name='filterd mean', repetitions=repetitions)\n",
    "benchmark(standard_deviation, filterd, name='filtered standard deviation', repetitions=repetitions)\n",
    "benchmark(mean_of_sum, filterd, name ='filtered sum columns mean', repetitions=repetitions)\n",
    "benchmarks['filtered sum columns'] =  benchmarks['filtered sum columns mean'] - benchmarks['filterd mean']\n",
    "benchmark(mean_of_product, filterd, name ='filterd product columns mean', repetitions=repetitions)\n",
    "benchmarks['filterd product columns'] = benchmarks['filterd product columns mean'] - benchmarks['filterd mean']\n",
    "benchmark(mean_of_complicated_arithmetic_operation, filterd, name='filterd arithmetic operation mean', repetitions=repetitions)\n",
    "benchmarks['filterd arithmetic operation'] =  benchmarks['filterd arithmetic operation mean'] - benchmarks['filterd mean']\n",
    "benchmark(value_counts, filterd, name ='filtered value counts', repetitions=repetitions)\n",
    "benchmark(groupby_statistics, filterd, name='filtered groupby statistics', repetitions=repetitions)\n",
    "benchmark(skeatch_mean, filterd, name='filterd skeatch mean', repetitions=repetitions)\n",
    "benchmark(skeatch_standatd_deviation, filterd, name='skeatch standatd deviation', repetitions=repetitions)\n",
    "benchmark(skeatch_frequent_items, filterd, name='skeatch frequent items', repetitions=repetitions)\n",
    "other = groupby_statistics(filterd)\n",
    "benchmark(join, filterd, name='filtered join', repetitions=repetitions, other=other)\n",
    "benchmark(join_count, filterd, name='filtered join count', repetitions=repetitions, other=other)\n",
    "print('Done!')"
   ]
  }
 ],
 "metadata": {
  "kernelspec": {
   "display_name": "conda_tensorflow_p36",
   "language": "python",
   "name": "conda_tensorflow_p36"
  },
  "language_info": {
   "codemirror_mode": {
    "name": "ipython",
    "version": 3
   },
   "file_extension": ".py",
   "mimetype": "text/x-python",
   "name": "python",
   "nbconvert_exporter": "python",
   "pygments_lexer": "ipython3",
   "version": "3.6.5"
  }
 },
 "nbformat": 4,
 "nbformat_minor": 4
}
