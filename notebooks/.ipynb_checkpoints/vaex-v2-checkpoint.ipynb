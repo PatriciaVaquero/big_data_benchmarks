{
 "cells": [
  {
   "cell_type": "markdown",
   "metadata": {},
   "source": [
    "# Get data and packages"
   ]
  },
  {
   "cell_type": "code",
   "execution_count": 1,
   "metadata": {
    "ExecuteTime": {
     "end_time": "2020-01-13T14:21:06.690430Z",
     "start_time": "2020-01-13T14:20:54.182849Z"
    },
    "code_folding": [
     0
    ]
   },
   "outputs": [],
   "source": [
    "%%capture\n",
    "%%bash\n",
    "pip install jupyter_contrib_nbextensions\n",
    "pip install jupyter_nbextensions_configurator\n",
    "jupyter contrib nbextension install --user\n",
    "jupyter nbextensions_configurator enable --user\n",
    "\n",
    "jupyter nbextension enable codefolding/main\n",
    "jupyter nbextension enable scratchpad/main\n",
    "jupyter nbextension enable execute_time/ExecuteTime\n",
    "jupyter nbextension enable autosavetime/main\n"
   ]
  },
  {
   "cell_type": "code",
   "execution_count": 2,
   "metadata": {
    "ExecuteTime": {
     "end_time": "2020-01-26T11:19:31.180741Z",
     "start_time": "2020-01-26T11:19:18.268853Z"
    }
   },
   "outputs": [],
   "source": [
    "%%capture\n",
    "!pip install vaex-core vaex-hdf5\n",
    "!pip install -U numpy"
   ]
  },
  {
   "cell_type": "raw",
   "metadata": {
    "ExecuteTime": {
     "start_time": "2020-01-25T19:47:46.909Z"
    }
   },
   "source": [
    "!aws s3 cp s3://xdss-public-datasets/demos/taxi_1B.hdf5 ../datasets/taxi_1B.hdf5"
   ]
  },
  {
   "cell_type": "code",
   "execution_count": 11,
   "metadata": {
    "ExecuteTime": {
     "end_time": "2020-01-26T11:36:06.475713Z",
     "start_time": "2020-01-26T11:36:06.356263Z"
    }
   },
   "outputs": [
    {
     "name": "stdout",
     "output_type": "stream",
     "text": [
      "test for 1 repetitions for join and groupby and 5 repetitions for statistics\n"
     ]
    }
   ],
   "source": [
    "import gc\n",
    "from src.config import repetitions\n",
    "import time\n",
    "import numpy as np\n",
    "import pandas as pd\n",
    "import numpy as np\n",
    "import datetime as dt\n",
    "import warnings\n",
    "import time\n",
    "import gc\n",
    "import os\n",
    "\n",
    "instace_type = 'mlm4xlarge'\n",
    "name = 'vaex'\n",
    "data_path = '../datasets/taxi_1B.hdf5'\n",
    "results_path = f\"../results/{name}_1b_{instace_type}.csv\"\n",
    "benchmarks = {}\n",
    "!mkdir -p ../results\n",
    "\n",
    "single_repetition = 1\n",
    "statistic_repetition = 5\n",
    "print(f\"test for {single_repetition} repetitions for join and groupby and {statistic_repetition} repetitions for statistics\")"
   ]
  },
  {
   "cell_type": "code",
   "execution_count": 12,
   "metadata": {
    "ExecuteTime": {
     "end_time": "2020-01-26T11:36:06.839961Z",
     "start_time": "2020-01-26T11:36:06.833663Z"
    }
   },
   "outputs": [],
   "source": [
    "import numpy as np\n",
    "import pandas as pd\n",
    "import time \n",
    "\n",
    "\n",
    "def get_results(benchmarks, name):\n",
    "    results = pd.DataFrame.from_dict(benchmarks, orient='index')\n",
    "    results.columns = [name]\n",
    "    return results\n",
    "\n",
    "def persist():\n",
    "    gc.collect()\n",
    "    get_results(benchmarks, name).to_csv(results_path)\n",
    "    !aws s3 cp  ../results/vaex_1b_mlm4xlarge.csv s3://vaex-sagemaker-demo/benchmarks/vaex_1b_mlm4xlarge_results.csv \n",
    "    \n",
    "def benchmark(f, df, name, repetitions=1, **kwargs):\n",
    "    times = []\n",
    "\n",
    "    for i in range(repetitions):\n",
    "        start_time = time.time()\n",
    "        ret = f(df, **kwargs)\n",
    "        times.append(time.time()-start_time)\n",
    "    benchmarks[name] = np.mean(times)\n",
    "    persist()\n",
    "    print(f\"{name} took: {benchmarks[name]}\")\n",
    "    return benchmarks[name]\n",
    "\n",
    "\n",
    "long_min = -74.05\n",
    "long_max = -73.75\n",
    "lat_min = 40.58\n",
    "lat_max = 40.90"
   ]
  },
  {
   "cell_type": "markdown",
   "metadata": {},
   "source": [
    "# Benchmark"
   ]
  },
  {
   "cell_type": "code",
   "execution_count": 13,
   "metadata": {
    "ExecuteTime": {
     "end_time": "2020-01-26T11:36:09.836280Z",
     "start_time": "2020-01-26T11:36:09.820971Z"
    }
   },
   "outputs": [
    {
     "name": "stdout",
     "output_type": "stream",
     "text": [
      "size: 1173057927 with 18 columns\n"
     ]
    }
   ],
   "source": [
    "import vaex\n",
    "import numpy as np\n",
    "\n",
    "data = vaex.open(data_path)\n",
    "print(f\"size: {len(data)} with {len(data.columns)} columns\")"
   ]
  },
  {
   "cell_type": "code",
   "execution_count": 14,
   "metadata": {
    "ExecuteTime": {
     "end_time": "2020-01-26T11:36:13.864307Z",
     "start_time": "2020-01-26T11:36:12.518348Z"
    }
   },
   "outputs": [
    {
     "name": "stdout",
     "output_type": "stream",
     "text": [
      "upload: ../results/vaex_1b_mlm4xlarge.csv to s3://vaex-sagemaker-demo/benchmarks/vaex_1b_mlm4xlarge_results.csv\n",
      "read_file took: 0.009302616119384766\n"
     ]
    },
    {
     "data": {
      "text/plain": [
       "0.009302616119384766"
      ]
     },
     "execution_count": 14,
     "metadata": {},
     "output_type": "execute_result"
    }
   ],
   "source": [
    "def open_file(df=None):\n",
    "    return vaex.open(data_path)\n",
    "\n",
    "benchmark(open_file, df=data, name='read_file', repetitions=statistic_repetition)"
   ]
  },
  {
   "cell_type": "code",
   "execution_count": 15,
   "metadata": {
    "ExecuteTime": {
     "end_time": "2020-01-26T11:36:14.605573Z",
     "start_time": "2020-01-26T11:36:13.866979Z"
    }
   },
   "outputs": [
    {
     "name": "stdout",
     "output_type": "stream",
     "text": [
      "upload: ../results/vaex_1b_mlm4xlarge.csv to s3://vaex-sagemaker-demo/benchmarks/vaex_1b_mlm4xlarge_results.csv\n",
      "count took: 9.918212890625e-06\n"
     ]
    },
    {
     "data": {
      "text/plain": [
       "9.918212890625e-06"
      ]
     },
     "execution_count": 15,
     "metadata": {},
     "output_type": "execute_result"
    }
   ],
   "source": [
    "def count(df=None):\n",
    "    return len(df)\n",
    "\n",
    "benchmark(count, df=data, name='count', repetitions=statistic_repetition)"
   ]
  },
  {
   "cell_type": "code",
   "execution_count": 16,
   "metadata": {
    "ExecuteTime": {
     "end_time": "2020-01-26T11:39:49.910317Z",
     "start_time": "2020-01-26T11:36:14.608670Z"
    }
   },
   "outputs": [
    {
     "name": "stdout",
     "output_type": "stream",
     "text": [
      "upload: ../results/vaex_1b_mlm4xlarge.csv to s3://vaex-sagemaker-demo/benchmarks/vaex_1b_mlm4xlarge_results.csv\n",
      "mean took: 42.91337180137634\n"
     ]
    },
    {
     "data": {
      "text/plain": [
       "42.91337180137634"
      ]
     },
     "execution_count": 16,
     "metadata": {},
     "output_type": "execute_result"
    }
   ],
   "source": [
    "def mean(df):\n",
    "    return df.fare_amount.mean()\n",
    "\n",
    "benchmark(mean, df=data, name='mean', repetitions=statistic_repetition)"
   ]
  },
  {
   "cell_type": "code",
   "execution_count": 17,
   "metadata": {
    "ExecuteTime": {
     "end_time": "2020-01-26T11:40:29.286493Z",
     "start_time": "2020-01-26T11:39:49.913254Z"
    }
   },
   "outputs": [
    {
     "name": "stdout",
     "output_type": "stream",
     "text": [
      "upload: ../results/vaex_1b_mlm4xlarge.csv to s3://vaex-sagemaker-demo/benchmarks/vaex_1b_mlm4xlarge_results.csv\n",
      "standard deviation took: 7.726777267456055\n"
     ]
    },
    {
     "data": {
      "text/plain": [
       "7.726777267456055"
      ]
     },
     "execution_count": 17,
     "metadata": {},
     "output_type": "execute_result"
    }
   ],
   "source": [
    "def standard_deviation(df):\n",
    "    return df.fare_amount.std()\n",
    "\n",
    "benchmark(standard_deviation, df=data, name='standard deviation', repetitions=statistic_repetition)"
   ]
  },
  {
   "cell_type": "markdown",
   "metadata": {},
   "source": [
    "Unlike other techonlogies, vaex can return columns, or subset of values to explore lazely, \n",
    "but becouse many of the other tecnologies crashed at this point, we return a scalar instead."
   ]
  },
  {
   "cell_type": "code",
   "execution_count": 18,
   "metadata": {
    "ExecuteTime": {
     "end_time": "2020-01-26T11:43:52.966280Z",
     "start_time": "2020-01-26T11:40:29.289585Z"
    }
   },
   "outputs": [
    {
     "name": "stdout",
     "output_type": "stream",
     "text": [
      "upload: ../results/vaex_1b_mlm4xlarge.csv to s3://vaex-sagemaker-demo/benchmarks/vaex_1b_mlm4xlarge_results.csv\n",
      "sum columns mean took: 40.578082704544066\n"
     ]
    },
    {
     "data": {
      "text/plain": [
       "40.578082704544066"
      ]
     },
     "execution_count": 18,
     "metadata": {},
     "output_type": "execute_result"
    }
   ],
   "source": [
    "def mean_of_sum(df):\n",
    "    return (df.fare_amount + df.trip_distance).mean()\n",
    "\n",
    "benchmark(mean_of_sum, df=data, name='sum columns mean', repetitions=statistic_repetition)"
   ]
  },
  {
   "cell_type": "code",
   "execution_count": 19,
   "metadata": {
    "ExecuteTime": {
     "end_time": "2020-01-26T11:43:53.711406Z",
     "start_time": "2020-01-26T11:43:52.968790Z"
    }
   },
   "outputs": [
    {
     "name": "stdout",
     "output_type": "stream",
     "text": [
      "upload: ../results/vaex_1b_mlm4xlarge.csv to s3://vaex-sagemaker-demo/benchmarks/vaex_1b_mlm4xlarge_results.csv\n",
      "sum columns took: 2.608299255371094e-05\n"
     ]
    },
    {
     "data": {
      "text/plain": [
       "2.608299255371094e-05"
      ]
     },
     "execution_count": 19,
     "metadata": {},
     "output_type": "execute_result"
    }
   ],
   "source": [
    "def sum_columns(df):\n",
    "    return (df.fare_amount + df.trip_distance)\n",
    "\n",
    "benchmark(sum_columns, df=data, name='sum columns', repetitions=statistic_repetition)"
   ]
  },
  {
   "cell_type": "code",
   "execution_count": 20,
   "metadata": {
    "ExecuteTime": {
     "end_time": "2020-01-26T11:44:11.772048Z",
     "start_time": "2020-01-26T11:43:53.714443Z"
    }
   },
   "outputs": [
    {
     "name": "stdout",
     "output_type": "stream",
     "text": [
      "upload: ../results/vaex_1b_mlm4xlarge.csv to s3://vaex-sagemaker-demo/benchmarks/vaex_1b_mlm4xlarge_results.csv\n",
      "product columns mean took: 3.457593297958374\n"
     ]
    },
    {
     "data": {
      "text/plain": [
       "3.457593297958374"
      ]
     },
     "execution_count": 20,
     "metadata": {},
     "output_type": "execute_result"
    }
   ],
   "source": [
    "def mean_of_product(df):\n",
    "    return (df.fare_amount * df.trip_distance).mean()\n",
    "\n",
    "benchmark(mean_of_product, df=data, name='product columns mean', repetitions=statistic_repetition)"
   ]
  },
  {
   "cell_type": "code",
   "execution_count": 21,
   "metadata": {
    "ExecuteTime": {
     "end_time": "2020-01-26T11:44:12.535533Z",
     "start_time": "2020-01-26T11:44:11.775134Z"
    }
   },
   "outputs": [
    {
     "name": "stdout",
     "output_type": "stream",
     "text": [
      "upload: ../results/vaex_1b_mlm4xlarge.csv to s3://vaex-sagemaker-demo/benchmarks/vaex_1b_mlm4xlarge_results.csv\n",
      "product columns took: 2.5987625122070312e-05\n"
     ]
    },
    {
     "data": {
      "text/plain": [
       "2.5987625122070312e-05"
      ]
     },
     "execution_count": 21,
     "metadata": {},
     "output_type": "execute_result"
    }
   ],
   "source": [
    "def product(df):\n",
    "    return df.fare_amount * df.trip_distance\n",
    "\n",
    "benchmark(product, df=data, name='product columns', repetitions=statistic_repetition)"
   ]
  },
  {
   "cell_type": "code",
   "execution_count": 22,
   "metadata": {
    "ExecuteTime": {
     "end_time": "2020-01-26T11:53:42.880091Z",
     "start_time": "2020-01-26T11:44:12.538650Z"
    }
   },
   "outputs": [
    {
     "name": "stdout",
     "output_type": "stream",
     "text": [
      "upload: ../results/vaex_1b_mlm4xlarge.csv to s3://vaex-sagemaker-demo/benchmarks/vaex_1b_mlm4xlarge_results.csv\n",
      "arithmetic operation mean took: 569.4003694057465\n"
     ]
    },
    {
     "data": {
      "text/plain": [
       "569.4003694057465"
      ]
     },
     "execution_count": 22,
     "metadata": {},
     "output_type": "execute_result"
    }
   ],
   "source": [
    "def mean_of_complicated_arithmetic_operation(df):\n",
    "    theta_1 = df.pickup_longitude\n",
    "    phi_1 = df.pickup_latitude\n",
    "    theta_2 = df.dropoff_longitude\n",
    "    phi_2 = df.dropoff_latitude\n",
    "    temp = (np.sin((theta_2-theta_1)/2*np.pi/180)**2\n",
    "           + np.cos(theta_1*np.pi/180)*np.cos(theta_2*np.pi/180) * np.sin((phi_2-phi_1)/2*np.pi/180)**2)\n",
    "    df['complicated'] = 2 * np.arctan2(np.sqrt(temp), np.sqrt(1-temp))\n",
    "    return df['complicated'].mean()\n",
    "\n",
    "benchmark(mean_of_complicated_arithmetic_operation, df=data, name='arithmetic operation mean', repetitions=repetitions)\n"
   ]
  },
  {
   "cell_type": "code",
   "execution_count": 23,
   "metadata": {
    "ExecuteTime": {
     "end_time": "2020-01-26T11:53:43.654066Z",
     "start_time": "2020-01-26T11:53:42.883005Z"
    }
   },
   "outputs": [
    {
     "name": "stdout",
     "output_type": "stream",
     "text": [
      "upload: ../results/vaex_1b_mlm4xlarge.csv to s3://vaex-sagemaker-demo/benchmarks/vaex_1b_mlm4xlarge_results.csv\n",
      "arithmetic operation took: 0.006922483444213867\n"
     ]
    },
    {
     "data": {
      "text/plain": [
       "0.006922483444213867"
      ]
     },
     "execution_count": 23,
     "metadata": {},
     "output_type": "execute_result"
    }
   ],
   "source": [
    "def complicated_arithmetic_operation(df):\n",
    "    theta_1 = df.pickup_longitude\n",
    "    phi_1 = df.pickup_latitude\n",
    "    theta_2 = df.dropoff_longitude\n",
    "    phi_2 = df.dropoff_latitude\n",
    "    temp = (np.sin((theta_2-theta_1)/2*np.pi/180)**2\n",
    "           + np.cos(theta_1*np.pi/180)*np.cos(theta_2*np.pi/180) * np.sin((phi_2-phi_1)/2*np.pi/180)**2)\n",
    "    df['complicated'] = 2 * np.arctan2(np.sqrt(temp), np.sqrt(1-temp))\n",
    "    return df['complicated']\n",
    "\n",
    "benchmark(complicated_arithmetic_operation, df=data, name='arithmetic operation', repetitions=single_repetition)"
   ]
  },
  {
   "cell_type": "code",
   "execution_count": 24,
   "metadata": {
    "ExecuteTime": {
     "end_time": "2020-01-26T12:06:02.835393Z",
     "start_time": "2020-01-26T11:53:43.656556Z"
    }
   },
   "outputs": [
    {
     "name": "stdout",
     "output_type": "stream",
     "text": [
      "upload: ../results/vaex_1b_mlm4xlarge.csv to s3://vaex-sagemaker-demo/benchmarks/vaex_1b_mlm4xlarge_results.csv\n",
      "value counts took: 147.60955419540406\n"
     ]
    },
    {
     "data": {
      "text/plain": [
       "147.60955419540406"
      ]
     },
     "execution_count": 24,
     "metadata": {},
     "output_type": "execute_result"
    }
   ],
   "source": [
    "def value_counts(df):\n",
    "    return df.vendor_id.value_counts()\n",
    "\n",
    "benchmark(value_counts, df=data, name='value counts', repetitions=statistic_repetition)"
   ]
  },
  {
   "cell_type": "code",
   "execution_count": 25,
   "metadata": {
    "ExecuteTime": {
     "end_time": "2020-01-26T12:16:21.228470Z",
     "start_time": "2020-01-26T12:06:02.838010Z"
    }
   },
   "outputs": [
    {
     "name": "stdout",
     "output_type": "stream",
     "text": [
      "upload: ../results/vaex_1b_mlm4xlarge.csv to s3://vaex-sagemaker-demo/benchmarks/vaex_1b_mlm4xlarge_results.csv\n",
      "groupby statistics took: 616.9009525775909\n"
     ]
    },
    {
     "data": {
      "text/plain": [
       "616.9009525775909"
      ]
     },
     "execution_count": 25,
     "metadata": {},
     "output_type": "execute_result"
    }
   ],
   "source": [
    "def groupby_statistics(df):\n",
    "    return df.groupby(by='passenger_count').agg({'fare_amount': ['mean', 'std'], \n",
    "                                               'tip_amount': ['mean', 'std']\n",
    "                                              })\n",
    "\n",
    "benchmark(groupby_statistics, df=data, name='groupby statistics', repetitions=single_repetition)"
   ]
  },
  {
   "cell_type": "code",
   "execution_count": 26,
   "metadata": {
    "ExecuteTime": {
     "end_time": "2020-01-26T12:19:25.735957Z",
     "start_time": "2020-01-26T12:16:21.231680Z"
    }
   },
   "outputs": [],
   "source": [
    "other = groupby_statistics(data)"
   ]
  },
  {
   "cell_type": "code",
   "execution_count": 28,
   "metadata": {
    "ExecuteTime": {
     "end_time": "2020-01-26T12:21:25.060490Z",
     "start_time": "2020-01-26T12:21:25.057180Z"
    }
   },
   "outputs": [],
   "source": [
    "# def join(df, other):\n",
    "#     return df.join(other=other, on = 'passenger_count', rsuffix = '_right')\n",
    "\n",
    "# benchmark(join, data, name='join', repetitions=single_repetition, other=other)\n",
    "benchmarks['join'] = np.nan"
   ]
  },
  {
   "cell_type": "code",
   "execution_count": 32,
   "metadata": {
    "ExecuteTime": {
     "end_time": "2020-01-26T12:23:19.574080Z",
     "start_time": "2020-01-26T12:21:53.229315Z"
    }
   },
   "outputs": [
    {
     "name": "stdout",
     "output_type": "stream",
     "text": [
      "upload: ../results/vaex_1b_mlm4xlarge.csv to s3://vaex-sagemaker-demo/benchmarks/vaex_1b_mlm4xlarge_results.csv\n",
      "join count took: 83.8996832370758\n"
     ]
    },
    {
     "data": {
      "text/plain": [
       "83.8996832370758"
      ]
     },
     "execution_count": 32,
     "metadata": {},
     "output_type": "execute_result"
    }
   ],
   "source": [
    "def join_count(df, other):\n",
    "    return len(df.join(other=other, on = 'passenger_count', rsuffix = '_right'))\n",
    "\n",
    "benchmark(join_count, data, name='join count', repetitions=single_repetition, other=other)"
   ]
  },
  {
   "cell_type": "markdown",
   "metadata": {},
   "source": [
    "## Filtered data"
   ]
  },
  {
   "cell_type": "markdown",
   "metadata": {},
   "source": [
    "Dask is not build to run on filter data like you would normally, so we will apply the same strategy"
   ]
  },
  {
   "cell_type": "code",
   "execution_count": 33,
   "metadata": {
    "ExecuteTime": {
     "end_time": "2020-01-26T12:23:19.636448Z",
     "start_time": "2020-01-26T12:23:19.576661Z"
    }
   },
   "outputs": [
    {
     "name": "stdout",
     "output_type": "stream",
     "text": [
      "Prepare filtered data and deleted 0 MB\n"
     ]
    }
   ],
   "source": [
    "print(f\"Prepare filtered data and deleted {gc.collect()} MB\")"
   ]
  },
  {
   "cell_type": "code",
   "execution_count": 34,
   "metadata": {
    "ExecuteTime": {
     "end_time": "2020-01-26T12:23:27.096286Z",
     "start_time": "2020-01-26T12:23:19.638861Z"
    }
   },
   "outputs": [
    {
     "name": "stdout",
     "output_type": "stream",
     "text": [
      "upload: ../results/vaex_1b_mlm4xlarge.csv to s3://vaex-sagemaker-demo/benchmarks/vaex_1b_mlm4xlarge_results.csv\n",
      "filter data took: 1.3000512599945069\n"
     ]
    },
    {
     "data": {
      "text/plain": [
       "1.3000512599945069"
      ]
     },
     "execution_count": 34,
     "metadata": {},
     "output_type": "execute_result"
    }
   ],
   "source": [
    "def filter_data(df):\n",
    "    expr_filter = (df.pickup_longitude > long_min)  & (df.pickup_longitude < long_max) & \\\n",
    "                  (df.pickup_latitude > lat_min)    & (df.pickup_latitude < lat_max) & \\\n",
    "                  (df.dropoff_longitude > long_min) & (df.dropoff_longitude < long_max) & \\\n",
    "                  (df.dropoff_latitude > lat_min)   & (df.dropoff_latitude < lat_max)\n",
    "    return df[expr_filter]\n",
    "\n",
    "benchmark(filter_data, data, name='filter data', repetitions=statistic_repetition)"
   ]
  },
  {
   "cell_type": "code",
   "execution_count": 35,
   "metadata": {
    "ExecuteTime": {
     "end_time": "2020-01-26T12:23:28.503602Z",
     "start_time": "2020-01-26T12:23:27.098781Z"
    }
   },
   "outputs": [
    {
     "name": "stdout",
     "output_type": "stream",
     "text": [
      "cleaned 490 mb\n"
     ]
    }
   ],
   "source": [
    "filterd = filter_data(data)\n",
    "\n",
    "del data\n",
    "print(f\"cleaned {gc.collect()} mb\")"
   ]
  },
  {
   "cell_type": "code",
   "execution_count": null,
   "metadata": {
    "ExecuteTime": {
     "start_time": "2020-01-26T12:21:57.694Z"
    }
   },
   "outputs": [
    {
     "name": "stderr",
     "output_type": "stream",
     "text": [
      "<string>:1: RuntimeWarning: invalid value encountered in greater\n",
      "<string>:1: RuntimeWarning: invalid value encountered in less\n"
     ]
    },
    {
     "name": "stdout",
     "output_type": "stream",
     "text": [
      "upload: ../results/vaex_1b_mlm4xlarge.csv to s3://vaex-sagemaker-demo/benchmarks/vaex_1b_mlm4xlarge_results.csv\n",
      "filterd mean took: 53.58897795677185\n",
      "upload: ../results/vaex_1b_mlm4xlarge.csv to s3://vaex-sagemaker-demo/benchmarks/vaex_1b_mlm4xlarge_results.csv\n",
      "filtered standard deviation took: 8.918181991577148\n",
      "upload: ../results/vaex_1b_mlm4xlarge.csv to s3://vaex-sagemaker-demo/benchmarks/vaex_1b_mlm4xlarge_results.csv\n",
      "filtered sum columns mean took: 16.044873905181884\n",
      "upload: ../results/vaex_1b_mlm4xlarge.csv to s3://vaex-sagemaker-demo/benchmarks/vaex_1b_mlm4xlarge_results.csv\n",
      "filtered sum columns took: 3.342628479003906e-05\n",
      "upload: ../results/vaex_1b_mlm4xlarge.csv to s3://vaex-sagemaker-demo/benchmarks/vaex_1b_mlm4xlarge_results.csv\n",
      "filterd product columns mean took: 8.250533246994019\n",
      "upload: ../results/vaex_1b_mlm4xlarge.csv to s3://vaex-sagemaker-demo/benchmarks/vaex_1b_mlm4xlarge_results.csv\n",
      "filterd product columns took: 3.399848937988281e-05\n",
      "upload: ../results/vaex_1b_mlm4xlarge.csv to s3://vaex-sagemaker-demo/benchmarks/vaex_1b_mlm4xlarge_results.csv\n",
      "filterd arithmetic operation mean took: 184.2358250617981\n",
      "upload: ../results/vaex_1b_mlm4xlarge.csv to s3://vaex-sagemaker-demo/benchmarks/vaex_1b_mlm4xlarge_results.csv\n",
      "filterd arithmetic operation took: 0.010091781616210938\n",
      "upload: ../results/vaex_1b_mlm4xlarge.csv to s3://vaex-sagemaker-demo/benchmarks/vaex_1b_mlm4xlarge_results.csv\n",
      "filtered value counts took: 144.21353287696837\n",
      "upload: ../results/vaex_1b_mlm4xlarge.csv to s3://vaex-sagemaker-demo/benchmarks/vaex_1b_mlm4xlarge_results.csv\n",
      "filtered groupby statistics took: 272.4641647338867\n"
     ]
    }
   ],
   "source": [
    "benchmark(mean, filterd, name='filterd mean', repetitions=statistic_repetition)\n",
    "benchmark(standard_deviation, filterd, name='filtered standard deviation', repetitions=statistic_repetition)\n",
    "benchmark(mean_of_sum, filterd, name ='filtered sum columns mean', repetitions=statistic_repetition)\n",
    "benchmark(sum_columns, df=filterd, name='filtered sum columns', repetitions=statistic_repetition)\n",
    "benchmark(mean_of_product, filterd, name ='filterd product columns mean', repetitions=statistic_repetition)\n",
    "benchmark(product, df=filterd, name='filterd product columns', repetitions=statistic_repetition)\n",
    "benchmark(mean_of_complicated_arithmetic_operation, filterd, name='filterd arithmetic operation mean', repetitions=single_repetition)\n",
    "benchmark(complicated_arithmetic_operation, filterd, name='filterd arithmetic operation', repetitions=single_repetition)\n",
    "\n",
    "benchmark(value_counts, filterd, name ='filtered value counts', repetitions=statistic_repetition)\n",
    "benchmark(groupby_statistics, filterd, name='filtered groupby statistics', repetitions=single_repetition)\n",
    "other = groupby_statistics(filterd)\n",
    "benchmark(join, filterd, name='filtered join', repetitions=single_repetition, other=other)\n",
    "benchmark(join_count, filterd, name='filtered join count', repetitions=single_repetition, other=other)\n",
    "print('Done!')"
   ]
  },
  {
   "cell_type": "code",
   "execution_count": 37,
   "metadata": {
    "ExecuteTime": {
     "end_time": "2020-01-26T14:36:04.013735Z",
     "start_time": "2020-01-26T14:36:03.999911Z"
    }
   },
   "outputs": [
    {
     "name": "stdout",
     "output_type": "stream",
     "text": [
      "vaex\n"
     ]
    },
    {
     "data": {
      "text/plain": [
       "{'read_file': 0.009302616119384766,\n",
       " 'count': 9.918212890625e-06,\n",
       " 'mean': 42.91337180137634,\n",
       " 'standard deviation': 7.726777267456055,\n",
       " 'sum columns mean': 40.578082704544066,\n",
       " 'sum columns': 2.608299255371094e-05,\n",
       " 'product columns mean': 3.457593297958374,\n",
       " 'product columns': 2.5987625122070312e-05,\n",
       " 'arithmetic operation mean': 569.4003694057465,\n",
       " 'arithmetic operation': 0.006922483444213867,\n",
       " 'value counts': 147.60955419540406,\n",
       " 'groupby statistics': 616.9009525775909,\n",
       " 'join': nan,\n",
       " 'join count': 83.8996832370758,\n",
       " 'filter data': 1.3000512599945069,\n",
       " 'filterd mean': 53.58897795677185,\n",
       " 'filtered standard deviation': 8.918181991577148,\n",
       " 'filtered sum columns mean': 16.044873905181884,\n",
       " 'filtered sum columns': 3.342628479003906e-05,\n",
       " 'filterd product columns mean': 8.250533246994019,\n",
       " 'filterd product columns': 3.399848937988281e-05,\n",
       " 'filterd arithmetic operation mean': 184.2358250617981,\n",
       " 'filterd arithmetic operation': 0.010091781616210938,\n",
       " 'filtered value counts': 144.21353287696837,\n",
       " 'filtered groupby statistics': 272.4641647338867}"
      ]
     },
     "execution_count": 37,
     "metadata": {},
     "output_type": "execute_result"
    }
   ],
   "source": [
    "print('vaex')\n",
    "benchmarks"
   ]
  },
  {
   "cell_type": "code",
   "execution_count": null,
   "metadata": {},
   "outputs": [],
   "source": []
  }
 ],
 "metadata": {
  "kernelspec": {
   "display_name": "conda_python3",
   "language": "python",
   "name": "conda_python3"
  },
  "language_info": {
   "codemirror_mode": {
    "name": "ipython",
    "version": 3
   },
   "file_extension": ".py",
   "mimetype": "text/x-python",
   "name": "python",
   "nbconvert_exporter": "python",
   "pygments_lexer": "ipython3",
   "version": "3.6.5"
  }
 },
 "nbformat": 4,
 "nbformat_minor": 4
}
