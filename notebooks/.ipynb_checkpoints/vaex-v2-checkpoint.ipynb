{
 "cells": [
  {
   "cell_type": "markdown",
   "metadata": {},
   "source": [
    "# Get data and packages"
   ]
  },
  {
   "cell_type": "code",
   "execution_count": 1,
   "metadata": {
    "ExecuteTime": {
     "end_time": "2020-01-13T14:21:06.690430Z",
     "start_time": "2020-01-13T14:20:54.182849Z"
    },
    "code_folding": [
     0
    ]
   },
   "outputs": [],
   "source": [
    "%%capture\n",
    "%%bash\n",
    "pip install jupyter_contrib_nbextensions\n",
    "pip install jupyter_nbextensions_configurator\n",
    "jupyter contrib nbextension install --user\n",
    "jupyter nbextensions_configurator enable --user\n",
    "\n",
    "jupyter nbextension enable codefolding/main\n",
    "jupyter nbextension enable scratchpad/main\n",
    "jupyter nbextension enable execute_time/ExecuteTime\n",
    "jupyter nbextension enable autosavetime/main\n",
    "pip install -U pip dask numpy fsspec>=0.3.3 tqdm pyarrow\n"
   ]
  },
  {
   "cell_type": "code",
   "execution_count": 2,
   "metadata": {
    "ExecuteTime": {
     "end_time": "2020-01-23T13:54:01.055209Z",
     "start_time": "2020-01-23T13:53:59.104116Z"
    }
   },
   "outputs": [],
   "source": [
    "%%capture\n",
    "!pip install vaex-core vaex-hdf5\n",
    "!pip install -U numpy"
   ]
  },
  {
   "cell_type": "code",
   "execution_count": null,
   "metadata": {},
   "outputs": [],
   "source": [
    "!aws s3 cp s3://xdss-public-datasets/demos/taxi_1B.hdf5 ../datasets/taxi_1B.hdf5"
   ]
  },
  {
   "cell_type": "code",
   "execution_count": 1,
   "metadata": {
    "ExecuteTime": {
     "end_time": "2020-01-25T15:45:01.082088Z",
     "start_time": "2020-01-25T15:45:00.771139Z"
    }
   },
   "outputs": [
    {
     "name": "stdout",
     "output_type": "stream",
     "text": [
      "test for 1 repetitions\n"
     ]
    }
   ],
   "source": [
    "import gc\n",
    "from src.config import repetitions\n",
    "import time\n",
    "import numpy as np\n",
    "import pandas as pd\n",
    "import numpy as np\n",
    "import datetime as dt\n",
    "import warnings\n",
    "import time\n",
    "import gc\n",
    "import os\n",
    "\n",
    "instace_type = 'mlm52xlarge'\n",
    "name = 'vaex'\n",
    "data_path = '../datasets/taxi_1B.hdf5'\n",
    "results_path = f\"../results/{name}_1b_{instace_type}.csv\"\n",
    "benchmarks = {}\n",
    "print(f\"test for {repetitions} repetitions\")"
   ]
  },
  {
   "cell_type": "code",
   "execution_count": 4,
   "metadata": {
    "ExecuteTime": {
     "end_time": "2020-01-25T15:45:29.883297Z",
     "start_time": "2020-01-25T15:45:29.160316Z"
    }
   },
   "outputs": [],
   "source": [
    "import numpy as np\n",
    "import pandas as pd\n",
    "import time \n",
    "\n",
    "\n",
    "def get_results(benchmarks, name):\n",
    "    results = pd.DataFrame.from_dict(benchmarks, orient='index')\n",
    "    results.columns = [name]\n",
    "    return results\n",
    "\n",
    "def persist():\n",
    "    get_results(benchmarks, name).to_csv(results_path)\n",
    "    !aws s3 cp  ../results/vaex_1b_mlm52xlarge.csv s3://vaex-sagemaker-demo/benchmarks/vaex_1b_mlm52xlarge_results.csv \n",
    "    \n",
    "def benchmark(f, df, name, repetitions=1, **kwargs):\n",
    "    times = []\n",
    "    for i in range(repetitions):\n",
    "        start_time = time.time()\n",
    "        ret = f(df, **kwargs)\n",
    "        times.append(time.time()-start_time)\n",
    "    benchmarks[name] = np.mean(times)\n",
    "    persist()\n",
    "    print(f\"{name} took: {benchmarks[name]}\")\n",
    "    return benchmarks[name]\n",
    "\n",
    "\n",
    "long_min = -74.05\n",
    "long_max = -73.75\n",
    "lat_min = 40.58\n",
    "lat_max = 40.90"
   ]
  },
  {
   "cell_type": "markdown",
   "metadata": {},
   "source": [
    "# Benchmark"
   ]
  },
  {
   "cell_type": "code",
   "execution_count": 7,
   "metadata": {
    "ExecuteTime": {
     "end_time": "2020-01-25T15:45:48.900281Z",
     "start_time": "2020-01-25T15:45:48.814425Z"
    }
   },
   "outputs": [
    {
     "name": "stdout",
     "output_type": "stream",
     "text": [
      "size: 1000 with 18 columns\n"
     ]
    }
   ],
   "source": [
    "import vaex\n",
    "import numpy as np\n",
    "\n",
    "data = vaex.open(data_path).head(1000)\n",
    "print(f\"size: {len(data)} with {len(data.columns)} columns\")"
   ]
  },
  {
   "cell_type": "code",
   "execution_count": 9,
   "metadata": {
    "ExecuteTime": {
     "end_time": "2020-01-25T15:45:56.419073Z",
     "start_time": "2020-01-25T15:45:55.806791Z"
    }
   },
   "outputs": [
    {
     "name": "stdout",
     "output_type": "stream",
     "text": [
      "upload: ../results/vaex_1b_mlm52xlarge.csv to s3://vaex-sagemaker-demo/benchmarks/vaex_1b_mlm52xlarge_results.csv\n",
      "read_file took: 0.00716400146484375\n"
     ]
    },
    {
     "data": {
      "text/plain": [
       "0.00716400146484375"
      ]
     },
     "execution_count": 9,
     "metadata": {},
     "output_type": "execute_result"
    }
   ],
   "source": [
    "def open_file(df=None):\n",
    "    return vaex.open(data_path)\n",
    "\n",
    "benchmark(open_file, df=data, name='read_file', repetitions=repetitions)"
   ]
  },
  {
   "cell_type": "code",
   "execution_count": 10,
   "metadata": {
    "ExecuteTime": {
     "end_time": "2020-01-25T15:46:05.716181Z",
     "start_time": "2020-01-25T15:46:05.117467Z"
    }
   },
   "outputs": [
    {
     "name": "stdout",
     "output_type": "stream",
     "text": [
      "upload: ../results/vaex_1b_mlm52xlarge.csv to s3://vaex-sagemaker-demo/benchmarks/vaex_1b_mlm52xlarge_results.csv\n",
      "count took: 3.719329833984375e-05\n"
     ]
    },
    {
     "data": {
      "text/plain": [
       "3.719329833984375e-05"
      ]
     },
     "execution_count": 10,
     "metadata": {},
     "output_type": "execute_result"
    }
   ],
   "source": [
    "def count(df=None):\n",
    "    return len(df)\n",
    "\n",
    "benchmark(count, df=data, name='count', repetitions=repetitions)"
   ]
  },
  {
   "cell_type": "code",
   "execution_count": 11,
   "metadata": {
    "ExecuteTime": {
     "end_time": "2020-01-25T15:46:14.011965Z",
     "start_time": "2020-01-25T15:46:13.405854Z"
    }
   },
   "outputs": [
    {
     "name": "stdout",
     "output_type": "stream",
     "text": [
      "upload: ../results/vaex_1b_mlm52xlarge.csv to s3://vaex-sagemaker-demo/benchmarks/vaex_1b_mlm52xlarge_results.csv\n",
      "mean took: 0.009560823440551758\n"
     ]
    },
    {
     "data": {
      "text/plain": [
       "0.009560823440551758"
      ]
     },
     "execution_count": 11,
     "metadata": {},
     "output_type": "execute_result"
    }
   ],
   "source": [
    "def mean(df):\n",
    "    return df.fare_amount.mean()\n",
    "\n",
    "benchmark(mean, df=data, name='mean', repetitions=repetitions)"
   ]
  },
  {
   "cell_type": "code",
   "execution_count": 12,
   "metadata": {
    "ExecuteTime": {
     "end_time": "2020-01-25T15:46:22.036174Z",
     "start_time": "2020-01-25T15:46:21.382291Z"
    }
   },
   "outputs": [
    {
     "name": "stdout",
     "output_type": "stream",
     "text": [
      "upload: ../results/vaex_1b_mlm52xlarge.csv to s3://vaex-sagemaker-demo/benchmarks/vaex_1b_mlm52xlarge_results.csv\n",
      "standard took: 0.005056619644165039\n"
     ]
    },
    {
     "data": {
      "text/plain": [
       "0.005056619644165039"
      ]
     },
     "execution_count": 12,
     "metadata": {},
     "output_type": "execute_result"
    }
   ],
   "source": [
    "def standard_deviation(df):\n",
    "    return df.fare_amount.std()\n",
    "\n",
    "benchmark(standard_deviation, df=data, name='standard', repetitions=repetitions)"
   ]
  },
  {
   "cell_type": "markdown",
   "metadata": {},
   "source": [
    "Unlike other techonlogies, vaex can return columns, or subset of values to explore lazely, \n",
    "but becouse many of the other tecnologies crashed at this point, we return a scalar instead."
   ]
  },
  {
   "cell_type": "code",
   "execution_count": 13,
   "metadata": {
    "ExecuteTime": {
     "end_time": "2020-01-25T15:46:30.705328Z",
     "start_time": "2020-01-25T15:46:30.092855Z"
    }
   },
   "outputs": [
    {
     "name": "stdout",
     "output_type": "stream",
     "text": [
      "upload: ../results/vaex_1b_mlm52xlarge.csv to s3://vaex-sagemaker-demo/benchmarks/vaex_1b_mlm52xlarge_results.csv\n",
      "sum columns mean took: 0.006809234619140625\n"
     ]
    }
   ],
   "source": [
    "def mean_of_sum(df):\n",
    "    return (df.fare_amount + df.trip_distance).mean()\n",
    "\n",
    "benchmark(mean_of_sum, df=data, name='sum columns mean', repetitions=repetitions)\n",
    "benchmarks['sum columns'] =  benchmarks['sum columns mean'] - benchmarks['mean']"
   ]
  },
  {
   "cell_type": "code",
   "execution_count": 14,
   "metadata": {
    "ExecuteTime": {
     "end_time": "2020-01-25T15:46:38.612125Z",
     "start_time": "2020-01-25T15:46:37.949068Z"
    }
   },
   "outputs": [
    {
     "name": "stdout",
     "output_type": "stream",
     "text": [
      "upload: ../results/vaex_1b_mlm52xlarge.csv to s3://vaex-sagemaker-demo/benchmarks/vaex_1b_mlm52xlarge_results.csv\n",
      "product columns mean took: 0.0051991939544677734\n"
     ]
    }
   ],
   "source": [
    "def mean_of_product(df):\n",
    "    return (df.fare_amount * df.trip_distance).mean()\n",
    "\n",
    "benchmark(mean_of_product, df=data, name='product columns mean', repetitions=repetitions)\n",
    "benchmarks['product columns'] =  benchmarks['product columns mean'] - benchmarks['mean']"
   ]
  },
  {
   "cell_type": "code",
   "execution_count": 15,
   "metadata": {
    "ExecuteTime": {
     "end_time": "2020-01-25T15:46:47.047760Z",
     "start_time": "2020-01-25T15:46:46.405579Z"
    }
   },
   "outputs": [
    {
     "name": "stdout",
     "output_type": "stream",
     "text": [
      "upload: ../results/vaex_1b_mlm52xlarge.csv to s3://vaex-sagemaker-demo/benchmarks/vaex_1b_mlm52xlarge_results.csv\n",
      "arithmetic operation mean took: 0.015137195587158203\n"
     ]
    }
   ],
   "source": [
    "def mean_of_complicated_arithmetic_operation(df):\n",
    "    theta_1 = df.pickup_longitude\n",
    "    phi_1 = df.pickup_latitude\n",
    "    theta_2 = df.dropoff_longitude\n",
    "    phi_2 = df.dropoff_latitude\n",
    "    temp = (np.sin((theta_2-theta_1)/2*np.pi/180)**2\n",
    "           + np.cos(theta_1*np.pi/180)*np.cos(theta_2*np.pi/180) * np.sin((phi_2-phi_1)/2*np.pi/180)**2)\n",
    "    df['complicated'] = 2 * np.arctan2(np.sqrt(temp), np.sqrt(1-temp))\n",
    "    return df['complicated'].mean()\n",
    "\n",
    "benchmark(mean_of_complicated_arithmetic_operation, df=data, name='arithmetic operation mean', repetitions=repetitions)\n",
    "benchmarks['arithmetic operation'] =  benchmarks['arithmetic operation mean'] - benchmarks['mean']"
   ]
  },
  {
   "cell_type": "code",
   "execution_count": 16,
   "metadata": {
    "ExecuteTime": {
     "end_time": "2020-01-25T15:46:56.924964Z",
     "start_time": "2020-01-25T15:46:56.319666Z"
    }
   },
   "outputs": [
    {
     "name": "stdout",
     "output_type": "stream",
     "text": [
      "upload: ../results/vaex_1b_mlm52xlarge.csv to s3://vaex-sagemaker-demo/benchmarks/vaex_1b_mlm52xlarge_results.csv\n",
      "value counts took: 0.00772547721862793\n"
     ]
    },
    {
     "data": {
      "text/plain": [
       "0.00772547721862793"
      ]
     },
     "execution_count": 16,
     "metadata": {},
     "output_type": "execute_result"
    }
   ],
   "source": [
    "def value_counts(df):\n",
    "    return df.fare_amount.value_counts()\n",
    "\n",
    "benchmark(value_counts, df=data, name='value counts', repetitions=repetitions)"
   ]
  },
  {
   "cell_type": "code",
   "execution_count": 17,
   "metadata": {
    "ExecuteTime": {
     "end_time": "2020-01-25T15:47:07.976961Z",
     "start_time": "2020-01-25T15:47:07.340499Z"
    }
   },
   "outputs": [
    {
     "name": "stdout",
     "output_type": "stream",
     "text": [
      "upload: ../results/vaex_1b_mlm52xlarge.csv to s3://vaex-sagemaker-demo/benchmarks/vaex_1b_mlm52xlarge_results.csv\n",
      "groupby statistics took: 0.0168001651763916\n"
     ]
    },
    {
     "data": {
      "text/plain": [
       "0.0168001651763916"
      ]
     },
     "execution_count": 17,
     "metadata": {},
     "output_type": "execute_result"
    }
   ],
   "source": [
    "def groupby_statistics(df):\n",
    "    return df.groupby(by='passenger_count').agg({'fare_amount': ['mean', 'std'], \n",
    "                                               'tip_amount': ['mean', 'std']\n",
    "                                              })\n",
    "\n",
    "benchmark(groupby_statistics, df=data, name='groupby statistics', repetitions=repetitions)"
   ]
  },
  {
   "cell_type": "code",
   "execution_count": 18,
   "metadata": {
    "ExecuteTime": {
     "end_time": "2020-01-25T15:47:08.810841Z",
     "start_time": "2020-01-25T15:47:08.794491Z"
    }
   },
   "outputs": [],
   "source": [
    "other = groupby_statistics(data)"
   ]
  },
  {
   "cell_type": "code",
   "execution_count": 19,
   "metadata": {
    "ExecuteTime": {
     "end_time": "2020-01-25T15:48:08.809695Z",
     "start_time": "2020-01-25T15:48:08.185581Z"
    }
   },
   "outputs": [
    {
     "name": "stdout",
     "output_type": "stream",
     "text": [
      "upload: ../results/vaex_1b_mlm52xlarge.csv to s3://vaex-sagemaker-demo/benchmarks/vaex_1b_mlm52xlarge_results.csv\n",
      "join took: 0.0037360191345214844\n"
     ]
    },
    {
     "data": {
      "text/plain": [
       "0.0037360191345214844"
      ]
     },
     "execution_count": 19,
     "metadata": {},
     "output_type": "execute_result"
    }
   ],
   "source": [
    "def join(df, other):\n",
    "    return df.join(other=other, on = 'passenger_count', rsuffix = '_right')\n",
    "\n",
    "benchmark(join, data, name='join', repetitions=repetitions, other=other)"
   ]
  },
  {
   "cell_type": "code",
   "execution_count": 20,
   "metadata": {
    "ExecuteTime": {
     "end_time": "2020-01-25T15:48:09.423841Z",
     "start_time": "2020-01-25T15:48:08.811470Z"
    }
   },
   "outputs": [
    {
     "name": "stdout",
     "output_type": "stream",
     "text": [
      "upload: ../results/vaex_1b_mlm52xlarge.csv to s3://vaex-sagemaker-demo/benchmarks/vaex_1b_mlm52xlarge_results.csv\n",
      "join count took: 0.003653287887573242\n"
     ]
    },
    {
     "data": {
      "text/plain": [
       "0.003653287887573242"
      ]
     },
     "execution_count": 20,
     "metadata": {},
     "output_type": "execute_result"
    }
   ],
   "source": [
    "def join_count(df, other):\n",
    "    return len(df.join(other=other, on = 'passenger_count', rsuffix = '_right'))\n",
    "\n",
    "benchmark(join_count, data, name='join count', repetitions=repetitions, other=other)"
   ]
  },
  {
   "cell_type": "markdown",
   "metadata": {},
   "source": [
    "## Filtered data"
   ]
  },
  {
   "cell_type": "markdown",
   "metadata": {},
   "source": [
    "Dask is not build to run on filter data like you would normally, so we will apply the same strategy"
   ]
  },
  {
   "cell_type": "code",
   "execution_count": 21,
   "metadata": {
    "ExecuteTime": {
     "end_time": "2020-01-25T15:48:09.487496Z",
     "start_time": "2020-01-25T15:48:09.425794Z"
    }
   },
   "outputs": [
    {
     "name": "stdout",
     "output_type": "stream",
     "text": [
      "Prepare filtered data and deleted 3442 MB\n"
     ]
    }
   ],
   "source": [
    "print(f\"Prepare filtered data and deleted {gc.collect()} MB\")"
   ]
  },
  {
   "cell_type": "code",
   "execution_count": 22,
   "metadata": {
    "ExecuteTime": {
     "end_time": "2020-01-25T15:48:10.573091Z",
     "start_time": "2020-01-25T15:48:09.937902Z"
    }
   },
   "outputs": [
    {
     "name": "stdout",
     "output_type": "stream",
     "text": [
      "upload: ../results/vaex_1b_mlm52xlarge.csv to s3://vaex-sagemaker-demo/benchmarks/vaex_1b_mlm52xlarge_results.csv\n",
      "filter data took: 0.0014729499816894531\n"
     ]
    },
    {
     "data": {
      "text/plain": [
       "0.0014729499816894531"
      ]
     },
     "execution_count": 22,
     "metadata": {},
     "output_type": "execute_result"
    }
   ],
   "source": [
    "def filter_data(df):\n",
    "    expr_filter = (df.pickup_longitude > long_min)  & (df.pickup_longitude < long_max) & \\\n",
    "                  (df.pickup_latitude > lat_min)    & (df.pickup_latitude < lat_max) & \\\n",
    "                  (df.dropoff_longitude > long_min) & (df.dropoff_longitude < long_max) & \\\n",
    "                  (df.dropoff_latitude > lat_min)   & (df.dropoff_latitude < lat_max)\n",
    "    return df[expr_filter]\n",
    "\n",
    "benchmark(filter_data, data, name='filter data', repetitions=repetitions)"
   ]
  },
  {
   "cell_type": "code",
   "execution_count": 23,
   "metadata": {
    "ExecuteTime": {
     "end_time": "2020-01-25T15:48:10.865116Z",
     "start_time": "2020-01-25T15:48:10.798442Z"
    }
   },
   "outputs": [
    {
     "name": "stdout",
     "output_type": "stream",
     "text": [
      "cleaned 291 mb\n"
     ]
    }
   ],
   "source": [
    "filterd = filter_data(data)\n",
    "\n",
    "del data\n",
    "print(f\"cleaned {gc.collect()} mb\")"
   ]
  },
  {
   "cell_type": "code",
   "execution_count": 25,
   "metadata": {
    "ExecuteTime": {
     "end_time": "2020-01-25T15:48:32.319505Z",
     "start_time": "2020-01-25T15:48:26.115212Z"
    }
   },
   "outputs": [
    {
     "name": "stdout",
     "output_type": "stream",
     "text": [
      "upload: ../results/vaex_1b_mlm52xlarge.csv to s3://vaex-sagemaker-demo/benchmarks/vaex_1b_mlm52xlarge_results.csv\n",
      "filterd count took: 0.0022890567779541016\n",
      "upload: ../results/vaex_1b_mlm52xlarge.csv to s3://vaex-sagemaker-demo/benchmarks/vaex_1b_mlm52xlarge_results.csv\n",
      "filterd mean took: 0.00453948974609375\n",
      "upload: ../results/vaex_1b_mlm52xlarge.csv to s3://vaex-sagemaker-demo/benchmarks/vaex_1b_mlm52xlarge_results.csv\n",
      "filtered standard deviation took: 0.00540924072265625\n",
      "upload: ../results/vaex_1b_mlm52xlarge.csv to s3://vaex-sagemaker-demo/benchmarks/vaex_1b_mlm52xlarge_results.csv\n",
      "filtered sum columns mean took: 0.004755496978759766\n",
      "upload: ../results/vaex_1b_mlm52xlarge.csv to s3://vaex-sagemaker-demo/benchmarks/vaex_1b_mlm52xlarge_results.csv\n",
      "filterd product columns mean took: 0.004438161849975586\n",
      "upload: ../results/vaex_1b_mlm52xlarge.csv to s3://vaex-sagemaker-demo/benchmarks/vaex_1b_mlm52xlarge_results.csv\n",
      "filterd arithmetic operation mean took: 0.015936613082885742\n",
      "upload: ../results/vaex_1b_mlm52xlarge.csv to s3://vaex-sagemaker-demo/benchmarks/vaex_1b_mlm52xlarge_results.csv\n",
      "filtered value counts took: 0.002653837203979492\n",
      "upload: ../results/vaex_1b_mlm52xlarge.csv to s3://vaex-sagemaker-demo/benchmarks/vaex_1b_mlm52xlarge_results.csv\n",
      "filtered groupby statistics took: 0.01375722885131836\n",
      "upload: ../results/vaex_1b_mlm52xlarge.csv to s3://vaex-sagemaker-demo/benchmarks/vaex_1b_mlm52xlarge_results.csv\n",
      "filtered join took: 0.0032830238342285156\n",
      "upload: ../results/vaex_1b_mlm52xlarge.csv to s3://vaex-sagemaker-demo/benchmarks/vaex_1b_mlm52xlarge_results.csv\n",
      "filtered join count took: 0.006490945816040039\n",
      "Done!\n"
     ]
    }
   ],
   "source": [
    "benchmark(filter_data, filterd, name='filterd count', repetitions=repetitions)\n",
    "benchmark(mean, filterd, name='filterd mean', repetitions=repetitions)\n",
    "benchmark(standard_deviation, filterd, name='filtered standard deviation', repetitions=repetitions)\n",
    "benchmark(mean_of_sum, filterd, name ='filtered sum columns mean', repetitions=repetitions)\n",
    "benchmarks['filtered sum columns'] =  benchmarks['filtered sum columns mean'] - benchmarks['filterd mean']\n",
    "benchmark(mean_of_product, filterd, name ='filterd product columns mean', repetitions=repetitions)\n",
    "benchmarks['filterd product columns'] = benchmarks['filterd product columns mean'] - benchmarks['filterd mean']\n",
    "benchmark(mean_of_complicated_arithmetic_operation, filterd, name='filterd arithmetic operation mean', repetitions=repetitions)\n",
    "benchmarks['filterd arithmetic operation'] =  benchmarks['filterd arithmetic operation mean'] - benchmarks['filterd mean']\n",
    "benchmark(value_counts, filterd, name ='filtered value counts', repetitions=repetitions)\n",
    "benchmark(groupby_statistics, filterd, name='filtered groupby statistics', repetitions=repetitions)\n",
    "other = groupby_statistics(filterd)\n",
    "benchmark(join, filterd, name='filtered join', repetitions=repetitions, other=other)\n",
    "benchmark(join_count, filterd, name='filtered join count', repetitions=repetitions, other=other)\n",
    "print('Done!')"
   ]
  },
  {
   "cell_type": "code",
   "execution_count": null,
   "metadata": {},
   "outputs": [],
   "source": []
  }
 ],
 "metadata": {
  "kernelspec": {
   "display_name": "conda_python3",
   "language": "python",
   "name": "conda_python3"
  },
  "language_info": {
   "codemirror_mode": {
    "name": "ipython",
    "version": 3
   },
   "file_extension": ".py",
   "mimetype": "text/x-python",
   "name": "python",
   "nbconvert_exporter": "python",
   "pygments_lexer": "ipython3",
   "version": "3.6.5"
  }
 },
 "nbformat": 4,
 "nbformat_minor": 4
}
