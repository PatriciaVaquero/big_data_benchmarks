{
 "cells": [
  {
   "cell_type": "markdown",
   "metadata": {},
   "source": [
    "# Get data and packages"
   ]
  },
  {
   "cell_type": "code",
   "execution_count": 2,
   "metadata": {
    "ExecuteTime": {
     "end_time": "2020-01-27T11:03:46.683599Z",
     "start_time": "2020-01-27T11:03:44.894169Z"
    }
   },
   "outputs": [],
   "source": [
    "%%capture\n",
    "%%bash\n",
    "pip install -U pip modin[all]\n",
    "aws s3 cp s3://xdss-public-datasets/demos/taxi_parquet/data_0.parquet datasets/taxi_parquet/data_0.parquet"
   ]
  },
  {
   "cell_type": "markdown",
   "metadata": {},
   "source": [
    "# Can only read a single parquet file - keep only for code references"
   ]
  },
  {
   "cell_type": "code",
   "execution_count": 3,
   "metadata": {
    "ExecuteTime": {
     "end_time": "2020-02-18T13:51:43.681931Z",
     "start_time": "2020-02-18T13:51:43.447428Z"
    },
    "code_folding": [
     33,
     38,
     43
    ]
   },
   "outputs": [
    {
     "name": "stdout",
     "output_type": "stream",
     "text": [
      "test for 1 repetitions for join and groupby and 5 repetitions for statistics\n"
     ]
    }
   ],
   "source": [
    "import gc\n",
    "import numpy as np\n",
    "import pandas as pd\n",
    "import warnings\n",
    "import time\n",
    "import gc\n",
    "import os\n",
    "import os\n",
    "\n",
    "\n",
    "instance_type = 'c5d2xlarge' # change this\n",
    "results_bucket = f\"s3://vaex-sagemaker-demo/benchmarks\" # change this\n",
    "\n",
    "os.environ[\"MODIN_ENGINE\"] = \"ray\"  # Modin will use Ray\n",
    "name = 'modin-ray'\n",
    "data_path = 'datasets/taxi_parquet/data_0.parquet'\n",
    "output_file = f'{name}_{instance_type}_results.csv'\n",
    "results_path = f\"results/{output_file}\"\n",
    "results_bucket = f\"{results_bucket}/{output_file}\" \n",
    "benchmarks = {}\n",
    "single_repetition = 1\n",
    "statistic_repetition = 5\n",
    "\n",
    "long_min = -74.05\n",
    "long_max = -73.75\n",
    "lat_min = 40.58\n",
    "\n",
    "long_min = -74.05\n",
    "long_max = -73.75\n",
    "lat_min = 40.58\n",
    "lat_max = 40.90\n",
    "\n",
    "\n",
    "def get_results(benchmarks, name):\n",
    "    results = pd.DataFrame.from_dict(benchmarks, orient='index')\n",
    "    results.columns = [name]\n",
    "    return results\n",
    "\n",
    "def persist():\n",
    "    gc.collect()\n",
    "    get_results(benchmarks, name).to_csv(results_path)\n",
    "    os.system(f\"aws s3 cp {results_path} {results_bucket}\")\n",
    "    \n",
    "def benchmark(f, df, name, repetitions=1, **kwargs):\n",
    "    times = []\n",
    "    for i in range(repetitions):\n",
    "        start_time = time.time()\n",
    "        ret = f(df, **kwargs)\n",
    "        times.append(time.time()-start_time)\n",
    "    benchmarks[name] = np.mean(times)\n",
    "    persist()\n",
    "    print(f\"{name} took: {benchmarks[name]}\")\n",
    "    return benchmarks[name]\n",
    "\n",
    "\n",
    "!mkdir -p results\n",
    "!mkdir -p datasets\n",
    "print(f\"test for {single_repetition} repetitions for join and groupby and {statistic_repetition} repetitions for statistics\")"
   ]
  },
  {
   "cell_type": "markdown",
   "metadata": {},
   "source": [
    "# Benchmark"
   ]
  },
  {
   "cell_type": "code",
   "execution_count": 4,
   "metadata": {
    "ExecuteTime": {
     "end_time": "2020-02-18T13:51:46.215020Z",
     "start_time": "2020-02-18T13:51:44.865285Z"
    }
   },
   "outputs": [
    {
     "name": "stdout",
     "output_type": "stream",
     "text": [
      "size: 1000000 with 18 columns\n"
     ]
    }
   ],
   "source": [
    "import modin.pandas as pd\n",
    "import numpy as np\n",
    "\n",
    "# Load data\n",
    "data = pd.read_parquet(data_path, engine='pyarrow')\n",
    "print(f\"size: {len(data)} with {len(data.columns)} columns\")"
   ]
  },
  {
   "cell_type": "code",
   "execution_count": 59,
   "metadata": {
    "ExecuteTime": {
     "end_time": "2020-02-18T13:39:14.353180Z",
     "start_time": "2020-02-18T13:39:05.948495Z"
    }
   },
   "outputs": [
    {
     "name": "stderr",
     "output_type": "stream",
     "text": [
      "UserWarning: `from_dict` defaulting to pandas implementation.\n",
      "UserWarning: `DataFrame.to_csv` defaulting to pandas implementation.\n",
      "UserWarning: Distributing <class 'pandas.core.frame.DataFrame'> object. This may take some time.\n"
     ]
    },
    {
     "name": "stdout",
     "output_type": "stream",
     "text": [
      "read_file took: 1.5481024742126466\n"
     ]
    },
    {
     "data": {
      "text/plain": [
       "1.5481024742126466"
      ]
     },
     "execution_count": 59,
     "metadata": {},
     "output_type": "execute_result"
    }
   ],
   "source": [
    "def read_file_parquet(df=None):\n",
    "    return pd.read_parquet(data_path, engine='pyarrow')\n",
    "\n",
    "benchmark(read_file_parquet, df=data, name='read_file', repetitions=statistic_repetition)"
   ]
  },
  {
   "cell_type": "code",
   "execution_count": 60,
   "metadata": {
    "ExecuteTime": {
     "end_time": "2020-02-18T13:39:15.517446Z",
     "start_time": "2020-02-18T13:39:14.355144Z"
    }
   },
   "outputs": [
    {
     "name": "stderr",
     "output_type": "stream",
     "text": [
      "UserWarning: `from_dict` defaulting to pandas implementation.\n",
      "UserWarning: `DataFrame.to_csv` defaulting to pandas implementation.\n",
      "UserWarning: Distributing <class 'pandas.core.frame.DataFrame'> object. This may take some time.\n"
     ]
    },
    {
     "name": "stdout",
     "output_type": "stream",
     "text": [
      "count took: 1.2254714965820312e-05\n"
     ]
    },
    {
     "data": {
      "text/plain": [
       "1.2254714965820312e-05"
      ]
     },
     "execution_count": 60,
     "metadata": {},
     "output_type": "execute_result"
    }
   ],
   "source": [
    "def count(df=None):\n",
    "    return len(df)\n",
    "\n",
    "benchmark(count, df=data, name='count', repetitions=statistic_repetition)"
   ]
  },
  {
   "cell_type": "code",
   "execution_count": 61,
   "metadata": {
    "ExecuteTime": {
     "end_time": "2020-02-18T13:39:16.597380Z",
     "start_time": "2020-02-18T13:39:15.519015Z"
    }
   },
   "outputs": [
    {
     "name": "stderr",
     "output_type": "stream",
     "text": [
      "UserWarning: `from_dict` defaulting to pandas implementation.\n",
      "UserWarning: `DataFrame.to_csv` defaulting to pandas implementation.\n",
      "UserWarning: Distributing <class 'pandas.core.frame.DataFrame'> object. This may take some time.\n"
     ]
    },
    {
     "name": "stdout",
     "output_type": "stream",
     "text": [
      "mean took: 0.05955638885498047\n"
     ]
    },
    {
     "data": {
      "text/plain": [
       "0.05955638885498047"
      ]
     },
     "execution_count": 61,
     "metadata": {},
     "output_type": "execute_result"
    }
   ],
   "source": [
    "def mean(df):\n",
    "    return df.fare_amount.mean()\n",
    "\n",
    "benchmark(mean, df=data, name='mean', repetitions=statistic_repetition)"
   ]
  },
  {
   "cell_type": "code",
   "execution_count": 62,
   "metadata": {
    "ExecuteTime": {
     "end_time": "2020-02-18T13:39:17.374782Z",
     "start_time": "2020-02-18T13:39:16.599136Z"
    }
   },
   "outputs": [
    {
     "name": "stderr",
     "output_type": "stream",
     "text": [
      "UserWarning: `from_dict` defaulting to pandas implementation.\n",
      "UserWarning: `DataFrame.to_csv` defaulting to pandas implementation.\n",
      "UserWarning: Distributing <class 'pandas.core.frame.DataFrame'> object. This may take some time.\n"
     ]
    },
    {
     "name": "stdout",
     "output_type": "stream",
     "text": [
      "standard deviation took: 0.04032907485961914\n"
     ]
    },
    {
     "data": {
      "text/plain": [
       "0.04032907485961914"
      ]
     },
     "execution_count": 62,
     "metadata": {},
     "output_type": "execute_result"
    }
   ],
   "source": [
    "def standard_deviation(df):\n",
    "    return df.fare_amount.std()\n",
    "\n",
    "benchmark(standard_deviation, df=data, name='standard deviation', repetitions=statistic_repetition)"
   ]
  },
  {
   "cell_type": "markdown",
   "metadata": {},
   "source": [
    "To calculate the time when using two columns, we can't return the response since it will get into memroy and break, so we run a mean calculation on it, and then remove the time it took to run the mean."
   ]
  },
  {
   "cell_type": "code",
   "execution_count": 63,
   "metadata": {
    "ExecuteTime": {
     "end_time": "2020-02-18T13:39:18.632582Z",
     "start_time": "2020-02-18T13:39:17.376503Z"
    }
   },
   "outputs": [
    {
     "name": "stderr",
     "output_type": "stream",
     "text": [
      "UserWarning: `from_dict` defaulting to pandas implementation.\n",
      "UserWarning: `DataFrame.to_csv` defaulting to pandas implementation.\n",
      "UserWarning: Distributing <class 'pandas.core.frame.DataFrame'> object. This may take some time.\n"
     ]
    },
    {
     "name": "stdout",
     "output_type": "stream",
     "text": [
      "sum columns mean took: 0.13871545791625978\n"
     ]
    }
   ],
   "source": [
    "def mean_of_sum(df):\n",
    "    return (df.fare_amount + df.trip_distance).mean()\n",
    "\n",
    "benchmark(mean_of_sum, df=data, name='sum columns mean', repetitions=statistic_repetition)\n",
    "benchmarks['sum columns'] =  np.nan"
   ]
  },
  {
   "cell_type": "code",
   "execution_count": 64,
   "metadata": {
    "ExecuteTime": {
     "end_time": "2020-02-18T13:39:19.973659Z",
     "start_time": "2020-02-18T13:39:18.634845Z"
    }
   },
   "outputs": [
    {
     "name": "stderr",
     "output_type": "stream",
     "text": [
      "UserWarning: `from_dict` defaulting to pandas implementation.\n",
      "UserWarning: `DataFrame.to_csv` defaulting to pandas implementation.\n",
      "UserWarning: Distributing <class 'pandas.core.frame.DataFrame'> object. This may take some time.\n"
     ]
    },
    {
     "name": "stdout",
     "output_type": "stream",
     "text": [
      "product columns mean took: 0.14782986640930176\n"
     ]
    }
   ],
   "source": [
    "def mean_of_product(df):\n",
    "    return (df.fare_amount * df.trip_distance).mean()\n",
    "\n",
    "benchmark(mean_of_product, df=data, name='product columns mean', repetitions=statistic_repetition)\n",
    "benchmarks['product columns'] =  np.nan"
   ]
  },
  {
   "cell_type": "code",
   "execution_count": 65,
   "metadata": {
    "ExecuteTime": {
     "end_time": "2020-02-18T13:39:22.053237Z",
     "start_time": "2020-02-18T13:39:19.975743Z"
    }
   },
   "outputs": [
    {
     "name": "stderr",
     "output_type": "stream",
     "text": [
      "UserWarning: `Series.__array_wrap__` defaulting to pandas implementation.\n",
      "UserWarning: Distributing <class 'pandas.core.series.Series'> object. This may take some time.\n",
      "UserWarning: `from_dict` defaulting to pandas implementation.\n",
      "UserWarning: `DataFrame.to_csv` defaulting to pandas implementation.\n",
      "UserWarning: Distributing <class 'pandas.core.frame.DataFrame'> object. This may take some time.\n"
     ]
    },
    {
     "name": "stdout",
     "output_type": "stream",
     "text": [
      "arithmetic operation mean took: 1.4310154914855957\n"
     ]
    }
   ],
   "source": [
    "def mean_of_complicated_arithmetic_operation(df):\n",
    "    theta_1 = df.pickup_longitude\n",
    "    phi_1 = df.pickup_latitude\n",
    "    theta_2 = df.dropoff_longitude\n",
    "    phi_2 = df.dropoff_latitude\n",
    "    temp = (np.sin((theta_2-theta_1)/2*np.pi/180)**2\n",
    "           + np.cos(theta_1*np.pi/180)*np.cos(theta_2*np.pi/180) * np.sin((phi_2-phi_1)/2*np.pi/180)**2)\n",
    "    ret = np.multiply(np.arctan2(np.sqrt(temp), np.sqrt(np.subtract(1, temp))),2) \n",
    "    return ret.mean()\n",
    "\n",
    "benchmark(mean_of_complicated_arithmetic_operation, df=data, name='arithmetic operation mean', repetitions=single_repetition)\n",
    "benchmarks['arithmetic operation'] =  np.nan\n"
   ]
  },
  {
   "cell_type": "code",
   "execution_count": 66,
   "metadata": {
    "ExecuteTime": {
     "end_time": "2020-02-18T13:39:23.309743Z",
     "start_time": "2020-02-18T13:39:22.055132Z"
    }
   },
   "outputs": [
    {
     "name": "stderr",
     "output_type": "stream",
     "text": [
      "UserWarning: `Series.value_counts` defaulting to pandas implementation.\n",
      "UserWarning: Distributing <class 'pandas.core.series.Series'> object. This may take some time.\n",
      "UserWarning: `from_dict` defaulting to pandas implementation.\n",
      "UserWarning: `DataFrame.to_csv` defaulting to pandas implementation.\n",
      "UserWarning: Distributing <class 'pandas.core.frame.DataFrame'> object. This may take some time.\n"
     ]
    },
    {
     "name": "stdout",
     "output_type": "stream",
     "text": [
      "value counts took: 0.13008618354797363\n"
     ]
    },
    {
     "data": {
      "text/plain": [
       "0.13008618354797363"
      ]
     },
     "execution_count": 66,
     "metadata": {},
     "output_type": "execute_result"
    }
   ],
   "source": [
    "def value_counts(df):\n",
    "    return df.fare_amount.value_counts()\n",
    "\n",
    "benchmark(value_counts, df=data, name='value counts', repetitions=statistic_repetition)"
   ]
  },
  {
   "cell_type": "code",
   "execution_count": 67,
   "metadata": {
    "ExecuteTime": {
     "end_time": "2020-02-18T13:39:25.078681Z",
     "start_time": "2020-02-18T13:39:23.311854Z"
    }
   },
   "outputs": [
    {
     "name": "stderr",
     "output_type": "stream",
     "text": [
      "UserWarning: `DataFrame.groupby_on_multiple_columns` defaulting to pandas implementation.\n",
      "UserWarning: Distributing <class 'pandas.core.frame.DataFrame'> object. This may take some time.\n",
      "UserWarning: `from_dict` defaulting to pandas implementation.\n",
      "UserWarning: `DataFrame.to_csv` defaulting to pandas implementation.\n"
     ]
    },
    {
     "name": "stdout",
     "output_type": "stream",
     "text": [
      "groupby statistics took: 1.2036387920379639\n"
     ]
    },
    {
     "data": {
      "text/plain": [
       "1.2036387920379639"
      ]
     },
     "execution_count": 67,
     "metadata": {},
     "output_type": "execute_result"
    }
   ],
   "source": [
    "def groupby_statistics(df):\n",
    "    return df.groupby(by='passenger_count').agg({'fare_amount': ['mean', 'std'], \n",
    "                                               'tip_amount': ['mean', 'std']\n",
    "                                              })\n",
    "\n",
    "benchmark(groupby_statistics, df=data, name='groupby statistics', repetitions=single_repetition)"
   ]
  },
  {
   "cell_type": "code",
   "execution_count": 68,
   "metadata": {
    "ExecuteTime": {
     "end_time": "2020-02-18T13:39:26.116510Z",
     "start_time": "2020-02-18T13:39:25.080668Z"
    }
   },
   "outputs": [
    {
     "name": "stderr",
     "output_type": "stream",
     "text": [
      "UserWarning: merging between different levels can give an unintended result (1 levels on the left, 2 on the right)\n",
      "UserWarning: `from_dict` defaulting to pandas implementation.\n",
      "UserWarning: `DataFrame.to_csv` defaulting to pandas implementation.\n",
      "UserWarning: Distributing <class 'pandas.core.frame.DataFrame'> object. This may take some time.\n"
     ]
    },
    {
     "name": "stdout",
     "output_type": "stream",
     "text": [
      "join took: 0.44701623916625977\n"
     ]
    },
    {
     "data": {
      "text/plain": [
       "0.44701623916625977"
      ]
     },
     "execution_count": 68,
     "metadata": {},
     "output_type": "execute_result"
    }
   ],
   "source": [
    "def join_count(df, other):\n",
    "    return pd.merge(df, other, left_index=True, right_index=True)\n",
    "\n",
    "benchmark(join_count, data, name='join', repetitions=single_repetition, other=other)"
   ]
  },
  {
   "cell_type": "markdown",
   "metadata": {},
   "source": [
    "## This parts require more than 16 GB of RAM"
   ]
  },
  {
   "cell_type": "code",
   "execution_count": 69,
   "metadata": {
    "ExecuteTime": {
     "end_time": "2020-02-18T13:39:27.239491Z",
     "start_time": "2020-02-18T13:39:26.118328Z"
    }
   },
   "outputs": [
    {
     "name": "stderr",
     "output_type": "stream",
     "text": [
      "UserWarning: `DataFrame.groupby_on_multiple_columns` defaulting to pandas implementation.\n",
      "UserWarning: Distributing <class 'pandas.core.frame.DataFrame'> object. This may take some time.\n"
     ]
    }
   ],
   "source": [
    "other = groupby_statistics(data)"
   ]
  },
  {
   "cell_type": "code",
   "execution_count": 70,
   "metadata": {
    "ExecuteTime": {
     "end_time": "2020-02-18T13:39:28.192369Z",
     "start_time": "2020-02-18T13:39:27.241002Z"
    }
   },
   "outputs": [
    {
     "name": "stderr",
     "output_type": "stream",
     "text": [
      "UserWarning: merging between different levels can give an unintended result (1 levels on the left, 2 on the right)\n",
      "UserWarning: `from_dict` defaulting to pandas implementation.\n",
      "UserWarning: `DataFrame.to_csv` defaulting to pandas implementation.\n",
      "UserWarning: Distributing <class 'pandas.core.frame.DataFrame'> object. This may take some time.\n"
     ]
    },
    {
     "name": "stdout",
     "output_type": "stream",
     "text": [
      "join count took: 0.39369869232177734\n"
     ]
    },
    {
     "data": {
      "text/plain": [
       "0.39369869232177734"
      ]
     },
     "execution_count": 70,
     "metadata": {},
     "output_type": "execute_result"
    }
   ],
   "source": [
    "def join_count(df, other):\n",
    "    return len(pd.merge(df, other, left_index=True, right_index=True))\n",
    "\n",
    "benchmark(join_count, data, name='join count', repetitions=single_repetition, other=other)"
   ]
  },
  {
   "cell_type": "markdown",
   "metadata": {},
   "source": [
    "## Filtered data"
   ]
  },
  {
   "cell_type": "markdown",
   "metadata": {},
   "source": [
    "Dask is not build to run on filter data like you would normally, so we will apply the same strategy"
   ]
  },
  {
   "cell_type": "code",
   "execution_count": 71,
   "metadata": {
    "ExecuteTime": {
     "end_time": "2020-02-18T13:39:28.251333Z",
     "start_time": "2020-02-18T13:39:28.194054Z"
    }
   },
   "outputs": [
    {
     "name": "stdout",
     "output_type": "stream",
     "text": [
      "Prepare filtered data and deleted 22 MB\n"
     ]
    }
   ],
   "source": [
    "print(f\"Prepare filtered data and deleted {gc.collect()} MB\")"
   ]
  },
  {
   "cell_type": "code",
   "execution_count": 72,
   "metadata": {
    "ExecuteTime": {
     "end_time": "2020-02-18T13:39:29.405713Z",
     "start_time": "2020-02-18T13:39:28.252723Z"
    }
   },
   "outputs": [],
   "source": [
    "expr_filter = (data.pickup_longitude > long_min)  & (data.pickup_longitude < long_max) & \\\n",
    "                  (data.pickup_latitude > lat_min)    & (data.pickup_latitude < lat_max) & \\\n",
    "                  (data.dropoff_longitude > long_min) & (data.dropoff_longitude < long_max) & \\\n",
    "                  (data.dropoff_latitude > lat_min)   & (data.dropoff_latitude < lat_max)"
   ]
  },
  {
   "cell_type": "code",
   "execution_count": null,
   "metadata": {
    "ExecuteTime": {
     "start_time": "2020-02-18T13:39:09.243Z"
    }
   },
   "outputs": [],
   "source": [
    "def filter_data(df):\n",
    "    return df[expr_filter]\n",
    "\n",
    "benchmark(filter_data, data, name='filter data', repetitions=statistic_repetition)"
   ]
  },
  {
   "cell_type": "code",
   "execution_count": null,
   "metadata": {
    "ExecuteTime": {
     "start_time": "2020-02-18T13:39:09.664Z"
    }
   },
   "outputs": [],
   "source": [
    "filterd = filter_data(data)\n",
    "\n",
    "del data\n",
    "print(f\"cleaned {gc.collect()} mb\")"
   ]
  },
  {
   "cell_type": "code",
   "execution_count": null,
   "metadata": {
    "ExecuteTime": {
     "start_time": "2020-02-18T13:39:09.935Z"
    }
   },
   "outputs": [],
   "source": [
    "benchmark(mean, filterd, name='filterd mean', repetitions=statistic_repetition)\n",
    "benchmark(standard_deviation, filterd, name='filtered standard deviation', repetitions=statistic_repetition)\n",
    "benchmark(mean_of_sum, filterd, name ='filtered sum columns mean', repetitions=statistic_repetition)\n",
    "benchmarks['filtered sum columns'] =  np.nan\n",
    "benchmark(mean_of_product, filterd, name ='filterd product columns mean', repetitions=statistic_repetition)\n",
    "benchmarks['filterd product columns'] = np.nan\n",
    "benchmark(mean_of_complicated_arithmetic_operation, filterd, name='filterd arithmetic operation mean', repetitions=single_repetition)\n",
    "benchmarks['filterd arithmetic operation'] =  np.nan\n",
    "benchmark(value_counts, filterd, name ='filtered value counts', repetitions=single_repetition)\n",
    "benchmark(groupby_statistics, filterd, name='filtered groupby statistics', repetitions=single_repetition)\n",
    "other = groupby_statistics(filterd)\n",
    "benchmarks['filtered join'] = np.nan\n",
    "benchmark(join_count, filterd, name='filtered join count', repetitions=single_repetition, other=other)\n",
    "print('Done!')"
   ]
  },
  {
   "cell_type": "code",
   "execution_count": null,
   "metadata": {
    "ExecuteTime": {
     "start_time": "2020-02-18T13:39:10.759Z"
    }
   },
   "outputs": [],
   "source": [
    "print('modin-ray')\n",
    "benchmarks"
   ]
  }
 ],
 "metadata": {
  "kernelspec": {
   "display_name": "conda_python3",
   "language": "python",
   "name": "conda_python3"
  },
  "language_info": {
   "codemirror_mode": {
    "name": "ipython",
    "version": 3
   },
   "file_extension": ".py",
   "mimetype": "text/x-python",
   "name": "python",
   "nbconvert_exporter": "python",
   "pygments_lexer": "ipython3",
   "version": "3.6.5"
  }
 },
 "nbformat": 4,
 "nbformat_minor": 4
}
