{
 "cells": [
  {
   "cell_type": "markdown",
   "metadata": {},
   "source": [
    "# Get data and packages"
   ]
  },
  {
   "cell_type": "code",
   "execution_count": 1,
   "metadata": {
    "ExecuteTime": {
     "end_time": "2020-01-13T14:21:06.690430Z",
     "start_time": "2020-01-13T14:20:54.182849Z"
    },
    "code_folding": [
     0
    ]
   },
   "outputs": [],
   "source": [
    "%%capture\n",
    "%%bash\n",
    "pip install jupyter_contrib_nbextensions\n",
    "pip install jupyter_nbextensions_configurator\n",
    "jupyter contrib nbextension install --user\n",
    "jupyter nbextensions_configurator enable --user\n",
    "\n",
    "jupyter nbextension enable codefolding/main\n",
    "jupyter nbextension enable scratchpad/main\n",
    "jupyter nbextension enable execute_time/ExecuteTime\n",
    "jupyter nbextension enable autosavetime/main\n",
    "pip install -U pip dask numpy fsspec>=0.3.3 tqdm pyarrow\n"
   ]
  },
  {
   "cell_type": "code",
   "execution_count": 7,
   "metadata": {
    "ExecuteTime": {
     "end_time": "2020-01-25T15:16:22.725514Z",
     "start_time": "2020-01-25T15:16:14.470580Z"
    }
   },
   "outputs": [],
   "source": [
    "%%capture\n",
    "!pip install -U pip datatable vaex-core vaex-hdf5 vaex-arrow"
   ]
  },
  {
   "cell_type": "raw",
   "metadata": {},
   "source": [
    "!aws s3 cp --recursive s3://xdss-public-datasets/demos/taxi_1B.hdf5 ../datasets/taxi_1B.hdf5"
   ]
  },
  {
   "cell_type": "code",
   "execution_count": 2,
   "metadata": {
    "ExecuteTime": {
     "end_time": "2020-01-25T15:31:05.491963Z",
     "start_time": "2020-01-25T15:31:05.294551Z"
    }
   },
   "outputs": [
    {
     "name": "stdout",
     "output_type": "stream",
     "text": [
      "test datatable for 1 repetitions\n"
     ]
    }
   ],
   "source": [
    "import gc\n",
    "from src.config import repetitions\n",
    "import time\n",
    "import numpy as np\n",
    "import pandas as pd\n",
    "import numpy as np\n",
    "import warnings\n",
    "import time\n",
    "import gc\n",
    "import os\n",
    "\n",
    "name = 'datatable'\n",
    "instance_type = 'mlm52xlarge'\n",
    "data_path = '../datasets/taxi_1B.hdf5'\n",
    "results_path = f\"../results/{name}_1b_{instance_type}.csv\"\n",
    "benchmarks = {}\n",
    "print(f\"test {name} for {repetitions} repetitions\")"
   ]
  },
  {
   "cell_type": "code",
   "execution_count": 3,
   "metadata": {
    "ExecuteTime": {
     "end_time": "2020-01-25T15:31:05.705402Z",
     "start_time": "2020-01-25T15:31:05.700754Z"
    }
   },
   "outputs": [],
   "source": [
    "import numpy as np\n",
    "import pandas as pd\n",
    "import time \n",
    "\n",
    "\n",
    "def get_results(benchmarks, name):\n",
    "    results = pd.DataFrame.from_dict(benchmarks, orient='index')\n",
    "    results.columns = [name]\n",
    "    return results\n",
    "\n",
    "def persist():\n",
    "    get_results(benchmarks, name).to_csv(results_path)\n",
    "    !aws s3 cp  ../results/datatable_1b_mlm52xlarge.csv s3://vaex-sagemaker-demo/benchmarks/datatable_1b_mlm52xlarge_results.csv \n",
    "    \n",
    "def benchmark(f, df, name, repetitions=1, **kwargs):\n",
    "    times = []\n",
    "    for i in range(repetitions):\n",
    "        start_time = time.time()\n",
    "        ret = f(df, **kwargs)\n",
    "        times.append(time.time()-start_time)\n",
    "    benchmarks[name] = np.mean(times)\n",
    "    persist()\n",
    "    print(f\"{name} took: {benchmarks[name]}\")\n",
    "    return benchmarks[name]\n",
    "\n",
    "\n",
    "long_min = -74.05\n",
    "long_max = -73.75\n",
    "lat_min = 40.58\n",
    "lat_max = 40.90"
   ]
  },
  {
   "cell_type": "markdown",
   "metadata": {},
   "source": [
    "# Benchmark"
   ]
  },
  {
   "cell_type": "code",
   "execution_count": 15,
   "metadata": {
    "ExecuteTime": {
     "end_time": "2020-01-25T15:32:30.655363Z",
     "start_time": "2020-01-25T15:32:30.652588Z"
    }
   },
   "outputs": [],
   "source": [
    "import vaex\n",
    "import numpy as np\n",
    "import datatable as dt\n",
    "from datatable import f, math"
   ]
  },
  {
   "cell_type": "code",
   "execution_count": 16,
   "metadata": {
    "ExecuteTime": {
     "end_time": "2020-01-25T15:32:31.100014Z",
     "start_time": "2020-01-25T15:32:31.087341Z"
    }
   },
   "outputs": [
    {
     "name": "stdout",
     "output_type": "stream",
     "text": [
      "size: 10000 with 14 columns\n"
     ]
    }
   ],
   "source": [
    "def read_file(data=None):\n",
    "    vdf = vaex.open(data_path)\n",
    "    columns = {}\n",
    "    for name in vdf.get_column_names():\n",
    "        data = vdf.columns[name]\n",
    "        if data.dtype == str:\n",
    "            pass  # skip strings\n",
    "        elif data.dtype.kind == 'f':\n",
    "            # datatable is picky about <f4 format\n",
    "            columns[name] = data.view(np.float32)\n",
    "        elif data.dtype.kind == 'i':\n",
    "            columns[name] = data\n",
    "        else:\n",
    "            pass  # ignore non int and float\n",
    "    return dt.Frame(**columns)\n",
    "\n",
    "# Load data\n",
    "data = read_file(data=None)\n",
    "print(f\"size: {data.shape[0]} with {data.shape[1]} columns\")"
   ]
  },
  {
   "cell_type": "code",
   "execution_count": 17,
   "metadata": {
    "ExecuteTime": {
     "end_time": "2020-01-25T15:32:33.159606Z",
     "start_time": "2020-01-25T15:32:32.524366Z"
    }
   },
   "outputs": [
    {
     "name": "stdout",
     "output_type": "stream",
     "text": [
      "upload: ../results/datatable_1b_mlm52xlarge.csv to s3://vaex-sagemaker-demo/benchmarks/datatable_1b_mlm52xlarge_results.csv\n",
      "read_file took: 0.007261753082275391\n"
     ]
    },
    {
     "data": {
      "text/plain": [
       "0.007261753082275391"
      ]
     },
     "execution_count": 17,
     "metadata": {},
     "output_type": "execute_result"
    }
   ],
   "source": [
    "benchmark(read_file, df=data, name='read_file', repetitions=repetitions)"
   ]
  },
  {
   "cell_type": "code",
   "execution_count": 18,
   "metadata": {
    "ExecuteTime": {
     "end_time": "2020-01-25T15:32:44.021824Z",
     "start_time": "2020-01-25T15:32:43.371284Z"
    }
   },
   "outputs": [
    {
     "name": "stdout",
     "output_type": "stream",
     "text": [
      "upload: ../results/datatable_1b_mlm52xlarge.csv to s3://vaex-sagemaker-demo/benchmarks/datatable_1b_mlm52xlarge_results.csv\n",
      "count took: 1.1444091796875e-05\n"
     ]
    },
    {
     "data": {
      "text/plain": [
       "1.1444091796875e-05"
      ]
     },
     "execution_count": 18,
     "metadata": {},
     "output_type": "execute_result"
    }
   ],
   "source": [
    "def count(df=None):\n",
    "    return df.shape[0]\n",
    "\n",
    "benchmark(count, df=data, name='count', repetitions=repetitions)"
   ]
  },
  {
   "cell_type": "code",
   "execution_count": 19,
   "metadata": {
    "ExecuteTime": {
     "end_time": "2020-01-25T15:32:53.950850Z",
     "start_time": "2020-01-25T15:32:53.331164Z"
    }
   },
   "outputs": [
    {
     "name": "stdout",
     "output_type": "stream",
     "text": [
      "upload: ../results/datatable_1b_mlm52xlarge.csv to s3://vaex-sagemaker-demo/benchmarks/datatable_1b_mlm52xlarge_results.csv\n",
      "mean took: 0.00020885467529296875\n"
     ]
    },
    {
     "data": {
      "text/plain": [
       "0.00020885467529296875"
      ]
     },
     "execution_count": 19,
     "metadata": {},
     "output_type": "execute_result"
    }
   ],
   "source": [
    "def mean(df):\n",
    "    return df[:, dt.mean(dt.f.fare_amount)]\n",
    "\n",
    "benchmark(mean, df=data, name='mean', repetitions=repetitions)"
   ]
  },
  {
   "cell_type": "code",
   "execution_count": 20,
   "metadata": {
    "ExecuteTime": {
     "end_time": "2020-01-25T15:33:05.180116Z",
     "start_time": "2020-01-25T15:33:04.523582Z"
    }
   },
   "outputs": [
    {
     "name": "stdout",
     "output_type": "stream",
     "text": [
      "upload: ../results/datatable_1b_mlm52xlarge.csv to s3://vaex-sagemaker-demo/benchmarks/datatable_1b_mlm52xlarge_results.csv\n",
      "standard took: 0.00021409988403320312\n"
     ]
    },
    {
     "data": {
      "text/plain": [
       "0.00021409988403320312"
      ]
     },
     "execution_count": 20,
     "metadata": {},
     "output_type": "execute_result"
    }
   ],
   "source": [
    "def standard_deviation(df):\n",
    "    return df[:, dt.sd(dt.f.fare_amount)]\n",
    "\n",
    "benchmark(standard_deviation, df=data, name='standard', repetitions=repetitions)"
   ]
  },
  {
   "cell_type": "markdown",
   "metadata": {},
   "source": [
    "To calculate the time when using two columns, we can't return the response since it will get into memroy and break, so we run a mean calculation on it, and then remove the time it took to run the mean."
   ]
  },
  {
   "cell_type": "code",
   "execution_count": 21,
   "metadata": {
    "ExecuteTime": {
     "end_time": "2020-01-25T15:33:16.353618Z",
     "start_time": "2020-01-25T15:33:15.752860Z"
    }
   },
   "outputs": [
    {
     "name": "stdout",
     "output_type": "stream",
     "text": [
      "upload: ../results/datatable_1b_mlm52xlarge.csv to s3://vaex-sagemaker-demo/benchmarks/datatable_1b_mlm52xlarge_results.csv\n",
      "sum columns mean took: 0.0011496543884277344\n"
     ]
    }
   ],
   "source": [
    "def mean_of_sum(df):\n",
    "    return df[:, dt.mean(f.fare_amount + f.trip_distance)]\n",
    "\n",
    "benchmark(mean_of_sum, df=data, name='sum columns mean', repetitions=repetitions)\n",
    "benchmarks['sum columns'] =  benchmarks['sum columns mean'] - benchmarks['mean']"
   ]
  },
  {
   "cell_type": "code",
   "execution_count": 22,
   "metadata": {
    "ExecuteTime": {
     "end_time": "2020-01-25T15:33:29.608277Z",
     "start_time": "2020-01-25T15:33:28.978124Z"
    }
   },
   "outputs": [
    {
     "name": "stdout",
     "output_type": "stream",
     "text": [
      "upload: ../results/datatable_1b_mlm52xlarge.csv to s3://vaex-sagemaker-demo/benchmarks/datatable_1b_mlm52xlarge_results.csv\n",
      "product columns mean took: 0.0003476142883300781\n"
     ]
    }
   ],
   "source": [
    "def mean_of_product(df):\n",
    "    return df[:, dt.mean(f.fare_amount * f.trip_distance)]\n",
    "\n",
    "benchmark(mean_of_product, df=data, name='product columns mean', repetitions=repetitions)\n",
    "benchmarks['product columns'] =  benchmarks['product columns mean'] - benchmarks['mean']"
   ]
  },
  {
   "cell_type": "code",
   "execution_count": 23,
   "metadata": {
    "ExecuteTime": {
     "end_time": "2020-01-25T15:33:42.721498Z",
     "start_time": "2020-01-25T15:33:42.093585Z"
    }
   },
   "outputs": [
    {
     "name": "stdout",
     "output_type": "stream",
     "text": [
      "upload: ../results/datatable_1b_mlm52xlarge.csv to s3://vaex-sagemaker-demo/benchmarks/datatable_1b_mlm52xlarge_results.csv\n",
      "arithmetic operation mean took: 0.0132598876953125\n"
     ]
    }
   ],
   "source": [
    "def mean_of_complicated_arithmetic_operation(df):\n",
    "    theta_1 = f.pickup_longitude\n",
    "    phi_1 = f.pickup_latitude\n",
    "    theta_2 = f.dropoff_longitude\n",
    "    phi_2 = f.dropoff_latitude\n",
    "    temp = (math.sin((theta_2-theta_1)/2*math.pi/180)**2\n",
    "           + math.cos(theta_1*math.pi/180)*math.cos(theta_2*math.pi/180) * math.sin((phi_2-phi_1)/2*math.pi/180)**2)\n",
    "    expr = 2 * math.atan2(math.sqrt(temp), math.sqrt(1-temp))\n",
    "    return df[:, dt.mean(expr)]\n",
    "\n",
    "benchmark(mean_of_complicated_arithmetic_operation, df=data, name='arithmetic operation mean', repetitions=repetitions)\n",
    "benchmarks['arithmetic operation'] =  benchmarks['arithmetic operation mean'] - benchmarks['mean']"
   ]
  },
  {
   "cell_type": "raw",
   "metadata": {
    "ExecuteTime": {
     "end_time": "2020-01-25T15:33:51.516524Z",
     "start_time": "2020-01-25T15:33:51.497334Z"
    }
   },
   "source": [
    "# Not working\n",
    "\n",
    "def value_counts(df):\n",
    "    return df['passenger_count'].value_counts()\n",
    "\n",
    "benchmark(value_counts, df=data, name='value counts', repetitions=repetitions)"
   ]
  },
  {
   "cell_type": "code",
   "execution_count": 31,
   "metadata": {
    "ExecuteTime": {
     "end_time": "2020-01-25T15:35:31.750982Z",
     "start_time": "2020-01-25T15:35:30.908999Z"
    }
   },
   "outputs": [
    {
     "name": "stdout",
     "output_type": "stream",
     "text": [
      "upload: ../results/datatable_1b_mlm52xlarge.csv to s3://vaex-sagemaker-demo/benchmarks/datatable_1b_mlm52xlarge_results.csv\n",
      "groupby statistics took: 0.0019221305847167969\n"
     ]
    },
    {
     "data": {
      "text/plain": [
       "0.0019221305847167969"
      ]
     },
     "execution_count": 31,
     "metadata": {},
     "output_type": "execute_result"
    }
   ],
   "source": [
    "def groupby_statistics(df):\n",
    "    aggs = {\n",
    "            'fare_amount_mean': dt.mean(f.fare_amount),\n",
    "            'fare_amount_std': dt.sd(f.fare_amount),\n",
    "            'tip_amount_mean': dt.mean(f.tip_amount),\n",
    "            'tip_amount_std': dt.sd(f.tip_amount),\n",
    "        }\n",
    "    return df[:, aggs, dt.by(f.passenger_count)]\n",
    "\n",
    "benchmark(groupby_statistics, df=data, name='groupby statistics', repetitions=repetitions)"
   ]
  },
  {
   "cell_type": "code",
   "execution_count": 32,
   "metadata": {
    "ExecuteTime": {
     "end_time": "2020-01-25T15:35:35.836654Z",
     "start_time": "2020-01-25T15:35:35.830909Z"
    }
   },
   "outputs": [],
   "source": [
    "other = groupby_statistics(data)"
   ]
  },
  {
   "cell_type": "code",
   "execution_count": 33,
   "metadata": {
    "ExecuteTime": {
     "end_time": "2020-01-25T15:35:45.778254Z",
     "start_time": "2020-01-25T15:35:45.135033Z"
    }
   },
   "outputs": [
    {
     "name": "stdout",
     "output_type": "stream",
     "text": [
      "upload: ../results/datatable_1b_mlm52xlarge.csv to s3://vaex-sagemaker-demo/benchmarks/datatable_1b_mlm52xlarge_results.csv\n",
      "join took: 0.0002923011779785156\n"
     ]
    },
    {
     "data": {
      "text/plain": [
       "0.0002923011779785156"
      ]
     },
     "execution_count": 33,
     "metadata": {},
     "output_type": "execute_result"
    }
   ],
   "source": [
    "def join(df, other):\n",
    "    # like vaex and dask, no precomputed index\n",
    "    other.key = 'passenger_count'\n",
    "    return df[:,:,dt.join(other)]\n",
    "\n",
    "benchmark(join, data, name='join', repetitions=repetitions, other=other)"
   ]
  },
  {
   "cell_type": "code",
   "execution_count": 34,
   "metadata": {
    "ExecuteTime": {
     "end_time": "2020-01-25T15:36:03.026370Z",
     "start_time": "2020-01-25T15:36:02.405215Z"
    }
   },
   "outputs": [
    {
     "name": "stdout",
     "output_type": "stream",
     "text": [
      "upload: ../results/datatable_1b_mlm52xlarge.csv to s3://vaex-sagemaker-demo/benchmarks/datatable_1b_mlm52xlarge_results.csv\n",
      "join count took: 0.002905607223510742\n"
     ]
    },
    {
     "data": {
      "text/plain": [
       "0.002905607223510742"
      ]
     },
     "execution_count": 34,
     "metadata": {},
     "output_type": "execute_result"
    }
   ],
   "source": [
    "def join_count(df, other):\n",
    "    # like vaex and dask, no precomputed index\n",
    "    other.key = 'passenger_count'\n",
    "    return df[:,:,dt.join(other)].shape[0]\n",
    "\n",
    "benchmark(join_count, data, name='join count', repetitions=repetitions, other=other)"
   ]
  },
  {
   "cell_type": "markdown",
   "metadata": {},
   "source": [
    "## Filtered data"
   ]
  },
  {
   "cell_type": "markdown",
   "metadata": {},
   "source": [
    "Dask is not build to run on filter data like you would normally, so we will apply the same strategy"
   ]
  },
  {
   "cell_type": "code",
   "execution_count": 35,
   "metadata": {
    "ExecuteTime": {
     "end_time": "2020-01-25T15:36:06.617691Z",
     "start_time": "2020-01-25T15:36:06.556505Z"
    }
   },
   "outputs": [
    {
     "name": "stdout",
     "output_type": "stream",
     "text": [
      "Prepare filtered data and deleted 0 MB\n"
     ]
    }
   ],
   "source": [
    "print(f\"Prepare filtered data and deleted {gc.collect()} MB\")"
   ]
  },
  {
   "cell_type": "code",
   "execution_count": 36,
   "metadata": {
    "ExecuteTime": {
     "end_time": "2020-01-25T15:36:18.925694Z",
     "start_time": "2020-01-25T15:36:18.286665Z"
    }
   },
   "outputs": [
    {
     "name": "stdout",
     "output_type": "stream",
     "text": [
      "upload: ../results/datatable_1b_mlm52xlarge.csv to s3://vaex-sagemaker-demo/benchmarks/datatable_1b_mlm52xlarge_results.csv\n",
      "filter data took: 0.00232696533203125\n"
     ]
    },
    {
     "data": {
      "text/plain": [
       "0.00232696533203125"
      ]
     },
     "execution_count": 36,
     "metadata": {},
     "output_type": "execute_result"
    }
   ],
   "source": [
    "def filter_data(df):\n",
    "    expr_filter = (f.pickup_longitude > long_min)  & (f.pickup_longitude < long_max) & \\\n",
    "              (f.pickup_latitude > lat_min)    & (f.pickup_latitude < lat_max) & \\\n",
    "              (f.dropoff_longitude > long_min) & (f.dropoff_longitude < long_max) & \\\n",
    "              (f.dropoff_latitude > lat_min)   & (f.dropoff_latitude < lat_max)\n",
    "    return df[expr_filter,:]\n",
    "\n",
    "benchmark(filter_data, data, name='filter data', repetitions=repetitions)"
   ]
  },
  {
   "cell_type": "code",
   "execution_count": 37,
   "metadata": {
    "ExecuteTime": {
     "end_time": "2020-01-25T15:36:19.878933Z",
     "start_time": "2020-01-25T15:36:19.813104Z"
    }
   },
   "outputs": [
    {
     "name": "stdout",
     "output_type": "stream",
     "text": [
      "cleaned 0 mb\n"
     ]
    }
   ],
   "source": [
    "filterd = filter_data(data)\n",
    "\n",
    "del data\n",
    "print(f\"cleaned {gc.collect()} mb\")"
   ]
  },
  {
   "cell_type": "code",
   "execution_count": 43,
   "metadata": {
    "ExecuteTime": {
     "end_time": "2020-01-25T15:43:23.318243Z",
     "start_time": "2020-01-25T15:43:17.708268Z"
    }
   },
   "outputs": [
    {
     "name": "stdout",
     "output_type": "stream",
     "text": [
      "upload: ../results/datatable_1b_mlm52xlarge.csv to s3://vaex-sagemaker-demo/benchmarks/datatable_1b_mlm52xlarge_results.csv\n",
      "filterd count took: 0.0023229122161865234\n",
      "upload: ../results/datatable_1b_mlm52xlarge.csv to s3://vaex-sagemaker-demo/benchmarks/datatable_1b_mlm52xlarge_results.csv\n",
      "filterd mean took: 0.00025343894958496094\n",
      "upload: ../results/datatable_1b_mlm52xlarge.csv to s3://vaex-sagemaker-demo/benchmarks/datatable_1b_mlm52xlarge_results.csv\n",
      "filtered standard deviation took: 0.0002636909484863281\n",
      "upload: ../results/datatable_1b_mlm52xlarge.csv to s3://vaex-sagemaker-demo/benchmarks/datatable_1b_mlm52xlarge_results.csv\n",
      "filtered sum columns mean took: 0.0004374980926513672\n",
      "upload: ../results/datatable_1b_mlm52xlarge.csv to s3://vaex-sagemaker-demo/benchmarks/datatable_1b_mlm52xlarge_results.csv\n",
      "filterd product columns mean took: 0.00044345855712890625\n",
      "upload: ../results/datatable_1b_mlm52xlarge.csv to s3://vaex-sagemaker-demo/benchmarks/datatable_1b_mlm52xlarge_results.csv\n",
      "filterd arithmetic operation mean took: 0.008705854415893555\n",
      "upload: ../results/datatable_1b_mlm52xlarge.csv to s3://vaex-sagemaker-demo/benchmarks/datatable_1b_mlm52xlarge_results.csv\n",
      "filtered groupby statistics took: 0.0010476112365722656\n",
      "upload: ../results/datatable_1b_mlm52xlarge.csv to s3://vaex-sagemaker-demo/benchmarks/datatable_1b_mlm52xlarge_results.csv\n",
      "filtered join took: 0.00022268295288085938\n",
      "upload: ../results/datatable_1b_mlm52xlarge.csv to s3://vaex-sagemaker-demo/benchmarks/datatable_1b_mlm52xlarge_results.csv\n",
      "filtered join count took: 0.0003094673156738281\n",
      "Done!\n"
     ]
    }
   ],
   "source": [
    "benchmark(filter_data, filterd, name='filterd count', repetitions=repetitions)\n",
    "benchmark(mean, filterd, name='filterd mean', repetitions=repetitions)\n",
    "benchmark(standard_deviation, filterd, name='filtered standard deviation', repetitions=repetitions)\n",
    "benchmark(mean_of_sum, filterd, name ='filtered sum columns mean', repetitions=repetitions)\n",
    "benchmarks['filtered sum columns'] =  benchmarks['filtered sum columns mean'] - benchmarks['filterd mean']\n",
    "benchmark(mean_of_product, filterd, name ='filterd product columns mean', repetitions=repetitions)\n",
    "benchmarks['filterd product columns'] = benchmarks['filterd product columns mean'] - benchmarks['filterd mean']\n",
    "benchmark(mean_of_complicated_arithmetic_operation, filterd, name='filterd arithmetic operation mean', repetitions=repetitions)\n",
    "benchmarks['filterd arithmetic operation'] =  benchmarks['filterd arithmetic operation mean'] - benchmarks['filterd mean']\n",
    "# benchmark(value_counts, filterd, name ='filtered value counts', repetitions=repetitions)\n",
    "benchmark(groupby_statistics, filterd, name='filtered groupby statistics', repetitions=repetitions)\n",
    "other = groupby_statistics(filterd)\n",
    "benchmark(join, filterd, name ='filtered join', repetitions=repetitions, other=other)\n",
    "benchmark(join_count, filterd, name='filtered join count', repetitions=repetitions, other=other)\n",
    "print('Done!')"
   ]
  },
  {
   "cell_type": "code",
   "execution_count": null,
   "metadata": {},
   "outputs": [],
   "source": []
  }
 ],
 "metadata": {
  "kernelspec": {
   "display_name": "conda_python3",
   "language": "python",
   "name": "conda_python3"
  },
  "language_info": {
   "codemirror_mode": {
    "name": "ipython",
    "version": 3
   },
   "file_extension": ".py",
   "mimetype": "text/x-python",
   "name": "python",
   "nbconvert_exporter": "python",
   "pygments_lexer": "ipython3",
   "version": "3.6.5"
  }
 },
 "nbformat": 4,
 "nbformat_minor": 4
}
