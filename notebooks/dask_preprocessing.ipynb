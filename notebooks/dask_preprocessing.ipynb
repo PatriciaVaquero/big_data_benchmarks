{
 "cells": [
  {
   "cell_type": "code",
   "execution_count": 1,
   "metadata": {
    "ExecuteTime": {
     "end_time": "2020-03-06T13:18:06.129744Z",
     "start_time": "2020-03-06T13:17:43.722908Z"
    }
   },
   "outputs": [],
   "source": [
    "%%capture\n",
    "%%bash\n",
    "pip install -U vaex-core vaex-hdf5 dask numpy fsspec>=0.3.3 fastparquet pyarrow tqdm numpy\n",
    "aws s3 cp s3://xdss-public-datasets/demos/taxi_1B.hdf5 datasets/taxi_1B.hdf5"
   ]
  },
  {
   "cell_type": "code",
   "execution_count": 24,
   "metadata": {
    "ExecuteTime": {
     "end_time": "2020-03-06T13:22:32.300035Z",
     "start_time": "2020-03-06T13:22:32.163008Z"
    }
   },
   "outputs": [],
   "source": [
    "import sys\n",
    "import pandas as pd\n",
    "import pyarrow\n",
    "import pyarrow.parquet\n",
    "from tqdm import tqdm\n",
    "import gc\n",
    "import vaex\n",
    "\n",
    "data_path = '../datasets/taxi_1m.csv'\n",
    "sample = pd.read_csv(data_path, nrows=100)\n",
    "sample['pickup_hour'] = pd.to_datetime(sample.pickup_datetime).dt.hour\n",
    "dtypes = {col: sample[col].dtype for col in sample.columns}\n"
   ]
  },
  {
   "cell_type": "code",
   "execution_count": null,
   "metadata": {
    "ExecuteTime": {
     "end_time": "2020-03-06T13:24:02.482063Z",
     "start_time": "2020-03-06T13:23:52.688148Z"
    }
   },
   "outputs": [],
   "source": [
    "SPLIT_ROWS = 1_000_000\n",
    "!mkdir -p datasets/taxi_parquet\n",
    "\n",
    "for i,chunk in enumerate(tqdm(pd.read_csv(data_path, chunksize=SPLIT_ROWS, dtype=dtypes))):\n",
    "    chunk.to_parquet(f\"datasets/taxi_parquet/data_{i}.parquet\", engine='pyarrow')\n",
    "    del chunk\n",
    "    gc.collect()"
   ]
  },
  {
   "cell_type": "code",
   "execution_count": 34,
   "metadata": {
    "ExecuteTime": {
     "end_time": "2020-03-06T13:25:17.978971Z",
     "start_time": "2020-03-06T13:25:16.692077Z"
    }
   },
   "outputs": [
    {
     "data": {
      "text/plain": [
       "150000"
      ]
     },
     "execution_count": 34,
     "metadata": {},
     "output_type": "execute_result"
    }
   ],
   "source": [
    "import dask.dataframe as dd\n",
    "df = dd.read_parquet('../datasets/taxi_parquet2/', engine='pyarrow')\n",
    "len(df)"
   ]
  },
  {
   "cell_type": "code",
   "execution_count": null,
   "metadata": {
    "ExecuteTime": {
     "end_time": "2020-01-09T22:16:30.367818Z",
     "start_time": "2020-01-09T22:12:52.699952Z"
    }
   },
   "outputs": [],
   "source": [
    "%%capture\n",
    "!aws s3 cp --recursive ../datasets/taxi_parquet s3://xdss-public-datasets/demos/taxi_parquet"
   ]
  }
 ],
 "metadata": {
  "kernelspec": {
   "display_name": "conda_python3",
   "language": "python",
   "name": "conda_python3"
  },
  "language_info": {
   "codemirror_mode": {
    "name": "ipython",
    "version": 3
   },
   "file_extension": ".py",
   "mimetype": "text/x-python",
   "name": "python",
   "nbconvert_exporter": "python",
   "pygments_lexer": "ipython3",
   "version": "3.6.5"
  }
 },
 "nbformat": 4,
 "nbformat_minor": 4
}
