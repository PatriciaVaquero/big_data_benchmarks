{
 "cells": [
  {
   "cell_type": "markdown",
   "metadata": {},
   "source": [
    "# Get data and packages"
   ]
  },
  {
   "cell_type": "code",
   "execution_count": 1,
   "metadata": {
    "ExecuteTime": {
     "end_time": "2020-01-13T14:21:06.690430Z",
     "start_time": "2020-01-13T14:20:54.182849Z"
    },
    "code_folding": [
     0
    ]
   },
   "outputs": [],
   "source": [
    "%%capture\n",
    "%%bash\n",
    "pip install jupyter_contrib_nbextensions\n",
    "pip install jupyter_nbextensions_configurator\n",
    "jupyter contrib nbextension install --user\n",
    "jupyter nbextensions_configurator enable --user\n",
    "\n",
    "jupyter nbextension enable codefolding/main\n",
    "jupyter nbextension enable scratchpad/main\n",
    "jupyter nbextension enable execute_time/ExecuteTime\n",
    "jupyter nbextension enable autosavetime/main\n",
    "pip install -U pip dask numpy fsspec>=0.3.3 tqdm pyarrow\n"
   ]
  },
  {
   "cell_type": "code",
   "execution_count": 7,
   "metadata": {
    "ExecuteTime": {
     "end_time": "2020-01-25T15:16:22.725514Z",
     "start_time": "2020-01-25T15:16:14.470580Z"
    }
   },
   "outputs": [],
   "source": [
    "%%capture\n",
    "!pip install -U pip datatable vaex-core vaex-hdf5 vaex-arrow"
   ]
  },
  {
   "cell_type": "raw",
   "metadata": {},
   "source": [
    "!aws s3 cp --recursive s3://xdss-public-datasets/demos/taxi_1B.hdf5 ../datasets/taxi_1B.hdf5"
   ]
  },
  {
   "cell_type": "code",
   "execution_count": 4,
   "metadata": {
    "ExecuteTime": {
     "end_time": "2020-01-25T15:15:17.668305Z",
     "start_time": "2020-01-25T15:15:17.664612Z"
    }
   },
   "outputs": [
    {
     "name": "stdout",
     "output_type": "stream",
     "text": [
      "test datatable for 1 repetitions\n"
     ]
    }
   ],
   "source": [
    "import gc\n",
    "from src.config import repetitions\n",
    "import time\n",
    "import numpy as np\n",
    "import pandas as pd\n",
    "import numpy as np\n",
    "import warnings\n",
    "import time\n",
    "import gc\n",
    "import os\n",
    "\n",
    "name = 'datatable'\n",
    "instance_type = 'mlm52xlarge'\n",
    "data_path = '../datasets/taxi_1B.hdf5'\n",
    "results_path = f\"../results/{name}_1b_{instance_type}.csv\"\n",
    "benchmarks = {}\n",
    "print(f\"test {name} for {repetitions} repetitions\")"
   ]
  },
  {
   "cell_type": "code",
   "execution_count": 9,
   "metadata": {
    "ExecuteTime": {
     "end_time": "2020-01-25T15:17:30.910077Z",
     "start_time": "2020-01-25T15:17:30.905351Z"
    }
   },
   "outputs": [],
   "source": [
    "import numpy as np\n",
    "import pandas as pd\n",
    "import time \n",
    "\n",
    "\n",
    "def get_results(benchmarks, name):\n",
    "    results = pd.DataFrame.from_dict(benchmarks, orient='index')\n",
    "    results.columns = [name]\n",
    "    return results\n",
    "\n",
    "def persist():\n",
    "    get_results(benchmarks, name).to_csv(results_path)\n",
    "    !aws s3 cp  ../results/datatable_1b_mlm52xlarge.csv s3://vaex-sagemaker-demo/benchmarks/datatable_1b_mlm52xlarge_results.csv \n",
    "    \n",
    "def benchmark(f, df, name, repetitions=1, **kwargs):\n",
    "    times = []\n",
    "    for i in range(repetitions):\n",
    "        start_time = time.time()\n",
    "        ret = f(df, **kwargs)\n",
    "        times.append(time.time()-start_time)\n",
    "    benchmarks[name] = np.mean(times)\n",
    "    persist()\n",
    "    print(f\"{name} took: {benchmarks[name]}\")\n",
    "    return benchmarks[name]\n",
    "\n",
    "\n",
    "long_min = -74.05\n",
    "long_max = -73.75\n",
    "lat_min = 40.58\n",
    "lat_max = 40.90"
   ]
  },
  {
   "cell_type": "markdown",
   "metadata": {},
   "source": [
    "# Benchmark"
   ]
  },
  {
   "cell_type": "code",
   "execution_count": 10,
   "metadata": {
    "ExecuteTime": {
     "end_time": "2020-01-25T15:17:37.478204Z",
     "start_time": "2020-01-25T15:17:37.475590Z"
    }
   },
   "outputs": [],
   "source": [
    "import vaex\n",
    "import numpy as np\n",
    "import datatable as dt\n",
    "from datatable import f, math"
   ]
  },
  {
   "cell_type": "code",
   "execution_count": 15,
   "metadata": {
    "ExecuteTime": {
     "end_time": "2020-01-25T15:18:23.292909Z",
     "start_time": "2020-01-25T15:18:23.281546Z"
    }
   },
   "outputs": [
    {
     "name": "stdout",
     "output_type": "stream",
     "text": [
      "size: 1173057927 with 14 columns\n"
     ]
    }
   ],
   "source": [
    "def read_file(data=None):\n",
    "    vdf = vaex.open(data_path)\n",
    "    columns = {}\n",
    "    for name in vdf.get_column_names():\n",
    "        data = vdf.columns[name]\n",
    "        if data.dtype == str:\n",
    "            pass  # skip strings\n",
    "        elif data.dtype.kind == 'f':\n",
    "            # datatable is picky about <f4 format\n",
    "            columns[name] = data.view(np.float32)\n",
    "        elif data.dtype.kind == 'i':\n",
    "            columns[name] = data\n",
    "        else:\n",
    "            pass  # ignore non int and float\n",
    "    return dt.Frame(**columns)\n",
    "\n",
    "# Load data\n",
    "data = read_file(data=None)\n",
    "print(f\"size: {data.shape[0]} with {data.shape[1]} columns\")"
   ]
  },
  {
   "cell_type": "code",
   "execution_count": 16,
   "metadata": {
    "ExecuteTime": {
     "end_time": "2020-01-25T15:18:24.116689Z",
     "start_time": "2020-01-25T15:18:23.490301Z"
    }
   },
   "outputs": [
    {
     "name": "stdout",
     "output_type": "stream",
     "text": [
      "upload: ../results/datatable_1b_mlm52xlarge.csv to s3://vaex-sagemaker-demo/benchmarks/datatable_1b_mlm52xlarge_results.csv\n",
      "read_file took: 0.008263111114501953\n"
     ]
    },
    {
     "data": {
      "text/plain": [
       "0.008263111114501953"
      ]
     },
     "execution_count": 16,
     "metadata": {},
     "output_type": "execute_result"
    }
   ],
   "source": [
    "key = 'read_file'\n",
    "f= read_file\n",
    "benchmark(f, df=data, name=key, repetitions=repetitions)"
   ]
  },
  {
   "cell_type": "code",
   "execution_count": 19,
   "metadata": {
    "ExecuteTime": {
     "end_time": "2020-01-25T15:19:22.922342Z",
     "start_time": "2020-01-25T15:19:22.289793Z"
    }
   },
   "outputs": [
    {
     "name": "stdout",
     "output_type": "stream",
     "text": [
      "upload: ../results/datatable_1b_mlm52xlarge.csv to s3://vaex-sagemaker-demo/benchmarks/datatable_1b_mlm52xlarge_results.csv\n",
      "count took: 1.239776611328125e-05\n"
     ]
    },
    {
     "data": {
      "text/plain": [
       "1.239776611328125e-05"
      ]
     },
     "execution_count": 19,
     "metadata": {},
     "output_type": "execute_result"
    }
   ],
   "source": [
    "def count(df=None):\n",
    "    return df.shape[0]\n",
    "\n",
    "key = 'count'\n",
    "f = count\n",
    "benchmark(f, df=data, name=key, repetitions=repetitions)"
   ]
  },
  {
   "cell_type": "code",
   "execution_count": null,
   "metadata": {
    "ExecuteTime": {
     "start_time": "2020-01-25T15:19:34.278Z"
    }
   },
   "outputs": [],
   "source": [
    "def mean(df):\n",
    "    return df[:, dt.mean(dt.f.fare_amount)]\n",
    "\n",
    "key = 'mean'\n",
    "f = mean\n",
    "benchmark(f, df=data, name=key, repetitions=repetitions)"
   ]
  },
  {
   "cell_type": "code",
   "execution_count": 64,
   "metadata": {
    "ExecuteTime": {
     "end_time": "2020-01-25T14:47:44.481755Z",
     "start_time": "2020-01-25T14:47:29.867257Z"
    }
   },
   "outputs": [
    {
     "name": "stdout",
     "output_type": "stream",
     "text": [
      "Completed 576 Bytes/576 Bytes (7.9 KiB/s) with 1 file(s) remaining\r",
      "upload: ../results/dask_1b_mlm52xlarge.csv to s3://vaex-sagemaker-demo/benchmarks/dask_1b_mlm52xlarge_results.csv\r\n"
     ]
    },
    {
     "data": {
      "text/plain": [
       "13.961443424224854"
      ]
     },
     "execution_count": 64,
     "metadata": {},
     "output_type": "execute_result"
    }
   ],
   "source": [
    "def standard_deviation(df):\n",
    "    return df[:, dt.sd(dt.f.fare_amount)]\n",
    "\n",
    "key = 'standard deviation'\n",
    "f = standard_deviation\n",
    "benchmark(f, df=data, name=key, repetitions=repetitions)"
   ]
  },
  {
   "cell_type": "markdown",
   "metadata": {},
   "source": [
    "To calculate the time when using two columns, we can't return the response since it will get into memroy and break, so we run a mean calculation on it, and then remove the time it took to run the mean."
   ]
  },
  {
   "cell_type": "code",
   "execution_count": 11,
   "metadata": {},
   "outputs": [],
   "source": [
    "def mean_of_sum(df):\n",
    "    return df[:, dt.mean(f.fare_amount + f.trip_distance)]\n",
    "\n",
    "key = 'sum columns mean'\n",
    "f = mean_of_sum\n",
    "benchmark(f, df=data, name=key, repetitions=repetitions)\n",
    "benchmarks['sum columns'] =  benchmarks['sum columns mean'] - benchmarks['mean']"
   ]
  },
  {
   "cell_type": "code",
   "execution_count": 14,
   "metadata": {
    "ExecuteTime": {
     "end_time": "2020-01-25T12:46:15.298677Z",
     "start_time": "2020-01-25T12:45:58.666423Z"
    }
   },
   "outputs": [],
   "source": [
    "def mean_of_product(df):\n",
    "    return df[:, dt.mean(f.fare_amount * f.trip_distance)]\n",
    "\n",
    "key = 'product columns mean'\n",
    "f = mean_of_product\n",
    "benchmark(f, df=data, name=key, repetitions=repetitions)\n",
    "benchmarks['product columns'] =  benchmarks['product columns mean'] - benchmarks['mean']"
   ]
  },
  {
   "cell_type": "code",
   "execution_count": 15,
   "metadata": {
    "ExecuteTime": {
     "end_time": "2020-01-25T12:49:16.297072Z",
     "start_time": "2020-01-25T12:46:15.300207Z"
    }
   },
   "outputs": [],
   "source": [
    "def mean_of_complicated_arithmetic_operation(df):\n",
    "    theta_1 = f.pickup_longitude\n",
    "    phi_1 = f.pickup_latitude\n",
    "    theta_2 = f.dropoff_longitude\n",
    "    phi_2 = f.dropoff_latitude\n",
    "    temp = (math.sin((theta_2-theta_1)/2*math.pi/180)**2\n",
    "           + math.cos(theta_1*math.pi/180)*math.cos(theta_2*math.pi/180) * math.sin((phi_2-phi_1)/2*math.pi/180)**2)\n",
    "    expr = 2 * math.atan2(math.sqrt(temp), math.sqrt(1-temp))\n",
    "    return df[:, dt.mean(expr)]\n",
    "\n",
    "key = 'arithmetic operation mean'\n",
    "f  = mean_of_complicated_arithmetic_operation\n",
    "benchmark(f, df=data, name=key, repetitions=repetitions)\n",
    "benchmarks['arithmetic operation'] =  benchmarks['arithmetic operation mean'] - benchmarks['mean']"
   ]
  },
  {
   "cell_type": "code",
   "execution_count": 16,
   "metadata": {
    "ExecuteTime": {
     "end_time": "2020-01-25T12:49:30.727079Z",
     "start_time": "2020-01-25T12:49:16.298605Z"
    }
   },
   "outputs": [],
   "source": [
    "def value_counts(df):\n",
    "    return df['passenger_count'].value_counts()\n",
    "\n",
    "key = 'value counts'\n",
    "f  = value_counts\n",
    "benchmark(f, df=data, name=key, repetitions=repetitions)"
   ]
  },
  {
   "cell_type": "code",
   "execution_count": null,
   "metadata": {
    "ExecuteTime": {
     "start_time": "2020-01-25T12:51:30.334Z"
    }
   },
   "outputs": [],
   "source": [
    "def groupby_statistics(df):\n",
    "    aggs = {\n",
    "            'fare_amount_mean': dt.mean(f.fare_amount),\n",
    "            'fare_amount_std': dt.sd(f.fare_amount),\n",
    "            'tip_amount_mean': dt.mean(f.tip_amount),\n",
    "            'tip_amount_std': dt.sd(f.tip_amount),\n",
    "        }\n",
    "    return df[:, aggs, dt.by(f.passenger_count)\n",
    "\n",
    "key = 'groupby statistics'\n",
    "f = groupby_statistics\n",
    "benchmark(f, df=data, name=key, repetitions=repetitions)"
   ]
  },
  {
   "cell_type": "code",
   "execution_count": null,
   "metadata": {},
   "outputs": [],
   "source": [
    "other = groupby_statistics(data)"
   ]
  },
  {
   "cell_type": "code",
   "execution_count": null,
   "metadata": {},
   "outputs": [],
   "source": [
    "def join(df, other):\n",
    "    # like vaex and dask, no precomputed index\n",
    "    other.key = 'passenger_count'\n",
    "    return df[:,:,dt.join(other)]\n",
    "\n",
    "key = 'join'\n",
    "f = join\n",
    "benchmark(f, data, name=key, repetitions=repetitions, other=other)"
   ]
  },
  {
   "cell_type": "code",
   "execution_count": 53,
   "metadata": {
    "ExecuteTime": {
     "end_time": "2020-01-25T14:06:29.116231Z",
     "start_time": "2020-01-25T13:43:20.831441Z"
    }
   },
   "outputs": [],
   "source": [
    "def join_count(df, other):\n",
    "    # like vaex and dask, no precomputed index\n",
    "    other.key = 'passenger_count'\n",
    "    return df[:,:,dt.join(other)].shape[0]\n",
    "\n",
    "other = groupby_statistics(data)\n",
    "key = 'join count'\n",
    "f = join_count\n",
    "benchmark(f, data, name=key, repetitions=repetitions, other=other)"
   ]
  },
  {
   "cell_type": "markdown",
   "metadata": {},
   "source": [
    "## Filtered data"
   ]
  },
  {
   "cell_type": "markdown",
   "metadata": {},
   "source": [
    "Dask is not build to run on filter data like you would normally, so we will apply the same strategy"
   ]
  },
  {
   "cell_type": "code",
   "execution_count": 45,
   "metadata": {
    "ExecuteTime": {
     "end_time": "2020-01-25T13:36:34.383105Z",
     "start_time": "2020-01-25T13:36:34.328062Z"
    }
   },
   "outputs": [
    {
     "name": "stdout",
     "output_type": "stream",
     "text": [
      "Prepare filtered data and deleted 798 MB\n"
     ]
    }
   ],
   "source": [
    "print(f\"Prepare filtered data and deleted {gc.collect()} MB\")"
   ]
  },
  {
   "cell_type": "code",
   "execution_count": 48,
   "metadata": {
    "ExecuteTime": {
     "end_time": "2020-01-25T13:36:58.356833Z",
     "start_time": "2020-01-25T13:36:58.312080Z"
    }
   },
   "outputs": [
    {
     "name": "stdout",
     "output_type": "stream",
     "text": [
      "cleaned 181 mb\n"
     ]
    }
   ],
   "source": [
    "def filter_data(df):\n",
    "    expr_filter = (f.pickup_longitude > long_min)  & (f.pickup_longitude < long_max) & \\\n",
    "              (f.pickup_latitude > lat_min)    & (f.pickup_latitude < lat_max) & \\\n",
    "              (f.dropoff_longitude > long_min) & (f.dropoff_longitude < long_max) & \\\n",
    "              (f.dropoff_latitude > lat_min)   & (f.dropoff_latitude < lat_max)\n",
    "    return df[expr_filter,:]\n",
    "\n",
    "key = 'filter data'\n",
    "f = filter_data\n",
    "benchmark(f, data, name=key, repetitions=repetitions)"
   ]
  },
  {
   "cell_type": "code",
   "execution_count": null,
   "metadata": {},
   "outputs": [],
   "source": [
    "filterd = filter_data(data)\n",
    "\n",
    "del data\n",
    "print(f\"cleaned {gc.collect()} mb\")"
   ]
  },
  {
   "cell_type": "code",
   "execution_count": null,
   "metadata": {},
   "outputs": [],
   "source": [
    "benchmark(filter_data, filterd, name='filterd count', repetitions=repetitions)\n",
    "benchmark(mean, filterd, name='filterd mean', repetitions=repetitions)\n",
    "benchmark(standard_deviation, filterd, name='filtered standard deviation', repetitions=repetitions)\n",
    "benchmark(mean_of_sum, filterd, name ='filtered sum columns mean', repetitions=repetitions)\n",
    "benchmarks['filtered sum columns'] =  benchmarks['filtered sum columns mean'] - benchmarks['filterd mean']\n",
    "benchmark(mean_of_product, filterd, name ='filterd product columns mean', repetitions=repetitions)\n",
    "benchmarks['filterd product columns'] = benchmarks['filterd product columns mean'] - benchmarks['filterd mean']\n",
    "benchmark(mean_of_complicated_arithmetic_operation, filterd, name='filterd arithmetic operation mean', repetitions=repetitions)\n",
    "benchmarks['filterd arithmetic operation'] =  benchmarks['filterd arithmetic operation mean'] - benchmarks['filterd mean']\n",
    "benchmark(value_counts, filterd, name ='filtered value counts', repetitions=repetitions)\n",
    "benchmark(groupby_statistics, filterd, name='filtered groupby statistics', repetitions=repetitions)\n",
    "other = groupby_statistics(data)\n",
    "benchmarks['filtered join'] = -1\n",
    "benchmarks['filtered join count'] = benchmark(join_count, filterd, repetitions=repetitions, other=other)\n",
    "print('Done!')"
   ]
  }
 ],
 "metadata": {
  "kernelspec": {
   "display_name": "conda_python3",
   "language": "python",
   "name": "conda_python3"
  },
  "language_info": {
   "codemirror_mode": {
    "name": "ipython",
    "version": 3
   },
   "file_extension": ".py",
   "mimetype": "text/x-python",
   "name": "python",
   "nbconvert_exporter": "python",
   "pygments_lexer": "ipython3",
   "version": "3.6.5"
  }
 },
 "nbformat": 4,
 "nbformat_minor": 4
}
