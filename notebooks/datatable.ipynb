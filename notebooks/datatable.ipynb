{
 "cells": [
  {
   "cell_type": "markdown",
   "metadata": {},
   "source": [
    "# Install packages"
   ]
  },
  {
   "cell_type": "code",
   "execution_count": 6,
   "metadata": {
    "ExecuteTime": {
     "end_time": "2020-05-27T12:23:33.839326Z",
     "start_time": "2020-05-27T12:23:28.353807Z"
    }
   },
   "outputs": [],
   "source": [
    "%%capture\n",
    "%%bash\n",
    "python -m pip install -U datatable\n",
    "python -m pip install -U pip numpy vaex-core vaex-hdf5\n",
    "python -m pip install -U ipython ipykernel "
   ]
  },
  {
   "cell_type": "markdown",
   "metadata": {},
   "source": [
    "# Please restart the kanel"
   ]
  },
  {
   "cell_type": "code",
   "execution_count": 1,
   "metadata": {
    "ExecuteTime": {
     "end_time": "2020-05-27T12:23:39.622989Z",
     "start_time": "2020-05-27T12:23:39.073476Z"
    }
   },
   "outputs": [
    {
     "name": "stdout",
     "output_type": "stream",
     "text": [
      "We test every benchmark twice and save both results\n"
     ]
    }
   ],
   "source": [
    "import gc\n",
    "import numpy as np\n",
    "import pandas as pd\n",
    "import warnings\n",
    "import time\n",
    "import gc\n",
    "import os\n",
    "\n",
    "instance_type = 'c5d4xlarge' # change this\n",
    "results_bucket = f\"s3://xdss-benchmarks/benchmarks\" # change this\n",
    "\n",
    "name = 'datatable'\n",
    "data_path = 'datasets/taxi_1B.hdf5'\n",
    "output_file = f'{name}_{instance_type}.csv'\n",
    "results_path = f\"results/{output_file}\"\n",
    "results_bucket = f\"{results_bucket}/{output_file}\" \n",
    "benchmarks = {\n",
    "    'run':[],\n",
    "    'duration': [],\n",
    "    'task': []   \n",
    "}\n",
    "\n",
    "long_min = -74.05\n",
    "long_max = -73.75\n",
    "lat_min = 40.58\n",
    "lat_max = 40.90\n",
    "\n",
    "\n",
    "def get_results(benchmarks=benchmarks):\n",
    "    return pd.DataFrame.from_dict(benchmarks, orient='index').T\n",
    "\n",
    "def persist():\n",
    "    gc.collect()\n",
    "    get_results(benchmarks).to_csv(results_path)\n",
    "    os.system(f\"aws s3 cp {results_path} {results_bucket}\")\n",
    "    \n",
    "def benchmark(f, df, name, **kwargs):    \n",
    "    for i in range(2):\n",
    "        start_time = time.time()\n",
    "        ret = f(df, **kwargs)\n",
    "        benchmarks['duration'].append(time.time()-start_time)\n",
    "        benchmarks['task'].append(name)\n",
    "        benchmarks['run'].append(i+1)\n",
    "    persist()\n",
    "    print(f\"{name} took: {benchmarks['duration'][-1]}\")\n",
    "    return benchmarks['duration'][-1]\n",
    "          \n",
    "def add_nan(name):\n",
    "    for i in range(2):\n",
    "        benchmarks['duration'].append(np.nan)\n",
    "        benchmarks['task'].append(name)\n",
    "        benchmarks['run'].append(i+1)\n",
    "    persist()\n",
    "    print(f\"{name} took: {benchmarks['duration'][-1]}\")\n",
    "    return benchmarks['duration'][-1]\n",
    "\n",
    "          \n",
    "!mkdir -p results\n",
    "!mkdir -p datasets\n",
    "print(f\"We test every benchmark twice and save both results\")"
   ]
  },
  {
   "cell_type": "markdown",
   "metadata": {},
   "source": [
    "# Benchmark"
   ]
  },
  {
   "cell_type": "code",
   "execution_count": 2,
   "metadata": {
    "ExecuteTime": {
     "end_time": "2020-05-27T12:23:41.120311Z",
     "start_time": "2020-05-27T12:23:40.481979Z"
    }
   },
   "outputs": [
    {
     "data": {
      "text/html": [
       "<style type='text/css'>\n",
       ".datatable table.frame { margin-bottom: 0; }\n",
       ".datatable table.frame thead { border-bottom: none; }\n",
       ".datatable table.frame tr.coltypes td {  color: #FFFFFF;  line-height: 6px;  padding: 0 0.5em;}\n",
       ".datatable .boolean { background: #DDDD99; }\n",
       ".datatable .object  { background: #565656; }\n",
       ".datatable .integer { background: #5D9E5D; }\n",
       ".datatable .float   { background: #4040CC; }\n",
       ".datatable .string  { background: #CC4040; }\n",
       ".datatable .row_index {  background: var(--jp-border-color3);  border-right: 1px solid var(--jp-border-color0);  color: var(--jp-ui-font-color3);  font-size: 9px;}\n",
       ".datatable .frame tr.coltypes .row_index {  background: var(--jp-border-color0);}\n",
       ".datatable th:nth-child(2) { padding-left: 12px; }\n",
       ".datatable .hellipsis {  color: var(--jp-cell-editor-border-color);}\n",
       ".datatable .vellipsis {  background: var(--jp-layout-color0);  color: var(--jp-cell-editor-border-color);}\n",
       ".datatable .na {  color: var(--jp-cell-editor-border-color);  font-size: 80%;}\n",
       ".datatable .footer { font-size: 9px; }\n",
       ".datatable .frame_dimensions {  background: var(--jp-border-color3);  border-top: 1px solid var(--jp-border-color0);  color: var(--jp-ui-font-color3);  display: inline-block;  opacity: 0.6;  padding: 1px 10px 1px 5px;}\n",
       "</style>\n"
      ],
      "text/plain": [
       "<IPython.core.display.HTML object>"
      ]
     },
     "metadata": {},
     "output_type": "display_data"
    }
   ],
   "source": [
    "import datatable as dt\n",
    "from datatable import f, math\n",
    "import vaex\n",
    "import numpy as np"
   ]
  },
  {
   "cell_type": "code",
   "execution_count": 3,
   "metadata": {
    "ExecuteTime": {
     "end_time": "2020-05-27T12:23:42.452165Z",
     "start_time": "2020-05-27T12:23:41.952195Z"
    },
    "code_folding": [
     1
    ]
   },
   "outputs": [
    {
     "name": "stdout",
     "output_type": "stream",
     "text": [
      "size: 1173057927 with 14 columns\n"
     ]
    }
   ],
   "source": [
    "# This is a hack to let datatable read hdf5, it currently can't read parquet, multiple files, or a huge csv\n",
    "def read_file(data=None):\n",
    "    vdf = vaex.open(data_path)\n",
    "    columns = {}\n",
    "    for name in vdf.get_column_names():\n",
    "        data = vdf.columns[name]\n",
    "        if data.dtype == str:\n",
    "            pass  # skip strings\n",
    "        elif data.dtype.kind == 'f':\n",
    "            # datatable is picky about <f4 format\n",
    "            columns[name] = data.view(np.float32)\n",
    "        elif data.dtype.kind == 'i':\n",
    "            columns[name] = data\n",
    "        else:\n",
    "            pass  # ignore non int and float\n",
    "    return dt.Frame(**columns)\n",
    "\n",
    "# Load data\n",
    "data = read_file(data=None)\n",
    "print(f\"size: {data.shape[0]} with {data.shape[1]} columns\")"
   ]
  },
  {
   "cell_type": "code",
   "execution_count": 4,
   "metadata": {
    "ExecuteTime": {
     "end_time": "2020-05-27T12:24:18.267805Z",
     "start_time": "2020-05-27T12:24:17.587039Z"
    }
   },
   "outputs": [
    {
     "name": "stdout",
     "output_type": "stream",
     "text": [
      "read_file took: 0.006750583648681641\n"
     ]
    },
    {
     "data": {
      "text/plain": [
       "0.006750583648681641"
      ]
     },
     "execution_count": 4,
     "metadata": {},
     "output_type": "execute_result"
    }
   ],
   "source": [
    "benchmark(read_file, df=data, name='read_file')"
   ]
  },
  {
   "cell_type": "code",
   "execution_count": 5,
   "metadata": {
    "ExecuteTime": {
     "end_time": "2020-05-27T12:24:20.717804Z",
     "start_time": "2020-05-27T12:24:20.127077Z"
    }
   },
   "outputs": [
    {
     "name": "stdout",
     "output_type": "stream",
     "text": [
      "count took: 4.76837158203125e-07\n"
     ]
    },
    {
     "data": {
      "text/plain": [
       "4.76837158203125e-07"
      ]
     },
     "execution_count": 5,
     "metadata": {},
     "output_type": "execute_result"
    }
   ],
   "source": [
    "def count(df=None):\n",
    "    return df.shape[0]\n",
    "\n",
    "benchmark(count, df=data, name='count')"
   ]
  },
  {
   "cell_type": "code",
   "execution_count": 6,
   "metadata": {
    "ExecuteTime": {
     "end_time": "2020-05-27T12:24:32.455629Z",
     "start_time": "2020-05-27T12:24:20.719817Z"
    }
   },
   "outputs": [
    {
     "name": "stdout",
     "output_type": "stream",
     "text": [
      "mean took: 5.278338432312012\n"
     ]
    },
    {
     "data": {
      "text/plain": [
       "5.278338432312012"
      ]
     },
     "execution_count": 6,
     "metadata": {},
     "output_type": "execute_result"
    }
   ],
   "source": [
    "def mean(df):\n",
    "    return df[:, dt.mean(dt.f.fare_amount)]\n",
    "\n",
    "benchmark(mean, df=data, name='mean')"
   ]
  },
  {
   "cell_type": "code",
   "execution_count": 7,
   "metadata": {
    "ExecuteTime": {
     "end_time": "2020-05-27T12:24:49.591259Z",
     "start_time": "2020-05-27T12:24:32.457432Z"
    }
   },
   "outputs": [
    {
     "name": "stdout",
     "output_type": "stream",
     "text": [
      "standard deviation took: 8.283175706863403\n"
     ]
    },
    {
     "data": {
      "text/plain": [
       "8.283175706863403"
      ]
     },
     "execution_count": 7,
     "metadata": {},
     "output_type": "execute_result"
    }
   ],
   "source": [
    "def standard_deviation(df):\n",
    "    return df[:, dt.sd(dt.f.fare_amount)]\n",
    "\n",
    "benchmark(standard_deviation, df=data, name='standard deviation')"
   ]
  },
  {
   "cell_type": "code",
   "execution_count": 8,
   "metadata": {
    "ExecuteTime": {
     "end_time": "2020-05-27T12:25:20.302114Z",
     "start_time": "2020-05-27T12:24:49.593705Z"
    }
   },
   "outputs": [
    {
     "name": "stdout",
     "output_type": "stream",
     "text": [
      "sum columns mean took: 14.607588768005371\n"
     ]
    },
    {
     "data": {
      "text/plain": [
       "14.607588768005371"
      ]
     },
     "execution_count": 8,
     "metadata": {},
     "output_type": "execute_result"
    }
   ],
   "source": [
    "def mean_of_sum(df):\n",
    "    return df[:, dt.mean(f.fare_amount + f.trip_distance)]\n",
    "\n",
    "benchmark(mean_of_sum, df=data, name='sum columns mean')"
   ]
  },
  {
   "cell_type": "code",
   "execution_count": 9,
   "metadata": {
    "ExecuteTime": {
     "end_time": "2020-05-27T12:25:20.882175Z",
     "start_time": "2020-05-27T12:25:20.304505Z"
    }
   },
   "outputs": [
    {
     "name": "stdout",
     "output_type": "stream",
     "text": [
      "sum columns took: 1.4781951904296875e-05\n"
     ]
    },
    {
     "data": {
      "text/plain": [
       "1.4781951904296875e-05"
      ]
     },
     "execution_count": 9,
     "metadata": {},
     "output_type": "execute_result"
    }
   ],
   "source": [
    "def sum_columns(df):\n",
    "    return df[:, f.fare_amount + f.trip_distance]\n",
    "\n",
    "benchmark(sum_columns, df=data, name='sum columns')"
   ]
  },
  {
   "cell_type": "code",
   "execution_count": 10,
   "metadata": {
    "ExecuteTime": {
     "end_time": "2020-05-27T12:25:50.463937Z",
     "start_time": "2020-05-27T12:25:20.883899Z"
    }
   },
   "outputs": [
    {
     "name": "stdout",
     "output_type": "stream",
     "text": [
      "product columns mean took: 14.51786184310913\n"
     ]
    },
    {
     "data": {
      "text/plain": [
       "14.51786184310913"
      ]
     },
     "execution_count": 10,
     "metadata": {},
     "output_type": "execute_result"
    }
   ],
   "source": [
    "def mean_of_product(df):\n",
    "    return df[:, dt.mean(f.fare_amount * f.trip_distance)]\n",
    "\n",
    "benchmark(mean_of_product, df=data, name='product columns mean')"
   ]
  },
  {
   "cell_type": "code",
   "execution_count": 11,
   "metadata": {
    "ExecuteTime": {
     "end_time": "2020-05-27T12:25:51.022297Z",
     "start_time": "2020-05-27T12:25:50.465666Z"
    }
   },
   "outputs": [
    {
     "name": "stdout",
     "output_type": "stream",
     "text": [
      "product columns took: 1.4543533325195312e-05\n"
     ]
    },
    {
     "data": {
      "text/plain": [
       "1.4543533325195312e-05"
      ]
     },
     "execution_count": 11,
     "metadata": {},
     "output_type": "execute_result"
    }
   ],
   "source": [
    "def product_columns(df):\n",
    "    return df[:, f.fare_amount * f.trip_distance]\n",
    "\n",
    "benchmark(product_columns, df=data, name='product columns')"
   ]
  },
  {
   "cell_type": "code",
   "execution_count": 12,
   "metadata": {
    "ExecuteTime": {
     "end_time": "2020-05-27T12:26:20.587258Z",
     "start_time": "2020-05-27T12:25:51.024069Z"
    }
   },
   "outputs": [
    {
     "name": "stdout",
     "output_type": "stream",
     "text": [
      "lazy evaluation took: 14.478155136108398\n"
     ]
    },
    {
     "data": {
      "text/plain": [
       "14.478155136108398"
      ]
     },
     "execution_count": 12,
     "metadata": {},
     "output_type": "execute_result"
    }
   ],
   "source": [
    "def lazy_mean(df):\n",
    "    df['lazy'] = df[:, f.fare_amount * f.trip_distance]\n",
    "    return df[:, dt.mean(dt.f.lazy)]\n",
    "    \n",
    "benchmark(lazy_mean, df=data, name='lazy evaluation')  \n"
   ]
  },
  {
   "cell_type": "code",
   "execution_count": 21,
   "metadata": {
    "ExecuteTime": {
     "end_time": "2020-05-27T12:34:44.551900Z",
     "start_time": "2020-05-27T12:34:23.059199Z"
    }
   },
   "outputs": [
    {
     "name": "stdout",
     "output_type": "stream",
     "text": [
      "value counts took: 5.268906354904175\n"
     ]
    },
    {
     "data": {
      "text/plain": [
       "5.268906354904175"
      ]
     },
     "execution_count": 21,
     "metadata": {},
     "output_type": "execute_result"
    }
   ],
   "source": [
    "# Memorry crash\n",
    "from datatable import f, count\n",
    "\n",
    "def value_counts(df):\n",
    "    return df[:,count(f.passenger_count),'passenger_count']\n",
    "\n",
    "# add_nan('value counts')\n",
    "benchmark(value_counts, df=data, name='value counts')  "
   ]
  },
  {
   "cell_type": "code",
   "execution_count": 24,
   "metadata": {
    "ExecuteTime": {
     "end_time": "2020-05-27T12:37:36.537651Z",
     "start_time": "2020-05-27T12:37:34.882695Z"
    },
    "code_folding": [
     3,
     14
    ]
   },
   "outputs": [
    {
     "name": "stdout",
     "output_type": "stream",
     "text": [
      "arithmetic operation took: nan\n",
      "arithmetic operation mean took: nan\n"
     ]
    },
    {
     "data": {
      "text/plain": [
       "nan"
      ]
     },
     "execution_count": 24,
     "metadata": {},
     "output_type": "execute_result"
    }
   ],
   "source": [
    "# Memorry crash\n",
    "from datatable import math\n",
    "\n",
    "def complicated_arithmetic_operation(df):\n",
    "    theta_1 = f.pickup_longitude\n",
    "    phi_1 = f.pickup_latitude\n",
    "    theta_2 = f.dropoff_longitude\n",
    "    phi_2 = f.dropoff_latitude\n",
    "    temp = (math.sin((theta_2-theta_1)/2*math.pi/180)**2\n",
    "           + math.cos(theta_1*math.pi/180)*math.cos(theta_2*math.pi/180) * math.sin((phi_2-phi_1)/2*math.pi/180)**2)\n",
    "    expr = 2 * math.atan2(math.sqrt(temp), math.sqrt(1-temp))\n",
    "    return df[:, expr]\n",
    "\n",
    "\n",
    "def mean_of_complicated_arithmetic_operation(df):\n",
    "    theta_1 = f.pickup_longitude\n",
    "    phi_1 = f.pickup_latitude\n",
    "    theta_2 = f.dropoff_longitude\n",
    "    phi_2 = f.dropoff_latitude\n",
    "    temp = (math.sin((theta_2-theta_1)/2*math.pi/180)**2\n",
    "           + math.cos(theta_1*math.pi/180)*math.cos(theta_2*math.pi/180) * math.sin((phi_2-phi_1)/2*math.pi/180)**2)\n",
    "    expr = 2 * math.atan2(math.sqrt(temp), math.sqrt(1-temp))\n",
    "    return df[:, dt.mean(expr)]\n",
    "\n",
    "\n",
    "add_nan(\"arithmetic operation\")\n",
    "add_nan(\"arithmetic operation mean\")"
   ]
  },
  {
   "cell_type": "code",
   "execution_count": 15,
   "metadata": {
    "ExecuteTime": {
     "end_time": "2020-05-27T12:28:02.207967Z",
     "start_time": "2020-05-27T12:26:22.313785Z"
    }
   },
   "outputs": [
    {
     "name": "stdout",
     "output_type": "stream",
     "text": [
      "groupby statistics took: 42.71509027481079\n"
     ]
    },
    {
     "data": {
      "text/plain": [
       "42.71509027481079"
      ]
     },
     "execution_count": 15,
     "metadata": {},
     "output_type": "execute_result"
    }
   ],
   "source": [
    "def groupby_statistics(df):\n",
    "    aggs = {\n",
    "            'fare_amount_mean': dt.mean(f.fare_amount),\n",
    "            'fare_amount_std': dt.sd(f.fare_amount),\n",
    "            'tip_amount_mean': dt.mean(f.tip_amount),\n",
    "            'tip_amount_std': dt.sd(f.tip_amount),\n",
    "        }\n",
    "    return df[:, aggs, dt.by(f.passenger_count)]\n",
    "\n",
    "benchmark(groupby_statistics, df=data, name='groupby statistics')"
   ]
  },
  {
   "cell_type": "code",
   "execution_count": 16,
   "metadata": {
    "ExecuteTime": {
     "end_time": "2020-05-27T12:28:44.959662Z",
     "start_time": "2020-05-27T12:28:02.209785Z"
    }
   },
   "outputs": [],
   "source": [
    "other = dt.Frame(groupby_statistics(data).to_pandas())\n",
    "other.key = 'passenger_count'"
   ]
  },
  {
   "cell_type": "code",
   "execution_count": 17,
   "metadata": {
    "ExecuteTime": {
     "end_time": "2020-05-27T12:28:57.484044Z",
     "start_time": "2020-05-27T12:28:44.961606Z"
    }
   },
   "outputs": [
    {
     "name": "stdout",
     "output_type": "stream",
     "text": [
      "join count took: 5.821533203125\n"
     ]
    },
    {
     "data": {
      "text/plain": [
       "5.821533203125"
      ]
     },
     "execution_count": 17,
     "metadata": {},
     "output_type": "execute_result"
    }
   ],
   "source": [
    "def join_count(df, other):\n",
    "    # like vaex and dask, no precomputed index\n",
    "    return df[:,:,dt.join(other)].shape[0]\n",
    "\n",
    "benchmark(join_count, data, name='join count', other=other)"
   ]
  },
  {
   "cell_type": "code",
   "execution_count": 18,
   "metadata": {
    "ExecuteTime": {
     "end_time": "2020-05-27T12:29:09.785487Z",
     "start_time": "2020-05-27T12:28:57.485785Z"
    }
   },
   "outputs": [
    {
     "name": "stdout",
     "output_type": "stream",
     "text": [
      "join took: 5.821089506149292\n"
     ]
    },
    {
     "data": {
      "text/plain": [
       "5.821089506149292"
      ]
     },
     "execution_count": 18,
     "metadata": {},
     "output_type": "execute_result"
    }
   ],
   "source": [
    "def join_data(df, other):\n",
    "    # like vaex and dask, no precomputed index\n",
    "    ret = df[:,:,dt.join(other)]\n",
    "    ret.head(20)\n",
    "    return ret\n",
    "\n",
    "benchmark(join_data, data, name='join', other=other)"
   ]
  },
  {
   "cell_type": "markdown",
   "metadata": {},
   "source": [
    "## Filtered data\n",
    "For the entire dataset, non of this runs without crashing"
   ]
  },
  {
   "cell_type": "code",
   "execution_count": 19,
   "metadata": {
    "ExecuteTime": {
     "end_time": "2020-05-27T12:29:09.852143Z",
     "start_time": "2020-05-27T12:29:09.787308Z"
    }
   },
   "outputs": [
    {
     "name": "stdout",
     "output_type": "stream",
     "text": [
      "Prepare filtered data and deleted 0 MB\n"
     ]
    }
   ],
   "source": [
    "print(f\"Prepare filtered data and deleted {gc.collect()} MB\")"
   ]
  },
  {
   "cell_type": "markdown",
   "metadata": {},
   "source": [
    "## Memroy crash on filter "
   ]
  },
  {
   "cell_type": "raw",
   "metadata": {
    "ExecuteTime": {
     "end_time": "2020-05-27T12:29:27.387845Z",
     "start_time": "2020-05-27T12:29:09.853784Z"
    }
   },
   "source": [
    "def filter_data(df):\n",
    "    expr_filter = (f.pickup_longitude > long_min)  & (f.pickup_longitude < long_max) & \\\n",
    "              (f.pickup_latitude > lat_min)    & (f.pickup_latitude < lat_max) & \\\n",
    "              (f.dropoff_longitude > long_min) & (f.dropoff_longitude < long_max) & \\\n",
    "              (f.dropoff_latitude > lat_min)   & (f.dropoff_latitude < lat_max)\n",
    "    return df[expr_filter,:]\n",
    "\n",
    "benchmark(filter_data, data, name='filter data')"
   ]
  },
  {
   "cell_type": "raw",
   "metadata": {
    "ExecuteTime": {
     "end_time": "2020-05-27T12:29:27.389589Z",
     "start_time": "2020-05-27T12:24:31.960Z"
    }
   },
   "source": [
    "filtered = filter_data(data)\n",
    "\n",
    "del data\n",
    "print(f\"cleaned {gc.collect()} mb\")"
   ]
  },
  {
   "cell_type": "raw",
   "metadata": {
    "ExecuteTime": {
     "end_time": "2020-05-27T12:29:27.390531Z",
     "start_time": "2020-05-27T12:24:32.161Z"
    }
   },
   "source": [
    "benchmark(mean, filtered, name='filtered mean')\n",
    "benchmark(standard_deviation, filtered, name='filtered standard deviation')\n",
    "benchmark(mean_of_sum, filtered, name ='filtered sum columns mean')\n",
    "benchmark(sum_columns, df=filtered, name='filtered sum columns')\n",
    "benchmark(mean_of_product, filtered, name ='filtered product columns mean')\n",
    "benchmark(product_columns, df=filtered, name='filtered product columns')\n",
    "benchmark(mean_of_complicated_arithmetic_operation, filtered, name='filtered arithmetic operation mean')\n",
    "add_nan('filtered arithmetic operation')\n",
    "benchmark(value_counts, filtered, name ='filtered value counts')\n",
    "benchmark(groupby_statistics, filtered, name='filtered groupby statistics')\n",
    "other = dt.Frame(groupby_statistics(filtered).to_pandas())\n",
    "other.key = 'passenger_count'\n",
    "benchmark(join_count, filtered, name='filtered join count', other=other)\n",
    "benchmark(join_data, filtered, name='filtered join', other=other)\n",
    "print(name)\n",
    "get_results(benchmarks)"
   ]
  },
  {
   "cell_type": "code",
   "execution_count": null,
   "metadata": {},
   "outputs": [],
   "source": []
  }
 ],
 "metadata": {
  "kernelspec": {
   "display_name": "conda_python3",
   "language": "python",
   "name": "conda_python3"
  },
  "language_info": {
   "codemirror_mode": {
    "name": "ipython",
    "version": 3
   },
   "file_extension": ".py",
   "mimetype": "text/x-python",
   "name": "python",
   "nbconvert_exporter": "python",
   "pygments_lexer": "ipython3",
   "version": "3.6.5"
  }
 },
 "nbformat": 4,
 "nbformat_minor": 4
}
