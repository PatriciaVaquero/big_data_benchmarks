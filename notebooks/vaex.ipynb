{
 "cells": [
  {
   "cell_type": "markdown",
   "metadata": {},
   "source": [
    "# Get data and packages"
   ]
  },
  {
   "cell_type": "code",
   "execution_count": 1,
   "metadata": {
    "ExecuteTime": {
     "end_time": "2020-05-13T10:08:41.704754Z",
     "start_time": "2020-05-13T10:08:35.217130Z"
    }
   },
   "outputs": [],
   "source": [
    "%%capture\n",
    "%%bash\n",
    "python -m pip install -U pip\n",
    "python -m pip install vaex-core==2.0.0a5\n",
    "python -m pip install vaex-hdf5==0.6.0a1 \n",
    "python -m pip install -U numpy \n",
    "python -m pip install -U ipython ipykernel\n",
    "# aws s3 cp s3://xdss-public-datasets/demos/taxi_1B.hdf5 datasets/taxi_1B.hdf5"
   ]
  },
  {
   "cell_type": "markdown",
   "metadata": {},
   "source": [
    "# Please restart the karnel after installation "
   ]
  },
  {
   "cell_type": "code",
   "execution_count": 79,
   "metadata": {
    "ExecuteTime": {
     "end_time": "2020-05-13T10:57:34.840722Z",
     "start_time": "2020-05-13T10:57:34.535480Z"
    },
    "code_folding": [
     30,
     35,
     40
    ]
   },
   "outputs": [
    {
     "name": "stdout",
     "output_type": "stream",
     "text": [
      "We test every benchmark twice and save both results\n"
     ]
    }
   ],
   "source": [
    "import gc\n",
    "import numpy as np\n",
    "import pandas as pd\n",
    "import warnings\n",
    "import time\n",
    "import gc\n",
    "import os\n",
    "\n",
    "instance_type = 'c5d2xlarge' # change this\n",
    "results_bucket = f\"s3://vaex-sagemaker-demo/benchmarks\" # change this\n",
    "\n",
    "name = 'vaex'\n",
    "data_path = 'datasets/taxi_1B.hdf5'\n",
    "output_file = f'{name}_{instance_type}.csv'\n",
    "results_path = f\"results/{output_file}\"\n",
    "results_bucket = f\"{results_bucket}/{output_file}\" \n",
    "benchmarks = {\n",
    "    'run':[],\n",
    "    'duration': [],\n",
    "    'task': []   \n",
    "}\n",
    "\n",
    "long_min = -74.05\n",
    "long_max = -73.75\n",
    "lat_min = 40.58\n",
    "lat_max = 40.90\n",
    "\n",
    "\n",
    "def get_results(benchmarks):\n",
    "    return pd.DataFrame.from_dict(benchmarks, orient='index').T\n",
    "\n",
    "def persist():\n",
    "    gc.collect()\n",
    "    get_results(benchmarks).to_csv(results_path)\n",
    "    os.system(f\"aws s3 cp {results_path} {results_bucket}\")\n",
    "    \n",
    "def benchmark(f, df, name, **kwargs):    \n",
    "    for i in range(2):\n",
    "        start_time = time.time()\n",
    "        ret = f(df, **kwargs)\n",
    "        benchmarks['duration'].append(time.time()-start_time)\n",
    "        benchmarks['task'].append(name)\n",
    "        benchmarks['run'].append(i+1)\n",
    "    persist()\n",
    "    print(f\"{name} took: {benchmarks['duration'][-1]}\")\n",
    "    return benchmarks['duration'][-1]\n",
    "\n",
    "\n",
    "!mkdir -p results\n",
    "!mkdir -p datasets\n",
    "print(f\"We test every benchmark twice and save both results\")"
   ]
  },
  {
   "cell_type": "markdown",
   "metadata": {},
   "source": [
    "# Benchmark"
   ]
  },
  {
   "cell_type": "code",
   "execution_count": 84,
   "metadata": {
    "ExecuteTime": {
     "end_time": "2020-05-13T10:58:01.827893Z",
     "start_time": "2020-05-13T10:58:01.816646Z"
    }
   },
   "outputs": [
    {
     "name": "stdout",
     "output_type": "stream",
     "text": [
      "size: 1173057927 with 18 columns\n"
     ]
    }
   ],
   "source": [
    "import vaex\n",
    "import numpy as np\n",
    "\n",
    "data = vaex.open(data_path)\n",
    "print(f\"size: {len(data)} with {len(data.columns)} columns\")"
   ]
  },
  {
   "cell_type": "code",
   "execution_count": 85,
   "metadata": {
    "ExecuteTime": {
     "end_time": "2020-05-13T10:58:02.818405Z",
     "start_time": "2020-05-13T10:58:02.167522Z"
    }
   },
   "outputs": [
    {
     "name": "stdout",
     "output_type": "stream",
     "text": [
      "read_file took: 0.0059468746185302734\n"
     ]
    },
    {
     "data": {
      "text/plain": [
       "0.0059468746185302734"
      ]
     },
     "execution_count": 85,
     "metadata": {},
     "output_type": "execute_result"
    }
   ],
   "source": [
    "def open_file(df=None):\n",
    "    return vaex.open(data_path)\n",
    "\n",
    "benchmark(open_file, df=data, name='read_file')"
   ]
  },
  {
   "cell_type": "code",
   "execution_count": 86,
   "metadata": {
    "ExecuteTime": {
     "end_time": "2020-05-13T10:58:03.454735Z",
     "start_time": "2020-05-13T10:58:02.821035Z"
    }
   },
   "outputs": [
    {
     "name": "stdout",
     "output_type": "stream",
     "text": [
      "count took: 2.1457672119140625e-06\n"
     ]
    },
    {
     "data": {
      "text/plain": [
       "2.1457672119140625e-06"
      ]
     },
     "execution_count": 86,
     "metadata": {},
     "output_type": "execute_result"
    }
   ],
   "source": [
    "def count(df=None):\n",
    "    return len(df)\n",
    "\n",
    "benchmark(count, df=data, name='count')"
   ]
  },
  {
   "cell_type": "code",
   "execution_count": 90,
   "metadata": {
    "ExecuteTime": {
     "end_time": "2020-05-13T10:58:29.653499Z",
     "start_time": "2020-05-13T10:58:10.809706Z"
    }
   },
   "outputs": [
    {
     "name": "stdout",
     "output_type": "stream",
     "text": [
      "mean took: 1.0801217555999756\n"
     ]
    },
    {
     "data": {
      "text/plain": [
       "1.0801217555999756"
      ]
     },
     "execution_count": 90,
     "metadata": {},
     "output_type": "execute_result"
    }
   ],
   "source": [
    "def mean(df):\n",
    "    return df.fare_amount.mean()\n",
    "\n",
    "benchmark(mean, df=data, name='mean')"
   ]
  },
  {
   "cell_type": "code",
   "execution_count": 91,
   "metadata": {
    "ExecuteTime": {
     "end_time": "2020-05-13T10:58:37.303756Z",
     "start_time": "2020-05-13T10:58:29.655352Z"
    }
   },
   "outputs": [
    {
     "name": "stdout",
     "output_type": "stream",
     "text": [
      "standard deviation took: 3.5066850185394287\n"
     ]
    },
    {
     "data": {
      "text/plain": [
       "3.5066850185394287"
      ]
     },
     "execution_count": 91,
     "metadata": {},
     "output_type": "execute_result"
    }
   ],
   "source": [
    "def standard_deviation(df):\n",
    "    return df.fare_amount.std()\n",
    "\n",
    "benchmark(standard_deviation, df=data, name='standard deviation')"
   ]
  },
  {
   "cell_type": "code",
   "execution_count": 92,
   "metadata": {
    "ExecuteTime": {
     "end_time": "2020-05-13T10:59:03.484671Z",
     "start_time": "2020-05-13T10:58:37.305619Z"
    }
   },
   "outputs": [
    {
     "name": "stdout",
     "output_type": "stream",
     "text": [
      "sum columns mean took: 2.2473130226135254\n"
     ]
    },
    {
     "data": {
      "text/plain": [
       "2.2473130226135254"
      ]
     },
     "execution_count": 92,
     "metadata": {},
     "output_type": "execute_result"
    }
   ],
   "source": [
    "def mean_of_sum(df):\n",
    "    return (df.fare_amount + df.trip_distance).mean()\n",
    "\n",
    "benchmark(mean_of_sum, df=data, name='sum columns mean')"
   ]
  },
  {
   "cell_type": "code",
   "execution_count": 93,
   "metadata": {
    "ExecuteTime": {
     "end_time": "2020-05-13T10:59:04.112170Z",
     "start_time": "2020-05-13T10:59:03.486801Z"
    }
   },
   "outputs": [
    {
     "name": "stdout",
     "output_type": "stream",
     "text": [
      "sum columns took: 1.5735626220703125e-05\n"
     ]
    },
    {
     "data": {
      "text/plain": [
       "1.5735626220703125e-05"
      ]
     },
     "execution_count": 93,
     "metadata": {},
     "output_type": "execute_result"
    }
   ],
   "source": [
    "# lazy evaulation - instant\n",
    "def sum_columns(df):\n",
    "    return (df.fare_amount + df.trip_distance)\n",
    "\n",
    "benchmark(sum_columns, df=data, name='sum columns')"
   ]
  },
  {
   "cell_type": "code",
   "execution_count": 94,
   "metadata": {
    "ExecuteTime": {
     "end_time": "2020-05-13T10:59:07.355954Z",
     "start_time": "2020-05-13T10:59:04.114524Z"
    }
   },
   "outputs": [
    {
     "name": "stdout",
     "output_type": "stream",
     "text": [
      "product columns mean took: 1.313370704650879\n"
     ]
    },
    {
     "data": {
      "text/plain": [
       "1.313370704650879"
      ]
     },
     "execution_count": 94,
     "metadata": {},
     "output_type": "execute_result"
    }
   ],
   "source": [
    "def mean_of_product(df):\n",
    "    return (df.fare_amount * df.trip_distance).mean()\n",
    "\n",
    "benchmark(mean_of_product, df=data, name='product columns mean')"
   ]
  },
  {
   "cell_type": "code",
   "execution_count": 95,
   "metadata": {
    "ExecuteTime": {
     "end_time": "2020-05-13T10:59:08.012527Z",
     "start_time": "2020-05-13T10:59:07.357820Z"
    }
   },
   "outputs": [
    {
     "name": "stdout",
     "output_type": "stream",
     "text": [
      "product columns took: 7.867813110351562e-06\n"
     ]
    },
    {
     "data": {
      "text/plain": [
       "7.867813110351562e-06"
      ]
     },
     "execution_count": 95,
     "metadata": {},
     "output_type": "execute_result"
    }
   ],
   "source": [
    "# lazy evaulation - instant\n",
    "def product(df):\n",
    "    return df.fare_amount * df.trip_distance\n",
    "\n",
    "benchmark(product, df=data, name='product columns')"
   ]
  },
  {
   "cell_type": "code",
   "execution_count": null,
   "metadata": {},
   "outputs": [],
   "source": [
    "def lazy_mean(df):\n",
    "    df['lazy'] = df.fare_amount * df.trip_distance\n",
    "    return df['lazy'].mean()\n",
    "    \n",
    "benchmark(lazy_mean, df=data, name='lazy evaluation')  "
   ]
  },
  {
   "cell_type": "code",
   "execution_count": 96,
   "metadata": {
    "ExecuteTime": {
     "end_time": "2020-05-13T11:01:13.061798Z",
     "start_time": "2020-05-13T10:59:08.014423Z"
    }
   },
   "outputs": [
    {
     "name": "stdout",
     "output_type": "stream",
     "text": [
      "arithmetic operation mean took: 53.13127875328064\n"
     ]
    },
    {
     "data": {
      "text/plain": [
       "53.13127875328064"
      ]
     },
     "execution_count": 96,
     "metadata": {},
     "output_type": "execute_result"
    }
   ],
   "source": [
    "def mean_of_complicated_arithmetic_operation(df):\n",
    "    theta_1 = df.pickup_longitude\n",
    "    phi_1 = df.pickup_latitude\n",
    "    theta_2 = df.dropoff_longitude\n",
    "    phi_2 = df.dropoff_latitude\n",
    "    temp = (np.sin((theta_2-theta_1)/2*np.pi/180)**2\n",
    "           + np.cos(theta_1*np.pi/180)*np.cos(theta_2*np.pi/180) * np.sin((phi_2-phi_1)/2*np.pi/180)**2)\n",
    "    df['complicated'] = 2 * np.arctan2(np.sqrt(temp), np.sqrt(1-temp))\n",
    "    return df['complicated'].mean()\n",
    "\n",
    "benchmark(mean_of_complicated_arithmetic_operation, df=data, name='arithmetic operation mean')\n"
   ]
  },
  {
   "cell_type": "code",
   "execution_count": null,
   "metadata": {
    "ExecuteTime": {
     "end_time": "2020-05-16T09:57:34.547932Z",
     "start_time": "2020-05-16T09:57:34.504714Z"
    }
   },
   "outputs": [],
   "source": [
    "# lazy evaulation - instant\n",
    "def complicated_arithmetic_operation(df):\n",
    "    theta_1 = df.pickup_longitude\n",
    "    phi_1 = df.pickup_latitude\n",
    "    theta_2 = df.dropoff_longitude\n",
    "    phi_2 = df.dropoff_latitude\n",
    "    temp = (np.sin((theta_2-theta_1)/2*np.pi/180)**2\n",
    "           + np.cos(theta_1*np.pi/180)*np.cos(theta_2*np.pi/180) * np.sin((phi_2-phi_1)/2*np.pi/180)**2)\n",
    "    df['complicated'] = 2 * np.arctan2(np.sqrt(temp), np.sqrt(1-temp))\n",
    "    return df['complicated']\n",
    "\n",
    "benchmark(complicated_arithmetic_operation, df=data, name='arithmetic operation')"
   ]
  },
  {
   "cell_type": "code",
   "execution_count": 98,
   "metadata": {
    "ExecuteTime": {
     "end_time": "2020-05-13T11:01:54.112624Z",
     "start_time": "2020-05-13T11:01:13.681520Z"
    }
   },
   "outputs": [
    {
     "name": "stdout",
     "output_type": "stream",
     "text": [
      "value counts took: 4.853485345840454\n"
     ]
    },
    {
     "data": {
      "text/plain": [
       "4.853485345840454"
      ]
     },
     "execution_count": 98,
     "metadata": {},
     "output_type": "execute_result"
    }
   ],
   "source": [
    "def value_counts(df):\n",
    "    return df.passenger_count.value_counts()\n",
    "\n",
    "benchmark(value_counts, df=data, name='value counts')"
   ]
  },
  {
   "cell_type": "code",
   "execution_count": 99,
   "metadata": {
    "ExecuteTime": {
     "end_time": "2020-05-13T11:03:18.986135Z",
     "start_time": "2020-05-13T11:01:54.114368Z"
    }
   },
   "outputs": [
    {
     "name": "stdout",
     "output_type": "stream",
     "text": [
      "groupby statistics took: 47.245296478271484\n"
     ]
    },
    {
     "data": {
      "text/plain": [
       "47.245296478271484"
      ]
     },
     "execution_count": 99,
     "metadata": {},
     "output_type": "execute_result"
    }
   ],
   "source": [
    "def groupby_statistics(df):\n",
    "    return df.groupby(by='passenger_count').agg({'fare_amount': ['mean', 'std'], \n",
    "                                               'tip_amount': ['mean', 'std']\n",
    "                                              })\n",
    "\n",
    "benchmark(groupby_statistics, df=data, name='groupby statistics')"
   ]
  },
  {
   "cell_type": "code",
   "execution_count": 100,
   "metadata": {
    "ExecuteTime": {
     "end_time": "2020-05-13T11:04:17.546459Z",
     "start_time": "2020-05-13T11:03:18.988015Z"
    }
   },
   "outputs": [],
   "source": [
    "other = groupby_statistics(data)"
   ]
  },
  {
   "cell_type": "code",
   "execution_count": 101,
   "metadata": {
    "ExecuteTime": {
     "end_time": "2020-05-13T11:04:33.580553Z",
     "start_time": "2020-05-13T11:04:17.547982Z"
    }
   },
   "outputs": [
    {
     "name": "stdout",
     "output_type": "stream",
     "text": [
      "join count took: 1.424567699432373\n"
     ]
    },
    {
     "data": {
      "text/plain": [
       "1.424567699432373"
      ]
     },
     "execution_count": 101,
     "metadata": {},
     "output_type": "execute_result"
    }
   ],
   "source": [
    "def join_count(df, other):\n",
    "    return len(df.join(other=other, on = 'passenger_count', rsuffix = '_right'))\n",
    "\n",
    "benchmark(join_count, data, name='join count', other=other)"
   ]
  },
  {
   "cell_type": "code",
   "execution_count": 102,
   "metadata": {
    "ExecuteTime": {
     "end_time": "2020-05-13T11:04:36.302144Z",
     "start_time": "2020-05-13T11:04:33.582427Z"
    }
   },
   "outputs": [
    {
     "name": "stdout",
     "output_type": "stream",
     "text": [
      "join took: 0.9929296970367432\n"
     ]
    },
    {
     "data": {
      "text/plain": [
       "0.9929296970367432"
      ]
     },
     "execution_count": 102,
     "metadata": {},
     "output_type": "execute_result"
    }
   ],
   "source": [
    "def join_data(df, other):\n",
    "    return df.join(other=other, on = 'passenger_count', rsuffix = '_right')\n",
    "\n",
    "benchmark(join_data, data, name='join', other=other)"
   ]
  },
  {
   "cell_type": "markdown",
   "metadata": {},
   "source": [
    "## Filtered data"
   ]
  },
  {
   "cell_type": "markdown",
   "metadata": {},
   "source": [
    "Dask is not build to run on filter data like you would normally, so we will apply the same strategy"
   ]
  },
  {
   "cell_type": "code",
   "execution_count": 103,
   "metadata": {
    "ExecuteTime": {
     "end_time": "2020-05-13T11:04:36.462853Z",
     "start_time": "2020-05-13T11:04:36.304092Z"
    }
   },
   "outputs": [
    {
     "name": "stdout",
     "output_type": "stream",
     "text": [
      "Prepare filtered data and deleted 1024 MB\n"
     ]
    }
   ],
   "source": [
    "print(f\"Prepare filtered data and deleted {gc.collect()} MB\")"
   ]
  },
  {
   "cell_type": "code",
   "execution_count": 104,
   "metadata": {
    "ExecuteTime": {
     "end_time": "2020-05-13T11:04:39.505812Z",
     "start_time": "2020-05-13T11:04:36.464487Z"
    }
   },
   "outputs": [
    {
     "name": "stdout",
     "output_type": "stream",
     "text": [
      "filter data took: 1.16917085647583\n"
     ]
    },
    {
     "data": {
      "text/plain": [
       "1.16917085647583"
      ]
     },
     "execution_count": 104,
     "metadata": {},
     "output_type": "execute_result"
    }
   ],
   "source": [
    "def filter_data(df):\n",
    "    expr_filter = (df.pickup_longitude > long_min)  & (df.pickup_longitude < long_max) & \\\n",
    "                  (df.pickup_latitude > lat_min)    & (df.pickup_latitude < lat_max) & \\\n",
    "                  (df.dropoff_longitude > long_min) & (df.dropoff_longitude < long_max) & \\\n",
    "                  (df.dropoff_latitude > lat_min)   & (df.dropoff_latitude < lat_max)\n",
    "    return df[expr_filter]\n",
    "\n",
    "benchmark(filter_data, data, name='filter data')"
   ]
  },
  {
   "cell_type": "code",
   "execution_count": 105,
   "metadata": {
    "ExecuteTime": {
     "end_time": "2020-05-13T11:04:40.885999Z",
     "start_time": "2020-05-13T11:04:39.507560Z"
    }
   },
   "outputs": [
    {
     "name": "stdout",
     "output_type": "stream",
     "text": [
      "cleaned 7075 mb\n"
     ]
    }
   ],
   "source": [
    "filtered = filter_data(data)\n",
    "\n",
    "del data\n",
    "print(f\"cleaned {gc.collect()} mb\")"
   ]
  },
  {
   "cell_type": "code",
   "execution_count": 106,
   "metadata": {
    "ExecuteTime": {
     "end_time": "2020-05-13T11:13:20.672748Z",
     "start_time": "2020-05-13T11:04:40.890283Z"
    }
   },
   "outputs": [
    {
     "name": "stderr",
     "output_type": "stream",
     "text": [
      "<string>:1: RuntimeWarning: invalid value encountered in greater\n",
      "<string>:1: RuntimeWarning: invalid value encountered in less\n"
     ]
    },
    {
     "name": "stdout",
     "output_type": "stream",
     "text": [
      "filterd mean took: 1.7613804340362549\n",
      "filtered standard deviation took: 4.014634847640991\n",
      "filtered sum columns mean took: 4.663895130157471\n",
      "filtered sum columns took: 8.821487426757812e-06\n",
      "filterd product columns mean took: 3.725148916244507\n",
      "filterd product columns took: 9.775161743164062e-06\n",
      "filterd arithmetic operation mean took: 49.48960566520691\n",
      "filterd arithmetic operation took: 0.0046312808990478516\n",
      "filtered value counts took: 22.166354417800903\n",
      "filtered groupby statistics took: 46.3994722366333\n",
      "filtered join count took: 0.5538485050201416\n",
      "filtered join took: 0.45148587226867676\n",
      "vaex\n"
     ]
    },
    {
     "data": {
      "text/html": [
       "<div>\n",
       "<style scoped>\n",
       "    .dataframe tbody tr th:only-of-type {\n",
       "        vertical-align: middle;\n",
       "    }\n",
       "\n",
       "    .dataframe tbody tr th {\n",
       "        vertical-align: top;\n",
       "    }\n",
       "\n",
       "    .dataframe thead th {\n",
       "        text-align: right;\n",
       "    }\n",
       "</style>\n",
       "<table border=\"1\" class=\"dataframe\">\n",
       "  <thead>\n",
       "    <tr style=\"text-align: right;\">\n",
       "      <th></th>\n",
       "      <th>run</th>\n",
       "      <th>duration</th>\n",
       "      <th>task</th>\n",
       "    </tr>\n",
       "  </thead>\n",
       "  <tbody>\n",
       "    <tr>\n",
       "      <th>0</th>\n",
       "      <td>1</td>\n",
       "      <td>0.00752783</td>\n",
       "      <td>read_file</td>\n",
       "    </tr>\n",
       "    <tr>\n",
       "      <th>1</th>\n",
       "      <td>2</td>\n",
       "      <td>0.00560069</td>\n",
       "      <td>read_file</td>\n",
       "    </tr>\n",
       "    <tr>\n",
       "      <th>2</th>\n",
       "      <td>1</td>\n",
       "      <td>3.60012e-05</td>\n",
       "      <td>count</td>\n",
       "    </tr>\n",
       "    <tr>\n",
       "      <th>3</th>\n",
       "      <td>2</td>\n",
       "      <td>2.14577e-06</td>\n",
       "      <td>count</td>\n",
       "    </tr>\n",
       "    <tr>\n",
       "      <th>4</th>\n",
       "      <td>1</td>\n",
       "      <td>0.00786614</td>\n",
       "      <td>read_file</td>\n",
       "    </tr>\n",
       "    <tr>\n",
       "      <th>5</th>\n",
       "      <td>2</td>\n",
       "      <td>0.00594687</td>\n",
       "      <td>read_file</td>\n",
       "    </tr>\n",
       "    <tr>\n",
       "      <th>6</th>\n",
       "      <td>1</td>\n",
       "      <td>3.50475e-05</td>\n",
       "      <td>count</td>\n",
       "    </tr>\n",
       "    <tr>\n",
       "      <th>7</th>\n",
       "      <td>2</td>\n",
       "      <td>2.14577e-06</td>\n",
       "      <td>count</td>\n",
       "    </tr>\n",
       "    <tr>\n",
       "      <th>8</th>\n",
       "      <td>1</td>\n",
       "      <td>16.9071</td>\n",
       "      <td>mean</td>\n",
       "    </tr>\n",
       "    <tr>\n",
       "      <th>9</th>\n",
       "      <td>2</td>\n",
       "      <td>1.08012</td>\n",
       "      <td>mean</td>\n",
       "    </tr>\n",
       "    <tr>\n",
       "      <th>10</th>\n",
       "      <td>1</td>\n",
       "      <td>3.51366</td>\n",
       "      <td>standard deviation</td>\n",
       "    </tr>\n",
       "    <tr>\n",
       "      <th>11</th>\n",
       "      <td>2</td>\n",
       "      <td>3.50669</td>\n",
       "      <td>standard deviation</td>\n",
       "    </tr>\n",
       "    <tr>\n",
       "      <th>12</th>\n",
       "      <td>1</td>\n",
       "      <td>22.8324</td>\n",
       "      <td>sum columns mean</td>\n",
       "    </tr>\n",
       "    <tr>\n",
       "      <th>13</th>\n",
       "      <td>2</td>\n",
       "      <td>2.24731</td>\n",
       "      <td>sum columns mean</td>\n",
       "    </tr>\n",
       "    <tr>\n",
       "      <th>14</th>\n",
       "      <td>1</td>\n",
       "      <td>0.000109911</td>\n",
       "      <td>sum columns</td>\n",
       "    </tr>\n",
       "    <tr>\n",
       "      <th>15</th>\n",
       "      <td>2</td>\n",
       "      <td>1.57356e-05</td>\n",
       "      <td>sum columns</td>\n",
       "    </tr>\n",
       "    <tr>\n",
       "      <th>16</th>\n",
       "      <td>1</td>\n",
       "      <td>1.32425</td>\n",
       "      <td>product columns mean</td>\n",
       "    </tr>\n",
       "    <tr>\n",
       "      <th>17</th>\n",
       "      <td>2</td>\n",
       "      <td>1.31337</td>\n",
       "      <td>product columns mean</td>\n",
       "    </tr>\n",
       "    <tr>\n",
       "      <th>18</th>\n",
       "      <td>1</td>\n",
       "      <td>9.10759e-05</td>\n",
       "      <td>product columns</td>\n",
       "    </tr>\n",
       "    <tr>\n",
       "      <th>19</th>\n",
       "      <td>2</td>\n",
       "      <td>7.86781e-06</td>\n",
       "      <td>product columns</td>\n",
       "    </tr>\n",
       "    <tr>\n",
       "      <th>20</th>\n",
       "      <td>1</td>\n",
       "      <td>70.588</td>\n",
       "      <td>arithmetic operation mean</td>\n",
       "    </tr>\n",
       "    <tr>\n",
       "      <th>21</th>\n",
       "      <td>2</td>\n",
       "      <td>53.1313</td>\n",
       "      <td>arithmetic operation mean</td>\n",
       "    </tr>\n",
       "    <tr>\n",
       "      <th>22</th>\n",
       "      <td>1</td>\n",
       "      <td>0.00795078</td>\n",
       "      <td>arithmetic operation</td>\n",
       "    </tr>\n",
       "    <tr>\n",
       "      <th>23</th>\n",
       "      <td>2</td>\n",
       "      <td>0.00447822</td>\n",
       "      <td>arithmetic operation</td>\n",
       "    </tr>\n",
       "    <tr>\n",
       "      <th>24</th>\n",
       "      <td>1</td>\n",
       "      <td>34.777</td>\n",
       "      <td>value counts</td>\n",
       "    </tr>\n",
       "    <tr>\n",
       "      <th>25</th>\n",
       "      <td>2</td>\n",
       "      <td>4.85349</td>\n",
       "      <td>value counts</td>\n",
       "    </tr>\n",
       "    <tr>\n",
       "      <th>26</th>\n",
       "      <td>1</td>\n",
       "      <td>36.3711</td>\n",
       "      <td>groupby statistics</td>\n",
       "    </tr>\n",
       "    <tr>\n",
       "      <th>27</th>\n",
       "      <td>2</td>\n",
       "      <td>47.2453</td>\n",
       "      <td>groupby statistics</td>\n",
       "    </tr>\n",
       "    <tr>\n",
       "      <th>28</th>\n",
       "      <td>1</td>\n",
       "      <td>13.3193</td>\n",
       "      <td>join count</td>\n",
       "    </tr>\n",
       "    <tr>\n",
       "      <th>29</th>\n",
       "      <td>2</td>\n",
       "      <td>1.42457</td>\n",
       "      <td>join count</td>\n",
       "    </tr>\n",
       "    <tr>\n",
       "      <th>30</th>\n",
       "      <td>1</td>\n",
       "      <td>0.935691</td>\n",
       "      <td>join</td>\n",
       "    </tr>\n",
       "    <tr>\n",
       "      <th>31</th>\n",
       "      <td>2</td>\n",
       "      <td>0.99293</td>\n",
       "      <td>join</td>\n",
       "    </tr>\n",
       "    <tr>\n",
       "      <th>32</th>\n",
       "      <td>1</td>\n",
       "      <td>1.17236</td>\n",
       "      <td>filter data</td>\n",
       "    </tr>\n",
       "    <tr>\n",
       "      <th>33</th>\n",
       "      <td>2</td>\n",
       "      <td>1.16917</td>\n",
       "      <td>filter data</td>\n",
       "    </tr>\n",
       "    <tr>\n",
       "      <th>34</th>\n",
       "      <td>1</td>\n",
       "      <td>88.378</td>\n",
       "      <td>filterd mean</td>\n",
       "    </tr>\n",
       "    <tr>\n",
       "      <th>35</th>\n",
       "      <td>2</td>\n",
       "      <td>1.76138</td>\n",
       "      <td>filterd mean</td>\n",
       "    </tr>\n",
       "    <tr>\n",
       "      <th>36</th>\n",
       "      <td>1</td>\n",
       "      <td>4.05872</td>\n",
       "      <td>filtered standard deviation</td>\n",
       "    </tr>\n",
       "    <tr>\n",
       "      <th>37</th>\n",
       "      <td>2</td>\n",
       "      <td>4.01463</td>\n",
       "      <td>filtered standard deviation</td>\n",
       "    </tr>\n",
       "    <tr>\n",
       "      <th>38</th>\n",
       "      <td>1</td>\n",
       "      <td>16.9246</td>\n",
       "      <td>filtered sum columns mean</td>\n",
       "    </tr>\n",
       "    <tr>\n",
       "      <th>39</th>\n",
       "      <td>2</td>\n",
       "      <td>4.6639</td>\n",
       "      <td>filtered sum columns mean</td>\n",
       "    </tr>\n",
       "    <tr>\n",
       "      <th>40</th>\n",
       "      <td>1</td>\n",
       "      <td>0.000126839</td>\n",
       "      <td>filtered sum columns</td>\n",
       "    </tr>\n",
       "    <tr>\n",
       "      <th>41</th>\n",
       "      <td>2</td>\n",
       "      <td>8.82149e-06</td>\n",
       "      <td>filtered sum columns</td>\n",
       "    </tr>\n",
       "    <tr>\n",
       "      <th>42</th>\n",
       "      <td>1</td>\n",
       "      <td>3.87503</td>\n",
       "      <td>filterd product columns mean</td>\n",
       "    </tr>\n",
       "    <tr>\n",
       "      <th>43</th>\n",
       "      <td>2</td>\n",
       "      <td>3.72515</td>\n",
       "      <td>filterd product columns mean</td>\n",
       "    </tr>\n",
       "    <tr>\n",
       "      <th>44</th>\n",
       "      <td>1</td>\n",
       "      <td>0.000129938</td>\n",
       "      <td>filterd product columns</td>\n",
       "    </tr>\n",
       "    <tr>\n",
       "      <th>45</th>\n",
       "      <td>2</td>\n",
       "      <td>9.77516e-06</td>\n",
       "      <td>filterd product columns</td>\n",
       "    </tr>\n",
       "    <tr>\n",
       "      <th>46</th>\n",
       "      <td>1</td>\n",
       "      <td>70.6578</td>\n",
       "      <td>filterd arithmetic operation mean</td>\n",
       "    </tr>\n",
       "    <tr>\n",
       "      <th>47</th>\n",
       "      <td>2</td>\n",
       "      <td>49.4896</td>\n",
       "      <td>filterd arithmetic operation mean</td>\n",
       "    </tr>\n",
       "    <tr>\n",
       "      <th>48</th>\n",
       "      <td>1</td>\n",
       "      <td>0.00596714</td>\n",
       "      <td>filterd arithmetic operation</td>\n",
       "    </tr>\n",
       "    <tr>\n",
       "      <th>49</th>\n",
       "      <td>2</td>\n",
       "      <td>0.00463128</td>\n",
       "      <td>filterd arithmetic operation</td>\n",
       "    </tr>\n",
       "    <tr>\n",
       "      <th>50</th>\n",
       "      <td>1</td>\n",
       "      <td>75.3444</td>\n",
       "      <td>filtered value counts</td>\n",
       "    </tr>\n",
       "    <tr>\n",
       "      <th>51</th>\n",
       "      <td>2</td>\n",
       "      <td>22.1664</td>\n",
       "      <td>filtered value counts</td>\n",
       "    </tr>\n",
       "    <tr>\n",
       "      <th>52</th>\n",
       "      <td>1</td>\n",
       "      <td>47.9255</td>\n",
       "      <td>filtered groupby statistics</td>\n",
       "    </tr>\n",
       "    <tr>\n",
       "      <th>53</th>\n",
       "      <td>2</td>\n",
       "      <td>46.3995</td>\n",
       "      <td>filtered groupby statistics</td>\n",
       "    </tr>\n",
       "    <tr>\n",
       "      <th>54</th>\n",
       "      <td>1</td>\n",
       "      <td>10.9576</td>\n",
       "      <td>filtered join count</td>\n",
       "    </tr>\n",
       "    <tr>\n",
       "      <th>55</th>\n",
       "      <td>2</td>\n",
       "      <td>0.553849</td>\n",
       "      <td>filtered join count</td>\n",
       "    </tr>\n",
       "    <tr>\n",
       "      <th>56</th>\n",
       "      <td>1</td>\n",
       "      <td>0.672265</td>\n",
       "      <td>filtered join</td>\n",
       "    </tr>\n",
       "    <tr>\n",
       "      <th>57</th>\n",
       "      <td>2</td>\n",
       "      <td>0.451486</td>\n",
       "      <td>filtered join</td>\n",
       "    </tr>\n",
       "  </tbody>\n",
       "</table>\n",
       "</div>"
      ],
      "text/plain": [
       "   run     duration                               task\n",
       "0    1   0.00752783                          read_file\n",
       "1    2   0.00560069                          read_file\n",
       "2    1  3.60012e-05                              count\n",
       "3    2  2.14577e-06                              count\n",
       "4    1   0.00786614                          read_file\n",
       "5    2   0.00594687                          read_file\n",
       "6    1  3.50475e-05                              count\n",
       "7    2  2.14577e-06                              count\n",
       "8    1      16.9071                               mean\n",
       "9    2      1.08012                               mean\n",
       "10   1      3.51366                 standard deviation\n",
       "11   2      3.50669                 standard deviation\n",
       "12   1      22.8324                   sum columns mean\n",
       "13   2      2.24731                   sum columns mean\n",
       "14   1  0.000109911                        sum columns\n",
       "15   2  1.57356e-05                        sum columns\n",
       "16   1      1.32425               product columns mean\n",
       "17   2      1.31337               product columns mean\n",
       "18   1  9.10759e-05                    product columns\n",
       "19   2  7.86781e-06                    product columns\n",
       "20   1       70.588          arithmetic operation mean\n",
       "21   2      53.1313          arithmetic operation mean\n",
       "22   1   0.00795078               arithmetic operation\n",
       "23   2   0.00447822               arithmetic operation\n",
       "24   1       34.777                       value counts\n",
       "25   2      4.85349                       value counts\n",
       "26   1      36.3711                 groupby statistics\n",
       "27   2      47.2453                 groupby statistics\n",
       "28   1      13.3193                         join count\n",
       "29   2      1.42457                         join count\n",
       "30   1     0.935691                               join\n",
       "31   2      0.99293                               join\n",
       "32   1      1.17236                        filter data\n",
       "33   2      1.16917                        filter data\n",
       "34   1       88.378                       filterd mean\n",
       "35   2      1.76138                       filterd mean\n",
       "36   1      4.05872        filtered standard deviation\n",
       "37   2      4.01463        filtered standard deviation\n",
       "38   1      16.9246          filtered sum columns mean\n",
       "39   2       4.6639          filtered sum columns mean\n",
       "40   1  0.000126839               filtered sum columns\n",
       "41   2  8.82149e-06               filtered sum columns\n",
       "42   1      3.87503       filterd product columns mean\n",
       "43   2      3.72515       filterd product columns mean\n",
       "44   1  0.000129938            filterd product columns\n",
       "45   2  9.77516e-06            filterd product columns\n",
       "46   1      70.6578  filterd arithmetic operation mean\n",
       "47   2      49.4896  filterd arithmetic operation mean\n",
       "48   1   0.00596714       filterd arithmetic operation\n",
       "49   2   0.00463128       filterd arithmetic operation\n",
       "50   1      75.3444              filtered value counts\n",
       "51   2      22.1664              filtered value counts\n",
       "52   1      47.9255        filtered groupby statistics\n",
       "53   2      46.3995        filtered groupby statistics\n",
       "54   1      10.9576                filtered join count\n",
       "55   2     0.553849                filtered join count\n",
       "56   1     0.672265                      filtered join\n",
       "57   2     0.451486                      filtered join"
      ]
     },
     "execution_count": 106,
     "metadata": {},
     "output_type": "execute_result"
    }
   ],
   "source": [
    "benchmark(mean, filtered, name='filtered mean')\n",
    "benchmark(standard_deviation, filtered, name='filtered standard deviation')\n",
    "benchmark(mean_of_sum, filtered, name ='filtered sum columns mean')\n",
    "benchmark(sum_columns, df=filtered, name='filtered sum columns')\n",
    "benchmark(mean_of_product, filtered, name ='filtered product columns mean')\n",
    "benchmark(product, df=filtered, name='filtered product columns')\n",
    "benchmark(mean_of_complicated_arithmetic_operation, filtered, name='filtered arithmetic operation mean')\n",
    "benchmark(complicated_arithmetic_operation, filtered, name='filtered arithmetic operation')\n",
    "benchmark(value_counts, filtered, name ='filtered value counts')\n",
    "benchmark(groupby_statistics, filtered, name='filtered groupby statistics')\n",
    "other = groupby_statistics(filtered)\n",
    "benchmark(join_count, filtered, name='filtered join count', other=other)\n",
    "benchmark(join_data, filtered, name='filtered join', other=other)\n",
    "print('vaex')\n",
    "get_results(benchmarks)"
   ]
  },
  {
   "cell_type": "code",
   "execution_count": null,
   "metadata": {},
   "outputs": [],
   "source": []
  }
 ],
 "metadata": {
  "kernelspec": {
   "display_name": "conda_python3",
   "language": "python",
   "name": "conda_python3"
  },
  "language_info": {
   "codemirror_mode": {
    "name": "ipython",
    "version": 3
   },
   "file_extension": ".py",
   "mimetype": "text/x-python",
   "name": "python",
   "nbconvert_exporter": "python",
   "pygments_lexer": "ipython3",
   "version": "3.6.5"
  }
 },
 "nbformat": 4,
 "nbformat_minor": 4
}
