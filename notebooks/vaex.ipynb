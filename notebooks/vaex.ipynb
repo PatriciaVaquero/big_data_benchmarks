{
 "cells": [
  {
   "cell_type": "markdown",
   "metadata": {},
   "source": [
    "# Get data and packages"
   ]
  },
  {
   "cell_type": "raw",
   "metadata": {},
   "source": [
    "!pip install vaex-core vaex-hdf5\n",
    "!pip install -U numpy\n",
    "!aws s3 cp s3://xdss-public-datasets/demos/taxi_1m.hdf5 datasets/taxi_1m.hdf5"
   ]
  },
  {
   "cell_type": "markdown",
   "metadata": {},
   "source": [
    "## Prep benchmarks"
   ]
  },
  {
   "cell_type": "code",
   "execution_count": 5,
   "metadata": {},
   "outputs": [],
   "source": [
    "import vaex\n",
    "import pandas as pd\n",
    "import numpy as np\n",
    "import warnings\n",
    "import datetime as dt\n",
    "import time\n",
    "import gc\n",
    "\n",
    "warnings.filterwarnings(\"ignore\")\n",
    "\n",
    "benchmarks = {}\n",
    "\n",
    "def benchmark(f, name, df, repetitions=1, **kwargs):\n",
    "    times = []\n",
    "    count = 0\n",
    "    for i in range(repetitions):\n",
    "        start_time = time.time()\n",
    "        ret = f(df, **kwargs)\n",
    "        times.append(time.time()-start_time)\n",
    "        count+=1\n",
    "    benchmarks[name] = np.mean(times)/count\n",
    "    return benchmarks[name]\n",
    "\n",
    "def get_results(benchmarks, name):\n",
    "    results = pd.DataFrame.from_dict(benchmarks, orient='index')\n",
    "    results.columns = [name]\n",
    "    return results"
   ]
  },
  {
   "cell_type": "markdown",
   "metadata": {},
   "source": [
    "### Vaex implementation"
   ]
  },
  {
   "cell_type": "code",
   "execution_count": 6,
   "metadata": {},
   "outputs": [],
   "source": [
    "def read_file():\n",
    "    return vaex.open('datasets/taxi_1m.hdf5')\n",
    "    \n",
    "def mean(df):\n",
    "    return df.fare_amount.mean()\n",
    "    \n",
    "def standard_deviation(df):\n",
    "    return df.fare_amount.std()\n",
    "\n",
    "def sum_columns(df):\n",
    "    return df.fare_amount + df.passenger_count\n",
    "\n",
    "def product_columns(df):\n",
    "    return df.fare_amount * df.passenger_count\n",
    "\n",
    "def complicated_arithmetic_operation(df):\n",
    "    theta_1 = df.pickup_longitude\n",
    "    phi_1 = df.pickup_latitude\n",
    "    theta_2 = df.dropoff_longitude\n",
    "    phi_2 = df.dropoff_latitude\n",
    "    temp = (np.sin((theta_2-theta_1)/2*np.pi/180)**2\n",
    "           + np.cos(theta_1*np.pi/180)*np.cos(theta_2*np.pi/180) * np.sin((phi_2-phi_1)/2*np.pi/180)**2)\n",
    "    return 2 * np.arctan2(np.sqrt(temp), np.sqrt(1-temp))\n",
    "\n",
    "def value_counts(df):\n",
    "    return df.passenger_count.value_counts()\n",
    "\n",
    "def groupby_statistics(df):\n",
    "    return df.groupby(by='pickup_hour').agg({'fare_amount': ['mean', 'std'], \n",
    "                                               'tip_amount': ['mean', 'std']\n",
    "                                              })\n",
    "def join(df, other):\n",
    "    df_joined = df.join(other=gp, on = 'pickup_hour', rsuffix = '_right')\n",
    "    \n",
    "\n",
    "def filter_data(df):\n",
    "    return df[expr_filter]\n",
    "\n"
   ]
  },
  {
   "cell_type": "markdown",
   "metadata": {},
   "source": [
    "## Naive"
   ]
  },
  {
   "cell_type": "code",
   "execution_count": 10,
   "metadata": {},
   "outputs": [],
   "source": [
    "# Load data\n",
    "data = vaex.open('datasets/taxi_1m.hdf5')\n",
    "data['pickup_hour'] = data.pickup_datetime.dt.hour"
   ]
  },
  {
   "cell_type": "code",
   "execution_count": 11,
   "metadata": {},
   "outputs": [
    {
     "name": "stdout",
     "output_type": "stream",
     "text": [
      "Done benchmarks on all data\n"
     ]
    }
   ],
   "source": [
    "# benchmark\n",
    "benchmark(mean, 'mean', data, repetitions=10)\n",
    "benchmark(standard_deviation,'standard deviation', data, repetitions=10)\n",
    "benchmark(sum_columns, 'sum columns', data, repetitions=10)\n",
    "benchmark(product_columns, 'product columns', data, repetitions=10)\n",
    "benchmark(complicated_arithmetic_operation, 'complicated arithmetic operation', data, repetitions=10)\n",
    "benchmark(value_counts, 'value counts', data, repetitions=10)\n",
    "benchmark(groupby_statistics, 'groupby statistics', data, repetitions=10)\n",
    "\n",
    "gp = data.groupby(by='pickup_hour').agg({'fare_amount': ['mean', 'std'], \n",
    "                                        'tip_amount': ['mean', 'std']\n",
    "                                        })\n",
    "benchmark(join, 'join', data, repetitions=10, other=gp)\n",
    "print(f\"Done benchmarks on all data\")"
   ]
  },
  {
   "cell_type": "markdown",
   "metadata": {},
   "source": [
    "## Filtered"
   ]
  },
  {
   "cell_type": "code",
   "execution_count": 12,
   "metadata": {},
   "outputs": [
    {
     "name": "stdout",
     "output_type": "stream",
     "text": [
      "Prepare filtered data and deleted 1864 MB\n"
     ]
    }
   ],
   "source": [
    "# load data\n",
    "long_min = -74.05\n",
    "long_max = -73.75\n",
    "lat_min = 40.58\n",
    "lat_max = 40.90\n",
    "\n",
    "expr_filter = (data.pickup_longitude > long_min)  & (data.pickup_longitude < long_max) & \\\n",
    "              (data.pickup_latitude > lat_min)    & (data.pickup_latitude < lat_max) & \\\n",
    "              (data.dropoff_longitude > long_min) & (data.dropoff_longitude < long_max) & \\\n",
    "              (data.dropoff_latitude > lat_min)   & (data.dropoff_latitude < lat_max)\n",
    "\n",
    "filterd = data[expr_filter]\n",
    "del data\n",
    "del gp\n",
    "\n",
    "deleted = gc.collect()\n",
    "print(f\"Prepare filtered data and deleted {deleted} MB\")"
   ]
  },
  {
   "cell_type": "code",
   "execution_count": 13,
   "metadata": {},
   "outputs": [
    {
     "data": {
      "text/plain": [
       "0.006154913902282714"
      ]
     },
     "execution_count": 13,
     "metadata": {},
     "output_type": "execute_result"
    }
   ],
   "source": [
    "# benchmark\n",
    "benchmark(mean, 'filtered mean', filterd, repetitions=10)\n",
    "benchmark(standard_deviation,'filtered standard deviation', filterd, repetitions=10)\n",
    "benchmark(sum_columns, 'filtered sum columns', filterd, repetitions=10)\n",
    "benchmark(product_columns, 'filtered product_columns', filterd, repetitions=10)\n",
    "benchmark(complicated_arithmetic_operation, 'filtered complicated arithmetic_operation', filterd, repetitions=10)\n",
    "benchmark(value_counts, 'filtered value_counts', filterd, repetitions=10)\n",
    "benchmark(groupby_statistics, 'filtered groupby statistics', filterd, repetitions=10)\n",
    "\n",
    "gp = filterd.groupby(by='pickup_hour').agg({'fare_amount': ['mean', 'std'], \n",
    "                                        'tip_amount': ['mean', 'std']\n",
    "                                        })\n",
    "benchmark(join, 'filtered join', filterd, repetitions=10, other=gp)"
   ]
  },
  {
   "cell_type": "code",
   "execution_count": 17,
   "metadata": {},
   "outputs": [
    {
     "data": {
      "text/html": [
       "<div>\n",
       "<style scoped>\n",
       "    .dataframe tbody tr th:only-of-type {\n",
       "        vertical-align: middle;\n",
       "    }\n",
       "\n",
       "    .dataframe tbody tr th {\n",
       "        vertical-align: top;\n",
       "    }\n",
       "\n",
       "    .dataframe thead th {\n",
       "        text-align: right;\n",
       "    }\n",
       "</style>\n",
       "<table border=\"1\" class=\"dataframe\">\n",
       "  <thead>\n",
       "    <tr style=\"text-align: right;\">\n",
       "      <th></th>\n",
       "      <th>vaex</th>\n",
       "    </tr>\n",
       "  </thead>\n",
       "  <tbody>\n",
       "    <tr>\n",
       "      <th>mean</th>\n",
       "      <td>9.630513e-04</td>\n",
       "    </tr>\n",
       "    <tr>\n",
       "      <th>standard deviation</th>\n",
       "      <td>2.164185e-03</td>\n",
       "    </tr>\n",
       "    <tr>\n",
       "      <th>sum columns</th>\n",
       "      <td>1.227856e-06</td>\n",
       "    </tr>\n",
       "    <tr>\n",
       "      <th>product columns</th>\n",
       "      <td>8.893013e-07</td>\n",
       "    </tr>\n",
       "    <tr>\n",
       "      <th>complicated arithmetic operation</th>\n",
       "      <td>4.458714e-04</td>\n",
       "    </tr>\n",
       "  </tbody>\n",
       "</table>\n",
       "</div>"
      ],
      "text/plain": [
       "                                          vaex\n",
       "mean                              9.630513e-04\n",
       "standard deviation                2.164185e-03\n",
       "sum columns                       1.227856e-06\n",
       "product columns                   8.893013e-07\n",
       "complicated arithmetic operation  4.458714e-04"
      ]
     },
     "execution_count": 17,
     "metadata": {},
     "output_type": "execute_result"
    }
   ],
   "source": [
    "name = 'vaex'\n",
    "results = get_results(benchmarks, name)\n",
    "results.to_csv(f\"results/{name}_1m.csv\")\n",
    "results.head()"
   ]
  },
  {
   "cell_type": "code",
   "execution_count": null,
   "metadata": {},
   "outputs": [],
   "source": []
  }
 ],
 "metadata": {
  "kernelspec": {
   "display_name": "conda_python3",
   "language": "python",
   "name": "conda_python3"
  },
  "language_info": {
   "codemirror_mode": {
    "name": "ipython",
    "version": 3
   },
   "file_extension": ".py",
   "mimetype": "text/x-python",
   "name": "python",
   "nbconvert_exporter": "python",
   "pygments_lexer": "ipython3",
   "version": "3.6.5"
  }
 },
 "nbformat": 4,
 "nbformat_minor": 4
}
