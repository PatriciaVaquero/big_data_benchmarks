{
 "cells": [
  {
   "cell_type": "markdown",
   "metadata": {},
   "source": [
    "# Get data and packages"
   ]
  },
  {
   "cell_type": "raw",
   "metadata": {},
   "source": [
    "!pip install vaex-core vaex-hdf5\n",
    "!pip install -U numpy\n",
    "!aws s3 cp s3://xdss-public-datasets/demos/taxi_1m.hdf5 datasets/taxi_1m.hdf5"
   ]
  },
  {
   "cell_type": "markdown",
   "metadata": {},
   "source": [
    "## Prep benchmarks"
   ]
  },
  {
   "cell_type": "code",
   "execution_count": 5,
   "metadata": {},
   "outputs": [],
   "source": [
    "import vaex\n",
    "import pandas as pd\n",
    "import numpy as np\n",
    "import warnings\n",
    "import datetime as dt\n",
    "import time\n",
    "import gc\n",
    "\n",
    "warnings.filterwarnings(\"ignore\")\n",
    "\n",
    "benchmarks = {}\n",
    "\n",
    "def benchmark(f, name, df, repetitions=1, **kwargs):\n",
    "    times = []\n",
    "    count = 0\n",
    "    for i in range(repetitions):\n",
    "        start_time = time.time()\n",
    "        ret = f(df, **kwargs)\n",
    "        times.append(time.time()-start_time)\n",
    "        count+=1\n",
    "    benchmarks[name] = np.mean(times)/count\n",
    "    return benchmarks[name]\n",
    "\n",
    "def get_results(benchmarks, name):\n",
    "    results = pd.DataFrame.from_dict(benchmarks, orient='index')\n",
    "    results.columns = [name]\n",
    "    return results"
   ]
  },
  {
   "cell_type": "markdown",
   "metadata": {},
   "source": [
    "### Vaex implementation"
   ]
  },
  {
   "cell_type": "code",
   "execution_count": 6,
   "metadata": {},
   "outputs": [],
   "source": [
    "def read_file():\n",
    "    return vaex.open('datasets/taxi_1m.hdf5')\n",
    "    \n",
    "def mean(df):\n",
    "    return df.fare_amount.mean()\n",
    "    \n",
    "def standard_deviation(df):\n",
    "    return df.fare_amount.std()\n",
    "\n",
    "def sum_columns(df):\n",
    "    return df.fare_amount + df.passenger_count\n",
    "\n",
    "def product_columns(df):\n",
    "    return df.fare_amount * df.passenger_count\n",
    "\n",
    "def complicated_arithmetic_operation(df):\n",
    "    theta_1 = df.pickup_longitude\n",
    "    phi_1 = df.pickup_latitude\n",
    "    theta_2 = df.dropoff_longitude\n",
    "    phi_2 = df.dropoff_latitude\n",
    "    temp = (np.sin((theta_2-theta_1)/2*np.pi/180)**2\n",
    "           + np.cos(theta_1*np.pi/180)*np.cos(theta_2*np.pi/180) * np.sin((phi_2-phi_1)/2*np.pi/180)**2)\n",
    "    return 2 * np.arctan2(np.sqrt(temp), np.sqrt(1-temp))\n",
    "\n",
    "def value_counts(df):\n",
    "    return df.passenger_count.value_counts()\n",
    "\n",
    "def groupby_statistics(df):\n",
    "    return df.groupby(by='pickup_hour').agg({'fare_amount': ['mean', 'std'], \n",
    "                                               'tip_amount': ['mean', 'std']\n",
    "                                              })\n",
    "def join(df, other):\n",
    "    df_joined = df.join(other=gp, on = 'pickup_hour', rsuffix = '_right')\n",
    "    \n",
    "\n",
    "def filter_data(df):\n",
    "    return df[expr_filter]\n",
    "\n"
   ]
  },
  {
   "cell_type": "markdown",
   "metadata": {},
   "source": [
    "## Naive"
   ]
  },
  {
   "cell_type": "code",
   "execution_count": 10,
   "metadata": {},
   "outputs": [],
   "source": [
    "# Load data\n",
    "data = vaex.open('datasets/taxi_1m.hdf5')\n",
    "data['pickup_hour'] = data.pickup_datetime.dt.hour"
   ]
  },
  {
   "cell_type": "code",
   "execution_count": 11,
   "metadata": {},
   "outputs": [
    {
     "name": "stdout",
     "output_type": "stream",
     "text": [
      "Done benchmarks on all data\n"
     ]
    }
   ],
   "source": [
    "# benchmark\n",
    "benchmark(mean, 'mean', data, repetitions=10)\n",
    "benchmark(standard_deviation,'standard deviation', data, repetitions=10)\n",
    "benchmark(sum_columns, 'sum columns', data, repetitions=10)\n",
    "benchmark(product_columns, 'product columns', data, repetitions=10)\n",
    "benchmark(complicated_arithmetic_operation, 'complicated arithmetic operation', data, repetitions=10)\n",
    "benchmark(value_counts, 'value counts', data, repetitions=10)\n",
    "benchmark(groupby_statistics, 'groupby statistics', data, repetitions=10)\n",
    "\n",
    "gp = groupby_statistics(data)\n",
    "benchmark(join, 'join', data, repetitions=10, other=gp)\n",
    "print(f\"Done benchmarks on all data\")"
   ]
  },
  {
   "cell_type": "markdown",
   "metadata": {},
   "source": [
    "## Filtered"
   ]
  },
  {
   "cell_type": "code",
   "execution_count": 12,
   "metadata": {},
   "outputs": [
    {
     "name": "stdout",
     "output_type": "stream",
     "text": [
      "Prepare filtered data and deleted 1864 MB\n"
     ]
    }
   ],
   "source": [
    "# load data\n",
    "long_min = -74.05\n",
    "long_max = -73.75\n",
    "lat_min = 40.58\n",
    "lat_max = 40.90\n",
    "\n",
    "expr_filter = (data.pickup_longitude > long_min)  & (data.pickup_longitude < long_max) & \\\n",
    "              (data.pickup_latitude > lat_min)    & (data.pickup_latitude < lat_max) & \\\n",
    "              (data.dropoff_longitude > long_min) & (data.dropoff_longitude < long_max) & \\\n",
    "              (data.dropoff_latitude > lat_min)   & (data.dropoff_latitude < lat_max)\n",
    "\n",
    "filterd = data[expr_filter]\n",
    "del data\n",
    "del gp\n",
    "\n",
    "deleted = gc.collect()\n",
    "print(f\"Prepare filtered data and deleted {deleted} MB\")"
   ]
  },
  {
   "cell_type": "code",
   "execution_count": 13,
   "metadata": {},
   "outputs": [
    {
     "data": {
      "text/plain": [
       "0.006154913902282714"
      ]
     },
     "execution_count": 13,
     "metadata": {},
     "output_type": "execute_result"
    }
   ],
   "source": [
    "# benchmark\n",
    "benchmark(mean, 'filtered mean', filterd, repetitions=10)\n",
    "benchmark(standard_deviation,'filtered standard deviation', filterd, repetitions=10)\n",
    "benchmark(sum_columns, 'filtered sum columns', filterd, repetitions=10)\n",
    "benchmark(product_columns, 'filtered product_columns', filterd, repetitions=10)\n",
    "benchmark(complicated_arithmetic_operation, 'filtered complicated arithmetic_operation', filterd, repetitions=10)\n",
    "benchmark(value_counts, 'filtered value_counts', filterd, repetitions=10)\n",
    "benchmark(groupby_statistics, 'filtered groupby statistics', filterd, repetitions=10)\n",
    "\n",
    "gp = filterd.groupby(by='pickup_hour').agg({'fare_amount': ['mean', 'std'], \n",
    "                                        'tip_amount': ['mean', 'std']\n",
    "                                        })\n",
    "benchmark(join, 'filtered join', filterd, repetitions=10, other=gp)"
   ]
  },
  {
   "cell_type": "code",
   "execution_count": 17,
   "metadata": {},
   "outputs": [
    {
     "data": {
      "text/html": [
       "<div>\n",
       "<style scoped>\n",
       "    .dataframe tbody tr th:only-of-type {\n",
       "        vertical-align: middle;\n",
       "    }\n",
       "\n",
       "    .dataframe tbody tr th {\n",
       "        vertical-align: top;\n",
       "    }\n",
       "\n",
       "    .dataframe thead th {\n",
       "        text-align: right;\n",
       "    }\n",
       "</style>\n",
       "<table border=\"1\" class=\"dataframe\">\n",
       "  <thead>\n",
       "    <tr style=\"text-align: right;\">\n",
       "      <th></th>\n",
       "      <th>vaex</th>\n",
       "    </tr>\n",
       "  </thead>\n",
       "  <tbody>\n",
       "    <tr>\n",
       "      <th>mean</th>\n",
       "      <td>9.630513e-04</td>\n",
       "    </tr>\n",
       "    <tr>\n",
       "      <th>standard deviation</th>\n",
       "      <td>2.164185e-03</td>\n",
       "    </tr>\n",
       "    <tr>\n",
       "      <th>sum columns</th>\n",
       "      <td>1.227856e-06</td>\n",
       "    </tr>\n",
       "    <tr>\n",
       "      <th>product columns</th>\n",
       "      <td>8.893013e-07</td>\n",
       "    </tr>\n",
       "    <tr>\n",
       "      <th>complicated arithmetic operation</th>\n",
       "      <td>4.458714e-04</td>\n",
       "    </tr>\n",
       "  </tbody>\n",
       "</table>\n",
       "</div>"
      ],
      "text/plain": [
       "                                          vaex\n",
       "mean                              9.630513e-04\n",
       "standard deviation                2.164185e-03\n",
       "sum columns                       1.227856e-06\n",
       "product columns                   8.893013e-07\n",
       "complicated arithmetic operation  4.458714e-04"
      ]
     },
     "execution_count": 17,
     "metadata": {},
     "output_type": "execute_result"
    }
   ],
   "source": [
    "name = 'vaex'\n",
    "results = get_results(benchmarks, name)\n",
    "results.to_csv(f\"results/{name}_1m.csv\")\n",
    "results.head()"
   ]
  },
  {
   "cell_type": "code",
   "execution_count": 19,
   "metadata": {},
   "outputs": [
    {
     "data": {
      "text/html": [
       "<table>\n",
       "<thead>\n",
       "<tr><th>#                                  </th><th>vendor_id  </th><th>pickup_datetime              </th><th>dropoff_datetime             </th><th>passenger_count  </th><th>payment_type  </th><th>trip_distance     </th><th>pickup_longitude  </th><th>pickup_latitude   </th><th>rate_code  </th><th>store_and_fwd_flag  </th><th>dropoff_longitude  </th><th>dropoff_latitude  </th><th>fare_amount       </th><th>surcharge  </th><th>mta_tax  </th><th>tip_amount        </th><th>tolls_amount  </th><th>total_amount      </th><th>pickup_hour  </th></tr>\n",
       "</thead>\n",
       "<tbody>\n",
       "<tr><td><i style='opacity: 0.6'>0</i>      </td><td>VTS        </td><td>2009-01-04 02:52:00.000000000</td><td>2009-01-04 03:02:00.000000000</td><td>1                </td><td>CASH          </td><td>2.630000114440918 </td><td>-73.99195861816406</td><td>40.72156524658203 </td><td>nan        </td><td>nan                 </td><td>-73.99380493164062 </td><td>40.6959228515625  </td><td>8.899999618530273 </td><td>0.5        </td><td>nan      </td><td>0.0               </td><td>0.0           </td><td>9.399999618530273 </td><td>2            </td></tr>\n",
       "<tr><td><i style='opacity: 0.6'>1</i>      </td><td>VTS        </td><td>2009-01-04 03:31:00.000000000</td><td>2009-01-04 03:38:00.000000000</td><td>3                </td><td>Credit        </td><td>4.550000190734863 </td><td>-73.98210144042969</td><td>40.736289978027344</td><td>nan        </td><td>nan                 </td><td>-73.95584869384766 </td><td>40.768028259277344</td><td>12.100000381469727</td><td>0.5        </td><td>nan      </td><td>2.0               </td><td>0.0           </td><td>14.600000381469727</td><td>3            </td></tr>\n",
       "<tr><td><i style='opacity: 0.6'>2</i>      </td><td>VTS        </td><td>2009-01-03 15:43:00.000000000</td><td>2009-01-03 15:57:00.000000000</td><td>5                </td><td>Credit        </td><td>10.350000381469727</td><td>-74.0025863647461 </td><td>40.73974609375    </td><td>nan        </td><td>nan                 </td><td>-73.86997985839844 </td><td>40.770225524902344</td><td>23.700000762939453</td><td>0.0        </td><td>nan      </td><td>4.739999771118164 </td><td>0.0           </td><td>28.440000534057617</td><td>15           </td></tr>\n",
       "<tr><td><i style='opacity: 0.6'>3</i>      </td><td>DDS        </td><td>2009-01-01 20:52:58.000000000</td><td>2009-01-01 21:14:00.000000000</td><td>1                </td><td>CREDIT        </td><td>5.0               </td><td>-73.9742660522461 </td><td>40.79095458984375 </td><td>nan        </td><td>nan                 </td><td>-73.9965591430664  </td><td>40.731849670410156</td><td>14.899999618530273</td><td>0.5        </td><td>nan      </td><td>3.049999952316284 </td><td>0.0           </td><td>18.450000762939453</td><td>20           </td></tr>\n",
       "<tr><td><i style='opacity: 0.6'>4</i>      </td><td>DDS        </td><td>2009-01-24 16:18:23.000000000</td><td>2009-01-24 16:24:56.000000000</td><td>1                </td><td>CASH          </td><td>0.4000000059604645</td><td>-74.00157928466797</td><td>40.719383239746094</td><td>nan        </td><td>nan                 </td><td>-74.00837707519531 </td><td>40.7203483581543  </td><td>3.700000047683716 </td><td>0.0        </td><td>nan      </td><td>0.0               </td><td>0.0           </td><td>3.700000047683716 </td><td>16           </td></tr>\n",
       "<tr><td>...                                </td><td>...        </td><td>...                          </td><td>...                          </td><td>...              </td><td>...           </td><td>...               </td><td>...               </td><td>...               </td><td>...        </td><td>...                 </td><td>...                </td><td>...               </td><td>...               </td><td>...        </td><td>...      </td><td>...               </td><td>...           </td><td>...               </td><td>...          </td></tr>\n",
       "<tr><td><i style='opacity: 0.6'>979,057</i></td><td>CMT        </td><td>2009-01-14 19:43:31.000000000</td><td>2009-01-14 19:48:08.000000000</td><td>1                </td><td>Cash          </td><td>0.6000000238418579</td><td>-73.98531341552734</td><td>40.76328659057617 </td><td>nan        </td><td>nan                 </td><td>-73.98221588134766 </td><td>40.77125549316406 </td><td>5.5               </td><td>0.0        </td><td>nan      </td><td>0.0               </td><td>0.0           </td><td>5.5               </td><td>19           </td></tr>\n",
       "<tr><td><i style='opacity: 0.6'>979,058</i></td><td>CMT        </td><td>2009-01-12 16:36:30.000000000</td><td>2009-01-12 16:40:43.000000000</td><td>1                </td><td>Credit        </td><td>0.800000011920929 </td><td>-73.95894622802734</td><td>40.78066635131836 </td><td>nan        </td><td>nan                 </td><td>-73.9701919555664  </td><td>40.78417205810547 </td><td>5.900000095367432 </td><td>0.0        </td><td>nan      </td><td>1.0               </td><td>0.0           </td><td>6.900000095367432 </td><td>16           </td></tr>\n",
       "<tr><td><i style='opacity: 0.6'>979,059</i></td><td>CMT        </td><td>2009-01-12 14:16:57.000000000</td><td>2009-01-12 14:28:02.000000000</td><td>1                </td><td>Credit        </td><td>4.699999809265137 </td><td>-73.98450469970703</td><td>40.72896957397461 </td><td>nan        </td><td>nan                 </td><td>-74.01480102539062 </td><td>40.70855712890625 </td><td>12.899999618530273</td><td>0.0        </td><td>nan      </td><td>1.9299999475479126</td><td>0.0           </td><td>14.829999923706055</td><td>14           </td></tr>\n",
       "<tr><td><i style='opacity: 0.6'>979,060</i></td><td>CMT        </td><td>2009-01-22 11:21:35.000000000</td><td>2009-01-22 11:37:06.000000000</td><td>1                </td><td>Cash          </td><td>1.5               </td><td>-73.99223327636719</td><td>40.749298095703125</td><td>nan        </td><td>nan                 </td><td>-73.98204040527344 </td><td>40.762874603271484</td><td>9.300000190734863 </td><td>0.0        </td><td>nan      </td><td>0.0               </td><td>0.0           </td><td>9.300000190734863 </td><td>11           </td></tr>\n",
       "<tr><td><i style='opacity: 0.6'>979,061</i></td><td>CMT        </td><td>2009-01-22 08:10:24.000000000</td><td>2009-01-22 08:39:43.000000000</td><td>1                </td><td>Cash          </td><td>5.400000095367432 </td><td>-74.00814056396484</td><td>40.72328186035156 </td><td>nan        </td><td>nan                 </td><td>-74.0087890625     </td><td>40.71537780761719 </td><td>18.100000381469727</td><td>0.0        </td><td>nan      </td><td>0.0               </td><td>0.0           </td><td>18.100000381469727</td><td>8            </td></tr>\n",
       "</tbody>\n",
       "</table>"
      ],
      "text/plain": [
       "#        vendor_id    pickup_datetime                dropoff_datetime               passenger_count    payment_type    trip_distance       pickup_longitude    pickup_latitude     rate_code    store_and_fwd_flag    dropoff_longitude    dropoff_latitude    fare_amount         surcharge    mta_tax    tip_amount          tolls_amount    total_amount        pickup_hour\n",
       "0        VTS          2009-01-04 02:52:00.000000000  2009-01-04 03:02:00.000000000  1                  CASH            2.630000114440918   -73.99195861816406  40.72156524658203   nan          nan                   -73.99380493164062   40.6959228515625    8.899999618530273   0.5          nan        0.0                 0.0             9.399999618530273   2\n",
       "1        VTS          2009-01-04 03:31:00.000000000  2009-01-04 03:38:00.000000000  3                  Credit          4.550000190734863   -73.98210144042969  40.736289978027344  nan          nan                   -73.95584869384766   40.768028259277344  12.100000381469727  0.5          nan        2.0                 0.0             14.600000381469727  3\n",
       "2        VTS          2009-01-03 15:43:00.000000000  2009-01-03 15:57:00.000000000  5                  Credit          10.350000381469727  -74.0025863647461   40.73974609375      nan          nan                   -73.86997985839844   40.770225524902344  23.700000762939453  0.0          nan        4.739999771118164   0.0             28.440000534057617  15\n",
       "3        DDS          2009-01-01 20:52:58.000000000  2009-01-01 21:14:00.000000000  1                  CREDIT          5.0                 -73.9742660522461   40.79095458984375   nan          nan                   -73.9965591430664    40.731849670410156  14.899999618530273  0.5          nan        3.049999952316284   0.0             18.450000762939453  20\n",
       "4        DDS          2009-01-24 16:18:23.000000000  2009-01-24 16:24:56.000000000  1                  CASH            0.4000000059604645  -74.00157928466797  40.719383239746094  nan          nan                   -74.00837707519531   40.7203483581543    3.700000047683716   0.0          nan        0.0                 0.0             3.700000047683716   16\n",
       "...      ...          ...                            ...                            ...                ...             ...                 ...                 ...                 ...          ...                   ...                  ...                 ...                 ...          ...        ...                 ...             ...                 ...\n",
       "979,057  CMT          2009-01-14 19:43:31.000000000  2009-01-14 19:48:08.000000000  1                  Cash            0.6000000238418579  -73.98531341552734  40.76328659057617   nan          nan                   -73.98221588134766   40.77125549316406   5.5                 0.0          nan        0.0                 0.0             5.5                 19\n",
       "979,058  CMT          2009-01-12 16:36:30.000000000  2009-01-12 16:40:43.000000000  1                  Credit          0.800000011920929   -73.95894622802734  40.78066635131836   nan          nan                   -73.9701919555664    40.78417205810547   5.900000095367432   0.0          nan        1.0                 0.0             6.900000095367432   16\n",
       "979,059  CMT          2009-01-12 14:16:57.000000000  2009-01-12 14:28:02.000000000  1                  Credit          4.699999809265137   -73.98450469970703  40.72896957397461   nan          nan                   -74.01480102539062   40.70855712890625   12.899999618530273  0.0          nan        1.9299999475479126  0.0             14.829999923706055  14\n",
       "979,060  CMT          2009-01-22 11:21:35.000000000  2009-01-22 11:37:06.000000000  1                  Cash            1.5                 -73.99223327636719  40.749298095703125  nan          nan                   -73.98204040527344   40.762874603271484  9.300000190734863   0.0          nan        0.0                 0.0             9.300000190734863   11\n",
       "979,061  CMT          2009-01-22 08:10:24.000000000  2009-01-22 08:39:43.000000000  1                  Cash            5.400000095367432   -74.00814056396484  40.72328186035156   nan          nan                   -74.0087890625       40.71537780761719   18.100000381469727  0.0          nan        0.0                 0.0             18.100000381469727  8"
      ]
     },
     "execution_count": 19,
     "metadata": {},
     "output_type": "execute_result"
    }
   ],
   "source": [
    "filterd"
   ]
  },
  {
   "cell_type": "code",
   "execution_count": null,
   "metadata": {},
   "outputs": [],
   "source": []
  }
 ],
 "metadata": {
  "kernelspec": {
   "display_name": "conda_python3",
   "language": "python",
   "name": "conda_python3"
  },
  "language_info": {
   "codemirror_mode": {
    "name": "ipython",
    "version": 3
   },
   "file_extension": ".py",
   "mimetype": "text/x-python",
   "name": "python",
   "nbconvert_exporter": "python",
   "pygments_lexer": "ipython3",
   "version": "3.6.5"
  }
 },
 "nbformat": 4,
 "nbformat_minor": 4
}
