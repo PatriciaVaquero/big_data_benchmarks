{
 "cells": [
  {
   "cell_type": "markdown",
   "metadata": {},
   "source": [
    "# Install packages"
   ]
  },
  {
   "cell_type": "code",
   "execution_count": 1,
   "metadata": {
    "ExecuteTime": {
     "end_time": "2020-05-28T18:18:27.423689Z",
     "start_time": "2020-05-28T18:18:20.837821Z"
    }
   },
   "outputs": [],
   "source": [
    "%%capture\n",
    "%%bash\n",
    "python -m pip install -U pip\n",
    "python -m pip install vaex-core\n",
    "python -m pip install vaex-hdf5\n",
    "python -m pip install -U numpy\n",
    "python -m pip install -U ipython ipykernel"
   ]
  },
  {
   "cell_type": "markdown",
   "metadata": {},
   "source": [
    "# Please restart the karnel after installation "
   ]
  },
  {
   "cell_type": "code",
   "execution_count": 1,
   "metadata": {
    "ExecuteTime": {
     "end_time": "2020-05-28T18:18:34.310282Z",
     "start_time": "2020-05-28T18:18:33.798499Z"
    },
    "code_folding": [
     30,
     35,
     40
    ]
   },
   "outputs": [
    {
     "name": "stdout",
     "output_type": "stream",
     "text": [
      "We test every benchmark twice and save both results\n"
     ]
    }
   ],
   "source": [
    "import gc\n",
    "import numpy as np\n",
    "import pandas as pd\n",
    "import warnings\n",
    "import time\n",
    "import gc\n",
    "import os\n",
    "\n",
    "instance_type = 'c5d4xlarge' # change this\n",
    "results_bucket = f\"s3://xdss-benchmarks/benchmarks\" # change this\n",
    "\n",
    "name = 'vaex'\n",
    "data_path = 'datasets/taxi_1B.hdf5'\n",
    "output_file = f'{name}_{instance_type}.csv'\n",
    "results_path = f\"results/{output_file}\"\n",
    "results_bucket = f\"{results_bucket}/{output_file}\" \n",
    "benchmarks = {\n",
    "    'run':[],\n",
    "    'duration': [],\n",
    "    'task': []   \n",
    "}\n",
    "\n",
    "long_min = -74.05\n",
    "long_max = -73.75\n",
    "lat_min = 40.58\n",
    "lat_max = 40.90\n",
    "\n",
    "\n",
    "def get_results(benchmarks):\n",
    "    return pd.DataFrame.from_dict(benchmarks, orient='index').T\n",
    "\n",
    "def persist():\n",
    "    gc.collect()\n",
    "    get_results(benchmarks).to_csv(results_path)\n",
    "    os.system(f\"aws s3 cp {results_path} {results_bucket}\")\n",
    "    \n",
    "def benchmark(f, df, name, **kwargs):    \n",
    "    for i in range(2):\n",
    "        start_time = time.time()\n",
    "        ret = f(df, **kwargs)\n",
    "        benchmarks['duration'].append(time.time()-start_time)\n",
    "        benchmarks['task'].append(name)\n",
    "        benchmarks['run'].append(i+1)\n",
    "    persist()\n",
    "    print(f\"{name} took: {benchmarks['duration'][-1]}\")\n",
    "    return benchmarks['duration'][-1]\n",
    "\n",
    "\n",
    "!mkdir -p results\n",
    "!mkdir -p datasets\n",
    "print(f\"We test every benchmark twice and save both results\")"
   ]
  },
  {
   "cell_type": "markdown",
   "metadata": {},
   "source": [
    "# Benchmark"
   ]
  },
  {
   "cell_type": "code",
   "execution_count": 2,
   "metadata": {
    "ExecuteTime": {
     "end_time": "2020-05-28T18:18:40.680621Z",
     "start_time": "2020-05-28T18:18:34.760435Z"
    }
   },
   "outputs": [
    {
     "name": "stdout",
     "output_type": "stream",
     "text": [
      "size: 1173057927 with 18 columns\n"
     ]
    }
   ],
   "source": [
    "import vaex\n",
    "import numpy as np\n",
    "\n",
    "data = vaex.open(data_path)\n",
    "print(f\"size: {len(data)} with {len(data.columns)} columns\")"
   ]
  },
  {
   "cell_type": "code",
   "execution_count": 3,
   "metadata": {
    "ExecuteTime": {
     "end_time": "2020-05-28T18:19:09.107219Z",
     "start_time": "2020-05-28T18:19:08.409783Z"
    }
   },
   "outputs": [
    {
     "name": "stdout",
     "output_type": "stream",
     "text": [
      "read_file took: 0.005378246307373047\n"
     ]
    },
    {
     "data": {
      "text/plain": [
       "0.005378246307373047"
      ]
     },
     "execution_count": 3,
     "metadata": {},
     "output_type": "execute_result"
    }
   ],
   "source": [
    "def open_file(df=None):\n",
    "    return vaex.open(data_path)\n",
    "\n",
    "benchmark(open_file, df=data, name='read_file')"
   ]
  },
  {
   "cell_type": "code",
   "execution_count": 4,
   "metadata": {
    "ExecuteTime": {
     "end_time": "2020-05-28T18:19:09.640989Z",
     "start_time": "2020-05-28T18:19:09.109230Z"
    }
   },
   "outputs": [
    {
     "name": "stdout",
     "output_type": "stream",
     "text": [
      "count took: 1.9073486328125e-06\n"
     ]
    },
    {
     "data": {
      "text/plain": [
       "1.9073486328125e-06"
      ]
     },
     "execution_count": 4,
     "metadata": {},
     "output_type": "execute_result"
    }
   ],
   "source": [
    "def count(df=None):\n",
    "    return len(df)\n",
    "\n",
    "benchmark(count, df=data, name='count')"
   ]
  },
  {
   "cell_type": "code",
   "execution_count": 5,
   "metadata": {
    "ExecuteTime": {
     "end_time": "2020-05-28T18:19:11.382212Z",
     "start_time": "2020-05-28T18:19:09.642681Z"
    }
   },
   "outputs": [
    {
     "name": "stdout",
     "output_type": "stream",
     "text": [
      "mean took: 0.5522580146789551\n"
     ]
    },
    {
     "data": {
      "text/plain": [
       "0.5522580146789551"
      ]
     },
     "execution_count": 5,
     "metadata": {},
     "output_type": "execute_result"
    }
   ],
   "source": [
    "def mean(df):\n",
    "    return df.fare_amount.mean()\n",
    "\n",
    "benchmark(mean, df=data, name='mean')"
   ]
  },
  {
   "cell_type": "code",
   "execution_count": 6,
   "metadata": {
    "ExecuteTime": {
     "end_time": "2020-05-28T18:19:15.253012Z",
     "start_time": "2020-05-28T18:19:11.383956Z"
    }
   },
   "outputs": [
    {
     "name": "stdout",
     "output_type": "stream",
     "text": [
      "standard deviation took: 1.649454116821289\n"
     ]
    },
    {
     "data": {
      "text/plain": [
       "1.649454116821289"
      ]
     },
     "execution_count": 6,
     "metadata": {},
     "output_type": "execute_result"
    }
   ],
   "source": [
    "def standard_deviation(df):\n",
    "    return df.fare_amount.std()\n",
    "\n",
    "benchmark(standard_deviation, df=data, name='standard deviation')"
   ]
  },
  {
   "cell_type": "code",
   "execution_count": 7,
   "metadata": {
    "ExecuteTime": {
     "end_time": "2020-05-28T18:19:20.781943Z",
     "start_time": "2020-05-28T18:19:15.254728Z"
    }
   },
   "outputs": [
    {
     "name": "stdout",
     "output_type": "stream",
     "text": [
      "sum columns mean took: 0.7300000190734863\n"
     ]
    },
    {
     "data": {
      "text/plain": [
       "0.7300000190734863"
      ]
     },
     "execution_count": 7,
     "metadata": {},
     "output_type": "execute_result"
    }
   ],
   "source": [
    "def mean_of_sum(df):\n",
    "    return (df.fare_amount + df.trip_distance).mean()\n",
    "\n",
    "benchmark(mean_of_sum, df=data, name='sum columns mean')"
   ]
  },
  {
   "cell_type": "code",
   "execution_count": 8,
   "metadata": {
    "ExecuteTime": {
     "end_time": "2020-05-28T18:19:21.320424Z",
     "start_time": "2020-05-28T18:19:20.783688Z"
    }
   },
   "outputs": [
    {
     "name": "stdout",
     "output_type": "stream",
     "text": [
      "sum columns took: 8.58306884765625e-06\n"
     ]
    },
    {
     "data": {
      "text/plain": [
       "8.58306884765625e-06"
      ]
     },
     "execution_count": 8,
     "metadata": {},
     "output_type": "execute_result"
    }
   ],
   "source": [
    "# lazy evaulation - instant\n",
    "def sum_columns(df):\n",
    "    return (df.fare_amount + df.trip_distance)\n",
    "\n",
    "benchmark(sum_columns, df=data, name='sum columns')"
   ]
  },
  {
   "cell_type": "code",
   "execution_count": 9,
   "metadata": {
    "ExecuteTime": {
     "end_time": "2020-05-28T18:19:23.335765Z",
     "start_time": "2020-05-28T18:19:21.322110Z"
    }
   },
   "outputs": [
    {
     "name": "stdout",
     "output_type": "stream",
     "text": [
      "product columns mean took: 0.7349269390106201\n"
     ]
    },
    {
     "data": {
      "text/plain": [
       "0.7349269390106201"
      ]
     },
     "execution_count": 9,
     "metadata": {},
     "output_type": "execute_result"
    }
   ],
   "source": [
    "def mean_of_product(df):\n",
    "    return (df.fare_amount * df.trip_distance).mean()\n",
    "\n",
    "benchmark(mean_of_product, df=data, name='product columns mean')"
   ]
  },
  {
   "cell_type": "code",
   "execution_count": 10,
   "metadata": {
    "ExecuteTime": {
     "end_time": "2020-05-28T18:19:23.894627Z",
     "start_time": "2020-05-28T18:19:23.337520Z"
    }
   },
   "outputs": [
    {
     "name": "stdout",
     "output_type": "stream",
     "text": [
      "product columns took: 8.344650268554688e-06\n"
     ]
    },
    {
     "data": {
      "text/plain": [
       "8.344650268554688e-06"
      ]
     },
     "execution_count": 10,
     "metadata": {},
     "output_type": "execute_result"
    }
   ],
   "source": [
    "# lazy evaulation - instant\n",
    "def product(df):\n",
    "    return df.fare_amount * df.trip_distance\n",
    "\n",
    "benchmark(product, df=data, name='product columns')"
   ]
  },
  {
   "cell_type": "code",
   "execution_count": 11,
   "metadata": {
    "ExecuteTime": {
     "end_time": "2020-05-28T18:19:25.951546Z",
     "start_time": "2020-05-28T18:19:23.896298Z"
    }
   },
   "outputs": [
    {
     "name": "stdout",
     "output_type": "stream",
     "text": [
      "lazy evaluation took: 0.7417764663696289\n"
     ]
    },
    {
     "data": {
      "text/plain": [
       "0.7417764663696289"
      ]
     },
     "execution_count": 11,
     "metadata": {},
     "output_type": "execute_result"
    }
   ],
   "source": [
    "def lazy_mean(df):\n",
    "    df['lazy'] = df.fare_amount * df.trip_distance\n",
    "    return df['lazy'].mean()\n",
    "    \n",
    "benchmark(lazy_mean, df=data, name='lazy evaluation')  "
   ]
  },
  {
   "cell_type": "code",
   "execution_count": 12,
   "metadata": {
    "ExecuteTime": {
     "end_time": "2020-05-28T18:19:37.427499Z",
     "start_time": "2020-05-28T18:19:25.953326Z"
    }
   },
   "outputs": [
    {
     "name": "stdout",
     "output_type": "stream",
     "text": [
      "value counts took: 0.3198368549346924\n"
     ]
    },
    {
     "data": {
      "text/plain": [
       "0.3198368549346924"
      ]
     },
     "execution_count": 12,
     "metadata": {},
     "output_type": "execute_result"
    }
   ],
   "source": [
    "def value_counts(df):\n",
    "    return df.passenger_count.value_counts()\n",
    "\n",
    "benchmark(value_counts, df=data, name='value counts')"
   ]
  },
  {
   "cell_type": "code",
   "execution_count": 13,
   "metadata": {
    "ExecuteTime": {
     "end_time": "2020-05-28T18:20:10.900020Z",
     "start_time": "2020-05-28T18:19:37.429232Z"
    },
    "scrolled": true
   },
   "outputs": [
    {
     "name": "stdout",
     "output_type": "stream",
     "text": [
      "arithmetic operation mean took: 10.201130867004395\n"
     ]
    },
    {
     "data": {
      "text/plain": [
       "10.201130867004395"
      ]
     },
     "execution_count": 13,
     "metadata": {},
     "output_type": "execute_result"
    }
   ],
   "source": [
    "def mean_of_complicated_arithmetic_operation(df):\n",
    "    theta_1 = df.pickup_longitude\n",
    "    phi_1 = df.pickup_latitude\n",
    "    theta_2 = df.dropoff_longitude\n",
    "    phi_2 = df.dropoff_latitude\n",
    "    temp = (np.sin((theta_2-theta_1)/2*np.pi/180)**2\n",
    "           + np.cos(theta_1*np.pi/180)*np.cos(theta_2*np.pi/180) * np.sin((phi_2-phi_1)/2*np.pi/180)**2)\n",
    "    df['complicated'] = 2 * np.arctan2(np.sqrt(temp), np.sqrt(1-temp))\n",
    "    return df['complicated'].mean()\n",
    "\n",
    "benchmark(mean_of_complicated_arithmetic_operation, df=data, name='arithmetic operation mean')\n"
   ]
  },
  {
   "cell_type": "code",
   "execution_count": 14,
   "metadata": {
    "ExecuteTime": {
     "end_time": "2020-05-28T18:20:11.408635Z",
     "start_time": "2020-05-28T18:20:10.901747Z"
    }
   },
   "outputs": [
    {
     "name": "stdout",
     "output_type": "stream",
     "text": [
      "arithmetic operation took: 0.00422978401184082\n"
     ]
    },
    {
     "data": {
      "text/plain": [
       "0.00422978401184082"
      ]
     },
     "execution_count": 14,
     "metadata": {},
     "output_type": "execute_result"
    }
   ],
   "source": [
    "# lazy evaulation - instant\n",
    "def complicated_arithmetic_operation(df):\n",
    "    theta_1 = df.pickup_longitude\n",
    "    phi_1 = df.pickup_latitude\n",
    "    theta_2 = df.dropoff_longitude\n",
    "    phi_2 = df.dropoff_latitude\n",
    "    temp = (np.sin((theta_2-theta_1)/2*np.pi/180)**2\n",
    "           + np.cos(theta_1*np.pi/180)*np.cos(theta_2*np.pi/180) * np.sin((phi_2-phi_1)/2*np.pi/180)**2)\n",
    "    df['complicated'] = 2 * np.arctan2(np.sqrt(temp), np.sqrt(1-temp))\n",
    "    return df['complicated']\n",
    "\n",
    "benchmark(complicated_arithmetic_operation, df=data, name='arithmetic operation')"
   ]
  },
  {
   "cell_type": "code",
   "execution_count": 15,
   "metadata": {
    "ExecuteTime": {
     "end_time": "2020-05-28T18:20:41.977806Z",
     "start_time": "2020-05-28T18:20:11.410320Z"
    }
   },
   "outputs": [
    {
     "name": "stdout",
     "output_type": "stream",
     "text": [
      "groupby statistics took: 5.767553091049194\n"
     ]
    },
    {
     "data": {
      "text/plain": [
       "5.767553091049194"
      ]
     },
     "execution_count": 15,
     "metadata": {},
     "output_type": "execute_result"
    }
   ],
   "source": [
    "def groupby_statistics(df):\n",
    "    return df.groupby(by='passenger_count').agg({'fare_amount': ['mean', 'std'], \n",
    "                                               'tip_amount': ['mean', 'std']\n",
    "                                              })\n",
    "\n",
    "benchmark(groupby_statistics, df=data, name='groupby statistics')"
   ]
  },
  {
   "cell_type": "code",
   "execution_count": 16,
   "metadata": {
    "ExecuteTime": {
     "end_time": "2020-05-28T18:20:47.509386Z",
     "start_time": "2020-05-28T18:20:41.980737Z"
    }
   },
   "outputs": [],
   "source": [
    "other = groupby_statistics(data)"
   ]
  },
  {
   "cell_type": "code",
   "execution_count": 17,
   "metadata": {
    "ExecuteTime": {
     "end_time": "2020-05-28T18:20:51.039506Z",
     "start_time": "2020-05-28T18:20:47.510860Z"
    }
   },
   "outputs": [
    {
     "name": "stdout",
     "output_type": "stream",
     "text": [
      "join count took: 1.4503576755523682\n"
     ]
    },
    {
     "data": {
      "text/plain": [
       "1.4503576755523682"
      ]
     },
     "execution_count": 17,
     "metadata": {},
     "output_type": "execute_result"
    }
   ],
   "source": [
    "def join_count(df, other):\n",
    "    return len(df.join(other=other, on = 'passenger_count', rsuffix = '_right'))\n",
    "\n",
    "benchmark(join_count, data, name='join count', other=other)"
   ]
  },
  {
   "cell_type": "code",
   "execution_count": 18,
   "metadata": {
    "ExecuteTime": {
     "end_time": "2020-05-28T18:20:53.254964Z",
     "start_time": "2020-05-28T18:20:51.041761Z"
    }
   },
   "outputs": [
    {
     "name": "stdout",
     "output_type": "stream",
     "text": [
      "join took: 1.0018935203552246\n"
     ]
    },
    {
     "data": {
      "text/plain": [
       "1.0018935203552246"
      ]
     },
     "execution_count": 18,
     "metadata": {},
     "output_type": "execute_result"
    }
   ],
   "source": [
    "def join_data(df, other):\n",
    "    return df.join(other=other, on = 'passenger_count', rsuffix = '_right')\n",
    "\n",
    "benchmark(join_data, data, name='join', other=other)"
   ]
  },
  {
   "cell_type": "markdown",
   "metadata": {},
   "source": [
    "## Filtered data"
   ]
  },
  {
   "cell_type": "markdown",
   "metadata": {},
   "source": [
    "Dask is not build to run on filter data like you would normally, so we will apply the same strategy"
   ]
  },
  {
   "cell_type": "code",
   "execution_count": 19,
   "metadata": {
    "ExecuteTime": {
     "end_time": "2020-05-28T18:20:53.320190Z",
     "start_time": "2020-05-28T18:20:53.257230Z"
    }
   },
   "outputs": [
    {
     "name": "stdout",
     "output_type": "stream",
     "text": [
      "Prepare filtered data and deleted 1054 MB\n"
     ]
    }
   ],
   "source": [
    "print(f\"Prepare filtered data and deleted {gc.collect()} MB\")"
   ]
  },
  {
   "cell_type": "code",
   "execution_count": 20,
   "metadata": {
    "ExecuteTime": {
     "end_time": "2020-05-28T18:20:56.105094Z",
     "start_time": "2020-05-28T18:20:53.322159Z"
    }
   },
   "outputs": [
    {
     "name": "stdout",
     "output_type": "stream",
     "text": [
      "filter data took: 1.1085867881774902\n"
     ]
    },
    {
     "data": {
      "text/plain": [
       "1.1085867881774902"
      ]
     },
     "execution_count": 20,
     "metadata": {},
     "output_type": "execute_result"
    }
   ],
   "source": [
    "def filter_data(df):\n",
    "    expr_filter = (df.pickup_longitude > long_min)  & (df.pickup_longitude < long_max) & \\\n",
    "                  (df.pickup_latitude > lat_min)    & (df.pickup_latitude < lat_max) & \\\n",
    "                  (df.dropoff_longitude > long_min) & (df.dropoff_longitude < long_max) & \\\n",
    "                  (df.dropoff_latitude > lat_min)   & (df.dropoff_latitude < lat_max)\n",
    "    return df[expr_filter]\n",
    "\n",
    "benchmark(filter_data, data, name='filter data')"
   ]
  },
  {
   "cell_type": "code",
   "execution_count": 21,
   "metadata": {
    "ExecuteTime": {
     "end_time": "2020-05-28T18:20:57.323214Z",
     "start_time": "2020-05-28T18:20:56.106778Z"
    }
   },
   "outputs": [
    {
     "name": "stdout",
     "output_type": "stream",
     "text": [
      "cleaned 2887 mb\n"
     ]
    }
   ],
   "source": [
    "filtered = filter_data(data)\n",
    "\n",
    "del data\n",
    "print(f\"cleaned {gc.collect()} mb\")"
   ]
  },
  {
   "cell_type": "code",
   "execution_count": 22,
   "metadata": {
    "ExecuteTime": {
     "end_time": "2020-05-28T18:22:56.851884Z",
     "start_time": "2020-05-28T18:20:57.324725Z"
    }
   },
   "outputs": [
    {
     "name": "stderr",
     "output_type": "stream",
     "text": [
      "<string>:1: RuntimeWarning: invalid value encountered in greater\n",
      "<string>:1: RuntimeWarning: invalid value encountered in less\n"
     ]
    },
    {
     "name": "stdout",
     "output_type": "stream",
     "text": [
      "filtered mean took: 0.9049773216247559\n",
      "filtered standard deviation took: 1.9094150066375732\n",
      "filtered sum columns mean took: 2.2794041633605957\n",
      "filtered sum columns took: 8.58306884765625e-06\n",
      "filtered product columns mean took: 2.415121078491211\n",
      "filtered product columns took: 8.58306884765625e-06\n",
      "filtered arithmetic operation mean took: 14.02369213104248\n",
      "filtered arithmetic operation took: 0.008115530014038086\n",
      "filtered value counts took: 0.5618457794189453\n",
      "filtered groupby statistics took: 8.287164211273193\n",
      "filtered join count took: 1.6753106117248535\n",
      "filtered join took: 1.1281743049621582\n",
      "vaex\n"
     ]
    },
    {
     "data": {
      "text/html": [
       "<div>\n",
       "<style scoped>\n",
       "    .dataframe tbody tr th:only-of-type {\n",
       "        vertical-align: middle;\n",
       "    }\n",
       "\n",
       "    .dataframe tbody tr th {\n",
       "        vertical-align: top;\n",
       "    }\n",
       "\n",
       "    .dataframe thead th {\n",
       "        text-align: right;\n",
       "    }\n",
       "</style>\n",
       "<table border=\"1\" class=\"dataframe\">\n",
       "  <thead>\n",
       "    <tr style=\"text-align: right;\">\n",
       "      <th></th>\n",
       "      <th>run</th>\n",
       "      <th>duration</th>\n",
       "      <th>task</th>\n",
       "    </tr>\n",
       "  </thead>\n",
       "  <tbody>\n",
       "    <tr>\n",
       "      <th>0</th>\n",
       "      <td>1</td>\n",
       "      <td>0.00713778</td>\n",
       "      <td>read_file</td>\n",
       "    </tr>\n",
       "    <tr>\n",
       "      <th>1</th>\n",
       "      <td>2</td>\n",
       "      <td>0.00537825</td>\n",
       "      <td>read_file</td>\n",
       "    </tr>\n",
       "    <tr>\n",
       "      <th>2</th>\n",
       "      <td>1</td>\n",
       "      <td>3.62396e-05</td>\n",
       "      <td>count</td>\n",
       "    </tr>\n",
       "    <tr>\n",
       "      <th>3</th>\n",
       "      <td>2</td>\n",
       "      <td>1.90735e-06</td>\n",
       "      <td>count</td>\n",
       "    </tr>\n",
       "    <tr>\n",
       "      <th>4</th>\n",
       "      <td>1</td>\n",
       "      <td>0.619524</td>\n",
       "      <td>mean</td>\n",
       "    </tr>\n",
       "    <tr>\n",
       "      <th>5</th>\n",
       "      <td>2</td>\n",
       "      <td>0.552258</td>\n",
       "      <td>mean</td>\n",
       "    </tr>\n",
       "    <tr>\n",
       "      <th>6</th>\n",
       "      <td>1</td>\n",
       "      <td>1.65766</td>\n",
       "      <td>standard deviation</td>\n",
       "    </tr>\n",
       "    <tr>\n",
       "      <th>7</th>\n",
       "      <td>2</td>\n",
       "      <td>1.64945</td>\n",
       "      <td>standard deviation</td>\n",
       "    </tr>\n",
       "    <tr>\n",
       "      <th>8</th>\n",
       "      <td>1</td>\n",
       "      <td>4.23071</td>\n",
       "      <td>sum columns mean</td>\n",
       "    </tr>\n",
       "    <tr>\n",
       "      <th>9</th>\n",
       "      <td>2</td>\n",
       "      <td>0.73</td>\n",
       "      <td>sum columns mean</td>\n",
       "    </tr>\n",
       "    <tr>\n",
       "      <th>10</th>\n",
       "      <td>1</td>\n",
       "      <td>8.36849e-05</td>\n",
       "      <td>sum columns</td>\n",
       "    </tr>\n",
       "    <tr>\n",
       "      <th>11</th>\n",
       "      <td>2</td>\n",
       "      <td>8.58307e-06</td>\n",
       "      <td>sum columns</td>\n",
       "    </tr>\n",
       "    <tr>\n",
       "      <th>12</th>\n",
       "      <td>1</td>\n",
       "      <td>0.739336</td>\n",
       "      <td>product columns mean</td>\n",
       "    </tr>\n",
       "    <tr>\n",
       "      <th>13</th>\n",
       "      <td>2</td>\n",
       "      <td>0.734927</td>\n",
       "      <td>product columns mean</td>\n",
       "    </tr>\n",
       "    <tr>\n",
       "      <th>14</th>\n",
       "      <td>1</td>\n",
       "      <td>8.39233e-05</td>\n",
       "      <td>product columns</td>\n",
       "    </tr>\n",
       "    <tr>\n",
       "      <th>15</th>\n",
       "      <td>2</td>\n",
       "      <td>8.34465e-06</td>\n",
       "      <td>product columns</td>\n",
       "    </tr>\n",
       "    <tr>\n",
       "      <th>16</th>\n",
       "      <td>1</td>\n",
       "      <td>0.736122</td>\n",
       "      <td>lazy evaluation</td>\n",
       "    </tr>\n",
       "    <tr>\n",
       "      <th>17</th>\n",
       "      <td>2</td>\n",
       "      <td>0.741776</td>\n",
       "      <td>lazy evaluation</td>\n",
       "    </tr>\n",
       "    <tr>\n",
       "      <th>18</th>\n",
       "      <td>1</td>\n",
       "      <td>10.5577</td>\n",
       "      <td>value counts</td>\n",
       "    </tr>\n",
       "    <tr>\n",
       "      <th>19</th>\n",
       "      <td>2</td>\n",
       "      <td>0.319837</td>\n",
       "      <td>value counts</td>\n",
       "    </tr>\n",
       "    <tr>\n",
       "      <th>20</th>\n",
       "      <td>1</td>\n",
       "      <td>22.2451</td>\n",
       "      <td>arithmetic operation mean</td>\n",
       "    </tr>\n",
       "    <tr>\n",
       "      <th>21</th>\n",
       "      <td>2</td>\n",
       "      <td>10.2011</td>\n",
       "      <td>arithmetic operation mean</td>\n",
       "    </tr>\n",
       "    <tr>\n",
       "      <th>22</th>\n",
       "      <td>1</td>\n",
       "      <td>0.00481176</td>\n",
       "      <td>arithmetic operation</td>\n",
       "    </tr>\n",
       "    <tr>\n",
       "      <th>23</th>\n",
       "      <td>2</td>\n",
       "      <td>0.00422978</td>\n",
       "      <td>arithmetic operation</td>\n",
       "    </tr>\n",
       "    <tr>\n",
       "      <th>24</th>\n",
       "      <td>1</td>\n",
       "      <td>23.55</td>\n",
       "      <td>groupby statistics</td>\n",
       "    </tr>\n",
       "    <tr>\n",
       "      <th>25</th>\n",
       "      <td>2</td>\n",
       "      <td>5.76755</td>\n",
       "      <td>groupby statistics</td>\n",
       "    </tr>\n",
       "    <tr>\n",
       "      <th>26</th>\n",
       "      <td>1</td>\n",
       "      <td>1.54056</td>\n",
       "      <td>join count</td>\n",
       "    </tr>\n",
       "    <tr>\n",
       "      <th>27</th>\n",
       "      <td>2</td>\n",
       "      <td>1.45036</td>\n",
       "      <td>join count</td>\n",
       "    </tr>\n",
       "    <tr>\n",
       "      <th>28</th>\n",
       "      <td>1</td>\n",
       "      <td>0.654682</td>\n",
       "      <td>join</td>\n",
       "    </tr>\n",
       "    <tr>\n",
       "      <th>29</th>\n",
       "      <td>2</td>\n",
       "      <td>1.00189</td>\n",
       "      <td>join</td>\n",
       "    </tr>\n",
       "    <tr>\n",
       "      <th>30</th>\n",
       "      <td>1</td>\n",
       "      <td>1.08739</td>\n",
       "      <td>filter data</td>\n",
       "    </tr>\n",
       "    <tr>\n",
       "      <th>31</th>\n",
       "      <td>2</td>\n",
       "      <td>1.10859</td>\n",
       "      <td>filter data</td>\n",
       "    </tr>\n",
       "    <tr>\n",
       "      <th>32</th>\n",
       "      <td>1</td>\n",
       "      <td>23.1657</td>\n",
       "      <td>filtered mean</td>\n",
       "    </tr>\n",
       "    <tr>\n",
       "      <th>33</th>\n",
       "      <td>2</td>\n",
       "      <td>0.904977</td>\n",
       "      <td>filtered mean</td>\n",
       "    </tr>\n",
       "    <tr>\n",
       "      <th>34</th>\n",
       "      <td>1</td>\n",
       "      <td>1.96377</td>\n",
       "      <td>filtered standard deviation</td>\n",
       "    </tr>\n",
       "    <tr>\n",
       "      <th>35</th>\n",
       "      <td>2</td>\n",
       "      <td>1.90942</td>\n",
       "      <td>filtered standard deviation</td>\n",
       "    </tr>\n",
       "    <tr>\n",
       "      <th>36</th>\n",
       "      <td>1</td>\n",
       "      <td>4.7663</td>\n",
       "      <td>filtered sum columns mean</td>\n",
       "    </tr>\n",
       "    <tr>\n",
       "      <th>37</th>\n",
       "      <td>2</td>\n",
       "      <td>2.2794</td>\n",
       "      <td>filtered sum columns mean</td>\n",
       "    </tr>\n",
       "    <tr>\n",
       "      <th>38</th>\n",
       "      <td>1</td>\n",
       "      <td>0.000115871</td>\n",
       "      <td>filtered sum columns</td>\n",
       "    </tr>\n",
       "    <tr>\n",
       "      <th>39</th>\n",
       "      <td>2</td>\n",
       "      <td>8.58307e-06</td>\n",
       "      <td>filtered sum columns</td>\n",
       "    </tr>\n",
       "    <tr>\n",
       "      <th>40</th>\n",
       "      <td>1</td>\n",
       "      <td>2.40653</td>\n",
       "      <td>filtered product columns mean</td>\n",
       "    </tr>\n",
       "    <tr>\n",
       "      <th>41</th>\n",
       "      <td>2</td>\n",
       "      <td>2.41512</td>\n",
       "      <td>filtered product columns mean</td>\n",
       "    </tr>\n",
       "    <tr>\n",
       "      <th>42</th>\n",
       "      <td>1</td>\n",
       "      <td>0.000120401</td>\n",
       "      <td>filtered product columns</td>\n",
       "    </tr>\n",
       "    <tr>\n",
       "      <th>43</th>\n",
       "      <td>2</td>\n",
       "      <td>8.58307e-06</td>\n",
       "      <td>filtered product columns</td>\n",
       "    </tr>\n",
       "    <tr>\n",
       "      <th>44</th>\n",
       "      <td>1</td>\n",
       "      <td>14.1013</td>\n",
       "      <td>filtered arithmetic operation mean</td>\n",
       "    </tr>\n",
       "    <tr>\n",
       "      <th>45</th>\n",
       "      <td>2</td>\n",
       "      <td>14.0237</td>\n",
       "      <td>filtered arithmetic operation mean</td>\n",
       "    </tr>\n",
       "    <tr>\n",
       "      <th>46</th>\n",
       "      <td>1</td>\n",
       "      <td>0.00968409</td>\n",
       "      <td>filtered arithmetic operation</td>\n",
       "    </tr>\n",
       "    <tr>\n",
       "      <th>47</th>\n",
       "      <td>2</td>\n",
       "      <td>0.00811553</td>\n",
       "      <td>filtered arithmetic operation</td>\n",
       "    </tr>\n",
       "    <tr>\n",
       "      <th>48</th>\n",
       "      <td>1</td>\n",
       "      <td>10.9387</td>\n",
       "      <td>filtered value counts</td>\n",
       "    </tr>\n",
       "    <tr>\n",
       "      <th>49</th>\n",
       "      <td>2</td>\n",
       "      <td>0.561846</td>\n",
       "      <td>filtered value counts</td>\n",
       "    </tr>\n",
       "    <tr>\n",
       "      <th>50</th>\n",
       "      <td>1</td>\n",
       "      <td>10.8068</td>\n",
       "      <td>filtered groupby statistics</td>\n",
       "    </tr>\n",
       "    <tr>\n",
       "      <th>51</th>\n",
       "      <td>2</td>\n",
       "      <td>8.28716</td>\n",
       "      <td>filtered groupby statistics</td>\n",
       "    </tr>\n",
       "    <tr>\n",
       "      <th>52</th>\n",
       "      <td>1</td>\n",
       "      <td>1.51053</td>\n",
       "      <td>filtered join count</td>\n",
       "    </tr>\n",
       "    <tr>\n",
       "      <th>53</th>\n",
       "      <td>2</td>\n",
       "      <td>1.67531</td>\n",
       "      <td>filtered join count</td>\n",
       "    </tr>\n",
       "    <tr>\n",
       "      <th>54</th>\n",
       "      <td>1</td>\n",
       "      <td>0.652153</td>\n",
       "      <td>filtered join</td>\n",
       "    </tr>\n",
       "    <tr>\n",
       "      <th>55</th>\n",
       "      <td>2</td>\n",
       "      <td>1.12817</td>\n",
       "      <td>filtered join</td>\n",
       "    </tr>\n",
       "  </tbody>\n",
       "</table>\n",
       "</div>"
      ],
      "text/plain": [
       "   run     duration                                task\n",
       "0    1   0.00713778                           read_file\n",
       "1    2   0.00537825                           read_file\n",
       "2    1  3.62396e-05                               count\n",
       "3    2  1.90735e-06                               count\n",
       "4    1     0.619524                                mean\n",
       "5    2     0.552258                                mean\n",
       "6    1      1.65766                  standard deviation\n",
       "7    2      1.64945                  standard deviation\n",
       "8    1      4.23071                    sum columns mean\n",
       "9    2         0.73                    sum columns mean\n",
       "10   1  8.36849e-05                         sum columns\n",
       "11   2  8.58307e-06                         sum columns\n",
       "12   1     0.739336                product columns mean\n",
       "13   2     0.734927                product columns mean\n",
       "14   1  8.39233e-05                     product columns\n",
       "15   2  8.34465e-06                     product columns\n",
       "16   1     0.736122                     lazy evaluation\n",
       "17   2     0.741776                     lazy evaluation\n",
       "18   1      10.5577                        value counts\n",
       "19   2     0.319837                        value counts\n",
       "20   1      22.2451           arithmetic operation mean\n",
       "21   2      10.2011           arithmetic operation mean\n",
       "22   1   0.00481176                arithmetic operation\n",
       "23   2   0.00422978                arithmetic operation\n",
       "24   1        23.55                  groupby statistics\n",
       "25   2      5.76755                  groupby statistics\n",
       "26   1      1.54056                          join count\n",
       "27   2      1.45036                          join count\n",
       "28   1     0.654682                                join\n",
       "29   2      1.00189                                join\n",
       "30   1      1.08739                         filter data\n",
       "31   2      1.10859                         filter data\n",
       "32   1      23.1657                       filtered mean\n",
       "33   2     0.904977                       filtered mean\n",
       "34   1      1.96377         filtered standard deviation\n",
       "35   2      1.90942         filtered standard deviation\n",
       "36   1       4.7663           filtered sum columns mean\n",
       "37   2       2.2794           filtered sum columns mean\n",
       "38   1  0.000115871                filtered sum columns\n",
       "39   2  8.58307e-06                filtered sum columns\n",
       "40   1      2.40653       filtered product columns mean\n",
       "41   2      2.41512       filtered product columns mean\n",
       "42   1  0.000120401            filtered product columns\n",
       "43   2  8.58307e-06            filtered product columns\n",
       "44   1      14.1013  filtered arithmetic operation mean\n",
       "45   2      14.0237  filtered arithmetic operation mean\n",
       "46   1   0.00968409       filtered arithmetic operation\n",
       "47   2   0.00811553       filtered arithmetic operation\n",
       "48   1      10.9387               filtered value counts\n",
       "49   2     0.561846               filtered value counts\n",
       "50   1      10.8068         filtered groupby statistics\n",
       "51   2      8.28716         filtered groupby statistics\n",
       "52   1      1.51053                 filtered join count\n",
       "53   2      1.67531                 filtered join count\n",
       "54   1     0.652153                       filtered join\n",
       "55   2      1.12817                       filtered join"
      ]
     },
     "execution_count": 22,
     "metadata": {},
     "output_type": "execute_result"
    }
   ],
   "source": [
    "benchmark(mean, filtered, name='filtered mean')\n",
    "benchmark(standard_deviation, filtered, name='filtered standard deviation')\n",
    "benchmark(mean_of_sum, filtered, name ='filtered sum columns mean')\n",
    "benchmark(sum_columns, df=filtered, name='filtered sum columns')\n",
    "benchmark(mean_of_product, filtered, name ='filtered product columns mean')\n",
    "benchmark(product, df=filtered, name='filtered product columns')\n",
    "benchmark(mean_of_complicated_arithmetic_operation, filtered, name='filtered arithmetic operation mean')\n",
    "benchmark(complicated_arithmetic_operation, filtered, name='filtered arithmetic operation')\n",
    "benchmark(value_counts, filtered, name ='filtered value counts')\n",
    "benchmark(groupby_statistics, filtered, name='filtered groupby statistics')\n",
    "other = groupby_statistics(filtered)\n",
    "benchmark(join_count, filtered, name='filtered join count', other=other)\n",
    "benchmark(join_data, filtered, name='filtered join', other=other)\n",
    "print('vaex')\n",
    "get_results(benchmarks)"
   ]
  }
 ],
 "metadata": {
  "kernelspec": {
   "display_name": "conda_python3",
   "language": "python",
   "name": "conda_python3"
  },
  "language_info": {
   "codemirror_mode": {
    "name": "ipython",
    "version": 3
   },
   "file_extension": ".py",
   "mimetype": "text/x-python",
   "name": "python",
   "nbconvert_exporter": "python",
   "pygments_lexer": "ipython3",
   "version": "3.6.5"
  }
 },
 "nbformat": 4,
 "nbformat_minor": 4
}
