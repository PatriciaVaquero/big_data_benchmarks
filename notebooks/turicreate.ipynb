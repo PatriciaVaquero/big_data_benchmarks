{
 "cells": [
  {
   "cell_type": "markdown",
   "metadata": {},
   "source": [
    "# Get data and packages\n",
    "Use conda_tensorflow_p36 kernel"
   ]
  },
  {
   "cell_type": "code",
   "execution_count": 1,
   "metadata": {
    "ExecuteTime": {
     "end_time": "2020-05-15T09:49:14.449873Z",
     "start_time": "2020-05-15T09:42:43.252133Z"
    }
   },
   "outputs": [],
   "source": [
    "%%capture\n",
    "%%bash\n",
    "pip install --upgrade turicreate\n",
    "aws s3 cp --recursive s3://xdss-public-datasets/demos/taxi_1B.sf datasets/taxi_1B.sf"
   ]
  },
  {
   "cell_type": "code",
   "execution_count": 7,
   "metadata": {
    "ExecuteTime": {
     "end_time": "2020-05-15T09:49:50.511201Z",
     "start_time": "2020-05-15T09:49:50.282789Z"
    },
    "code_folding": [
     32,
     48
    ]
   },
   "outputs": [
    {
     "name": "stdout",
     "output_type": "stream",
     "text": [
      "We test every benchmark twice and save both results\n"
     ]
    }
   ],
   "source": [
    "import gc\n",
    "import numpy as np\n",
    "import pandas as pd\n",
    "import warnings\n",
    "import time\n",
    "import gc\n",
    "import os\n",
    "\n",
    "instance_type = 'c5d2xlarge' # change this\n",
    "results_bucket = f\"s3://vaex-sagemaker-demo/benchmarks\" # change this\n",
    "\n",
    "name = 'turicreate'\n",
    "data_path = 'datasets/taxi_1B.sf'\n",
    "output_file = f'{name}_{instance_type}.csv'\n",
    "results_path = f\"results/{output_file}\"\n",
    "results_bucket = f\"{results_bucket}/{output_file}\" \n",
    "benchmarks = {\n",
    "    'sketch':[],\n",
    "    'run':[],\n",
    "    'duration': [],\n",
    "    'task': []   \n",
    "}\n",
    "\n",
    "long_min = -74.05\n",
    "long_max = -73.75\n",
    "lat_min = 40.58\n",
    "lat_max = 40.90\n",
    "\n",
    "\n",
    "def get_results(benchmarks=benchmarks):\n",
    "    return pd.DataFrame.from_dict(benchmarks, orient='index').T\n",
    "\n",
    "def persist():\n",
    "    gc.collect()\n",
    "    get_results(benchmarks).to_csv(results_path)\n",
    "    os.system(f\"aws s3 cp {results_path} {results_bucket}\")\n",
    "    \n",
    "def benchmark(f, df, name, sketch=0, **kwargs):    \n",
    "    for i in range(2):\n",
    "        start_time = time.time()\n",
    "        ret = f(df, **kwargs)\n",
    "        benchmarks['duration'].append(time.time()-start_time)\n",
    "        benchmarks['task'].append(name)\n",
    "        benchmarks['run'].append(i+1)\n",
    "        benchmarks['sketch'].append(kwargs.get('sketch', 0))\n",
    "    persist()\n",
    "    print(f\"{name} took: {benchmarks['duration'][-1]}\")\n",
    "    return benchmarks['duration'][-1]\n",
    "          \n",
    "def add_nan(name):\n",
    "    for i in range(2):\n",
    "        benchmarks['duration'].append(np.nan)\n",
    "        benchmarks['task'].append(name)\n",
    "        benchmarks['run'].append(i+1)\n",
    "    persist()\n",
    "    print(f\"{name} took: {benchmarks['duration'][-1]}\")\n",
    "    return benchmarks['duration'][-1]\n",
    "\n",
    "          \n",
    "!mkdir -p results\n",
    "!mkdir -p datasets\n",
    "print(f\"We test every benchmark twice and save both results\")"
   ]
  },
  {
   "cell_type": "markdown",
   "metadata": {},
   "source": [
    "# Benchmark"
   ]
  },
  {
   "cell_type": "code",
   "execution_count": 8,
   "metadata": {
    "ExecuteTime": {
     "end_time": "2020-05-15T09:49:51.274571Z",
     "start_time": "2020-05-15T09:49:51.270397Z"
    }
   },
   "outputs": [
    {
     "name": "stdout",
     "output_type": "stream",
     "text": [
      "size: 1173057927 with 18 columns\n"
     ]
    }
   ],
   "source": [
    "import turicreate as tc\n",
    "import numpy as np\n",
    "\n",
    "# Load data\n",
    "data = tc.SFrame(data_path)\n",
    "print(f\"size: {data.shape[0]} with {data.shape[1]} columns\")"
   ]
  },
  {
   "cell_type": "code",
   "execution_count": 9,
   "metadata": {
    "ExecuteTime": {
     "end_time": "2020-05-15T09:49:53.856842Z",
     "start_time": "2020-05-15T09:49:53.293727Z"
    }
   },
   "outputs": [
    {
     "name": "stdout",
     "output_type": "stream",
     "text": [
      "read_file took: 0.0010561943054199219\n"
     ]
    },
    {
     "data": {
      "text/plain": [
       "0.0010561943054199219"
      ]
     },
     "execution_count": 9,
     "metadata": {},
     "output_type": "execute_result"
    }
   ],
   "source": [
    "def open_file(df=None):\n",
    "    return tc.SFrame(data_path)\n",
    "\n",
    "benchmark(open_file, df=data, name='read_file')"
   ]
  },
  {
   "cell_type": "code",
   "execution_count": 10,
   "metadata": {
    "ExecuteTime": {
     "end_time": "2020-05-15T09:49:54.908791Z",
     "start_time": "2020-05-15T09:49:54.408273Z"
    }
   },
   "outputs": [
    {
     "name": "stdout",
     "output_type": "stream",
     "text": [
      "count took: 1.6689300537109375e-06\n"
     ]
    },
    {
     "data": {
      "text/plain": [
       "1.6689300537109375e-06"
      ]
     },
     "execution_count": 10,
     "metadata": {},
     "output_type": "execute_result"
    }
   ],
   "source": [
    "def count(df=None):\n",
    "    return len(df)\n",
    "\n",
    "benchmark(count, df=data, name='count')"
   ]
  },
  {
   "cell_type": "code",
   "execution_count": 11,
   "metadata": {
    "ExecuteTime": {
     "end_time": "2020-05-15T09:53:08.486455Z",
     "start_time": "2020-05-15T09:49:55.386038Z"
    }
   },
   "outputs": [
    {
     "name": "stdout",
     "output_type": "stream",
     "text": [
      "skeatch mean took: 97.00968027114868\n"
     ]
    },
    {
     "data": {
      "text/plain": [
       "97.00968027114868"
      ]
     },
     "execution_count": 11,
     "metadata": {},
     "output_type": "execute_result"
    }
   ],
   "source": [
    "def skeatch_mean(df):\n",
    "    return tc.Sketch(df['fare_amount']).mean()\n",
    "\n",
    "benchmark(skeatch_mean, data, name='skeatch mean', sketch=1)"
   ]
  },
  {
   "cell_type": "code",
   "execution_count": 12,
   "metadata": {
    "ExecuteTime": {
     "end_time": "2020-05-15T09:56:22.507796Z",
     "start_time": "2020-05-15T09:53:08.488064Z"
    }
   },
   "outputs": [
    {
     "name": "stdout",
     "output_type": "stream",
     "text": [
      "skeatch standatd deviation took: 96.99326801300049\n"
     ]
    },
    {
     "data": {
      "text/plain": [
       "96.99326801300049"
      ]
     },
     "execution_count": 12,
     "metadata": {},
     "output_type": "execute_result"
    }
   ],
   "source": [
    "def skeatch_standatd_deviation(df):\n",
    "    return  tc.Sketch(df['fare_amount']).std()\n",
    "\n",
    "benchmark(skeatch_standatd_deviation, data, name='skeatch standatd deviation', sketch=1)"
   ]
  },
  {
   "cell_type": "code",
   "execution_count": 13,
   "metadata": {
    "ExecuteTime": {
     "end_time": "2020-05-15T09:57:35.647517Z",
     "start_time": "2020-05-15T09:56:22.509356Z"
    }
   },
   "outputs": [
    {
     "name": "stdout",
     "output_type": "stream",
     "text": [
      "skeatch frequent items took: 36.2844877243042\n"
     ]
    },
    {
     "data": {
      "text/plain": [
       "36.2844877243042"
      ]
     },
     "execution_count": 13,
     "metadata": {},
     "output_type": "execute_result"
    }
   ],
   "source": [
    "def skeatch_frequent_items(df):\n",
    "    return tc.Sketch(df['passenger_count']).frequent_items()\n",
    "\n",
    "benchmark(skeatch_frequent_items, data, name='skeatch frequent items', sketch=1)"
   ]
  },
  {
   "cell_type": "code",
   "execution_count": 14,
   "metadata": {
    "ExecuteTime": {
     "end_time": "2020-05-15T10:00:41.459385Z",
     "start_time": "2020-05-15T09:57:35.649113Z"
    }
   },
   "outputs": [
    {
     "name": "stdout",
     "output_type": "stream",
     "text": [
      "mean took: 92.37087798118591\n"
     ]
    },
    {
     "data": {
      "text/plain": [
       "92.37087798118591"
      ]
     },
     "execution_count": 14,
     "metadata": {},
     "output_type": "execute_result"
    }
   ],
   "source": [
    "def mean(df):\n",
    "    return df['fare_amount'].mean()\n",
    "\n",
    "benchmark(mean, df=data, name='mean')"
   ]
  },
  {
   "cell_type": "code",
   "execution_count": 15,
   "metadata": {
    "ExecuteTime": {
     "end_time": "2020-05-15T10:03:47.182972Z",
     "start_time": "2020-05-15T10:00:41.460887Z"
    }
   },
   "outputs": [
    {
     "name": "stdout",
     "output_type": "stream",
     "text": [
      "standard deviation took: 91.88946914672852\n"
     ]
    },
    {
     "data": {
      "text/plain": [
       "91.88946914672852"
      ]
     },
     "execution_count": 15,
     "metadata": {},
     "output_type": "execute_result"
    }
   ],
   "source": [
    "def standard_deviation(df):\n",
    "    return df['fare_amount'].std()\n",
    "\n",
    "benchmark(standard_deviation, df=data, name='standard deviation')"
   ]
  },
  {
   "cell_type": "code",
   "execution_count": 16,
   "metadata": {
    "ExecuteTime": {
     "end_time": "2020-05-15T10:09:03.762435Z",
     "start_time": "2020-05-15T10:03:47.184562Z"
    }
   },
   "outputs": [
    {
     "name": "stdout",
     "output_type": "stream",
     "text": [
      "sum columns mean took: 156.42764568328857\n"
     ]
    },
    {
     "data": {
      "text/plain": [
       "156.42764568328857"
      ]
     },
     "execution_count": 16,
     "metadata": {},
     "output_type": "execute_result"
    }
   ],
   "source": [
    "def mean_of_sum(df):\n",
    "    return (df['fare_amount'] + df['trip_distance']).mean()\n",
    "\n",
    "benchmark(mean_of_sum, df=data, name='sum columns mean')"
   ]
  },
  {
   "cell_type": "code",
   "execution_count": 17,
   "metadata": {
    "ExecuteTime": {
     "end_time": "2020-05-15T10:09:04.276170Z",
     "start_time": "2020-05-15T10:09:03.764585Z"
    }
   },
   "outputs": [
    {
     "name": "stdout",
     "output_type": "stream",
     "text": [
      "sum columns took: 0.0001900196075439453\n"
     ]
    },
    {
     "data": {
      "text/plain": [
       "0.0001900196075439453"
      ]
     },
     "execution_count": 17,
     "metadata": {},
     "output_type": "execute_result"
    }
   ],
   "source": [
    "def sum_columns(df):\n",
    "    return df['fare_amount'] + df['trip_distance']\n",
    "\n",
    "benchmark(sum_columns, df=data, name='sum columns')"
   ]
  },
  {
   "cell_type": "code",
   "execution_count": 18,
   "metadata": {
    "ExecuteTime": {
     "end_time": "2020-05-15T10:14:20.498204Z",
     "start_time": "2020-05-15T10:09:04.277685Z"
    }
   },
   "outputs": [
    {
     "name": "stdout",
     "output_type": "stream",
     "text": [
      "product columns mean took: 158.18946170806885\n"
     ]
    },
    {
     "data": {
      "text/plain": [
       "158.18946170806885"
      ]
     },
     "execution_count": 18,
     "metadata": {},
     "output_type": "execute_result"
    }
   ],
   "source": [
    "def mean_of_product(df):\n",
    "    return (df['fare_amount'] * df['trip_distance']).mean()\n",
    "\n",
    "benchmark(mean_of_product, df=data, name='product columns mean')"
   ]
  },
  {
   "cell_type": "code",
   "execution_count": 19,
   "metadata": {
    "ExecuteTime": {
     "end_time": "2020-05-15T10:14:21.045195Z",
     "start_time": "2020-05-15T10:14:20.499716Z"
    }
   },
   "outputs": [
    {
     "name": "stdout",
     "output_type": "stream",
     "text": [
      "product columns took: 0.00010371208190917969\n"
     ]
    },
    {
     "data": {
      "text/plain": [
       "0.00010371208190917969"
      ]
     },
     "execution_count": 19,
     "metadata": {},
     "output_type": "execute_result"
    }
   ],
   "source": [
    "def product(df):\n",
    "    return df['fare_amount'] * df['trip_distance']\n",
    "\n",
    "benchmark(product, df=data, name='product columns')"
   ]
  },
  {
   "cell_type": "code",
   "execution_count": null,
   "metadata": {},
   "outputs": [],
   "source": [
    "def lazy_mean(df):\n",
    "    df['lazy'] = df['fare_amount'] * df['trip_distance']\n",
    "    return df['lazy'].mean()\n",
    "    \n",
    "benchmark(lazy_mean, df=data, name='lazy evaluation')    "
   ]
  },
  {
   "cell_type": "code",
   "execution_count": null,
   "metadata": {},
   "outputs": [],
   "source": [
    "def value_counts(df):\n",
    "    return df['passenger_count'].value_counts()\n",
    "\n",
    "benchmark(value_counts, df=data, name='value counts')"
   ]
  },
  {
   "cell_type": "code",
   "execution_count": null,
   "metadata": {
    "ExecuteTime": {
     "start_time": "2020-05-15T09:50:03.105Z"
    },
    "code_folding": [
     0
    ]
   },
   "outputs": [],
   "source": [
    "def mean_of_complicated_arithmetic_operation(df):\n",
    "    theta_1 = df['pickup_longitude']\n",
    "    phi_1 = df['pickup_latitude']\n",
    "    theta_2 = df['dropoff_longitude']\n",
    "    phi_2 = df['dropoff_latitude']\n",
    "    temp = (np.sin((theta_2-theta_1)/2*np.pi/180)**2\n",
    "           + np.cos(theta_1*np.pi/180)*np.cos(theta_2*np.pi/180) * np.sin((phi_2-phi_1)/2*np.pi/180)**2)\n",
    "    return (2 * np.arctan2(np.sqrt(temp), np.sqrt(1-temp))).mean()\n",
    "\n",
    "benchmark(mean_of_complicated_arithmetic_operation, df=data, name='arithmetic operation mean')"
   ]
  },
  {
   "cell_type": "code",
   "execution_count": null,
   "metadata": {
    "ExecuteTime": {
     "start_time": "2020-05-15T09:50:03.722Z"
    }
   },
   "outputs": [],
   "source": [
    "def complicated_arithmetic_operation(df):\n",
    "    theta_1 = df['pickup_longitude']\n",
    "    phi_1 = df['pickup_latitude']\n",
    "    theta_2 = df['dropoff_longitude']\n",
    "    phi_2 = df['dropoff_latitude']\n",
    "    temp = (np.sin((theta_2-theta_1)/2*np.pi/180)**2\n",
    "           + np.cos(theta_1*np.pi/180)*np.cos(theta_2*np.pi/180) * np.sin((phi_2-phi_1)/2*np.pi/180)**2)\n",
    "    return (2 * np.arctan2(np.sqrt(temp), np.sqrt(1-temp)))\n",
    "\n",
    "benchmark(complicated_arithmetic_operation, df=data, name='arithmetic operation')"
   ]
  },
  {
   "cell_type": "code",
   "execution_count": null,
   "metadata": {
    "ExecuteTime": {
     "start_time": "2020-05-15T09:50:04.603Z"
    }
   },
   "outputs": [],
   "source": [
    "def groupby_statistics(df):\n",
    "    return df.groupby(key_column_names = 'passenger_count', \n",
    "           operations = {\n",
    "               'fare_amount_mean':tc.aggregate.MEAN('fare_amount'),\n",
    "               'fare_amount_std':tc.aggregate.STD('fare_amount'),\n",
    "               'tip_amount_mean':tc.aggregate.MEAN('tip_amount'),\n",
    "               'tip_amount_mean':tc.aggregate.STD('tip_amount')\n",
    "           })\n",
    "\n",
    "benchmark(groupby_statistics, df=data, name='groupby statistics')"
   ]
  },
  {
   "cell_type": "code",
   "execution_count": null,
   "metadata": {
    "ExecuteTime": {
     "start_time": "2020-05-15T09:50:05.108Z"
    }
   },
   "outputs": [],
   "source": [
    "other = groupby_statistics(data)\n",
    "other.materialize()"
   ]
  },
  {
   "cell_type": "code",
   "execution_count": null,
   "metadata": {
    "ExecuteTime": {
     "start_time": "2020-05-15T09:50:06.301Z"
    }
   },
   "outputs": [],
   "source": [
    "def join_data(df, other):\n",
    "    return df.join(other, on = 'passenger_count')\n",
    "\n",
    "benchmark(join_data, data, name='join', other=other)"
   ]
  },
  {
   "cell_type": "code",
   "execution_count": null,
   "metadata": {
    "ExecuteTime": {
     "start_time": "2020-05-15T09:50:06.773Z"
    }
   },
   "outputs": [],
   "source": [
    "def join_count(df, other):\n",
    "    return len(df.join(other, on = 'passenger_count'))\n",
    "\n",
    "benchmark(join_count, data, name='join count', other=other)"
   ]
  },
  {
   "cell_type": "markdown",
   "metadata": {},
   "source": [
    "## Filtered data"
   ]
  },
  {
   "cell_type": "code",
   "execution_count": null,
   "metadata": {
    "ExecuteTime": {
     "start_time": "2020-05-15T09:50:07.786Z"
    }
   },
   "outputs": [],
   "source": [
    "print(f\"Prepare filtered data and deleted {gc.collect()} MB\")"
   ]
  },
  {
   "cell_type": "code",
   "execution_count": null,
   "metadata": {
    "ExecuteTime": {
     "start_time": "2020-05-15T09:50:08.101Z"
    }
   },
   "outputs": [],
   "source": [
    "def filter_data(df):\n",
    "    expr_filter = (df['pickup_longitude'] > long_min)  & (df['pickup_longitude'] < long_max) & \\\n",
    "                  (df['pickup_latitude'] > lat_min)    & (df['pickup_latitude'] < lat_max) & \\\n",
    "                  (df['dropoff_longitude'] > long_min) & (df['dropoff_longitude'] < long_max) & \\\n",
    "                  (df['dropoff_latitude'] > lat_min)   & (df['dropoff_latitude'] < lat_max)\n",
    "    return df[expr_filter]\n",
    "\n",
    "benchmark(filter_data, data, name='filter data')"
   ]
  },
  {
   "cell_type": "code",
   "execution_count": null,
   "metadata": {
    "ExecuteTime": {
     "start_time": "2020-05-15T09:50:08.483Z"
    }
   },
   "outputs": [],
   "source": [
    "filtered = filter_data(data)\n",
    "filtered.materialize()\n",
    "\n",
    "del data\n",
    "print(f\"cleaned {gc.collect()} mb\")"
   ]
  },
  {
   "cell_type": "code",
   "execution_count": null,
   "metadata": {
    "ExecuteTime": {
     "start_time": "2020-05-15T09:50:09.068Z"
    }
   },
   "outputs": [],
   "source": [
    "benchmark(mean, filtered, name='filtered mean')\n",
    "benchmark(standard_deviation, filtered, name='filtered standard deviation')\n",
    "benchmark(mean_of_sum, filtered, name ='filtered sum columns mean')\n",
    "benchmark(sum_columns, df=filtered, name='filtered sum columns')\n",
    "benchmark(mean_of_product, filtered, name ='filtered product columns mean')\n",
    "benchmark(product_columns, df=filtered, name='filtered product columns')\n",
    "benchmark(mean_of_complicated_arithmetic_operation, filtered, name='filtered arithmetic operation mean')\n",
    "benchmark(complicated_arithmetic_operation, filtered, name='filtered arithmetic operation')\n",
    "benchmark(value_counts, filtered, name ='filtered value counts')\n",
    "benchmark(groupby_statistics, filtered, name='filtered groupby statistics')\n",
    "\n",
    "benchmark(skeatch_mean, filtered, name='filtered mean', sketch=1)\n",
    "benchmark(skeatch_standatd_deviation, filtered, name='filtered standatd deviation', sketch=1)\n",
    "benchmark(skeatch_frequent_items, filtered, name='filtered value counts', sketch=1)\n",
    "\n",
    "other = groupby_statistics(data)\n",
    "other.materialize()\n",
    "benchmark(join_count, filtered, name='filtered join count', other=other)\n",
    "benchmark(join_data, filtered, name='filtered join', other=other)\n",
    "print(name)\n",
    "get_results(benchmarks)"
   ]
  },
  {
   "cell_type": "code",
   "execution_count": null,
   "metadata": {},
   "outputs": [],
   "source": []
  }
 ],
 "metadata": {
  "kernelspec": {
   "display_name": "conda_tensorflow_p36",
   "language": "python",
   "name": "conda_tensorflow_p36"
  },
  "language_info": {
   "codemirror_mode": {
    "name": "ipython",
    "version": 3
   },
   "file_extension": ".py",
   "mimetype": "text/x-python",
   "name": "python",
   "nbconvert_exporter": "python",
   "pygments_lexer": "ipython3",
   "version": "3.6.6"
  }
 },
 "nbformat": 4,
 "nbformat_minor": 4
}
