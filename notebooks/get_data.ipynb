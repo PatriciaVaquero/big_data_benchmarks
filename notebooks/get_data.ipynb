{
 "cells": [
  {
   "cell_type": "markdown",
   "metadata": {},
   "source": [
    "# Mount the SSD"
   ]
  },
  {
   "cell_type": "code",
   "execution_count": 1,
   "metadata": {
    "ExecuteTime": {
     "end_time": "2020-05-27T10:50:01.068720Z",
     "start_time": "2020-05-27T10:50:00.953346Z"
    }
   },
   "outputs": [
    {
     "name": "stdout",
     "output_type": "stream",
     "text": [
      "NAME          MAJ:MIN RM   SIZE RO TYPE MOUNTPOINT\r\n",
      "nvme0n1       259:1    0   110G  0 disk \r\n",
      "├─nvme0n1p1   259:4    0   110G  0 part /\r\n",
      "└─nvme0n1p128 259:5    0     1M  0 part \r\n",
      "nvme2n1       259:2    0   1.5T  0 disk /home/ec2-user/SageMaker\r\n",
      "nvme1n1       259:0    0 372.5G  0 disk \r\n"
     ]
    }
   ],
   "source": [
    "!lsblk"
   ]
  },
  {
   "cell_type": "code",
   "execution_count": 2,
   "metadata": {
    "ExecuteTime": {
     "end_time": "2020-05-27T10:50:05.404774Z",
     "start_time": "2020-05-27T10:50:03.323676Z"
    }
   },
   "outputs": [
    {
     "name": "stdout",
     "output_type": "stream",
     "text": [
      "Discarding device blocks:     4096/97656250\b\b\b\b\b\b\b\b\b\b\b\b\b\b\b\b\b                 \b\b\b\b\b\b\b\b\b\b\b\b\b\b\b\b\bdone                            \n",
      "Creating filesystem with 97656250 4k blocks and 24420352 inodes\n",
      "Filesystem UUID: 9f3684cc-1f3f-47e7-863f-bdcb92d4efce\n",
      "Superblock backups stored on blocks: \n",
      "\t32768, 98304, 163840, 229376, 294912, 819200, 884736, 1605632, 2654208, \n",
      "\t4096000, 7962624, 11239424, 20480000, 23887872, 71663616, 78675968\n",
      "\n",
      "Allocating group tables:    0/2981\b\b\b\b\b\b\b\b\b         \b\b\b\b\b\b\b\b\bdone                            \n",
      "Writing inode tables:    0/2981\b\b\b\b\b\b\b\b\b         \b\b\b\b\b\b\b\b\bdone                            \n",
      "Creating journal (262144 blocks): done\n",
      "Writing superblocks and filesystem accounting information:    0/2981\b\b\b\b\b\b\b\b\b         \b\b\b\b\b\b\b\b\bdone\n",
      "\n"
     ]
    },
    {
     "name": "stderr",
     "output_type": "stream",
     "text": [
      "mke2fs 1.43.5 (04-Aug-2017)\n"
     ]
    }
   ],
   "source": [
    "%%bash\n",
    "sudo mkfs.ext4 -L volumn /dev/nvme1n1\n",
    "sudo mkdir -p datasets\n",
    "sudo mount -L volumn datasets\n",
    "sudo chown `whoami` datasets"
   ]
  },
  {
   "cell_type": "code",
   "execution_count": 3,
   "metadata": {
    "ExecuteTime": {
     "end_time": "2020-05-27T10:50:10.219933Z",
     "start_time": "2020-05-27T10:50:10.107553Z"
    }
   },
   "outputs": [
    {
     "name": "stdout",
     "output_type": "stream",
     "text": [
      "NAME          MAJ:MIN RM   SIZE RO TYPE MOUNTPOINT\r\n",
      "nvme0n1       259:1    0   110G  0 disk \r\n",
      "├─nvme0n1p1   259:4    0   110G  0 part /\r\n",
      "└─nvme0n1p128 259:5    0     1M  0 part \r\n",
      "nvme2n1       259:2    0   1.5T  0 disk /home/ec2-user/SageMaker\r\n",
      "nvme1n1       259:0    0 372.5G  0 disk /home/ec2-user/SageMaker/big_data_benchm\r\n"
     ]
    }
   ],
   "source": [
    "!lsblk"
   ]
  },
  {
   "cell_type": "markdown",
   "metadata": {},
   "source": [
    "# Download data"
   ]
  },
  {
   "cell_type": "code",
   "execution_count": 4,
   "metadata": {
    "ExecuteTime": {
     "end_time": "2020-05-27T11:02:41.095641Z",
     "start_time": "2020-05-27T10:51:55.974924Z"
    }
   },
   "outputs": [],
   "source": [
    "%%capture\n",
    "%%bash\n",
    "aws s3 cp --recursive s3://xdss-public-datasets/demos/taxi_parquet datasets/taxi_parquet\n",
    "aws s3 cp s3://xdss-public-datasets/demos/taxi_1B.hdf5 datasets/taxi_1B.hdf5\n",
    "aws s3 cp --recursive s3://xdss-public-datasets/demos/taxi_1B.sf datasets/taxi_1B.sf"
   ]
  },
  {
   "cell_type": "code",
   "execution_count": null,
   "metadata": {},
   "outputs": [],
   "source": []
  }
 ],
 "metadata": {
  "kernelspec": {
   "display_name": "conda_python3",
   "language": "python",
   "name": "conda_python3"
  },
  "language_info": {
   "codemirror_mode": {
    "name": "ipython",
    "version": 3
   },
   "file_extension": ".py",
   "mimetype": "text/x-python",
   "name": "python",
   "nbconvert_exporter": "python",
   "pygments_lexer": "ipython3",
   "version": "3.6.5"
  }
 },
 "nbformat": 4,
 "nbformat_minor": 4
}
