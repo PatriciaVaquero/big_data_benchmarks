{
 "cells": [
  {
   "cell_type": "markdown",
   "metadata": {},
   "source": [
    "# ### Can only read a single parquet file - keep only for code references"
   ]
  },
  {
   "cell_type": "markdown",
   "metadata": {},
   "source": [
    "# Get data and packages"
   ]
  },
  {
   "cell_type": "code",
   "execution_count": 1,
   "metadata": {
    "ExecuteTime": {
     "end_time": "2020-01-13T14:21:06.690430Z",
     "start_time": "2020-01-13T14:20:54.182849Z"
    },
    "code_folding": [
     0
    ]
   },
   "outputs": [],
   "source": [
    "%%capture\n",
    "%%bash\n",
    "pip install jupyter_contrib_nbextensions\n",
    "pip install jupyter_nbextensions_configurator\n",
    "jupyter contrib nbextension install --user\n",
    "jupyter nbextensions_configurator enable --user\n",
    "\n",
    "jupyter nbextension enable codefolding/main\n",
    "jupyter nbextension enable scratchpad/main\n",
    "jupyter nbextension enable execute_time/ExecuteTime\n",
    "jupyter nbextension enable autosavetime/main"
   ]
  },
  {
   "cell_type": "code",
   "execution_count": 2,
   "metadata": {
    "ExecuteTime": {
     "end_time": "2020-01-27T11:03:46.683599Z",
     "start_time": "2020-01-27T11:03:44.894169Z"
    }
   },
   "outputs": [],
   "source": [
    "%%capture\n",
    "!pip install -U pip modin[all]"
   ]
  },
  {
   "cell_type": "code",
   "execution_count": 8,
   "metadata": {
    "ExecuteTime": {
     "end_time": "2020-02-18T12:53:22.160303Z",
     "start_time": "2020-02-18T12:51:29.922589Z"
    },
    "collapsed": true
   },
   "outputs": [
    {
     "name": "stdout",
     "output_type": "stream",
     "text": [
      "download: s3://xdss-public-datasets/demos/taxi_parquet/data_0.parquet to datasets/taxi_parquet/data_0.parquet\n",
      "download: s3://xdss-public-datasets/demos/taxi_parquet/data_100.parquet to datasets/taxi_parquet/data_100.parquet\n",
      "download: s3://xdss-public-datasets/demos/taxi_parquet/data_1000.parquet to datasets/taxi_parquet/data_1000.parquet\n",
      "download: s3://xdss-public-datasets/demos/taxi_parquet/data_10.parquet to datasets/taxi_parquet/data_10.parquet\n",
      "download: s3://xdss-public-datasets/demos/taxi_parquet/data_1.parquet to datasets/taxi_parquet/data_1.parquet\n",
      "download: s3://xdss-public-datasets/demos/taxi_parquet/data_1001.parquet to datasets/taxi_parquet/data_1001.parquet\n",
      "download: s3://xdss-public-datasets/demos/taxi_parquet/data_1004.parquet to datasets/taxi_parquet/data_1004.parquet\n",
      "download: s3://xdss-public-datasets/demos/taxi_parquet/data_1002.parquet to datasets/taxi_parquet/data_1002.parquet\n",
      "download: s3://xdss-public-datasets/demos/taxi_parquet/data_1003.parquet to datasets/taxi_parquet/data_1003.parquet\n",
      "download: s3://xdss-public-datasets/demos/taxi_parquet/data_1005.parquet to datasets/taxi_parquet/data_1005.parquet\n",
      "download: s3://xdss-public-datasets/demos/taxi_parquet/data_1008.parquet to datasets/taxi_parquet/data_1008.parquet\n",
      "download: s3://xdss-public-datasets/demos/taxi_parquet/data_1006.parquet to datasets/taxi_parquet/data_1006.parquet\n",
      "download: s3://xdss-public-datasets/demos/taxi_parquet/data_1007.parquet to datasets/taxi_parquet/data_1007.parquet\n",
      "download: s3://xdss-public-datasets/demos/taxi_parquet/data_1009.parquet to datasets/taxi_parquet/data_1009.parquet\n",
      "download: s3://xdss-public-datasets/demos/taxi_parquet/data_101.parquet to datasets/taxi_parquet/data_101.parquet\n",
      "download: s3://xdss-public-datasets/demos/taxi_parquet/data_1010.parquet to datasets/taxi_parquet/data_1010.parquet\n",
      "download: s3://xdss-public-datasets/demos/taxi_parquet/data_1013.parquet to datasets/taxi_parquet/data_1013.parquet\n",
      "download: s3://xdss-public-datasets/demos/taxi_parquet/data_1012.parquet to datasets/taxi_parquet/data_1012.parquet\n",
      "download: s3://xdss-public-datasets/demos/taxi_parquet/data_1011.parquet to datasets/taxi_parquet/data_1011.parquet\n",
      "download: s3://xdss-public-datasets/demos/taxi_parquet/data_1014.parquet to datasets/taxi_parquet/data_1014.parquet\n",
      "download: s3://xdss-public-datasets/demos/taxi_parquet/data_1015.parquet to datasets/taxi_parquet/data_1015.parquet\n",
      "download: s3://xdss-public-datasets/demos/taxi_parquet/data_1017.parquet to datasets/taxi_parquet/data_1017.parquet\n",
      "download: s3://xdss-public-datasets/demos/taxi_parquet/data_1016.parquet to datasets/taxi_parquet/data_1016.parquet\n",
      "download: s3://xdss-public-datasets/demos/taxi_parquet/data_1018.parquet to datasets/taxi_parquet/data_1018.parquet\n",
      "download: s3://xdss-public-datasets/demos/taxi_parquet/data_1019.parquet to datasets/taxi_parquet/data_1019.parquet\n",
      "download: s3://xdss-public-datasets/demos/taxi_parquet/data_102.parquet to datasets/taxi_parquet/data_102.parquet\n",
      "download: s3://xdss-public-datasets/demos/taxi_parquet/data_1020.parquet to datasets/taxi_parquet/data_1020.parquet\n",
      "download: s3://xdss-public-datasets/demos/taxi_parquet/data_1022.parquet to datasets/taxi_parquet/data_1022.parquet\n",
      "download: s3://xdss-public-datasets/demos/taxi_parquet/data_1021.parquet to datasets/taxi_parquet/data_1021.parquet\n",
      "download: s3://xdss-public-datasets/demos/taxi_parquet/data_1023.parquet to datasets/taxi_parquet/data_1023.parquet\n",
      "download: s3://xdss-public-datasets/demos/taxi_parquet/data_1026.parquet to datasets/taxi_parquet/data_1026.parquet\n",
      "download: s3://xdss-public-datasets/demos/taxi_parquet/data_1024.parquet to datasets/taxi_parquet/data_1024.parquet\n",
      "download: s3://xdss-public-datasets/demos/taxi_parquet/data_1025.parquet to datasets/taxi_parquet/data_1025.parquet\n",
      "download: s3://xdss-public-datasets/demos/taxi_parquet/data_1027.parquet to datasets/taxi_parquet/data_1027.parquet\n",
      "download: s3://xdss-public-datasets/demos/taxi_parquet/data_1028.parquet to datasets/taxi_parquet/data_1028.parquet\n",
      "download: s3://xdss-public-datasets/demos/taxi_parquet/data_1029.parquet to datasets/taxi_parquet/data_1029.parquet\n",
      "download: s3://xdss-public-datasets/demos/taxi_parquet/data_103.parquet to datasets/taxi_parquet/data_103.parquet\n",
      "download: s3://xdss-public-datasets/demos/taxi_parquet/data_1030.parquet to datasets/taxi_parquet/data_1030.parquet\n",
      "download: s3://xdss-public-datasets/demos/taxi_parquet/data_1031.parquet to datasets/taxi_parquet/data_1031.parquet\n",
      "download: s3://xdss-public-datasets/demos/taxi_parquet/data_1032.parquet to datasets/taxi_parquet/data_1032.parquet\n",
      "download: s3://xdss-public-datasets/demos/taxi_parquet/data_1033.parquet to datasets/taxi_parquet/data_1033.parquet\n",
      "download: s3://xdss-public-datasets/demos/taxi_parquet/data_1035.parquet to datasets/taxi_parquet/data_1035.parquet\n",
      "download: s3://xdss-public-datasets/demos/taxi_parquet/data_1034.parquet to datasets/taxi_parquet/data_1034.parquet\n",
      "download: s3://xdss-public-datasets/demos/taxi_parquet/data_1036.parquet to datasets/taxi_parquet/data_1036.parquet\n",
      "download: s3://xdss-public-datasets/demos/taxi_parquet/data_1037.parquet to datasets/taxi_parquet/data_1037.parquet\n",
      "download: s3://xdss-public-datasets/demos/taxi_parquet/data_1038.parquet to datasets/taxi_parquet/data_1038.parquet\n",
      "download: s3://xdss-public-datasets/demos/taxi_parquet/data_1039.parquet to datasets/taxi_parquet/data_1039.parquet\n",
      "download: s3://xdss-public-datasets/demos/taxi_parquet/data_1040.parquet to datasets/taxi_parquet/data_1040.parquet\n",
      "download: s3://xdss-public-datasets/demos/taxi_parquet/data_104.parquet to datasets/taxi_parquet/data_104.parquet\n",
      "download: s3://xdss-public-datasets/demos/taxi_parquet/data_1041.parquet to datasets/taxi_parquet/data_1041.parquet\n",
      "download: s3://xdss-public-datasets/demos/taxi_parquet/data_1042.parquet to datasets/taxi_parquet/data_1042.parquet\n",
      "download: s3://xdss-public-datasets/demos/taxi_parquet/data_1043.parquet to datasets/taxi_parquet/data_1043.parquet\n",
      "download: s3://xdss-public-datasets/demos/taxi_parquet/data_1044.parquet to datasets/taxi_parquet/data_1044.parquet\n",
      "download: s3://xdss-public-datasets/demos/taxi_parquet/data_1045.parquet to datasets/taxi_parquet/data_1045.parquet\n",
      "download: s3://xdss-public-datasets/demos/taxi_parquet/data_1046.parquet to datasets/taxi_parquet/data_1046.parquet\n",
      "download: s3://xdss-public-datasets/demos/taxi_parquet/data_1047.parquet to datasets/taxi_parquet/data_1047.parquet\n",
      "download: s3://xdss-public-datasets/demos/taxi_parquet/data_1048.parquet to datasets/taxi_parquet/data_1048.parquet\n",
      "download: s3://xdss-public-datasets/demos/taxi_parquet/data_1049.parquet to datasets/taxi_parquet/data_1049.parquet\n",
      "download: s3://xdss-public-datasets/demos/taxi_parquet/data_1050.parquet to datasets/taxi_parquet/data_1050.parquet\n",
      "download: s3://xdss-public-datasets/demos/taxi_parquet/data_105.parquet to datasets/taxi_parquet/data_105.parquet\n",
      "download: s3://xdss-public-datasets/demos/taxi_parquet/data_1051.parquet to datasets/taxi_parquet/data_1051.parquet\n",
      "download: s3://xdss-public-datasets/demos/taxi_parquet/data_1052.parquet to datasets/taxi_parquet/data_1052.parquet\n",
      "download: s3://xdss-public-datasets/demos/taxi_parquet/data_1053.parquet to datasets/taxi_parquet/data_1053.parquet\n",
      "download: s3://xdss-public-datasets/demos/taxi_parquet/data_1055.parquet to datasets/taxi_parquet/data_1055.parquet\n",
      "download: s3://xdss-public-datasets/demos/taxi_parquet/data_1056.parquet to datasets/taxi_parquet/data_1056.parquet\n",
      "download: s3://xdss-public-datasets/demos/taxi_parquet/data_1054.parquet to datasets/taxi_parquet/data_1054.parquet\n",
      "download: s3://xdss-public-datasets/demos/taxi_parquet/data_1057.parquet to datasets/taxi_parquet/data_1057.parquet\n",
      "download: s3://xdss-public-datasets/demos/taxi_parquet/data_1058.parquet to datasets/taxi_parquet/data_1058.parquet\n",
      "download: s3://xdss-public-datasets/demos/taxi_parquet/data_1059.parquet to datasets/taxi_parquet/data_1059.parquet\n",
      "download: s3://xdss-public-datasets/demos/taxi_parquet/data_1060.parquet to datasets/taxi_parquet/data_1060.parquet\n",
      "download: s3://xdss-public-datasets/demos/taxi_parquet/data_106.parquet to datasets/taxi_parquet/data_106.parquet\n"
     ]
    },
    {
     "name": "stdout",
     "output_type": "stream",
     "text": [
      "download: s3://xdss-public-datasets/demos/taxi_parquet/data_1061.parquet to datasets/taxi_parquet/data_1061.parquet\n",
      "download: s3://xdss-public-datasets/demos/taxi_parquet/data_1062.parquet to datasets/taxi_parquet/data_1062.parquet\n",
      "download: s3://xdss-public-datasets/demos/taxi_parquet/data_1063.parquet to datasets/taxi_parquet/data_1063.parquet\n",
      "download: s3://xdss-public-datasets/demos/taxi_parquet/data_1064.parquet to datasets/taxi_parquet/data_1064.parquet\n",
      "download: s3://xdss-public-datasets/demos/taxi_parquet/data_1065.parquet to datasets/taxi_parquet/data_1065.parquet\n",
      "download: s3://xdss-public-datasets/demos/taxi_parquet/data_1066.parquet to datasets/taxi_parquet/data_1066.parquet\n",
      "download: s3://xdss-public-datasets/demos/taxi_parquet/data_1067.parquet to datasets/taxi_parquet/data_1067.parquet\n",
      "download: s3://xdss-public-datasets/demos/taxi_parquet/data_1069.parquet to datasets/taxi_parquet/data_1069.parquet\n",
      "download: s3://xdss-public-datasets/demos/taxi_parquet/data_1068.parquet to datasets/taxi_parquet/data_1068.parquet\n",
      "download: s3://xdss-public-datasets/demos/taxi_parquet/data_1070.parquet to datasets/taxi_parquet/data_1070.parquet\n",
      "download: s3://xdss-public-datasets/demos/taxi_parquet/data_107.parquet to datasets/taxi_parquet/data_107.parquet\n",
      "download: s3://xdss-public-datasets/demos/taxi_parquet/data_1073.parquet to datasets/taxi_parquet/data_1073.parquet\n",
      "download: s3://xdss-public-datasets/demos/taxi_parquet/data_1071.parquet to datasets/taxi_parquet/data_1071.parquet\n",
      "download: s3://xdss-public-datasets/demos/taxi_parquet/data_1072.parquet to datasets/taxi_parquet/data_1072.parquet\n",
      "download: s3://xdss-public-datasets/demos/taxi_parquet/data_1074.parquet to datasets/taxi_parquet/data_1074.parquet\n",
      "download: s3://xdss-public-datasets/demos/taxi_parquet/data_1076.parquet to datasets/taxi_parquet/data_1076.parquet\n",
      "download: s3://xdss-public-datasets/demos/taxi_parquet/data_1075.parquet to datasets/taxi_parquet/data_1075.parquet\n",
      "download: s3://xdss-public-datasets/demos/taxi_parquet/data_1077.parquet to datasets/taxi_parquet/data_1077.parquet\n",
      "download: s3://xdss-public-datasets/demos/taxi_parquet/data_1078.parquet to datasets/taxi_parquet/data_1078.parquet\n",
      "download: s3://xdss-public-datasets/demos/taxi_parquet/data_1079.parquet to datasets/taxi_parquet/data_1079.parquet\n",
      "download: s3://xdss-public-datasets/demos/taxi_parquet/data_108.parquet to datasets/taxi_parquet/data_108.parquet\n",
      "download: s3://xdss-public-datasets/demos/taxi_parquet/data_1080.parquet to datasets/taxi_parquet/data_1080.parquet\n",
      "download: s3://xdss-public-datasets/demos/taxi_parquet/data_1082.parquet to datasets/taxi_parquet/data_1082.parquet\n",
      "download: s3://xdss-public-datasets/demos/taxi_parquet/data_1081.parquet to datasets/taxi_parquet/data_1081.parquet\n",
      "download: s3://xdss-public-datasets/demos/taxi_parquet/data_1083.parquet to datasets/taxi_parquet/data_1083.parquet\n",
      "download: s3://xdss-public-datasets/demos/taxi_parquet/data_1087.parquet to datasets/taxi_parquet/data_1087.parquet\n",
      "download: s3://xdss-public-datasets/demos/taxi_parquet/data_1085.parquet to datasets/taxi_parquet/data_1085.parquet\n",
      "download: s3://xdss-public-datasets/demos/taxi_parquet/data_1084.parquet to datasets/taxi_parquet/data_1084.parquet\n",
      "download: s3://xdss-public-datasets/demos/taxi_parquet/data_1086.parquet to datasets/taxi_parquet/data_1086.parquet\n",
      "download: s3://xdss-public-datasets/demos/taxi_parquet/data_1088.parquet to datasets/taxi_parquet/data_1088.parquet\n",
      "download: s3://xdss-public-datasets/demos/taxi_parquet/data_1089.parquet to datasets/taxi_parquet/data_1089.parquet\n",
      "download: s3://xdss-public-datasets/demos/taxi_parquet/data_1090.parquet to datasets/taxi_parquet/data_1090.parquet\n",
      "download: s3://xdss-public-datasets/demos/taxi_parquet/data_109.parquet to datasets/taxi_parquet/data_109.parquet\n",
      "download: s3://xdss-public-datasets/demos/taxi_parquet/data_1091.parquet to datasets/taxi_parquet/data_1091.parquet\n",
      "download: s3://xdss-public-datasets/demos/taxi_parquet/data_1092.parquet to datasets/taxi_parquet/data_1092.parquet\n",
      "download: s3://xdss-public-datasets/demos/taxi_parquet/data_1093.parquet to datasets/taxi_parquet/data_1093.parquet\n",
      "download: s3://xdss-public-datasets/demos/taxi_parquet/data_1095.parquet to datasets/taxi_parquet/data_1095.parquet\n",
      "download: s3://xdss-public-datasets/demos/taxi_parquet/data_1096.parquet to datasets/taxi_parquet/data_1096.parquet\n",
      "download: s3://xdss-public-datasets/demos/taxi_parquet/data_1094.parquet to datasets/taxi_parquet/data_1094.parquet\n",
      "download: s3://xdss-public-datasets/demos/taxi_parquet/data_1097.parquet to datasets/taxi_parquet/data_1097.parquet\n",
      "download: s3://xdss-public-datasets/demos/taxi_parquet/data_1099.parquet to datasets/taxi_parquet/data_1099.parquet\n",
      "download: s3://xdss-public-datasets/demos/taxi_parquet/data_1098.parquet to datasets/taxi_parquet/data_1098.parquet\n",
      "download: s3://xdss-public-datasets/demos/taxi_parquet/data_11.parquet to datasets/taxi_parquet/data_11.parquet\n",
      "download: s3://xdss-public-datasets/demos/taxi_parquet/data_110.parquet to datasets/taxi_parquet/data_110.parquet\n",
      "download: s3://xdss-public-datasets/demos/taxi_parquet/data_1100.parquet to datasets/taxi_parquet/data_1100.parquet\n",
      "download: s3://xdss-public-datasets/demos/taxi_parquet/data_1101.parquet to datasets/taxi_parquet/data_1101.parquet\n",
      "download: s3://xdss-public-datasets/demos/taxi_parquet/data_1102.parquet to datasets/taxi_parquet/data_1102.parquet\n",
      "download: s3://xdss-public-datasets/demos/taxi_parquet/data_1103.parquet to datasets/taxi_parquet/data_1103.parquet\n",
      "download: s3://xdss-public-datasets/demos/taxi_parquet/data_1104.parquet to datasets/taxi_parquet/data_1104.parquet\n",
      "download: s3://xdss-public-datasets/demos/taxi_parquet/data_1105.parquet to datasets/taxi_parquet/data_1105.parquet\n",
      "download: s3://xdss-public-datasets/demos/taxi_parquet/data_1106.parquet to datasets/taxi_parquet/data_1106.parquet\n",
      "download: s3://xdss-public-datasets/demos/taxi_parquet/data_1107.parquet to datasets/taxi_parquet/data_1107.parquet\n",
      "download: s3://xdss-public-datasets/demos/taxi_parquet/data_1108.parquet to datasets/taxi_parquet/data_1108.parquet\n",
      "download: s3://xdss-public-datasets/demos/taxi_parquet/data_1109.parquet to datasets/taxi_parquet/data_1109.parquet\n",
      "download: s3://xdss-public-datasets/demos/taxi_parquet/data_1110.parquet to datasets/taxi_parquet/data_1110.parquet\n",
      "download: s3://xdss-public-datasets/demos/taxi_parquet/data_111.parquet to datasets/taxi_parquet/data_111.parquet\n",
      "download: s3://xdss-public-datasets/demos/taxi_parquet/data_1111.parquet to datasets/taxi_parquet/data_1111.parquet\n",
      "download: s3://xdss-public-datasets/demos/taxi_parquet/data_1112.parquet to datasets/taxi_parquet/data_1112.parquet\n",
      "download: s3://xdss-public-datasets/demos/taxi_parquet/data_1114.parquet to datasets/taxi_parquet/data_1114.parquet\n",
      "download: s3://xdss-public-datasets/demos/taxi_parquet/data_1115.parquet to datasets/taxi_parquet/data_1115.parquet\n",
      "download: s3://xdss-public-datasets/demos/taxi_parquet/data_1116.parquet to datasets/taxi_parquet/data_1116.parquet\n",
      "download: s3://xdss-public-datasets/demos/taxi_parquet/data_1113.parquet to datasets/taxi_parquet/data_1113.parquet\n",
      "download: s3://xdss-public-datasets/demos/taxi_parquet/data_1118.parquet to datasets/taxi_parquet/data_1118.parquet\n",
      "download: s3://xdss-public-datasets/demos/taxi_parquet/data_1117.parquet to datasets/taxi_parquet/data_1117.parquet\n",
      "download: s3://xdss-public-datasets/demos/taxi_parquet/data_1119.parquet to datasets/taxi_parquet/data_1119.parquet\n",
      "download: s3://xdss-public-datasets/demos/taxi_parquet/data_1120.parquet to datasets/taxi_parquet/data_1120.parquet\n",
      "download: s3://xdss-public-datasets/demos/taxi_parquet/data_112.parquet to datasets/taxi_parquet/data_112.parquet\n",
      "download: s3://xdss-public-datasets/demos/taxi_parquet/data_1123.parquet to datasets/taxi_parquet/data_1123.parquet\n",
      "download: s3://xdss-public-datasets/demos/taxi_parquet/data_1121.parquet to datasets/taxi_parquet/data_1121.parquet\n",
      "download: s3://xdss-public-datasets/demos/taxi_parquet/data_1122.parquet to datasets/taxi_parquet/data_1122.parquet\n",
      "download: s3://xdss-public-datasets/demos/taxi_parquet/data_1125.parquet to datasets/taxi_parquet/data_1125.parquet\n"
     ]
    },
    {
     "name": "stdout",
     "output_type": "stream",
     "text": [
      "download: s3://xdss-public-datasets/demos/taxi_parquet/data_1124.parquet to datasets/taxi_parquet/data_1124.parquet\n",
      "download: s3://xdss-public-datasets/demos/taxi_parquet/data_1126.parquet to datasets/taxi_parquet/data_1126.parquet\n",
      "download: s3://xdss-public-datasets/demos/taxi_parquet/data_1127.parquet to datasets/taxi_parquet/data_1127.parquet\n",
      "download: s3://xdss-public-datasets/demos/taxi_parquet/data_1128.parquet to datasets/taxi_parquet/data_1128.parquet\n",
      "download: s3://xdss-public-datasets/demos/taxi_parquet/data_1129.parquet to datasets/taxi_parquet/data_1129.parquet\n",
      "download: s3://xdss-public-datasets/demos/taxi_parquet/data_1130.parquet to datasets/taxi_parquet/data_1130.parquet\n",
      "download: s3://xdss-public-datasets/demos/taxi_parquet/data_113.parquet to datasets/taxi_parquet/data_113.parquet\n",
      "download: s3://xdss-public-datasets/demos/taxi_parquet/data_1131.parquet to datasets/taxi_parquet/data_1131.parquet\n",
      "download: s3://xdss-public-datasets/demos/taxi_parquet/data_1133.parquet to datasets/taxi_parquet/data_1133.parquet\n",
      "download: s3://xdss-public-datasets/demos/taxi_parquet/data_1132.parquet to datasets/taxi_parquet/data_1132.parquet\n",
      "download: s3://xdss-public-datasets/demos/taxi_parquet/data_1134.parquet to datasets/taxi_parquet/data_1134.parquet\n",
      "download: s3://xdss-public-datasets/demos/taxi_parquet/data_1135.parquet to datasets/taxi_parquet/data_1135.parquet\n",
      "download: s3://xdss-public-datasets/demos/taxi_parquet/data_1136.parquet to datasets/taxi_parquet/data_1136.parquet\n",
      "download: s3://xdss-public-datasets/demos/taxi_parquet/data_1137.parquet to datasets/taxi_parquet/data_1137.parquet\n",
      "download: s3://xdss-public-datasets/demos/taxi_parquet/data_1139.parquet to datasets/taxi_parquet/data_1139.parquet\n",
      "download: s3://xdss-public-datasets/demos/taxi_parquet/data_1138.parquet to datasets/taxi_parquet/data_1138.parquet\n",
      "download: s3://xdss-public-datasets/demos/taxi_parquet/data_1140.parquet to datasets/taxi_parquet/data_1140.parquet\n",
      "download: s3://xdss-public-datasets/demos/taxi_parquet/data_114.parquet to datasets/taxi_parquet/data_114.parquet\n",
      "download: s3://xdss-public-datasets/demos/taxi_parquet/data_1141.parquet to datasets/taxi_parquet/data_1141.parquet\n",
      "download: s3://xdss-public-datasets/demos/taxi_parquet/data_1142.parquet to datasets/taxi_parquet/data_1142.parquet\n",
      "download: s3://xdss-public-datasets/demos/taxi_parquet/data_1143.parquet to datasets/taxi_parquet/data_1143.parquet\n",
      "download: s3://xdss-public-datasets/demos/taxi_parquet/data_1144.parquet to datasets/taxi_parquet/data_1144.parquet\n",
      "download: s3://xdss-public-datasets/demos/taxi_parquet/data_1146.parquet to datasets/taxi_parquet/data_1146.parquet\n",
      "download: s3://xdss-public-datasets/demos/taxi_parquet/data_1147.parquet to datasets/taxi_parquet/data_1147.parquet\n",
      "download: s3://xdss-public-datasets/demos/taxi_parquet/data_1145.parquet to datasets/taxi_parquet/data_1145.parquet\n",
      "download: s3://xdss-public-datasets/demos/taxi_parquet/data_1148.parquet to datasets/taxi_parquet/data_1148.parquet\n",
      "download: s3://xdss-public-datasets/demos/taxi_parquet/data_1149.parquet to datasets/taxi_parquet/data_1149.parquet\n",
      "download: s3://xdss-public-datasets/demos/taxi_parquet/data_1150.parquet to datasets/taxi_parquet/data_1150.parquet\n",
      "download: s3://xdss-public-datasets/demos/taxi_parquet/data_115.parquet to datasets/taxi_parquet/data_115.parquet\n",
      "download: s3://xdss-public-datasets/demos/taxi_parquet/data_1151.parquet to datasets/taxi_parquet/data_1151.parquet\n",
      "download: s3://xdss-public-datasets/demos/taxi_parquet/data_1152.parquet to datasets/taxi_parquet/data_1152.parquet\n",
      "download: s3://xdss-public-datasets/demos/taxi_parquet/data_1153.parquet to datasets/taxi_parquet/data_1153.parquet\n",
      "download: s3://xdss-public-datasets/demos/taxi_parquet/data_1154.parquet to datasets/taxi_parquet/data_1154.parquet\n",
      "download: s3://xdss-public-datasets/demos/taxi_parquet/data_1155.parquet to datasets/taxi_parquet/data_1155.parquet\n",
      "download: s3://xdss-public-datasets/demos/taxi_parquet/data_1156.parquet to datasets/taxi_parquet/data_1156.parquet\n",
      "download: s3://xdss-public-datasets/demos/taxi_parquet/data_1157.parquet to datasets/taxi_parquet/data_1157.parquet\n",
      "download: s3://xdss-public-datasets/demos/taxi_parquet/data_1158.parquet to datasets/taxi_parquet/data_1158.parquet\n",
      "download: s3://xdss-public-datasets/demos/taxi_parquet/data_1159.parquet to datasets/taxi_parquet/data_1159.parquet\n",
      "download: s3://xdss-public-datasets/demos/taxi_parquet/data_1160.parquet to datasets/taxi_parquet/data_1160.parquet\n",
      "download: s3://xdss-public-datasets/demos/taxi_parquet/data_116.parquet to datasets/taxi_parquet/data_116.parquet\n",
      "download: s3://xdss-public-datasets/demos/taxi_parquet/data_1161.parquet to datasets/taxi_parquet/data_1161.parquet\n",
      "download: s3://xdss-public-datasets/demos/taxi_parquet/data_1162.parquet to datasets/taxi_parquet/data_1162.parquet\n",
      "download: s3://xdss-public-datasets/demos/taxi_parquet/data_1163.parquet to datasets/taxi_parquet/data_1163.parquet\n",
      "download: s3://xdss-public-datasets/demos/taxi_parquet/data_1166.parquet to datasets/taxi_parquet/data_1166.parquet\n",
      "download: s3://xdss-public-datasets/demos/taxi_parquet/data_1165.parquet to datasets/taxi_parquet/data_1165.parquet\n",
      "download: s3://xdss-public-datasets/demos/taxi_parquet/data_1167.parquet to datasets/taxi_parquet/data_1167.parquet\n",
      "download: s3://xdss-public-datasets/demos/taxi_parquet/data_1168.parquet to datasets/taxi_parquet/data_1168.parquet\n",
      "download: s3://xdss-public-datasets/demos/taxi_parquet/data_1164.parquet to datasets/taxi_parquet/data_1164.parquet\n",
      "download: s3://xdss-public-datasets/demos/taxi_parquet/data_1169.parquet to datasets/taxi_parquet/data_1169.parquet\n",
      "download: s3://xdss-public-datasets/demos/taxi_parquet/data_1171.parquet to datasets/taxi_parquet/data_1171.parquet\n",
      "download: s3://xdss-public-datasets/demos/taxi_parquet/data_1173.parquet to datasets/taxi_parquet/data_1173.parquet\n",
      "download: s3://xdss-public-datasets/demos/taxi_parquet/data_1172.parquet to datasets/taxi_parquet/data_1172.parquet\n",
      "download: s3://xdss-public-datasets/demos/taxi_parquet/data_1170.parquet to datasets/taxi_parquet/data_1170.parquet\n",
      "download: s3://xdss-public-datasets/demos/taxi_parquet/data_117.parquet to datasets/taxi_parquet/data_117.parquet\n",
      "download: s3://xdss-public-datasets/demos/taxi_parquet/data_118.parquet to datasets/taxi_parquet/data_118.parquet\n",
      "download: s3://xdss-public-datasets/demos/taxi_parquet/data_119.parquet to datasets/taxi_parquet/data_119.parquet\n",
      "download: s3://xdss-public-datasets/demos/taxi_parquet/data_12.parquet to datasets/taxi_parquet/data_12.parquet\n",
      "download: s3://xdss-public-datasets/demos/taxi_parquet/data_121.parquet to datasets/taxi_parquet/data_121.parquet\n",
      "download: s3://xdss-public-datasets/demos/taxi_parquet/data_120.parquet to datasets/taxi_parquet/data_120.parquet\n",
      "download: s3://xdss-public-datasets/demos/taxi_parquet/data_122.parquet to datasets/taxi_parquet/data_122.parquet\n",
      "download: s3://xdss-public-datasets/demos/taxi_parquet/data_123.parquet to datasets/taxi_parquet/data_123.parquet\n",
      "download: s3://xdss-public-datasets/demos/taxi_parquet/data_124.parquet to datasets/taxi_parquet/data_124.parquet\n",
      "download: s3://xdss-public-datasets/demos/taxi_parquet/data_125.parquet to datasets/taxi_parquet/data_125.parquet\n",
      "download: s3://xdss-public-datasets/demos/taxi_parquet/data_126.parquet to datasets/taxi_parquet/data_126.parquet\n",
      "download: s3://xdss-public-datasets/demos/taxi_parquet/data_127.parquet to datasets/taxi_parquet/data_127.parquet\n",
      "download: s3://xdss-public-datasets/demos/taxi_parquet/data_128.parquet to datasets/taxi_parquet/data_128.parquet\n",
      "download: s3://xdss-public-datasets/demos/taxi_parquet/data_129.parquet to datasets/taxi_parquet/data_129.parquet\n",
      "download: s3://xdss-public-datasets/demos/taxi_parquet/data_13.parquet to datasets/taxi_parquet/data_13.parquet\n",
      "download: s3://xdss-public-datasets/demos/taxi_parquet/data_130.parquet to datasets/taxi_parquet/data_130.parquet\n",
      "download: s3://xdss-public-datasets/demos/taxi_parquet/data_132.parquet to datasets/taxi_parquet/data_132.parquet\n",
      "download: s3://xdss-public-datasets/demos/taxi_parquet/data_133.parquet to datasets/taxi_parquet/data_133.parquet\n",
      "download: s3://xdss-public-datasets/demos/taxi_parquet/data_131.parquet to datasets/taxi_parquet/data_131.parquet\n",
      "download: s3://xdss-public-datasets/demos/taxi_parquet/data_135.parquet to datasets/taxi_parquet/data_135.parquet\n"
     ]
    },
    {
     "name": "stdout",
     "output_type": "stream",
     "text": [
      "download: s3://xdss-public-datasets/demos/taxi_parquet/data_134.parquet to datasets/taxi_parquet/data_134.parquet\n",
      "download: s3://xdss-public-datasets/demos/taxi_parquet/data_136.parquet to datasets/taxi_parquet/data_136.parquet\n",
      "download: s3://xdss-public-datasets/demos/taxi_parquet/data_137.parquet to datasets/taxi_parquet/data_137.parquet\n",
      "download: s3://xdss-public-datasets/demos/taxi_parquet/data_139.parquet to datasets/taxi_parquet/data_139.parquet\n",
      "download: s3://xdss-public-datasets/demos/taxi_parquet/data_138.parquet to datasets/taxi_parquet/data_138.parquet\n",
      "download: s3://xdss-public-datasets/demos/taxi_parquet/data_14.parquet to datasets/taxi_parquet/data_14.parquet\n",
      "download: s3://xdss-public-datasets/demos/taxi_parquet/data_140.parquet to datasets/taxi_parquet/data_140.parquet\n",
      "download: s3://xdss-public-datasets/demos/taxi_parquet/data_142.parquet to datasets/taxi_parquet/data_142.parquet\n",
      "download: s3://xdss-public-datasets/demos/taxi_parquet/data_141.parquet to datasets/taxi_parquet/data_141.parquet\n",
      "download: s3://xdss-public-datasets/demos/taxi_parquet/data_143.parquet to datasets/taxi_parquet/data_143.parquet\n",
      "download: s3://xdss-public-datasets/demos/taxi_parquet/data_144.parquet to datasets/taxi_parquet/data_144.parquet\n",
      "download: s3://xdss-public-datasets/demos/taxi_parquet/data_145.parquet to datasets/taxi_parquet/data_145.parquet\n",
      "download: s3://xdss-public-datasets/demos/taxi_parquet/data_146.parquet to datasets/taxi_parquet/data_146.parquet\n",
      "download: s3://xdss-public-datasets/demos/taxi_parquet/data_147.parquet to datasets/taxi_parquet/data_147.parquet\n",
      "download: s3://xdss-public-datasets/demos/taxi_parquet/data_148.parquet to datasets/taxi_parquet/data_148.parquet\n",
      "download: s3://xdss-public-datasets/demos/taxi_parquet/data_149.parquet to datasets/taxi_parquet/data_149.parquet\n",
      "download: s3://xdss-public-datasets/demos/taxi_parquet/data_15.parquet to datasets/taxi_parquet/data_15.parquet\n",
      "download: s3://xdss-public-datasets/demos/taxi_parquet/data_150.parquet to datasets/taxi_parquet/data_150.parquet\n",
      "download: s3://xdss-public-datasets/demos/taxi_parquet/data_151.parquet to datasets/taxi_parquet/data_151.parquet\n",
      "download: s3://xdss-public-datasets/demos/taxi_parquet/data_153.parquet to datasets/taxi_parquet/data_153.parquet\n",
      "download: s3://xdss-public-datasets/demos/taxi_parquet/data_152.parquet to datasets/taxi_parquet/data_152.parquet\n",
      "download: s3://xdss-public-datasets/demos/taxi_parquet/data_154.parquet to datasets/taxi_parquet/data_154.parquet\n",
      "download: s3://xdss-public-datasets/demos/taxi_parquet/data_155.parquet to datasets/taxi_parquet/data_155.parquet\n",
      "download: s3://xdss-public-datasets/demos/taxi_parquet/data_156.parquet to datasets/taxi_parquet/data_156.parquet\n",
      "download: s3://xdss-public-datasets/demos/taxi_parquet/data_158.parquet to datasets/taxi_parquet/data_158.parquet\n",
      "download: s3://xdss-public-datasets/demos/taxi_parquet/data_157.parquet to datasets/taxi_parquet/data_157.parquet\n",
      "download: s3://xdss-public-datasets/demos/taxi_parquet/data_16.parquet to datasets/taxi_parquet/data_16.parquet\n",
      "download: s3://xdss-public-datasets/demos/taxi_parquet/data_162.parquet to datasets/taxi_parquet/data_162.parquet\n",
      "download: s3://xdss-public-datasets/demos/taxi_parquet/data_161.parquet to datasets/taxi_parquet/data_161.parquet\n",
      "download: s3://xdss-public-datasets/demos/taxi_parquet/data_160.parquet to datasets/taxi_parquet/data_160.parquet\n",
      "download: s3://xdss-public-datasets/demos/taxi_parquet/data_159.parquet to datasets/taxi_parquet/data_159.parquet\n",
      "download: s3://xdss-public-datasets/demos/taxi_parquet/data_163.parquet to datasets/taxi_parquet/data_163.parquet\n",
      "download: s3://xdss-public-datasets/demos/taxi_parquet/data_164.parquet to datasets/taxi_parquet/data_164.parquet\n",
      "download: s3://xdss-public-datasets/demos/taxi_parquet/data_165.parquet to datasets/taxi_parquet/data_165.parquet\n",
      "download: s3://xdss-public-datasets/demos/taxi_parquet/data_166.parquet to datasets/taxi_parquet/data_166.parquet\n",
      "download: s3://xdss-public-datasets/demos/taxi_parquet/data_167.parquet to datasets/taxi_parquet/data_167.parquet\n",
      "download: s3://xdss-public-datasets/demos/taxi_parquet/data_169.parquet to datasets/taxi_parquet/data_169.parquet\n",
      "download: s3://xdss-public-datasets/demos/taxi_parquet/data_168.parquet to datasets/taxi_parquet/data_168.parquet\n",
      "download: s3://xdss-public-datasets/demos/taxi_parquet/data_17.parquet to datasets/taxi_parquet/data_17.parquet\n",
      "download: s3://xdss-public-datasets/demos/taxi_parquet/data_170.parquet to datasets/taxi_parquet/data_170.parquet\n",
      "download: s3://xdss-public-datasets/demos/taxi_parquet/data_171.parquet to datasets/taxi_parquet/data_171.parquet\n",
      "download: s3://xdss-public-datasets/demos/taxi_parquet/data_172.parquet to datasets/taxi_parquet/data_172.parquet\n",
      "download: s3://xdss-public-datasets/demos/taxi_parquet/data_173.parquet to datasets/taxi_parquet/data_173.parquet\n",
      "download: s3://xdss-public-datasets/demos/taxi_parquet/data_174.parquet to datasets/taxi_parquet/data_174.parquet\n",
      "download: s3://xdss-public-datasets/demos/taxi_parquet/data_175.parquet to datasets/taxi_parquet/data_175.parquet\n",
      "download: s3://xdss-public-datasets/demos/taxi_parquet/data_176.parquet to datasets/taxi_parquet/data_176.parquet\n",
      "download: s3://xdss-public-datasets/demos/taxi_parquet/data_177.parquet to datasets/taxi_parquet/data_177.parquet\n",
      "download: s3://xdss-public-datasets/demos/taxi_parquet/data_178.parquet to datasets/taxi_parquet/data_178.parquet\n",
      "download: s3://xdss-public-datasets/demos/taxi_parquet/data_179.parquet to datasets/taxi_parquet/data_179.parquet\n",
      "download: s3://xdss-public-datasets/demos/taxi_parquet/data_18.parquet to datasets/taxi_parquet/data_18.parquet\n",
      "download: s3://xdss-public-datasets/demos/taxi_parquet/data_180.parquet to datasets/taxi_parquet/data_180.parquet\n",
      "download: s3://xdss-public-datasets/demos/taxi_parquet/data_181.parquet to datasets/taxi_parquet/data_181.parquet\n",
      "download: s3://xdss-public-datasets/demos/taxi_parquet/data_182.parquet to datasets/taxi_parquet/data_182.parquet\n",
      "download: s3://xdss-public-datasets/demos/taxi_parquet/data_183.parquet to datasets/taxi_parquet/data_183.parquet\n",
      "download: s3://xdss-public-datasets/demos/taxi_parquet/data_185.parquet to datasets/taxi_parquet/data_185.parquet\n",
      "download: s3://xdss-public-datasets/demos/taxi_parquet/data_184.parquet to datasets/taxi_parquet/data_184.parquet\n",
      "download: s3://xdss-public-datasets/demos/taxi_parquet/data_187.parquet to datasets/taxi_parquet/data_187.parquet\n",
      "download: s3://xdss-public-datasets/demos/taxi_parquet/data_186.parquet to datasets/taxi_parquet/data_186.parquet\n",
      "download: s3://xdss-public-datasets/demos/taxi_parquet/data_189.parquet to datasets/taxi_parquet/data_189.parquet\n",
      "download: s3://xdss-public-datasets/demos/taxi_parquet/data_188.parquet to datasets/taxi_parquet/data_188.parquet\n",
      "download: s3://xdss-public-datasets/demos/taxi_parquet/data_19.parquet to datasets/taxi_parquet/data_19.parquet\n",
      "download: s3://xdss-public-datasets/demos/taxi_parquet/data_191.parquet to datasets/taxi_parquet/data_191.parquet\n",
      "download: s3://xdss-public-datasets/demos/taxi_parquet/data_190.parquet to datasets/taxi_parquet/data_190.parquet\n",
      "download: s3://xdss-public-datasets/demos/taxi_parquet/data_192.parquet to datasets/taxi_parquet/data_192.parquet\n",
      "download: s3://xdss-public-datasets/demos/taxi_parquet/data_195.parquet to datasets/taxi_parquet/data_195.parquet\n",
      "download: s3://xdss-public-datasets/demos/taxi_parquet/data_193.parquet to datasets/taxi_parquet/data_193.parquet\n",
      "download: s3://xdss-public-datasets/demos/taxi_parquet/data_194.parquet to datasets/taxi_parquet/data_194.parquet\n",
      "download: s3://xdss-public-datasets/demos/taxi_parquet/data_199.parquet to datasets/taxi_parquet/data_199.parquet\n",
      "download: s3://xdss-public-datasets/demos/taxi_parquet/data_196.parquet to datasets/taxi_parquet/data_196.parquet\n",
      "download: s3://xdss-public-datasets/demos/taxi_parquet/data_198.parquet to datasets/taxi_parquet/data_198.parquet\n",
      "download: s3://xdss-public-datasets/demos/taxi_parquet/data_20.parquet to datasets/taxi_parquet/data_20.parquet\n",
      "download: s3://xdss-public-datasets/demos/taxi_parquet/data_200.parquet to datasets/taxi_parquet/data_200.parquet\n"
     ]
    },
    {
     "name": "stdout",
     "output_type": "stream",
     "text": [
      "download: s3://xdss-public-datasets/demos/taxi_parquet/data_201.parquet to datasets/taxi_parquet/data_201.parquet\n",
      "download: s3://xdss-public-datasets/demos/taxi_parquet/data_2.parquet to datasets/taxi_parquet/data_2.parquet\n",
      "download: s3://xdss-public-datasets/demos/taxi_parquet/data_197.parquet to datasets/taxi_parquet/data_197.parquet\n",
      "download: s3://xdss-public-datasets/demos/taxi_parquet/data_202.parquet to datasets/taxi_parquet/data_202.parquet\n",
      "download: s3://xdss-public-datasets/demos/taxi_parquet/data_203.parquet to datasets/taxi_parquet/data_203.parquet\n",
      "download: s3://xdss-public-datasets/demos/taxi_parquet/data_204.parquet to datasets/taxi_parquet/data_204.parquet\n",
      "download: s3://xdss-public-datasets/demos/taxi_parquet/data_205.parquet to datasets/taxi_parquet/data_205.parquet\n",
      "download: s3://xdss-public-datasets/demos/taxi_parquet/data_208.parquet to datasets/taxi_parquet/data_208.parquet\n",
      "download: s3://xdss-public-datasets/demos/taxi_parquet/data_206.parquet to datasets/taxi_parquet/data_206.parquet\n",
      "download: s3://xdss-public-datasets/demos/taxi_parquet/data_209.parquet to datasets/taxi_parquet/data_209.parquet\n",
      "download: s3://xdss-public-datasets/demos/taxi_parquet/data_207.parquet to datasets/taxi_parquet/data_207.parquet\n",
      "download: s3://xdss-public-datasets/demos/taxi_parquet/data_210.parquet to datasets/taxi_parquet/data_210.parquet\n",
      "download: s3://xdss-public-datasets/demos/taxi_parquet/data_21.parquet to datasets/taxi_parquet/data_21.parquet\n",
      "download: s3://xdss-public-datasets/demos/taxi_parquet/data_213.parquet to datasets/taxi_parquet/data_213.parquet\n",
      "download: s3://xdss-public-datasets/demos/taxi_parquet/data_211.parquet to datasets/taxi_parquet/data_211.parquet\n",
      "download: s3://xdss-public-datasets/demos/taxi_parquet/data_212.parquet to datasets/taxi_parquet/data_212.parquet\n",
      "download: s3://xdss-public-datasets/demos/taxi_parquet/data_214.parquet to datasets/taxi_parquet/data_214.parquet\n",
      "download: s3://xdss-public-datasets/demos/taxi_parquet/data_215.parquet to datasets/taxi_parquet/data_215.parquet\n",
      "download: s3://xdss-public-datasets/demos/taxi_parquet/data_216.parquet to datasets/taxi_parquet/data_216.parquet\n",
      "download: s3://xdss-public-datasets/demos/taxi_parquet/data_217.parquet to datasets/taxi_parquet/data_217.parquet\n",
      "download: s3://xdss-public-datasets/demos/taxi_parquet/data_218.parquet to datasets/taxi_parquet/data_218.parquet\n",
      "download: s3://xdss-public-datasets/demos/taxi_parquet/data_219.parquet to datasets/taxi_parquet/data_219.parquet\n",
      "download: s3://xdss-public-datasets/demos/taxi_parquet/data_22.parquet to datasets/taxi_parquet/data_22.parquet\n",
      "download: s3://xdss-public-datasets/demos/taxi_parquet/data_221.parquet to datasets/taxi_parquet/data_221.parquet\n",
      "download: s3://xdss-public-datasets/demos/taxi_parquet/data_220.parquet to datasets/taxi_parquet/data_220.parquet\n",
      "download: s3://xdss-public-datasets/demos/taxi_parquet/data_222.parquet to datasets/taxi_parquet/data_222.parquet\n",
      "download: s3://xdss-public-datasets/demos/taxi_parquet/data_224.parquet to datasets/taxi_parquet/data_224.parquet\n",
      "download: s3://xdss-public-datasets/demos/taxi_parquet/data_225.parquet to datasets/taxi_parquet/data_225.parquet\n",
      "download: s3://xdss-public-datasets/demos/taxi_parquet/data_226.parquet to datasets/taxi_parquet/data_226.parquet\n",
      "download: s3://xdss-public-datasets/demos/taxi_parquet/data_223.parquet to datasets/taxi_parquet/data_223.parquet\n",
      "download: s3://xdss-public-datasets/demos/taxi_parquet/data_227.parquet to datasets/taxi_parquet/data_227.parquet\n",
      "download: s3://xdss-public-datasets/demos/taxi_parquet/data_228.parquet to datasets/taxi_parquet/data_228.parquet\n",
      "download: s3://xdss-public-datasets/demos/taxi_parquet/data_229.parquet to datasets/taxi_parquet/data_229.parquet\n",
      "download: s3://xdss-public-datasets/demos/taxi_parquet/data_23.parquet to datasets/taxi_parquet/data_23.parquet\n",
      "download: s3://xdss-public-datasets/demos/taxi_parquet/data_231.parquet to datasets/taxi_parquet/data_231.parquet\n",
      "download: s3://xdss-public-datasets/demos/taxi_parquet/data_230.parquet to datasets/taxi_parquet/data_230.parquet\n",
      "download: s3://xdss-public-datasets/demos/taxi_parquet/data_232.parquet to datasets/taxi_parquet/data_232.parquet\n",
      "download: s3://xdss-public-datasets/demos/taxi_parquet/data_234.parquet to datasets/taxi_parquet/data_234.parquet\n",
      "download: s3://xdss-public-datasets/demos/taxi_parquet/data_233.parquet to datasets/taxi_parquet/data_233.parquet\n",
      "download: s3://xdss-public-datasets/demos/taxi_parquet/data_235.parquet to datasets/taxi_parquet/data_235.parquet\n",
      "download: s3://xdss-public-datasets/demos/taxi_parquet/data_236.parquet to datasets/taxi_parquet/data_236.parquet\n",
      "download: s3://xdss-public-datasets/demos/taxi_parquet/data_237.parquet to datasets/taxi_parquet/data_237.parquet\n",
      "download: s3://xdss-public-datasets/demos/taxi_parquet/data_239.parquet to datasets/taxi_parquet/data_239.parquet\n",
      "download: s3://xdss-public-datasets/demos/taxi_parquet/data_238.parquet to datasets/taxi_parquet/data_238.parquet\n",
      "download: s3://xdss-public-datasets/demos/taxi_parquet/data_24.parquet to datasets/taxi_parquet/data_24.parquet\n",
      "download: s3://xdss-public-datasets/demos/taxi_parquet/data_241.parquet to datasets/taxi_parquet/data_241.parquet\n",
      "download: s3://xdss-public-datasets/demos/taxi_parquet/data_240.parquet to datasets/taxi_parquet/data_240.parquet\n",
      "download: s3://xdss-public-datasets/demos/taxi_parquet/data_242.parquet to datasets/taxi_parquet/data_242.parquet\n",
      "download: s3://xdss-public-datasets/demos/taxi_parquet/data_243.parquet to datasets/taxi_parquet/data_243.parquet\n",
      "download: s3://xdss-public-datasets/demos/taxi_parquet/data_244.parquet to datasets/taxi_parquet/data_244.parquet\n",
      "download: s3://xdss-public-datasets/demos/taxi_parquet/data_245.parquet to datasets/taxi_parquet/data_245.parquet\n",
      "download: s3://xdss-public-datasets/demos/taxi_parquet/data_247.parquet to datasets/taxi_parquet/data_247.parquet\n",
      "download: s3://xdss-public-datasets/demos/taxi_parquet/data_248.parquet to datasets/taxi_parquet/data_248.parquet\n",
      "download: s3://xdss-public-datasets/demos/taxi_parquet/data_246.parquet to datasets/taxi_parquet/data_246.parquet\n",
      "download: s3://xdss-public-datasets/demos/taxi_parquet/data_249.parquet to datasets/taxi_parquet/data_249.parquet\n",
      "download: s3://xdss-public-datasets/demos/taxi_parquet/data_25.parquet to datasets/taxi_parquet/data_25.parquet\n",
      "download: s3://xdss-public-datasets/demos/taxi_parquet/data_250.parquet to datasets/taxi_parquet/data_250.parquet\n",
      "download: s3://xdss-public-datasets/demos/taxi_parquet/data_251.parquet to datasets/taxi_parquet/data_251.parquet\n",
      "download: s3://xdss-public-datasets/demos/taxi_parquet/data_252.parquet to datasets/taxi_parquet/data_252.parquet\n",
      "download: s3://xdss-public-datasets/demos/taxi_parquet/data_253.parquet to datasets/taxi_parquet/data_253.parquet\n",
      "download: s3://xdss-public-datasets/demos/taxi_parquet/data_254.parquet to datasets/taxi_parquet/data_254.parquet\n",
      "download: s3://xdss-public-datasets/demos/taxi_parquet/data_256.parquet to datasets/taxi_parquet/data_256.parquet\n",
      "download: s3://xdss-public-datasets/demos/taxi_parquet/data_255.parquet to datasets/taxi_parquet/data_255.parquet\n",
      "download: s3://xdss-public-datasets/demos/taxi_parquet/data_257.parquet to datasets/taxi_parquet/data_257.parquet\n",
      "download: s3://xdss-public-datasets/demos/taxi_parquet/data_258.parquet to datasets/taxi_parquet/data_258.parquet\n",
      "download: s3://xdss-public-datasets/demos/taxi_parquet/data_259.parquet to datasets/taxi_parquet/data_259.parquet\n",
      "download: s3://xdss-public-datasets/demos/taxi_parquet/data_26.parquet to datasets/taxi_parquet/data_26.parquet\n",
      "download: s3://xdss-public-datasets/demos/taxi_parquet/data_260.parquet to datasets/taxi_parquet/data_260.parquet\n",
      "download: s3://xdss-public-datasets/demos/taxi_parquet/data_261.parquet to datasets/taxi_parquet/data_261.parquet\n",
      "download: s3://xdss-public-datasets/demos/taxi_parquet/data_262.parquet to datasets/taxi_parquet/data_262.parquet\n",
      "download: s3://xdss-public-datasets/demos/taxi_parquet/data_263.parquet to datasets/taxi_parquet/data_263.parquet\n",
      "download: s3://xdss-public-datasets/demos/taxi_parquet/data_264.parquet to datasets/taxi_parquet/data_264.parquet\n",
      "download: s3://xdss-public-datasets/demos/taxi_parquet/data_265.parquet to datasets/taxi_parquet/data_265.parquet\n",
      "download: s3://xdss-public-datasets/demos/taxi_parquet/data_266.parquet to datasets/taxi_parquet/data_266.parquet\n",
      "download: s3://xdss-public-datasets/demos/taxi_parquet/data_267.parquet to datasets/taxi_parquet/data_267.parquet\n",
      "download: s3://xdss-public-datasets/demos/taxi_parquet/data_268.parquet to datasets/taxi_parquet/data_268.parquet\n",
      "download: s3://xdss-public-datasets/demos/taxi_parquet/data_269.parquet to datasets/taxi_parquet/data_269.parquet\n",
      "download: s3://xdss-public-datasets/demos/taxi_parquet/data_27.parquet to datasets/taxi_parquet/data_27.parquet\n",
      "download: s3://xdss-public-datasets/demos/taxi_parquet/data_270.parquet to datasets/taxi_parquet/data_270.parquet\n",
      "download: s3://xdss-public-datasets/demos/taxi_parquet/data_271.parquet to datasets/taxi_parquet/data_271.parquet\n",
      "download: s3://xdss-public-datasets/demos/taxi_parquet/data_272.parquet to datasets/taxi_parquet/data_272.parquet\n",
      "download: s3://xdss-public-datasets/demos/taxi_parquet/data_273.parquet to datasets/taxi_parquet/data_273.parquet\n",
      "download: s3://xdss-public-datasets/demos/taxi_parquet/data_274.parquet to datasets/taxi_parquet/data_274.parquet\n",
      "download: s3://xdss-public-datasets/demos/taxi_parquet/data_276.parquet to datasets/taxi_parquet/data_276.parquet\n",
      "download: s3://xdss-public-datasets/demos/taxi_parquet/data_275.parquet to datasets/taxi_parquet/data_275.parquet\n",
      "download: s3://xdss-public-datasets/demos/taxi_parquet/data_277.parquet to datasets/taxi_parquet/data_277.parquet\n",
      "download: s3://xdss-public-datasets/demos/taxi_parquet/data_278.parquet to datasets/taxi_parquet/data_278.parquet\n",
      "download: s3://xdss-public-datasets/demos/taxi_parquet/data_279.parquet to datasets/taxi_parquet/data_279.parquet\n",
      "download: s3://xdss-public-datasets/demos/taxi_parquet/data_28.parquet to datasets/taxi_parquet/data_28.parquet\n",
      "download: s3://xdss-public-datasets/demos/taxi_parquet/data_280.parquet to datasets/taxi_parquet/data_280.parquet\n",
      "download: s3://xdss-public-datasets/demos/taxi_parquet/data_281.parquet to datasets/taxi_parquet/data_281.parquet\n",
      "download: s3://xdss-public-datasets/demos/taxi_parquet/data_282.parquet to datasets/taxi_parquet/data_282.parquet\n",
      "download: s3://xdss-public-datasets/demos/taxi_parquet/data_283.parquet to datasets/taxi_parquet/data_283.parquet\n",
      "download: s3://xdss-public-datasets/demos/taxi_parquet/data_284.parquet to datasets/taxi_parquet/data_284.parquet\n",
      "download: s3://xdss-public-datasets/demos/taxi_parquet/data_285.parquet to datasets/taxi_parquet/data_285.parquet\n",
      "download: s3://xdss-public-datasets/demos/taxi_parquet/data_286.parquet to datasets/taxi_parquet/data_286.parquet\n",
      "download: s3://xdss-public-datasets/demos/taxi_parquet/data_287.parquet to datasets/taxi_parquet/data_287.parquet\n",
      "download: s3://xdss-public-datasets/demos/taxi_parquet/data_29.parquet to datasets/taxi_parquet/data_29.parquet\n",
      "download: s3://xdss-public-datasets/demos/taxi_parquet/data_290.parquet to datasets/taxi_parquet/data_290.parquet\n",
      "download: s3://xdss-public-datasets/demos/taxi_parquet/data_289.parquet to datasets/taxi_parquet/data_289.parquet\n",
      "download: s3://xdss-public-datasets/demos/taxi_parquet/data_288.parquet to datasets/taxi_parquet/data_288.parquet\n",
      "download: s3://xdss-public-datasets/demos/taxi_parquet/data_292.parquet to datasets/taxi_parquet/data_292.parquet\n",
      "download: s3://xdss-public-datasets/demos/taxi_parquet/data_291.parquet to datasets/taxi_parquet/data_291.parquet\n",
      "download: s3://xdss-public-datasets/demos/taxi_parquet/data_293.parquet to datasets/taxi_parquet/data_293.parquet\n",
      "download: s3://xdss-public-datasets/demos/taxi_parquet/data_294.parquet to datasets/taxi_parquet/data_294.parquet\n",
      "download: s3://xdss-public-datasets/demos/taxi_parquet/data_295.parquet to datasets/taxi_parquet/data_295.parquet\n",
      "download: s3://xdss-public-datasets/demos/taxi_parquet/data_296.parquet to datasets/taxi_parquet/data_296.parquet\n",
      "download: s3://xdss-public-datasets/demos/taxi_parquet/data_297.parquet to datasets/taxi_parquet/data_297.parquet\n",
      "download: s3://xdss-public-datasets/demos/taxi_parquet/data_298.parquet to datasets/taxi_parquet/data_298.parquet\n",
      "download: s3://xdss-public-datasets/demos/taxi_parquet/data_30.parquet to datasets/taxi_parquet/data_30.parquet\n",
      "download: s3://xdss-public-datasets/demos/taxi_parquet/data_299.parquet to datasets/taxi_parquet/data_299.parquet\n",
      "download: s3://xdss-public-datasets/demos/taxi_parquet/data_3.parquet to datasets/taxi_parquet/data_3.parquet\n",
      "download: s3://xdss-public-datasets/demos/taxi_parquet/data_300.parquet to datasets/taxi_parquet/data_300.parquet\n",
      "download: s3://xdss-public-datasets/demos/taxi_parquet/data_301.parquet to datasets/taxi_parquet/data_301.parquet\n",
      "download: s3://xdss-public-datasets/demos/taxi_parquet/data_303.parquet to datasets/taxi_parquet/data_303.parquet\n",
      "download: s3://xdss-public-datasets/demos/taxi_parquet/data_302.parquet to datasets/taxi_parquet/data_302.parquet\n",
      "download: s3://xdss-public-datasets/demos/taxi_parquet/data_304.parquet to datasets/taxi_parquet/data_304.parquet\n",
      "download: s3://xdss-public-datasets/demos/taxi_parquet/data_306.parquet to datasets/taxi_parquet/data_306.parquet\n",
      "download: s3://xdss-public-datasets/demos/taxi_parquet/data_305.parquet to datasets/taxi_parquet/data_305.parquet\n",
      "download: s3://xdss-public-datasets/demos/taxi_parquet/data_308.parquet to datasets/taxi_parquet/data_308.parquet\n",
      "download: s3://xdss-public-datasets/demos/taxi_parquet/data_307.parquet to datasets/taxi_parquet/data_307.parquet\n",
      "download: s3://xdss-public-datasets/demos/taxi_parquet/data_309.parquet to datasets/taxi_parquet/data_309.parquet\n",
      "download: s3://xdss-public-datasets/demos/taxi_parquet/data_31.parquet to datasets/taxi_parquet/data_31.parquet\n",
      "download: s3://xdss-public-datasets/demos/taxi_parquet/data_310.parquet to datasets/taxi_parquet/data_310.parquet\n",
      "download: s3://xdss-public-datasets/demos/taxi_parquet/data_312.parquet to datasets/taxi_parquet/data_312.parquet\n",
      "download: s3://xdss-public-datasets/demos/taxi_parquet/data_311.parquet to datasets/taxi_parquet/data_311.parquet\n",
      "download: s3://xdss-public-datasets/demos/taxi_parquet/data_313.parquet to datasets/taxi_parquet/data_313.parquet\n",
      "download: s3://xdss-public-datasets/demos/taxi_parquet/data_314.parquet to datasets/taxi_parquet/data_314.parquet\n",
      "download: s3://xdss-public-datasets/demos/taxi_parquet/data_315.parquet to datasets/taxi_parquet/data_315.parquet\n",
      "download: s3://xdss-public-datasets/demos/taxi_parquet/data_316.parquet to datasets/taxi_parquet/data_316.parquet\n",
      "download: s3://xdss-public-datasets/demos/taxi_parquet/data_319.parquet to datasets/taxi_parquet/data_319.parquet\n",
      "download: s3://xdss-public-datasets/demos/taxi_parquet/data_318.parquet to datasets/taxi_parquet/data_318.parquet\n",
      "download: s3://xdss-public-datasets/demos/taxi_parquet/data_317.parquet to datasets/taxi_parquet/data_317.parquet\n",
      "download: s3://xdss-public-datasets/demos/taxi_parquet/data_32.parquet to datasets/taxi_parquet/data_32.parquet\n",
      "download: s3://xdss-public-datasets/demos/taxi_parquet/data_320.parquet to datasets/taxi_parquet/data_320.parquet\n",
      "download: s3://xdss-public-datasets/demos/taxi_parquet/data_321.parquet to datasets/taxi_parquet/data_321.parquet\n",
      "download: s3://xdss-public-datasets/demos/taxi_parquet/data_323.parquet to datasets/taxi_parquet/data_323.parquet\n",
      "download: s3://xdss-public-datasets/demos/taxi_parquet/data_322.parquet to datasets/taxi_parquet/data_322.parquet\n",
      "download: s3://xdss-public-datasets/demos/taxi_parquet/data_325.parquet to datasets/taxi_parquet/data_325.parquet\n",
      "download: s3://xdss-public-datasets/demos/taxi_parquet/data_324.parquet to datasets/taxi_parquet/data_324.parquet\n",
      "download: s3://xdss-public-datasets/demos/taxi_parquet/data_326.parquet to datasets/taxi_parquet/data_326.parquet\n",
      "download: s3://xdss-public-datasets/demos/taxi_parquet/data_328.parquet to datasets/taxi_parquet/data_328.parquet\n",
      "download: s3://xdss-public-datasets/demos/taxi_parquet/data_327.parquet to datasets/taxi_parquet/data_327.parquet\n",
      "download: s3://xdss-public-datasets/demos/taxi_parquet/data_329.parquet to datasets/taxi_parquet/data_329.parquet\n"
     ]
    },
    {
     "name": "stdout",
     "output_type": "stream",
     "text": [
      "download: s3://xdss-public-datasets/demos/taxi_parquet/data_330.parquet to datasets/taxi_parquet/data_330.parquet\n",
      "download: s3://xdss-public-datasets/demos/taxi_parquet/data_33.parquet to datasets/taxi_parquet/data_33.parquet\n",
      "download: s3://xdss-public-datasets/demos/taxi_parquet/data_331.parquet to datasets/taxi_parquet/data_331.parquet\n",
      "download: s3://xdss-public-datasets/demos/taxi_parquet/data_332.parquet to datasets/taxi_parquet/data_332.parquet\n",
      "download: s3://xdss-public-datasets/demos/taxi_parquet/data_333.parquet to datasets/taxi_parquet/data_333.parquet\n",
      "download: s3://xdss-public-datasets/demos/taxi_parquet/data_334.parquet to datasets/taxi_parquet/data_334.parquet\n",
      "download: s3://xdss-public-datasets/demos/taxi_parquet/data_336.parquet to datasets/taxi_parquet/data_336.parquet\n",
      "download: s3://xdss-public-datasets/demos/taxi_parquet/data_337.parquet to datasets/taxi_parquet/data_337.parquet\n",
      "download: s3://xdss-public-datasets/demos/taxi_parquet/data_335.parquet to datasets/taxi_parquet/data_335.parquet\n",
      "download: s3://xdss-public-datasets/demos/taxi_parquet/data_338.parquet to datasets/taxi_parquet/data_338.parquet\n",
      "download: s3://xdss-public-datasets/demos/taxi_parquet/data_339.parquet to datasets/taxi_parquet/data_339.parquet\n",
      "download: s3://xdss-public-datasets/demos/taxi_parquet/data_340.parquet to datasets/taxi_parquet/data_340.parquet\n",
      "download: s3://xdss-public-datasets/demos/taxi_parquet/data_341.parquet to datasets/taxi_parquet/data_341.parquet\n",
      "download: s3://xdss-public-datasets/demos/taxi_parquet/data_342.parquet to datasets/taxi_parquet/data_342.parquet\n",
      "download: s3://xdss-public-datasets/demos/taxi_parquet/data_34.parquet to datasets/taxi_parquet/data_34.parquet\n",
      "download: s3://xdss-public-datasets/demos/taxi_parquet/data_344.parquet to datasets/taxi_parquet/data_344.parquet\n",
      "download: s3://xdss-public-datasets/demos/taxi_parquet/data_343.parquet to datasets/taxi_parquet/data_343.parquet\n",
      "download: s3://xdss-public-datasets/demos/taxi_parquet/data_345.parquet to datasets/taxi_parquet/data_345.parquet\n",
      "download: s3://xdss-public-datasets/demos/taxi_parquet/data_346.parquet to datasets/taxi_parquet/data_346.parquet\n",
      "download: s3://xdss-public-datasets/demos/taxi_parquet/data_348.parquet to datasets/taxi_parquet/data_348.parquet\n",
      "download: s3://xdss-public-datasets/demos/taxi_parquet/data_349.parquet to datasets/taxi_parquet/data_349.parquet\n",
      "download: s3://xdss-public-datasets/demos/taxi_parquet/data_347.parquet to datasets/taxi_parquet/data_347.parquet\n",
      "download: s3://xdss-public-datasets/demos/taxi_parquet/data_35.parquet to datasets/taxi_parquet/data_35.parquet\n",
      "download: s3://xdss-public-datasets/demos/taxi_parquet/data_351.parquet to datasets/taxi_parquet/data_351.parquet\n",
      "download: s3://xdss-public-datasets/demos/taxi_parquet/data_353.parquet to datasets/taxi_parquet/data_353.parquet\n",
      "download: s3://xdss-public-datasets/demos/taxi_parquet/data_350.parquet to datasets/taxi_parquet/data_350.parquet\n",
      "download: s3://xdss-public-datasets/demos/taxi_parquet/data_352.parquet to datasets/taxi_parquet/data_352.parquet\n",
      "download: s3://xdss-public-datasets/demos/taxi_parquet/data_355.parquet to datasets/taxi_parquet/data_355.parquet\n",
      "download: s3://xdss-public-datasets/demos/taxi_parquet/data_354.parquet to datasets/taxi_parquet/data_354.parquet\n",
      "download: s3://xdss-public-datasets/demos/taxi_parquet/data_358.parquet to datasets/taxi_parquet/data_358.parquet\n",
      "download: s3://xdss-public-datasets/demos/taxi_parquet/data_356.parquet to datasets/taxi_parquet/data_356.parquet\n",
      "download: s3://xdss-public-datasets/demos/taxi_parquet/data_357.parquet to datasets/taxi_parquet/data_357.parquet\n",
      "download: s3://xdss-public-datasets/demos/taxi_parquet/data_359.parquet to datasets/taxi_parquet/data_359.parquet\n",
      "download: s3://xdss-public-datasets/demos/taxi_parquet/data_360.parquet to datasets/taxi_parquet/data_360.parquet\n",
      "download: s3://xdss-public-datasets/demos/taxi_parquet/data_361.parquet to datasets/taxi_parquet/data_361.parquet\n",
      "download: s3://xdss-public-datasets/demos/taxi_parquet/data_362.parquet to datasets/taxi_parquet/data_362.parquet\n",
      "download: s3://xdss-public-datasets/demos/taxi_parquet/data_36.parquet to datasets/taxi_parquet/data_36.parquet\n",
      "download: s3://xdss-public-datasets/demos/taxi_parquet/data_363.parquet to datasets/taxi_parquet/data_363.parquet\n",
      "download: s3://xdss-public-datasets/demos/taxi_parquet/data_364.parquet to datasets/taxi_parquet/data_364.parquet\n",
      "download: s3://xdss-public-datasets/demos/taxi_parquet/data_365.parquet to datasets/taxi_parquet/data_365.parquet\n",
      "download: s3://xdss-public-datasets/demos/taxi_parquet/data_366.parquet to datasets/taxi_parquet/data_366.parquet\n",
      "download: s3://xdss-public-datasets/demos/taxi_parquet/data_367.parquet to datasets/taxi_parquet/data_367.parquet\n",
      "download: s3://xdss-public-datasets/demos/taxi_parquet/data_368.parquet to datasets/taxi_parquet/data_368.parquet\n",
      "download: s3://xdss-public-datasets/demos/taxi_parquet/data_369.parquet to datasets/taxi_parquet/data_369.parquet\n",
      "download: s3://xdss-public-datasets/demos/taxi_parquet/data_370.parquet to datasets/taxi_parquet/data_370.parquet\n",
      "download: s3://xdss-public-datasets/demos/taxi_parquet/data_37.parquet to datasets/taxi_parquet/data_37.parquet\n",
      "download: s3://xdss-public-datasets/demos/taxi_parquet/data_371.parquet to datasets/taxi_parquet/data_371.parquet\n",
      "download: s3://xdss-public-datasets/demos/taxi_parquet/data_372.parquet to datasets/taxi_parquet/data_372.parquet\n",
      "download: s3://xdss-public-datasets/demos/taxi_parquet/data_373.parquet to datasets/taxi_parquet/data_373.parquet\n",
      "download: s3://xdss-public-datasets/demos/taxi_parquet/data_374.parquet to datasets/taxi_parquet/data_374.parquet\n",
      "download: s3://xdss-public-datasets/demos/taxi_parquet/data_376.parquet to datasets/taxi_parquet/data_376.parquet\n",
      "download: s3://xdss-public-datasets/demos/taxi_parquet/data_375.parquet to datasets/taxi_parquet/data_375.parquet\n",
      "download: s3://xdss-public-datasets/demos/taxi_parquet/data_379.parquet to datasets/taxi_parquet/data_379.parquet\n",
      "download: s3://xdss-public-datasets/demos/taxi_parquet/data_378.parquet to datasets/taxi_parquet/data_378.parquet\n",
      "download: s3://xdss-public-datasets/demos/taxi_parquet/data_377.parquet to datasets/taxi_parquet/data_377.parquet\n",
      "download: s3://xdss-public-datasets/demos/taxi_parquet/data_380.parquet to datasets/taxi_parquet/data_380.parquet\n",
      "download: s3://xdss-public-datasets/demos/taxi_parquet/data_38.parquet to datasets/taxi_parquet/data_38.parquet\n",
      "download: s3://xdss-public-datasets/demos/taxi_parquet/data_381.parquet to datasets/taxi_parquet/data_381.parquet\n",
      "download: s3://xdss-public-datasets/demos/taxi_parquet/data_382.parquet to datasets/taxi_parquet/data_382.parquet\n",
      "download: s3://xdss-public-datasets/demos/taxi_parquet/data_383.parquet to datasets/taxi_parquet/data_383.parquet\n",
      "download: s3://xdss-public-datasets/demos/taxi_parquet/data_384.parquet to datasets/taxi_parquet/data_384.parquet\n",
      "download: s3://xdss-public-datasets/demos/taxi_parquet/data_385.parquet to datasets/taxi_parquet/data_385.parquet\n",
      "download: s3://xdss-public-datasets/demos/taxi_parquet/data_387.parquet to datasets/taxi_parquet/data_387.parquet\n",
      "download: s3://xdss-public-datasets/demos/taxi_parquet/data_386.parquet to datasets/taxi_parquet/data_386.parquet\n",
      "download: s3://xdss-public-datasets/demos/taxi_parquet/data_388.parquet to datasets/taxi_parquet/data_388.parquet\n",
      "download: s3://xdss-public-datasets/demos/taxi_parquet/data_389.parquet to datasets/taxi_parquet/data_389.parquet\n",
      "download: s3://xdss-public-datasets/demos/taxi_parquet/data_39.parquet to datasets/taxi_parquet/data_39.parquet\n",
      "download: s3://xdss-public-datasets/demos/taxi_parquet/data_390.parquet to datasets/taxi_parquet/data_390.parquet\n",
      "download: s3://xdss-public-datasets/demos/taxi_parquet/data_391.parquet to datasets/taxi_parquet/data_391.parquet\n",
      "download: s3://xdss-public-datasets/demos/taxi_parquet/data_392.parquet to datasets/taxi_parquet/data_392.parquet\n",
      "download: s3://xdss-public-datasets/demos/taxi_parquet/data_393.parquet to datasets/taxi_parquet/data_393.parquet\n",
      "download: s3://xdss-public-datasets/demos/taxi_parquet/data_394.parquet to datasets/taxi_parquet/data_394.parquet\n"
     ]
    },
    {
     "name": "stdout",
     "output_type": "stream",
     "text": [
      "download: s3://xdss-public-datasets/demos/taxi_parquet/data_395.parquet to datasets/taxi_parquet/data_395.parquet\n",
      "download: s3://xdss-public-datasets/demos/taxi_parquet/data_396.parquet to datasets/taxi_parquet/data_396.parquet\n",
      "download: s3://xdss-public-datasets/demos/taxi_parquet/data_397.parquet to datasets/taxi_parquet/data_397.parquet\n",
      "download: s3://xdss-public-datasets/demos/taxi_parquet/data_398.parquet to datasets/taxi_parquet/data_398.parquet\n",
      "download: s3://xdss-public-datasets/demos/taxi_parquet/data_399.parquet to datasets/taxi_parquet/data_399.parquet\n",
      "download: s3://xdss-public-datasets/demos/taxi_parquet/data_40.parquet to datasets/taxi_parquet/data_40.parquet\n",
      "download: s3://xdss-public-datasets/demos/taxi_parquet/data_400.parquet to datasets/taxi_parquet/data_400.parquet\n",
      "download: s3://xdss-public-datasets/demos/taxi_parquet/data_401.parquet to datasets/taxi_parquet/data_401.parquet\n",
      "download: s3://xdss-public-datasets/demos/taxi_parquet/data_4.parquet to datasets/taxi_parquet/data_4.parquet\n",
      "download: s3://xdss-public-datasets/demos/taxi_parquet/data_402.parquet to datasets/taxi_parquet/data_402.parquet\n",
      "download: s3://xdss-public-datasets/demos/taxi_parquet/data_403.parquet to datasets/taxi_parquet/data_403.parquet\n",
      "download: s3://xdss-public-datasets/demos/taxi_parquet/data_404.parquet to datasets/taxi_parquet/data_404.parquet\n",
      "download: s3://xdss-public-datasets/demos/taxi_parquet/data_405.parquet to datasets/taxi_parquet/data_405.parquet\n",
      "download: s3://xdss-public-datasets/demos/taxi_parquet/data_406.parquet to datasets/taxi_parquet/data_406.parquet\n",
      "download: s3://xdss-public-datasets/demos/taxi_parquet/data_407.parquet to datasets/taxi_parquet/data_407.parquet\n",
      "download: s3://xdss-public-datasets/demos/taxi_parquet/data_409.parquet to datasets/taxi_parquet/data_409.parquet\n",
      "download: s3://xdss-public-datasets/demos/taxi_parquet/data_41.parquet to datasets/taxi_parquet/data_41.parquet\n",
      "download: s3://xdss-public-datasets/demos/taxi_parquet/data_408.parquet to datasets/taxi_parquet/data_408.parquet\n",
      "download: s3://xdss-public-datasets/demos/taxi_parquet/data_411.parquet to datasets/taxi_parquet/data_411.parquet\n",
      "download: s3://xdss-public-datasets/demos/taxi_parquet/data_410.parquet to datasets/taxi_parquet/data_410.parquet\n",
      "download: s3://xdss-public-datasets/demos/taxi_parquet/data_413.parquet to datasets/taxi_parquet/data_413.parquet\n",
      "download: s3://xdss-public-datasets/demos/taxi_parquet/data_414.parquet to datasets/taxi_parquet/data_414.parquet\n",
      "download: s3://xdss-public-datasets/demos/taxi_parquet/data_416.parquet to datasets/taxi_parquet/data_416.parquet\n",
      "download: s3://xdss-public-datasets/demos/taxi_parquet/data_415.parquet to datasets/taxi_parquet/data_415.parquet\n",
      "download: s3://xdss-public-datasets/demos/taxi_parquet/data_412.parquet to datasets/taxi_parquet/data_412.parquet\n",
      "download: s3://xdss-public-datasets/demos/taxi_parquet/data_417.parquet to datasets/taxi_parquet/data_417.parquet\n",
      "download: s3://xdss-public-datasets/demos/taxi_parquet/data_418.parquet to datasets/taxi_parquet/data_418.parquet\n",
      "download: s3://xdss-public-datasets/demos/taxi_parquet/data_419.parquet to datasets/taxi_parquet/data_419.parquet\n",
      "download: s3://xdss-public-datasets/demos/taxi_parquet/data_420.parquet to datasets/taxi_parquet/data_420.parquet\n",
      "download: s3://xdss-public-datasets/demos/taxi_parquet/data_42.parquet to datasets/taxi_parquet/data_42.parquet\n",
      "download: s3://xdss-public-datasets/demos/taxi_parquet/data_422.parquet to datasets/taxi_parquet/data_422.parquet\n",
      "download: s3://xdss-public-datasets/demos/taxi_parquet/data_421.parquet to datasets/taxi_parquet/data_421.parquet\n",
      "download: s3://xdss-public-datasets/demos/taxi_parquet/data_423.parquet to datasets/taxi_parquet/data_423.parquet\n",
      "download: s3://xdss-public-datasets/demos/taxi_parquet/data_424.parquet to datasets/taxi_parquet/data_424.parquet\n",
      "download: s3://xdss-public-datasets/demos/taxi_parquet/data_425.parquet to datasets/taxi_parquet/data_425.parquet\n",
      "download: s3://xdss-public-datasets/demos/taxi_parquet/data_428.parquet to datasets/taxi_parquet/data_428.parquet\n",
      "download: s3://xdss-public-datasets/demos/taxi_parquet/data_427.parquet to datasets/taxi_parquet/data_427.parquet\n",
      "download: s3://xdss-public-datasets/demos/taxi_parquet/data_429.parquet to datasets/taxi_parquet/data_429.parquet\n",
      "download: s3://xdss-public-datasets/demos/taxi_parquet/data_426.parquet to datasets/taxi_parquet/data_426.parquet\n",
      "download: s3://xdss-public-datasets/demos/taxi_parquet/data_43.parquet to datasets/taxi_parquet/data_43.parquet\n",
      "download: s3://xdss-public-datasets/demos/taxi_parquet/data_430.parquet to datasets/taxi_parquet/data_430.parquet\n",
      "download: s3://xdss-public-datasets/demos/taxi_parquet/data_431.parquet to datasets/taxi_parquet/data_431.parquet\n",
      "download: s3://xdss-public-datasets/demos/taxi_parquet/data_432.parquet to datasets/taxi_parquet/data_432.parquet\n",
      "download: s3://xdss-public-datasets/demos/taxi_parquet/data_433.parquet to datasets/taxi_parquet/data_433.parquet\n",
      "download: s3://xdss-public-datasets/demos/taxi_parquet/data_434.parquet to datasets/taxi_parquet/data_434.parquet\n",
      "download: s3://xdss-public-datasets/demos/taxi_parquet/data_435.parquet to datasets/taxi_parquet/data_435.parquet\n",
      "download: s3://xdss-public-datasets/demos/taxi_parquet/data_436.parquet to datasets/taxi_parquet/data_436.parquet\n",
      "download: s3://xdss-public-datasets/demos/taxi_parquet/data_437.parquet to datasets/taxi_parquet/data_437.parquet\n",
      "download: s3://xdss-public-datasets/demos/taxi_parquet/data_438.parquet to datasets/taxi_parquet/data_438.parquet\n",
      "download: s3://xdss-public-datasets/demos/taxi_parquet/data_439.parquet to datasets/taxi_parquet/data_439.parquet\n",
      "download: s3://xdss-public-datasets/demos/taxi_parquet/data_440.parquet to datasets/taxi_parquet/data_440.parquet\n",
      "download: s3://xdss-public-datasets/demos/taxi_parquet/data_442.parquet to datasets/taxi_parquet/data_442.parquet\n",
      "download: s3://xdss-public-datasets/demos/taxi_parquet/data_44.parquet to datasets/taxi_parquet/data_44.parquet\n",
      "download: s3://xdss-public-datasets/demos/taxi_parquet/data_441.parquet to datasets/taxi_parquet/data_441.parquet\n",
      "download: s3://xdss-public-datasets/demos/taxi_parquet/data_443.parquet to datasets/taxi_parquet/data_443.parquet\n",
      "download: s3://xdss-public-datasets/demos/taxi_parquet/data_444.parquet to datasets/taxi_parquet/data_444.parquet\n",
      "download: s3://xdss-public-datasets/demos/taxi_parquet/data_446.parquet to datasets/taxi_parquet/data_446.parquet\n",
      "download: s3://xdss-public-datasets/demos/taxi_parquet/data_447.parquet to datasets/taxi_parquet/data_447.parquet\n",
      "download: s3://xdss-public-datasets/demos/taxi_parquet/data_445.parquet to datasets/taxi_parquet/data_445.parquet\n",
      "download: s3://xdss-public-datasets/demos/taxi_parquet/data_448.parquet to datasets/taxi_parquet/data_448.parquet\n",
      "download: s3://xdss-public-datasets/demos/taxi_parquet/data_45.parquet to datasets/taxi_parquet/data_45.parquet\n",
      "download: s3://xdss-public-datasets/demos/taxi_parquet/data_449.parquet to datasets/taxi_parquet/data_449.parquet\n",
      "download: s3://xdss-public-datasets/demos/taxi_parquet/data_450.parquet to datasets/taxi_parquet/data_450.parquet\n",
      "download: s3://xdss-public-datasets/demos/taxi_parquet/data_451.parquet to datasets/taxi_parquet/data_451.parquet\n",
      "download: s3://xdss-public-datasets/demos/taxi_parquet/data_452.parquet to datasets/taxi_parquet/data_452.parquet\n",
      "download: s3://xdss-public-datasets/demos/taxi_parquet/data_453.parquet to datasets/taxi_parquet/data_453.parquet\n",
      "download: s3://xdss-public-datasets/demos/taxi_parquet/data_454.parquet to datasets/taxi_parquet/data_454.parquet\n",
      "download: s3://xdss-public-datasets/demos/taxi_parquet/data_455.parquet to datasets/taxi_parquet/data_455.parquet\n",
      "download: s3://xdss-public-datasets/demos/taxi_parquet/data_457.parquet to datasets/taxi_parquet/data_457.parquet\n",
      "download: s3://xdss-public-datasets/demos/taxi_parquet/data_456.parquet to datasets/taxi_parquet/data_456.parquet\n",
      "download: s3://xdss-public-datasets/demos/taxi_parquet/data_46.parquet to datasets/taxi_parquet/data_46.parquet\n",
      "download: s3://xdss-public-datasets/demos/taxi_parquet/data_459.parquet to datasets/taxi_parquet/data_459.parquet\n",
      "download: s3://xdss-public-datasets/demos/taxi_parquet/data_458.parquet to datasets/taxi_parquet/data_458.parquet\n",
      "download: s3://xdss-public-datasets/demos/taxi_parquet/data_460.parquet to datasets/taxi_parquet/data_460.parquet\n",
      "download: s3://xdss-public-datasets/demos/taxi_parquet/data_461.parquet to datasets/taxi_parquet/data_461.parquet\n",
      "download: s3://xdss-public-datasets/demos/taxi_parquet/data_462.parquet to datasets/taxi_parquet/data_462.parquet\n",
      "download: s3://xdss-public-datasets/demos/taxi_parquet/data_463.parquet to datasets/taxi_parquet/data_463.parquet\n",
      "download: s3://xdss-public-datasets/demos/taxi_parquet/data_464.parquet to datasets/taxi_parquet/data_464.parquet\n",
      "download: s3://xdss-public-datasets/demos/taxi_parquet/data_465.parquet to datasets/taxi_parquet/data_465.parquet\n",
      "download: s3://xdss-public-datasets/demos/taxi_parquet/data_466.parquet to datasets/taxi_parquet/data_466.parquet\n",
      "download: s3://xdss-public-datasets/demos/taxi_parquet/data_467.parquet to datasets/taxi_parquet/data_467.parquet\n",
      "download: s3://xdss-public-datasets/demos/taxi_parquet/data_470.parquet to datasets/taxi_parquet/data_470.parquet\n",
      "download: s3://xdss-public-datasets/demos/taxi_parquet/data_47.parquet to datasets/taxi_parquet/data_47.parquet\n",
      "download: s3://xdss-public-datasets/demos/taxi_parquet/data_469.parquet to datasets/taxi_parquet/data_469.parquet\n",
      "download: s3://xdss-public-datasets/demos/taxi_parquet/data_471.parquet to datasets/taxi_parquet/data_471.parquet\n",
      "download: s3://xdss-public-datasets/demos/taxi_parquet/data_468.parquet to datasets/taxi_parquet/data_468.parquet\n",
      "download: s3://xdss-public-datasets/demos/taxi_parquet/data_473.parquet to datasets/taxi_parquet/data_473.parquet\n",
      "download: s3://xdss-public-datasets/demos/taxi_parquet/data_474.parquet to datasets/taxi_parquet/data_474.parquet\n",
      "download: s3://xdss-public-datasets/demos/taxi_parquet/data_472.parquet to datasets/taxi_parquet/data_472.parquet\n",
      "download: s3://xdss-public-datasets/demos/taxi_parquet/data_475.parquet to datasets/taxi_parquet/data_475.parquet\n",
      "download: s3://xdss-public-datasets/demos/taxi_parquet/data_476.parquet to datasets/taxi_parquet/data_476.parquet\n",
      "download: s3://xdss-public-datasets/demos/taxi_parquet/data_477.parquet to datasets/taxi_parquet/data_477.parquet\n",
      "download: s3://xdss-public-datasets/demos/taxi_parquet/data_478.parquet to datasets/taxi_parquet/data_478.parquet\n",
      "download: s3://xdss-public-datasets/demos/taxi_parquet/data_479.parquet to datasets/taxi_parquet/data_479.parquet\n",
      "download: s3://xdss-public-datasets/demos/taxi_parquet/data_480.parquet to datasets/taxi_parquet/data_480.parquet\n",
      "download: s3://xdss-public-datasets/demos/taxi_parquet/data_48.parquet to datasets/taxi_parquet/data_48.parquet\n",
      "download: s3://xdss-public-datasets/demos/taxi_parquet/data_481.parquet to datasets/taxi_parquet/data_481.parquet\n",
      "download: s3://xdss-public-datasets/demos/taxi_parquet/data_482.parquet to datasets/taxi_parquet/data_482.parquet\n",
      "download: s3://xdss-public-datasets/demos/taxi_parquet/data_483.parquet to datasets/taxi_parquet/data_483.parquet\n",
      "download: s3://xdss-public-datasets/demos/taxi_parquet/data_484.parquet to datasets/taxi_parquet/data_484.parquet\n",
      "download: s3://xdss-public-datasets/demos/taxi_parquet/data_485.parquet to datasets/taxi_parquet/data_485.parquet\n",
      "download: s3://xdss-public-datasets/demos/taxi_parquet/data_486.parquet to datasets/taxi_parquet/data_486.parquet\n",
      "download: s3://xdss-public-datasets/demos/taxi_parquet/data_487.parquet to datasets/taxi_parquet/data_487.parquet\n",
      "download: s3://xdss-public-datasets/demos/taxi_parquet/data_488.parquet to datasets/taxi_parquet/data_488.parquet\n",
      "download: s3://xdss-public-datasets/demos/taxi_parquet/data_489.parquet to datasets/taxi_parquet/data_489.parquet\n",
      "download: s3://xdss-public-datasets/demos/taxi_parquet/data_49.parquet to datasets/taxi_parquet/data_49.parquet\n",
      "download: s3://xdss-public-datasets/demos/taxi_parquet/data_490.parquet to datasets/taxi_parquet/data_490.parquet\n",
      "download: s3://xdss-public-datasets/demos/taxi_parquet/data_491.parquet to datasets/taxi_parquet/data_491.parquet\n",
      "download: s3://xdss-public-datasets/demos/taxi_parquet/data_492.parquet to datasets/taxi_parquet/data_492.parquet\n",
      "download: s3://xdss-public-datasets/demos/taxi_parquet/data_493.parquet to datasets/taxi_parquet/data_493.parquet\n",
      "download: s3://xdss-public-datasets/demos/taxi_parquet/data_494.parquet to datasets/taxi_parquet/data_494.parquet\n",
      "download: s3://xdss-public-datasets/demos/taxi_parquet/data_495.parquet to datasets/taxi_parquet/data_495.parquet\n",
      "download: s3://xdss-public-datasets/demos/taxi_parquet/data_497.parquet to datasets/taxi_parquet/data_497.parquet\n",
      "download: s3://xdss-public-datasets/demos/taxi_parquet/data_496.parquet to datasets/taxi_parquet/data_496.parquet\n",
      "download: s3://xdss-public-datasets/demos/taxi_parquet/data_498.parquet to datasets/taxi_parquet/data_498.parquet\n",
      "download: s3://xdss-public-datasets/demos/taxi_parquet/data_5.parquet to datasets/taxi_parquet/data_5.parquet\n",
      "download: s3://xdss-public-datasets/demos/taxi_parquet/data_50.parquet to datasets/taxi_parquet/data_50.parquet\n",
      "download: s3://xdss-public-datasets/demos/taxi_parquet/data_500.parquet to datasets/taxi_parquet/data_500.parquet\n",
      "download: s3://xdss-public-datasets/demos/taxi_parquet/data_501.parquet to datasets/taxi_parquet/data_501.parquet\n",
      "download: s3://xdss-public-datasets/demos/taxi_parquet/data_502.parquet to datasets/taxi_parquet/data_502.parquet\n",
      "download: s3://xdss-public-datasets/demos/taxi_parquet/data_499.parquet to datasets/taxi_parquet/data_499.parquet\n",
      "download: s3://xdss-public-datasets/demos/taxi_parquet/data_503.parquet to datasets/taxi_parquet/data_503.parquet\n",
      "download: s3://xdss-public-datasets/demos/taxi_parquet/data_504.parquet to datasets/taxi_parquet/data_504.parquet\n",
      "download: s3://xdss-public-datasets/demos/taxi_parquet/data_505.parquet to datasets/taxi_parquet/data_505.parquet\n",
      "download: s3://xdss-public-datasets/demos/taxi_parquet/data_506.parquet to datasets/taxi_parquet/data_506.parquet\n",
      "download: s3://xdss-public-datasets/demos/taxi_parquet/data_507.parquet to datasets/taxi_parquet/data_507.parquet\n",
      "download: s3://xdss-public-datasets/demos/taxi_parquet/data_508.parquet to datasets/taxi_parquet/data_508.parquet\n",
      "download: s3://xdss-public-datasets/demos/taxi_parquet/data_509.parquet to datasets/taxi_parquet/data_509.parquet\n",
      "download: s3://xdss-public-datasets/demos/taxi_parquet/data_51.parquet to datasets/taxi_parquet/data_51.parquet\n",
      "download: s3://xdss-public-datasets/demos/taxi_parquet/data_511.parquet to datasets/taxi_parquet/data_511.parquet\n",
      "download: s3://xdss-public-datasets/demos/taxi_parquet/data_512.parquet to datasets/taxi_parquet/data_512.parquet\n",
      "download: s3://xdss-public-datasets/demos/taxi_parquet/data_510.parquet to datasets/taxi_parquet/data_510.parquet\n",
      "download: s3://xdss-public-datasets/demos/taxi_parquet/data_513.parquet to datasets/taxi_parquet/data_513.parquet\n",
      "download: s3://xdss-public-datasets/demos/taxi_parquet/data_514.parquet to datasets/taxi_parquet/data_514.parquet\n",
      "download: s3://xdss-public-datasets/demos/taxi_parquet/data_516.parquet to datasets/taxi_parquet/data_516.parquet\n",
      "download: s3://xdss-public-datasets/demos/taxi_parquet/data_515.parquet to datasets/taxi_parquet/data_515.parquet\n",
      "download: s3://xdss-public-datasets/demos/taxi_parquet/data_518.parquet to datasets/taxi_parquet/data_518.parquet\n",
      "download: s3://xdss-public-datasets/demos/taxi_parquet/data_519.parquet to datasets/taxi_parquet/data_519.parquet\n",
      "download: s3://xdss-public-datasets/demos/taxi_parquet/data_52.parquet to datasets/taxi_parquet/data_52.parquet\n",
      "download: s3://xdss-public-datasets/demos/taxi_parquet/data_520.parquet to datasets/taxi_parquet/data_520.parquet\n",
      "download: s3://xdss-public-datasets/demos/taxi_parquet/data_517.parquet to datasets/taxi_parquet/data_517.parquet\n",
      "download: s3://xdss-public-datasets/demos/taxi_parquet/data_521.parquet to datasets/taxi_parquet/data_521.parquet\n",
      "download: s3://xdss-public-datasets/demos/taxi_parquet/data_522.parquet to datasets/taxi_parquet/data_522.parquet\n",
      "download: s3://xdss-public-datasets/demos/taxi_parquet/data_524.parquet to datasets/taxi_parquet/data_524.parquet\n"
     ]
    },
    {
     "name": "stdout",
     "output_type": "stream",
     "text": [
      "download: s3://xdss-public-datasets/demos/taxi_parquet/data_525.parquet to datasets/taxi_parquet/data_525.parquet\n",
      "download: s3://xdss-public-datasets/demos/taxi_parquet/data_526.parquet to datasets/taxi_parquet/data_526.parquet\n",
      "download: s3://xdss-public-datasets/demos/taxi_parquet/data_527.parquet to datasets/taxi_parquet/data_527.parquet\n",
      "download: s3://xdss-public-datasets/demos/taxi_parquet/data_523.parquet to datasets/taxi_parquet/data_523.parquet\n",
      "download: s3://xdss-public-datasets/demos/taxi_parquet/data_528.parquet to datasets/taxi_parquet/data_528.parquet\n",
      "download: s3://xdss-public-datasets/demos/taxi_parquet/data_529.parquet to datasets/taxi_parquet/data_529.parquet\n",
      "download: s3://xdss-public-datasets/demos/taxi_parquet/data_53.parquet to datasets/taxi_parquet/data_53.parquet\n",
      "download: s3://xdss-public-datasets/demos/taxi_parquet/data_531.parquet to datasets/taxi_parquet/data_531.parquet\n",
      "download: s3://xdss-public-datasets/demos/taxi_parquet/data_532.parquet to datasets/taxi_parquet/data_532.parquet\n",
      "download: s3://xdss-public-datasets/demos/taxi_parquet/data_533.parquet to datasets/taxi_parquet/data_533.parquet\n",
      "download: s3://xdss-public-datasets/demos/taxi_parquet/data_530.parquet to datasets/taxi_parquet/data_530.parquet\n",
      "download: s3://xdss-public-datasets/demos/taxi_parquet/data_534.parquet to datasets/taxi_parquet/data_534.parquet\n",
      "download: s3://xdss-public-datasets/demos/taxi_parquet/data_536.parquet to datasets/taxi_parquet/data_536.parquet\n",
      "download: s3://xdss-public-datasets/demos/taxi_parquet/data_538.parquet to datasets/taxi_parquet/data_538.parquet\n",
      "download: s3://xdss-public-datasets/demos/taxi_parquet/data_535.parquet to datasets/taxi_parquet/data_535.parquet\n",
      "download: s3://xdss-public-datasets/demos/taxi_parquet/data_539.parquet to datasets/taxi_parquet/data_539.parquet\n",
      "download: s3://xdss-public-datasets/demos/taxi_parquet/data_537.parquet to datasets/taxi_parquet/data_537.parquet\n",
      "download: s3://xdss-public-datasets/demos/taxi_parquet/data_54.parquet to datasets/taxi_parquet/data_54.parquet\n",
      "download: s3://xdss-public-datasets/demos/taxi_parquet/data_543.parquet to datasets/taxi_parquet/data_543.parquet\n",
      "download: s3://xdss-public-datasets/demos/taxi_parquet/data_540.parquet to datasets/taxi_parquet/data_540.parquet\n",
      "download: s3://xdss-public-datasets/demos/taxi_parquet/data_542.parquet to datasets/taxi_parquet/data_542.parquet\n",
      "download: s3://xdss-public-datasets/demos/taxi_parquet/data_544.parquet to datasets/taxi_parquet/data_544.parquet\n",
      "download: s3://xdss-public-datasets/demos/taxi_parquet/data_545.parquet to datasets/taxi_parquet/data_545.parquet\n",
      "download: s3://xdss-public-datasets/demos/taxi_parquet/data_541.parquet to datasets/taxi_parquet/data_541.parquet\n",
      "download: s3://xdss-public-datasets/demos/taxi_parquet/data_547.parquet to datasets/taxi_parquet/data_547.parquet\n",
      "download: s3://xdss-public-datasets/demos/taxi_parquet/data_546.parquet to datasets/taxi_parquet/data_546.parquet\n",
      "download: s3://xdss-public-datasets/demos/taxi_parquet/data_548.parquet to datasets/taxi_parquet/data_548.parquet\n",
      "download: s3://xdss-public-datasets/demos/taxi_parquet/data_551.parquet to datasets/taxi_parquet/data_551.parquet\n",
      "download: s3://xdss-public-datasets/demos/taxi_parquet/data_550.parquet to datasets/taxi_parquet/data_550.parquet\n",
      "download: s3://xdss-public-datasets/demos/taxi_parquet/data_549.parquet to datasets/taxi_parquet/data_549.parquet\n",
      "download: s3://xdss-public-datasets/demos/taxi_parquet/data_55.parquet to datasets/taxi_parquet/data_55.parquet\n",
      "download: s3://xdss-public-datasets/demos/taxi_parquet/data_552.parquet to datasets/taxi_parquet/data_552.parquet\n",
      "download: s3://xdss-public-datasets/demos/taxi_parquet/data_553.parquet to datasets/taxi_parquet/data_553.parquet\n",
      "download: s3://xdss-public-datasets/demos/taxi_parquet/data_554.parquet to datasets/taxi_parquet/data_554.parquet\n",
      "download: s3://xdss-public-datasets/demos/taxi_parquet/data_555.parquet to datasets/taxi_parquet/data_555.parquet\n",
      "download: s3://xdss-public-datasets/demos/taxi_parquet/data_556.parquet to datasets/taxi_parquet/data_556.parquet\n",
      "download: s3://xdss-public-datasets/demos/taxi_parquet/data_557.parquet to datasets/taxi_parquet/data_557.parquet\n",
      "download: s3://xdss-public-datasets/demos/taxi_parquet/data_559.parquet to datasets/taxi_parquet/data_559.parquet\n",
      "download: s3://xdss-public-datasets/demos/taxi_parquet/data_558.parquet to datasets/taxi_parquet/data_558.parquet\n",
      "download: s3://xdss-public-datasets/demos/taxi_parquet/data_56.parquet to datasets/taxi_parquet/data_56.parquet\n",
      "download: s3://xdss-public-datasets/demos/taxi_parquet/data_560.parquet to datasets/taxi_parquet/data_560.parquet\n",
      "download: s3://xdss-public-datasets/demos/taxi_parquet/data_561.parquet to datasets/taxi_parquet/data_561.parquet\n",
      "download: s3://xdss-public-datasets/demos/taxi_parquet/data_562.parquet to datasets/taxi_parquet/data_562.parquet\n",
      "download: s3://xdss-public-datasets/demos/taxi_parquet/data_563.parquet to datasets/taxi_parquet/data_563.parquet\n",
      "download: s3://xdss-public-datasets/demos/taxi_parquet/data_565.parquet to datasets/taxi_parquet/data_565.parquet\n",
      "download: s3://xdss-public-datasets/demos/taxi_parquet/data_564.parquet to datasets/taxi_parquet/data_564.parquet\n",
      "download: s3://xdss-public-datasets/demos/taxi_parquet/data_566.parquet to datasets/taxi_parquet/data_566.parquet\n",
      "download: s3://xdss-public-datasets/demos/taxi_parquet/data_568.parquet to datasets/taxi_parquet/data_568.parquet\n",
      "download: s3://xdss-public-datasets/demos/taxi_parquet/data_569.parquet to datasets/taxi_parquet/data_569.parquet\n",
      "download: s3://xdss-public-datasets/demos/taxi_parquet/data_57.parquet to datasets/taxi_parquet/data_57.parquet\n",
      "download: s3://xdss-public-datasets/demos/taxi_parquet/data_567.parquet to datasets/taxi_parquet/data_567.parquet\n",
      "download: s3://xdss-public-datasets/demos/taxi_parquet/data_570.parquet to datasets/taxi_parquet/data_570.parquet\n",
      "download: s3://xdss-public-datasets/demos/taxi_parquet/data_571.parquet to datasets/taxi_parquet/data_571.parquet\n",
      "download: s3://xdss-public-datasets/demos/taxi_parquet/data_573.parquet to datasets/taxi_parquet/data_573.parquet\n",
      "download: s3://xdss-public-datasets/demos/taxi_parquet/data_572.parquet to datasets/taxi_parquet/data_572.parquet\n",
      "download: s3://xdss-public-datasets/demos/taxi_parquet/data_574.parquet to datasets/taxi_parquet/data_574.parquet\n",
      "download: s3://xdss-public-datasets/demos/taxi_parquet/data_575.parquet to datasets/taxi_parquet/data_575.parquet\n",
      "download: s3://xdss-public-datasets/demos/taxi_parquet/data_576.parquet to datasets/taxi_parquet/data_576.parquet\n",
      "download: s3://xdss-public-datasets/demos/taxi_parquet/data_578.parquet to datasets/taxi_parquet/data_578.parquet\n",
      "download: s3://xdss-public-datasets/demos/taxi_parquet/data_579.parquet to datasets/taxi_parquet/data_579.parquet\n",
      "download: s3://xdss-public-datasets/demos/taxi_parquet/data_58.parquet to datasets/taxi_parquet/data_58.parquet\n",
      "download: s3://xdss-public-datasets/demos/taxi_parquet/data_577.parquet to datasets/taxi_parquet/data_577.parquet\n",
      "download: s3://xdss-public-datasets/demos/taxi_parquet/data_581.parquet to datasets/taxi_parquet/data_581.parquet\n",
      "download: s3://xdss-public-datasets/demos/taxi_parquet/data_580.parquet to datasets/taxi_parquet/data_580.parquet\n",
      "download: s3://xdss-public-datasets/demos/taxi_parquet/data_582.parquet to datasets/taxi_parquet/data_582.parquet\n",
      "download: s3://xdss-public-datasets/demos/taxi_parquet/data_583.parquet to datasets/taxi_parquet/data_583.parquet\n",
      "download: s3://xdss-public-datasets/demos/taxi_parquet/data_584.parquet to datasets/taxi_parquet/data_584.parquet\n",
      "download: s3://xdss-public-datasets/demos/taxi_parquet/data_586.parquet to datasets/taxi_parquet/data_586.parquet\n",
      "download: s3://xdss-public-datasets/demos/taxi_parquet/data_585.parquet to datasets/taxi_parquet/data_585.parquet\n",
      "download: s3://xdss-public-datasets/demos/taxi_parquet/data_587.parquet to datasets/taxi_parquet/data_587.parquet\n",
      "download: s3://xdss-public-datasets/demos/taxi_parquet/data_588.parquet to datasets/taxi_parquet/data_588.parquet\n",
      "download: s3://xdss-public-datasets/demos/taxi_parquet/data_589.parquet to datasets/taxi_parquet/data_589.parquet\n"
     ]
    },
    {
     "name": "stdout",
     "output_type": "stream",
     "text": [
      "download: s3://xdss-public-datasets/demos/taxi_parquet/data_590.parquet to datasets/taxi_parquet/data_590.parquet\n",
      "download: s3://xdss-public-datasets/demos/taxi_parquet/data_591.parquet to datasets/taxi_parquet/data_591.parquet\n",
      "download: s3://xdss-public-datasets/demos/taxi_parquet/data_592.parquet to datasets/taxi_parquet/data_592.parquet\n",
      "download: s3://xdss-public-datasets/demos/taxi_parquet/data_593.parquet to datasets/taxi_parquet/data_593.parquet\n",
      "download: s3://xdss-public-datasets/demos/taxi_parquet/data_594.parquet to datasets/taxi_parquet/data_594.parquet\n",
      "download: s3://xdss-public-datasets/demos/taxi_parquet/data_595.parquet to datasets/taxi_parquet/data_595.parquet\n",
      "download: s3://xdss-public-datasets/demos/taxi_parquet/data_596.parquet to datasets/taxi_parquet/data_596.parquet\n",
      "download: s3://xdss-public-datasets/demos/taxi_parquet/data_59.parquet to datasets/taxi_parquet/data_59.parquet\n",
      "download: s3://xdss-public-datasets/demos/taxi_parquet/data_597.parquet to datasets/taxi_parquet/data_597.parquet\n",
      "download: s3://xdss-public-datasets/demos/taxi_parquet/data_598.parquet to datasets/taxi_parquet/data_598.parquet\n",
      "download: s3://xdss-public-datasets/demos/taxi_parquet/data_599.parquet to datasets/taxi_parquet/data_599.parquet\n",
      "download: s3://xdss-public-datasets/demos/taxi_parquet/data_6.parquet to datasets/taxi_parquet/data_6.parquet\n",
      "download: s3://xdss-public-datasets/demos/taxi_parquet/data_600.parquet to datasets/taxi_parquet/data_600.parquet\n",
      "download: s3://xdss-public-datasets/demos/taxi_parquet/data_601.parquet to datasets/taxi_parquet/data_601.parquet\n",
      "download: s3://xdss-public-datasets/demos/taxi_parquet/data_602.parquet to datasets/taxi_parquet/data_602.parquet\n",
      "download: s3://xdss-public-datasets/demos/taxi_parquet/data_60.parquet to datasets/taxi_parquet/data_60.parquet\n",
      "download: s3://xdss-public-datasets/demos/taxi_parquet/data_603.parquet to datasets/taxi_parquet/data_603.parquet\n",
      "download: s3://xdss-public-datasets/demos/taxi_parquet/data_604.parquet to datasets/taxi_parquet/data_604.parquet\n",
      "download: s3://xdss-public-datasets/demos/taxi_parquet/data_606.parquet to datasets/taxi_parquet/data_606.parquet\n",
      "download: s3://xdss-public-datasets/demos/taxi_parquet/data_607.parquet to datasets/taxi_parquet/data_607.parquet\n",
      "download: s3://xdss-public-datasets/demos/taxi_parquet/data_605.parquet to datasets/taxi_parquet/data_605.parquet\n",
      "download: s3://xdss-public-datasets/demos/taxi_parquet/data_608.parquet to datasets/taxi_parquet/data_608.parquet\n",
      "download: s3://xdss-public-datasets/demos/taxi_parquet/data_61.parquet to datasets/taxi_parquet/data_61.parquet\n",
      "download: s3://xdss-public-datasets/demos/taxi_parquet/data_609.parquet to datasets/taxi_parquet/data_609.parquet\n",
      "download: s3://xdss-public-datasets/demos/taxi_parquet/data_611.parquet to datasets/taxi_parquet/data_611.parquet\n",
      "download: s3://xdss-public-datasets/demos/taxi_parquet/data_612.parquet to datasets/taxi_parquet/data_612.parquet\n",
      "download: s3://xdss-public-datasets/demos/taxi_parquet/data_610.parquet to datasets/taxi_parquet/data_610.parquet\n",
      "download: s3://xdss-public-datasets/demos/taxi_parquet/data_613.parquet to datasets/taxi_parquet/data_613.parquet\n",
      "download: s3://xdss-public-datasets/demos/taxi_parquet/data_614.parquet to datasets/taxi_parquet/data_614.parquet\n",
      "download: s3://xdss-public-datasets/demos/taxi_parquet/data_615.parquet to datasets/taxi_parquet/data_615.parquet\n",
      "download: s3://xdss-public-datasets/demos/taxi_parquet/data_616.parquet to datasets/taxi_parquet/data_616.parquet\n",
      "download: s3://xdss-public-datasets/demos/taxi_parquet/data_618.parquet to datasets/taxi_parquet/data_618.parquet\n",
      "download: s3://xdss-public-datasets/demos/taxi_parquet/data_619.parquet to datasets/taxi_parquet/data_619.parquet\n",
      "download: s3://xdss-public-datasets/demos/taxi_parquet/data_62.parquet to datasets/taxi_parquet/data_62.parquet\n",
      "download: s3://xdss-public-datasets/demos/taxi_parquet/data_620.parquet to datasets/taxi_parquet/data_620.parquet\n",
      "download: s3://xdss-public-datasets/demos/taxi_parquet/data_617.parquet to datasets/taxi_parquet/data_617.parquet\n",
      "download: s3://xdss-public-datasets/demos/taxi_parquet/data_621.parquet to datasets/taxi_parquet/data_621.parquet\n",
      "download: s3://xdss-public-datasets/demos/taxi_parquet/data_622.parquet to datasets/taxi_parquet/data_622.parquet\n",
      "download: s3://xdss-public-datasets/demos/taxi_parquet/data_623.parquet to datasets/taxi_parquet/data_623.parquet\n",
      "download: s3://xdss-public-datasets/demos/taxi_parquet/data_624.parquet to datasets/taxi_parquet/data_624.parquet\n",
      "download: s3://xdss-public-datasets/demos/taxi_parquet/data_625.parquet to datasets/taxi_parquet/data_625.parquet\n",
      "download: s3://xdss-public-datasets/demos/taxi_parquet/data_627.parquet to datasets/taxi_parquet/data_627.parquet\n",
      "download: s3://xdss-public-datasets/demos/taxi_parquet/data_626.parquet to datasets/taxi_parquet/data_626.parquet\n",
      "download: s3://xdss-public-datasets/demos/taxi_parquet/data_628.parquet to datasets/taxi_parquet/data_628.parquet\n",
      "download: s3://xdss-public-datasets/demos/taxi_parquet/data_631.parquet to datasets/taxi_parquet/data_631.parquet\n",
      "download: s3://xdss-public-datasets/demos/taxi_parquet/data_629.parquet to datasets/taxi_parquet/data_629.parquet\n",
      "download: s3://xdss-public-datasets/demos/taxi_parquet/data_63.parquet to datasets/taxi_parquet/data_63.parquet\n",
      "download: s3://xdss-public-datasets/demos/taxi_parquet/data_630.parquet to datasets/taxi_parquet/data_630.parquet\n",
      "download: s3://xdss-public-datasets/demos/taxi_parquet/data_632.parquet to datasets/taxi_parquet/data_632.parquet\n",
      "download: s3://xdss-public-datasets/demos/taxi_parquet/data_633.parquet to datasets/taxi_parquet/data_633.parquet\n",
      "download: s3://xdss-public-datasets/demos/taxi_parquet/data_634.parquet to datasets/taxi_parquet/data_634.parquet\n",
      "download: s3://xdss-public-datasets/demos/taxi_parquet/data_635.parquet to datasets/taxi_parquet/data_635.parquet\n",
      "download: s3://xdss-public-datasets/demos/taxi_parquet/data_636.parquet to datasets/taxi_parquet/data_636.parquet\n",
      "download: s3://xdss-public-datasets/demos/taxi_parquet/data_637.parquet to datasets/taxi_parquet/data_637.parquet\n",
      "download: s3://xdss-public-datasets/demos/taxi_parquet/data_638.parquet to datasets/taxi_parquet/data_638.parquet\n",
      "download: s3://xdss-public-datasets/demos/taxi_parquet/data_639.parquet to datasets/taxi_parquet/data_639.parquet\n",
      "download: s3://xdss-public-datasets/demos/taxi_parquet/data_640.parquet to datasets/taxi_parquet/data_640.parquet\n",
      "download: s3://xdss-public-datasets/demos/taxi_parquet/data_64.parquet to datasets/taxi_parquet/data_64.parquet\n",
      "download: s3://xdss-public-datasets/demos/taxi_parquet/data_642.parquet to datasets/taxi_parquet/data_642.parquet\n",
      "download: s3://xdss-public-datasets/demos/taxi_parquet/data_643.parquet to datasets/taxi_parquet/data_643.parquet\n",
      "download: s3://xdss-public-datasets/demos/taxi_parquet/data_641.parquet to datasets/taxi_parquet/data_641.parquet\n",
      "download: s3://xdss-public-datasets/demos/taxi_parquet/data_644.parquet to datasets/taxi_parquet/data_644.parquet\n",
      "download: s3://xdss-public-datasets/demos/taxi_parquet/data_646.parquet to datasets/taxi_parquet/data_646.parquet\n",
      "download: s3://xdss-public-datasets/demos/taxi_parquet/data_645.parquet to datasets/taxi_parquet/data_645.parquet\n",
      "download: s3://xdss-public-datasets/demos/taxi_parquet/data_647.parquet to datasets/taxi_parquet/data_647.parquet\n",
      "download: s3://xdss-public-datasets/demos/taxi_parquet/data_648.parquet to datasets/taxi_parquet/data_648.parquet\n",
      "download: s3://xdss-public-datasets/demos/taxi_parquet/data_649.parquet to datasets/taxi_parquet/data_649.parquet\n",
      "download: s3://xdss-public-datasets/demos/taxi_parquet/data_650.parquet to datasets/taxi_parquet/data_650.parquet\n",
      "download: s3://xdss-public-datasets/demos/taxi_parquet/data_65.parquet to datasets/taxi_parquet/data_65.parquet\n",
      "download: s3://xdss-public-datasets/demos/taxi_parquet/data_652.parquet to datasets/taxi_parquet/data_652.parquet\n",
      "download: s3://xdss-public-datasets/demos/taxi_parquet/data_651.parquet to datasets/taxi_parquet/data_651.parquet\n",
      "download: s3://xdss-public-datasets/demos/taxi_parquet/data_653.parquet to datasets/taxi_parquet/data_653.parquet\n",
      "download: s3://xdss-public-datasets/demos/taxi_parquet/data_654.parquet to datasets/taxi_parquet/data_654.parquet\n",
      "download: s3://xdss-public-datasets/demos/taxi_parquet/data_655.parquet to datasets/taxi_parquet/data_655.parquet\n",
      "download: s3://xdss-public-datasets/demos/taxi_parquet/data_656.parquet to datasets/taxi_parquet/data_656.parquet\n",
      "download: s3://xdss-public-datasets/demos/taxi_parquet/data_657.parquet to datasets/taxi_parquet/data_657.parquet\n",
      "download: s3://xdss-public-datasets/demos/taxi_parquet/data_658.parquet to datasets/taxi_parquet/data_658.parquet\n",
      "download: s3://xdss-public-datasets/demos/taxi_parquet/data_659.parquet to datasets/taxi_parquet/data_659.parquet\n",
      "download: s3://xdss-public-datasets/demos/taxi_parquet/data_66.parquet to datasets/taxi_parquet/data_66.parquet\n",
      "download: s3://xdss-public-datasets/demos/taxi_parquet/data_660.parquet to datasets/taxi_parquet/data_660.parquet\n",
      "download: s3://xdss-public-datasets/demos/taxi_parquet/data_661.parquet to datasets/taxi_parquet/data_661.parquet\n",
      "download: s3://xdss-public-datasets/demos/taxi_parquet/data_662.parquet to datasets/taxi_parquet/data_662.parquet\n",
      "download: s3://xdss-public-datasets/demos/taxi_parquet/data_663.parquet to datasets/taxi_parquet/data_663.parquet\n",
      "download: s3://xdss-public-datasets/demos/taxi_parquet/data_664.parquet to datasets/taxi_parquet/data_664.parquet\n",
      "download: s3://xdss-public-datasets/demos/taxi_parquet/data_665.parquet to datasets/taxi_parquet/data_665.parquet\n",
      "download: s3://xdss-public-datasets/demos/taxi_parquet/data_666.parquet to datasets/taxi_parquet/data_666.parquet\n",
      "download: s3://xdss-public-datasets/demos/taxi_parquet/data_667.parquet to datasets/taxi_parquet/data_667.parquet\n",
      "download: s3://xdss-public-datasets/demos/taxi_parquet/data_668.parquet to datasets/taxi_parquet/data_668.parquet\n",
      "download: s3://xdss-public-datasets/demos/taxi_parquet/data_669.parquet to datasets/taxi_parquet/data_669.parquet\n",
      "download: s3://xdss-public-datasets/demos/taxi_parquet/data_670.parquet to datasets/taxi_parquet/data_670.parquet\n",
      "download: s3://xdss-public-datasets/demos/taxi_parquet/data_67.parquet to datasets/taxi_parquet/data_67.parquet\n",
      "download: s3://xdss-public-datasets/demos/taxi_parquet/data_671.parquet to datasets/taxi_parquet/data_671.parquet\n",
      "download: s3://xdss-public-datasets/demos/taxi_parquet/data_672.parquet to datasets/taxi_parquet/data_672.parquet\n",
      "download: s3://xdss-public-datasets/demos/taxi_parquet/data_673.parquet to datasets/taxi_parquet/data_673.parquet\n",
      "download: s3://xdss-public-datasets/demos/taxi_parquet/data_674.parquet to datasets/taxi_parquet/data_674.parquet\n",
      "download: s3://xdss-public-datasets/demos/taxi_parquet/data_675.parquet to datasets/taxi_parquet/data_675.parquet\n",
      "download: s3://xdss-public-datasets/demos/taxi_parquet/data_676.parquet to datasets/taxi_parquet/data_676.parquet\n",
      "download: s3://xdss-public-datasets/demos/taxi_parquet/data_677.parquet to datasets/taxi_parquet/data_677.parquet\n",
      "download: s3://xdss-public-datasets/demos/taxi_parquet/data_678.parquet to datasets/taxi_parquet/data_678.parquet\n",
      "download: s3://xdss-public-datasets/demos/taxi_parquet/data_679.parquet to datasets/taxi_parquet/data_679.parquet\n",
      "download: s3://xdss-public-datasets/demos/taxi_parquet/data_680.parquet to datasets/taxi_parquet/data_680.parquet\n",
      "download: s3://xdss-public-datasets/demos/taxi_parquet/data_68.parquet to datasets/taxi_parquet/data_68.parquet\n",
      "download: s3://xdss-public-datasets/demos/taxi_parquet/data_681.parquet to datasets/taxi_parquet/data_681.parquet\n",
      "download: s3://xdss-public-datasets/demos/taxi_parquet/data_682.parquet to datasets/taxi_parquet/data_682.parquet\n",
      "download: s3://xdss-public-datasets/demos/taxi_parquet/data_683.parquet to datasets/taxi_parquet/data_683.parquet\n",
      "download: s3://xdss-public-datasets/demos/taxi_parquet/data_687.parquet to datasets/taxi_parquet/data_687.parquet\n",
      "download: s3://xdss-public-datasets/demos/taxi_parquet/data_684.parquet to datasets/taxi_parquet/data_684.parquet\n",
      "download: s3://xdss-public-datasets/demos/taxi_parquet/data_686.parquet to datasets/taxi_parquet/data_686.parquet\n",
      "download: s3://xdss-public-datasets/demos/taxi_parquet/data_685.parquet to datasets/taxi_parquet/data_685.parquet\n",
      "download: s3://xdss-public-datasets/demos/taxi_parquet/data_688.parquet to datasets/taxi_parquet/data_688.parquet\n",
      "download: s3://xdss-public-datasets/demos/taxi_parquet/data_690.parquet to datasets/taxi_parquet/data_690.parquet\n",
      "download: s3://xdss-public-datasets/demos/taxi_parquet/data_691.parquet to datasets/taxi_parquet/data_691.parquet\n",
      "download: s3://xdss-public-datasets/demos/taxi_parquet/data_692.parquet to datasets/taxi_parquet/data_692.parquet\n",
      "download: s3://xdss-public-datasets/demos/taxi_parquet/data_69.parquet to datasets/taxi_parquet/data_69.parquet\n",
      "download: s3://xdss-public-datasets/demos/taxi_parquet/data_689.parquet to datasets/taxi_parquet/data_689.parquet\n",
      "download: s3://xdss-public-datasets/demos/taxi_parquet/data_694.parquet to datasets/taxi_parquet/data_694.parquet\n",
      "download: s3://xdss-public-datasets/demos/taxi_parquet/data_693.parquet to datasets/taxi_parquet/data_693.parquet\n",
      "download: s3://xdss-public-datasets/demos/taxi_parquet/data_695.parquet to datasets/taxi_parquet/data_695.parquet\n",
      "download: s3://xdss-public-datasets/demos/taxi_parquet/data_696.parquet to datasets/taxi_parquet/data_696.parquet\n",
      "download: s3://xdss-public-datasets/demos/taxi_parquet/data_697.parquet to datasets/taxi_parquet/data_697.parquet\n",
      "download: s3://xdss-public-datasets/demos/taxi_parquet/data_699.parquet to datasets/taxi_parquet/data_699.parquet\n",
      "download: s3://xdss-public-datasets/demos/taxi_parquet/data_698.parquet to datasets/taxi_parquet/data_698.parquet\n",
      "download: s3://xdss-public-datasets/demos/taxi_parquet/data_7.parquet to datasets/taxi_parquet/data_7.parquet\n",
      "download: s3://xdss-public-datasets/demos/taxi_parquet/data_70.parquet to datasets/taxi_parquet/data_70.parquet\n",
      "download: s3://xdss-public-datasets/demos/taxi_parquet/data_700.parquet to datasets/taxi_parquet/data_700.parquet\n",
      "download: s3://xdss-public-datasets/demos/taxi_parquet/data_701.parquet to datasets/taxi_parquet/data_701.parquet\n",
      "download: s3://xdss-public-datasets/demos/taxi_parquet/data_704.parquet to datasets/taxi_parquet/data_704.parquet\n",
      "download: s3://xdss-public-datasets/demos/taxi_parquet/data_702.parquet to datasets/taxi_parquet/data_702.parquet\n",
      "download: s3://xdss-public-datasets/demos/taxi_parquet/data_705.parquet to datasets/taxi_parquet/data_705.parquet\n",
      "download: s3://xdss-public-datasets/demos/taxi_parquet/data_703.parquet to datasets/taxi_parquet/data_703.parquet\n",
      "download: s3://xdss-public-datasets/demos/taxi_parquet/data_708.parquet to datasets/taxi_parquet/data_708.parquet\n",
      "download: s3://xdss-public-datasets/demos/taxi_parquet/data_707.parquet to datasets/taxi_parquet/data_707.parquet\n",
      "download: s3://xdss-public-datasets/demos/taxi_parquet/data_706.parquet to datasets/taxi_parquet/data_706.parquet\n",
      "download: s3://xdss-public-datasets/demos/taxi_parquet/data_709.parquet to datasets/taxi_parquet/data_709.parquet\n",
      "download: s3://xdss-public-datasets/demos/taxi_parquet/data_71.parquet to datasets/taxi_parquet/data_71.parquet\n",
      "download: s3://xdss-public-datasets/demos/taxi_parquet/data_710.parquet to datasets/taxi_parquet/data_710.parquet\n",
      "download: s3://xdss-public-datasets/demos/taxi_parquet/data_711.parquet to datasets/taxi_parquet/data_711.parquet\n",
      "download: s3://xdss-public-datasets/demos/taxi_parquet/data_712.parquet to datasets/taxi_parquet/data_712.parquet\n",
      "download: s3://xdss-public-datasets/demos/taxi_parquet/data_713.parquet to datasets/taxi_parquet/data_713.parquet\n",
      "download: s3://xdss-public-datasets/demos/taxi_parquet/data_714.parquet to datasets/taxi_parquet/data_714.parquet\n",
      "download: s3://xdss-public-datasets/demos/taxi_parquet/data_716.parquet to datasets/taxi_parquet/data_716.parquet\n",
      "download: s3://xdss-public-datasets/demos/taxi_parquet/data_717.parquet to datasets/taxi_parquet/data_717.parquet\n",
      "download: s3://xdss-public-datasets/demos/taxi_parquet/data_715.parquet to datasets/taxi_parquet/data_715.parquet\n",
      "download: s3://xdss-public-datasets/demos/taxi_parquet/data_718.parquet to datasets/taxi_parquet/data_718.parquet\n"
     ]
    },
    {
     "name": "stdout",
     "output_type": "stream",
     "text": [
      "download: s3://xdss-public-datasets/demos/taxi_parquet/data_720.parquet to datasets/taxi_parquet/data_720.parquet\n",
      "download: s3://xdss-public-datasets/demos/taxi_parquet/data_719.parquet to datasets/taxi_parquet/data_719.parquet\n",
      "download: s3://xdss-public-datasets/demos/taxi_parquet/data_722.parquet to datasets/taxi_parquet/data_722.parquet\n",
      "download: s3://xdss-public-datasets/demos/taxi_parquet/data_721.parquet to datasets/taxi_parquet/data_721.parquet\n",
      "download: s3://xdss-public-datasets/demos/taxi_parquet/data_72.parquet to datasets/taxi_parquet/data_72.parquet\n",
      "download: s3://xdss-public-datasets/demos/taxi_parquet/data_724.parquet to datasets/taxi_parquet/data_724.parquet\n",
      "download: s3://xdss-public-datasets/demos/taxi_parquet/data_723.parquet to datasets/taxi_parquet/data_723.parquet\n",
      "download: s3://xdss-public-datasets/demos/taxi_parquet/data_725.parquet to datasets/taxi_parquet/data_725.parquet\n",
      "download: s3://xdss-public-datasets/demos/taxi_parquet/data_726.parquet to datasets/taxi_parquet/data_726.parquet\n",
      "download: s3://xdss-public-datasets/demos/taxi_parquet/data_727.parquet to datasets/taxi_parquet/data_727.parquet\n",
      "download: s3://xdss-public-datasets/demos/taxi_parquet/data_728.parquet to datasets/taxi_parquet/data_728.parquet\n",
      "download: s3://xdss-public-datasets/demos/taxi_parquet/data_729.parquet to datasets/taxi_parquet/data_729.parquet\n",
      "download: s3://xdss-public-datasets/demos/taxi_parquet/data_730.parquet to datasets/taxi_parquet/data_730.parquet\n",
      "download: s3://xdss-public-datasets/demos/taxi_parquet/data_731.parquet to datasets/taxi_parquet/data_731.parquet\n",
      "download: s3://xdss-public-datasets/demos/taxi_parquet/data_73.parquet to datasets/taxi_parquet/data_73.parquet\n",
      "download: s3://xdss-public-datasets/demos/taxi_parquet/data_732.parquet to datasets/taxi_parquet/data_732.parquet\n",
      "download: s3://xdss-public-datasets/demos/taxi_parquet/data_733.parquet to datasets/taxi_parquet/data_733.parquet\n",
      "download: s3://xdss-public-datasets/demos/taxi_parquet/data_734.parquet to datasets/taxi_parquet/data_734.parquet\n",
      "download: s3://xdss-public-datasets/demos/taxi_parquet/data_737.parquet to datasets/taxi_parquet/data_737.parquet\n",
      "download: s3://xdss-public-datasets/demos/taxi_parquet/data_736.parquet to datasets/taxi_parquet/data_736.parquet\n",
      "download: s3://xdss-public-datasets/demos/taxi_parquet/data_735.parquet to datasets/taxi_parquet/data_735.parquet\n",
      "download: s3://xdss-public-datasets/demos/taxi_parquet/data_738.parquet to datasets/taxi_parquet/data_738.parquet\n",
      "download: s3://xdss-public-datasets/demos/taxi_parquet/data_739.parquet to datasets/taxi_parquet/data_739.parquet\n",
      "download: s3://xdss-public-datasets/demos/taxi_parquet/data_740.parquet to datasets/taxi_parquet/data_740.parquet\n",
      "download: s3://xdss-public-datasets/demos/taxi_parquet/data_74.parquet to datasets/taxi_parquet/data_74.parquet\n",
      "download: s3://xdss-public-datasets/demos/taxi_parquet/data_741.parquet to datasets/taxi_parquet/data_741.parquet\n",
      "download: s3://xdss-public-datasets/demos/taxi_parquet/data_742.parquet to datasets/taxi_parquet/data_742.parquet\n",
      "download: s3://xdss-public-datasets/demos/taxi_parquet/data_744.parquet to datasets/taxi_parquet/data_744.parquet\n",
      "download: s3://xdss-public-datasets/demos/taxi_parquet/data_743.parquet to datasets/taxi_parquet/data_743.parquet\n",
      "download: s3://xdss-public-datasets/demos/taxi_parquet/data_746.parquet to datasets/taxi_parquet/data_746.parquet\n",
      "download: s3://xdss-public-datasets/demos/taxi_parquet/data_745.parquet to datasets/taxi_parquet/data_745.parquet\n",
      "download: s3://xdss-public-datasets/demos/taxi_parquet/data_747.parquet to datasets/taxi_parquet/data_747.parquet\n",
      "download: s3://xdss-public-datasets/demos/taxi_parquet/data_748.parquet to datasets/taxi_parquet/data_748.parquet\n",
      "download: s3://xdss-public-datasets/demos/taxi_parquet/data_750.parquet to datasets/taxi_parquet/data_750.parquet\n",
      "download: s3://xdss-public-datasets/demos/taxi_parquet/data_749.parquet to datasets/taxi_parquet/data_749.parquet\n",
      "download: s3://xdss-public-datasets/demos/taxi_parquet/data_75.parquet to datasets/taxi_parquet/data_75.parquet\n",
      "download: s3://xdss-public-datasets/demos/taxi_parquet/data_752.parquet to datasets/taxi_parquet/data_752.parquet\n",
      "download: s3://xdss-public-datasets/demos/taxi_parquet/data_751.parquet to datasets/taxi_parquet/data_751.parquet\n",
      "download: s3://xdss-public-datasets/demos/taxi_parquet/data_753.parquet to datasets/taxi_parquet/data_753.parquet\n",
      "download: s3://xdss-public-datasets/demos/taxi_parquet/data_754.parquet to datasets/taxi_parquet/data_754.parquet\n",
      "download: s3://xdss-public-datasets/demos/taxi_parquet/data_755.parquet to datasets/taxi_parquet/data_755.parquet\n",
      "download: s3://xdss-public-datasets/demos/taxi_parquet/data_756.parquet to datasets/taxi_parquet/data_756.parquet\n",
      "download: s3://xdss-public-datasets/demos/taxi_parquet/data_757.parquet to datasets/taxi_parquet/data_757.parquet\n",
      "download: s3://xdss-public-datasets/demos/taxi_parquet/data_758.parquet to datasets/taxi_parquet/data_758.parquet\n",
      "download: s3://xdss-public-datasets/demos/taxi_parquet/data_759.parquet to datasets/taxi_parquet/data_759.parquet\n",
      "download: s3://xdss-public-datasets/demos/taxi_parquet/data_761.parquet to datasets/taxi_parquet/data_761.parquet\n",
      "download: s3://xdss-public-datasets/demos/taxi_parquet/data_762.parquet to datasets/taxi_parquet/data_762.parquet\n",
      "download: s3://xdss-public-datasets/demos/taxi_parquet/data_76.parquet to datasets/taxi_parquet/data_76.parquet\n",
      "download: s3://xdss-public-datasets/demos/taxi_parquet/data_760.parquet to datasets/taxi_parquet/data_760.parquet\n",
      "download: s3://xdss-public-datasets/demos/taxi_parquet/data_765.parquet to datasets/taxi_parquet/data_765.parquet\n",
      "download: s3://xdss-public-datasets/demos/taxi_parquet/data_763.parquet to datasets/taxi_parquet/data_763.parquet\n",
      "download: s3://xdss-public-datasets/demos/taxi_parquet/data_764.parquet to datasets/taxi_parquet/data_764.parquet\n",
      "download: s3://xdss-public-datasets/demos/taxi_parquet/data_767.parquet to datasets/taxi_parquet/data_767.parquet\n",
      "download: s3://xdss-public-datasets/demos/taxi_parquet/data_766.parquet to datasets/taxi_parquet/data_766.parquet\n",
      "download: s3://xdss-public-datasets/demos/taxi_parquet/data_768.parquet to datasets/taxi_parquet/data_768.parquet\n",
      "download: s3://xdss-public-datasets/demos/taxi_parquet/data_769.parquet to datasets/taxi_parquet/data_769.parquet\n",
      "download: s3://xdss-public-datasets/demos/taxi_parquet/data_771.parquet to datasets/taxi_parquet/data_771.parquet\n",
      "download: s3://xdss-public-datasets/demos/taxi_parquet/data_770.parquet to datasets/taxi_parquet/data_770.parquet\n",
      "download: s3://xdss-public-datasets/demos/taxi_parquet/data_77.parquet to datasets/taxi_parquet/data_77.parquet\n",
      "download: s3://xdss-public-datasets/demos/taxi_parquet/data_772.parquet to datasets/taxi_parquet/data_772.parquet\n",
      "download: s3://xdss-public-datasets/demos/taxi_parquet/data_773.parquet to datasets/taxi_parquet/data_773.parquet\n",
      "download: s3://xdss-public-datasets/demos/taxi_parquet/data_774.parquet to datasets/taxi_parquet/data_774.parquet\n",
      "download: s3://xdss-public-datasets/demos/taxi_parquet/data_775.parquet to datasets/taxi_parquet/data_775.parquet\n",
      "download: s3://xdss-public-datasets/demos/taxi_parquet/data_776.parquet to datasets/taxi_parquet/data_776.parquet\n",
      "download: s3://xdss-public-datasets/demos/taxi_parquet/data_777.parquet to datasets/taxi_parquet/data_777.parquet\n",
      "download: s3://xdss-public-datasets/demos/taxi_parquet/data_778.parquet to datasets/taxi_parquet/data_778.parquet\n",
      "download: s3://xdss-public-datasets/demos/taxi_parquet/data_779.parquet to datasets/taxi_parquet/data_779.parquet\n",
      "download: s3://xdss-public-datasets/demos/taxi_parquet/data_78.parquet to datasets/taxi_parquet/data_78.parquet\n",
      "download: s3://xdss-public-datasets/demos/taxi_parquet/data_780.parquet to datasets/taxi_parquet/data_780.parquet\n",
      "download: s3://xdss-public-datasets/demos/taxi_parquet/data_781.parquet to datasets/taxi_parquet/data_781.parquet\n",
      "download: s3://xdss-public-datasets/demos/taxi_parquet/data_782.parquet to datasets/taxi_parquet/data_782.parquet\n",
      "download: s3://xdss-public-datasets/demos/taxi_parquet/data_783.parquet to datasets/taxi_parquet/data_783.parquet\n"
     ]
    },
    {
     "name": "stdout",
     "output_type": "stream",
     "text": [
      "download: s3://xdss-public-datasets/demos/taxi_parquet/data_784.parquet to datasets/taxi_parquet/data_784.parquet\n",
      "download: s3://xdss-public-datasets/demos/taxi_parquet/data_785.parquet to datasets/taxi_parquet/data_785.parquet\n",
      "download: s3://xdss-public-datasets/demos/taxi_parquet/data_788.parquet to datasets/taxi_parquet/data_788.parquet\n",
      "download: s3://xdss-public-datasets/demos/taxi_parquet/data_786.parquet to datasets/taxi_parquet/data_786.parquet\n",
      "download: s3://xdss-public-datasets/demos/taxi_parquet/data_787.parquet to datasets/taxi_parquet/data_787.parquet\n",
      "download: s3://xdss-public-datasets/demos/taxi_parquet/data_789.parquet to datasets/taxi_parquet/data_789.parquet\n",
      "download: s3://xdss-public-datasets/demos/taxi_parquet/data_790.parquet to datasets/taxi_parquet/data_790.parquet\n",
      "download: s3://xdss-public-datasets/demos/taxi_parquet/data_79.parquet to datasets/taxi_parquet/data_79.parquet\n",
      "download: s3://xdss-public-datasets/demos/taxi_parquet/data_791.parquet to datasets/taxi_parquet/data_791.parquet\n",
      "download: s3://xdss-public-datasets/demos/taxi_parquet/data_793.parquet to datasets/taxi_parquet/data_793.parquet\n",
      "download: s3://xdss-public-datasets/demos/taxi_parquet/data_792.parquet to datasets/taxi_parquet/data_792.parquet\n",
      "download: s3://xdss-public-datasets/demos/taxi_parquet/data_794.parquet to datasets/taxi_parquet/data_794.parquet\n",
      "download: s3://xdss-public-datasets/demos/taxi_parquet/data_795.parquet to datasets/taxi_parquet/data_795.parquet\n",
      "download: s3://xdss-public-datasets/demos/taxi_parquet/data_796.parquet to datasets/taxi_parquet/data_796.parquet\n",
      "download: s3://xdss-public-datasets/demos/taxi_parquet/data_797.parquet to datasets/taxi_parquet/data_797.parquet\n",
      "download: s3://xdss-public-datasets/demos/taxi_parquet/data_799.parquet to datasets/taxi_parquet/data_799.parquet\n",
      "download: s3://xdss-public-datasets/demos/taxi_parquet/data_798.parquet to datasets/taxi_parquet/data_798.parquet\n",
      "download: s3://xdss-public-datasets/demos/taxi_parquet/data_801.parquet to datasets/taxi_parquet/data_801.parquet\n",
      "download: s3://xdss-public-datasets/demos/taxi_parquet/data_800.parquet to datasets/taxi_parquet/data_800.parquet\n",
      "download: s3://xdss-public-datasets/demos/taxi_parquet/data_802.parquet to datasets/taxi_parquet/data_802.parquet\n",
      "download: s3://xdss-public-datasets/demos/taxi_parquet/data_8.parquet to datasets/taxi_parquet/data_8.parquet\n",
      "download: s3://xdss-public-datasets/demos/taxi_parquet/data_80.parquet to datasets/taxi_parquet/data_80.parquet\n",
      "download: s3://xdss-public-datasets/demos/taxi_parquet/data_803.parquet to datasets/taxi_parquet/data_803.parquet\n",
      "download: s3://xdss-public-datasets/demos/taxi_parquet/data_805.parquet to datasets/taxi_parquet/data_805.parquet\n",
      "download: s3://xdss-public-datasets/demos/taxi_parquet/data_804.parquet to datasets/taxi_parquet/data_804.parquet\n",
      "download: s3://xdss-public-datasets/demos/taxi_parquet/data_806.parquet to datasets/taxi_parquet/data_806.parquet\n",
      "download: s3://xdss-public-datasets/demos/taxi_parquet/data_807.parquet to datasets/taxi_parquet/data_807.parquet\n",
      "download: s3://xdss-public-datasets/demos/taxi_parquet/data_808.parquet to datasets/taxi_parquet/data_808.parquet\n",
      "download: s3://xdss-public-datasets/demos/taxi_parquet/data_809.parquet to datasets/taxi_parquet/data_809.parquet\n",
      "download: s3://xdss-public-datasets/demos/taxi_parquet/data_810.parquet to datasets/taxi_parquet/data_810.parquet\n",
      "download: s3://xdss-public-datasets/demos/taxi_parquet/data_81.parquet to datasets/taxi_parquet/data_81.parquet\n",
      "download: s3://xdss-public-datasets/demos/taxi_parquet/data_811.parquet to datasets/taxi_parquet/data_811.parquet\n",
      "download: s3://xdss-public-datasets/demos/taxi_parquet/data_812.parquet to datasets/taxi_parquet/data_812.parquet\n",
      "download: s3://xdss-public-datasets/demos/taxi_parquet/data_815.parquet to datasets/taxi_parquet/data_815.parquet\n",
      "download: s3://xdss-public-datasets/demos/taxi_parquet/data_816.parquet to datasets/taxi_parquet/data_816.parquet\n",
      "download: s3://xdss-public-datasets/demos/taxi_parquet/data_813.parquet to datasets/taxi_parquet/data_813.parquet\n",
      "download: s3://xdss-public-datasets/demos/taxi_parquet/data_814.parquet to datasets/taxi_parquet/data_814.parquet\n",
      "download: s3://xdss-public-datasets/demos/taxi_parquet/data_817.parquet to datasets/taxi_parquet/data_817.parquet\n",
      "download: s3://xdss-public-datasets/demos/taxi_parquet/data_818.parquet to datasets/taxi_parquet/data_818.parquet\n",
      "download: s3://xdss-public-datasets/demos/taxi_parquet/data_819.parquet to datasets/taxi_parquet/data_819.parquet\n",
      "download: s3://xdss-public-datasets/demos/taxi_parquet/data_82.parquet to datasets/taxi_parquet/data_82.parquet\n",
      "download: s3://xdss-public-datasets/demos/taxi_parquet/data_820.parquet to datasets/taxi_parquet/data_820.parquet\n",
      "download: s3://xdss-public-datasets/demos/taxi_parquet/data_823.parquet to datasets/taxi_parquet/data_823.parquet\n",
      "download: s3://xdss-public-datasets/demos/taxi_parquet/data_822.parquet to datasets/taxi_parquet/data_822.parquet\n",
      "download: s3://xdss-public-datasets/demos/taxi_parquet/data_821.parquet to datasets/taxi_parquet/data_821.parquet\n",
      "download: s3://xdss-public-datasets/demos/taxi_parquet/data_824.parquet to datasets/taxi_parquet/data_824.parquet\n",
      "download: s3://xdss-public-datasets/demos/taxi_parquet/data_825.parquet to datasets/taxi_parquet/data_825.parquet\n",
      "download: s3://xdss-public-datasets/demos/taxi_parquet/data_826.parquet to datasets/taxi_parquet/data_826.parquet\n",
      "download: s3://xdss-public-datasets/demos/taxi_parquet/data_827.parquet to datasets/taxi_parquet/data_827.parquet\n",
      "download: s3://xdss-public-datasets/demos/taxi_parquet/data_828.parquet to datasets/taxi_parquet/data_828.parquet\n",
      "download: s3://xdss-public-datasets/demos/taxi_parquet/data_829.parquet to datasets/taxi_parquet/data_829.parquet\n",
      "download: s3://xdss-public-datasets/demos/taxi_parquet/data_83.parquet to datasets/taxi_parquet/data_83.parquet\n",
      "download: s3://xdss-public-datasets/demos/taxi_parquet/data_832.parquet to datasets/taxi_parquet/data_832.parquet\n",
      "download: s3://xdss-public-datasets/demos/taxi_parquet/data_831.parquet to datasets/taxi_parquet/data_831.parquet\n",
      "download: s3://xdss-public-datasets/demos/taxi_parquet/data_833.parquet to datasets/taxi_parquet/data_833.parquet\n",
      "download: s3://xdss-public-datasets/demos/taxi_parquet/data_830.parquet to datasets/taxi_parquet/data_830.parquet\n",
      "download: s3://xdss-public-datasets/demos/taxi_parquet/data_834.parquet to datasets/taxi_parquet/data_834.parquet\n",
      "download: s3://xdss-public-datasets/demos/taxi_parquet/data_835.parquet to datasets/taxi_parquet/data_835.parquet\n",
      "download: s3://xdss-public-datasets/demos/taxi_parquet/data_836.parquet to datasets/taxi_parquet/data_836.parquet\n",
      "download: s3://xdss-public-datasets/demos/taxi_parquet/data_837.parquet to datasets/taxi_parquet/data_837.parquet\n",
      "download: s3://xdss-public-datasets/demos/taxi_parquet/data_838.parquet to datasets/taxi_parquet/data_838.parquet\n",
      "download: s3://xdss-public-datasets/demos/taxi_parquet/data_840.parquet to datasets/taxi_parquet/data_840.parquet\n",
      "download: s3://xdss-public-datasets/demos/taxi_parquet/data_841.parquet to datasets/taxi_parquet/data_841.parquet\n",
      "download: s3://xdss-public-datasets/demos/taxi_parquet/data_84.parquet to datasets/taxi_parquet/data_84.parquet\n",
      "download: s3://xdss-public-datasets/demos/taxi_parquet/data_839.parquet to datasets/taxi_parquet/data_839.parquet\n",
      "download: s3://xdss-public-datasets/demos/taxi_parquet/data_842.parquet to datasets/taxi_parquet/data_842.parquet\n",
      "download: s3://xdss-public-datasets/demos/taxi_parquet/data_843.parquet to datasets/taxi_parquet/data_843.parquet\n",
      "download: s3://xdss-public-datasets/demos/taxi_parquet/data_845.parquet to datasets/taxi_parquet/data_845.parquet\n",
      "download: s3://xdss-public-datasets/demos/taxi_parquet/data_844.parquet to datasets/taxi_parquet/data_844.parquet\n",
      "download: s3://xdss-public-datasets/demos/taxi_parquet/data_846.parquet to datasets/taxi_parquet/data_846.parquet\n",
      "download: s3://xdss-public-datasets/demos/taxi_parquet/data_847.parquet to datasets/taxi_parquet/data_847.parquet\n",
      "download: s3://xdss-public-datasets/demos/taxi_parquet/data_848.parquet to datasets/taxi_parquet/data_848.parquet\n",
      "download: s3://xdss-public-datasets/demos/taxi_parquet/data_85.parquet to datasets/taxi_parquet/data_85.parquet\n",
      "download: s3://xdss-public-datasets/demos/taxi_parquet/data_849.parquet to datasets/taxi_parquet/data_849.parquet\n",
      "download: s3://xdss-public-datasets/demos/taxi_parquet/data_850.parquet to datasets/taxi_parquet/data_850.parquet\n",
      "download: s3://xdss-public-datasets/demos/taxi_parquet/data_854.parquet to datasets/taxi_parquet/data_854.parquet\n",
      "download: s3://xdss-public-datasets/demos/taxi_parquet/data_853.parquet to datasets/taxi_parquet/data_853.parquet\n",
      "download: s3://xdss-public-datasets/demos/taxi_parquet/data_852.parquet to datasets/taxi_parquet/data_852.parquet\n",
      "download: s3://xdss-public-datasets/demos/taxi_parquet/data_851.parquet to datasets/taxi_parquet/data_851.parquet\n",
      "download: s3://xdss-public-datasets/demos/taxi_parquet/data_855.parquet to datasets/taxi_parquet/data_855.parquet\n",
      "download: s3://xdss-public-datasets/demos/taxi_parquet/data_856.parquet to datasets/taxi_parquet/data_856.parquet\n",
      "download: s3://xdss-public-datasets/demos/taxi_parquet/data_858.parquet to datasets/taxi_parquet/data_858.parquet\n",
      "download: s3://xdss-public-datasets/demos/taxi_parquet/data_857.parquet to datasets/taxi_parquet/data_857.parquet\n",
      "download: s3://xdss-public-datasets/demos/taxi_parquet/data_859.parquet to datasets/taxi_parquet/data_859.parquet\n",
      "download: s3://xdss-public-datasets/demos/taxi_parquet/data_86.parquet to datasets/taxi_parquet/data_86.parquet\n",
      "download: s3://xdss-public-datasets/demos/taxi_parquet/data_860.parquet to datasets/taxi_parquet/data_860.parquet\n",
      "download: s3://xdss-public-datasets/demos/taxi_parquet/data_861.parquet to datasets/taxi_parquet/data_861.parquet\n",
      "download: s3://xdss-public-datasets/demos/taxi_parquet/data_862.parquet to datasets/taxi_parquet/data_862.parquet\n",
      "download: s3://xdss-public-datasets/demos/taxi_parquet/data_863.parquet to datasets/taxi_parquet/data_863.parquet\n",
      "download: s3://xdss-public-datasets/demos/taxi_parquet/data_864.parquet to datasets/taxi_parquet/data_864.parquet\n",
      "download: s3://xdss-public-datasets/demos/taxi_parquet/data_865.parquet to datasets/taxi_parquet/data_865.parquet\n",
      "download: s3://xdss-public-datasets/demos/taxi_parquet/data_867.parquet to datasets/taxi_parquet/data_867.parquet\n",
      "download: s3://xdss-public-datasets/demos/taxi_parquet/data_866.parquet to datasets/taxi_parquet/data_866.parquet\n",
      "download: s3://xdss-public-datasets/demos/taxi_parquet/data_868.parquet to datasets/taxi_parquet/data_868.parquet\n",
      "download: s3://xdss-public-datasets/demos/taxi_parquet/data_870.parquet to datasets/taxi_parquet/data_870.parquet\n",
      "download: s3://xdss-public-datasets/demos/taxi_parquet/data_869.parquet to datasets/taxi_parquet/data_869.parquet\n",
      "download: s3://xdss-public-datasets/demos/taxi_parquet/data_871.parquet to datasets/taxi_parquet/data_871.parquet\n",
      "download: s3://xdss-public-datasets/demos/taxi_parquet/data_87.parquet to datasets/taxi_parquet/data_87.parquet\n",
      "download: s3://xdss-public-datasets/demos/taxi_parquet/data_872.parquet to datasets/taxi_parquet/data_872.parquet\n",
      "download: s3://xdss-public-datasets/demos/taxi_parquet/data_873.parquet to datasets/taxi_parquet/data_873.parquet\n",
      "download: s3://xdss-public-datasets/demos/taxi_parquet/data_874.parquet to datasets/taxi_parquet/data_874.parquet\n",
      "download: s3://xdss-public-datasets/demos/taxi_parquet/data_877.parquet to datasets/taxi_parquet/data_877.parquet\n",
      "download: s3://xdss-public-datasets/demos/taxi_parquet/data_875.parquet to datasets/taxi_parquet/data_875.parquet\n",
      "download: s3://xdss-public-datasets/demos/taxi_parquet/data_876.parquet to datasets/taxi_parquet/data_876.parquet\n",
      "download: s3://xdss-public-datasets/demos/taxi_parquet/data_878.parquet to datasets/taxi_parquet/data_878.parquet\n",
      "download: s3://xdss-public-datasets/demos/taxi_parquet/data_879.parquet to datasets/taxi_parquet/data_879.parquet\n",
      "download: s3://xdss-public-datasets/demos/taxi_parquet/data_88.parquet to datasets/taxi_parquet/data_88.parquet\n",
      "download: s3://xdss-public-datasets/demos/taxi_parquet/data_880.parquet to datasets/taxi_parquet/data_880.parquet\n",
      "download: s3://xdss-public-datasets/demos/taxi_parquet/data_883.parquet to datasets/taxi_parquet/data_883.parquet\n",
      "download: s3://xdss-public-datasets/demos/taxi_parquet/data_881.parquet to datasets/taxi_parquet/data_881.parquet\n",
      "download: s3://xdss-public-datasets/demos/taxi_parquet/data_882.parquet to datasets/taxi_parquet/data_882.parquet\n",
      "download: s3://xdss-public-datasets/demos/taxi_parquet/data_885.parquet to datasets/taxi_parquet/data_885.parquet\n",
      "download: s3://xdss-public-datasets/demos/taxi_parquet/data_884.parquet to datasets/taxi_parquet/data_884.parquet\n",
      "download: s3://xdss-public-datasets/demos/taxi_parquet/data_886.parquet to datasets/taxi_parquet/data_886.parquet\n",
      "download: s3://xdss-public-datasets/demos/taxi_parquet/data_887.parquet to datasets/taxi_parquet/data_887.parquet\n",
      "download: s3://xdss-public-datasets/demos/taxi_parquet/data_889.parquet to datasets/taxi_parquet/data_889.parquet\n",
      "download: s3://xdss-public-datasets/demos/taxi_parquet/data_888.parquet to datasets/taxi_parquet/data_888.parquet\n",
      "download: s3://xdss-public-datasets/demos/taxi_parquet/data_89.parquet to datasets/taxi_parquet/data_89.parquet\n",
      "download: s3://xdss-public-datasets/demos/taxi_parquet/data_890.parquet to datasets/taxi_parquet/data_890.parquet\n",
      "download: s3://xdss-public-datasets/demos/taxi_parquet/data_891.parquet to datasets/taxi_parquet/data_891.parquet\n",
      "download: s3://xdss-public-datasets/demos/taxi_parquet/data_892.parquet to datasets/taxi_parquet/data_892.parquet\n",
      "download: s3://xdss-public-datasets/demos/taxi_parquet/data_893.parquet to datasets/taxi_parquet/data_893.parquet\n",
      "download: s3://xdss-public-datasets/demos/taxi_parquet/data_894.parquet to datasets/taxi_parquet/data_894.parquet\n",
      "download: s3://xdss-public-datasets/demos/taxi_parquet/data_896.parquet to datasets/taxi_parquet/data_896.parquet\n",
      "download: s3://xdss-public-datasets/demos/taxi_parquet/data_895.parquet to datasets/taxi_parquet/data_895.parquet\n",
      "download: s3://xdss-public-datasets/demos/taxi_parquet/data_898.parquet to datasets/taxi_parquet/data_898.parquet\n",
      "download: s3://xdss-public-datasets/demos/taxi_parquet/data_897.parquet to datasets/taxi_parquet/data_897.parquet\n",
      "download: s3://xdss-public-datasets/demos/taxi_parquet/data_899.parquet to datasets/taxi_parquet/data_899.parquet\n",
      "download: s3://xdss-public-datasets/demos/taxi_parquet/data_9.parquet to datasets/taxi_parquet/data_9.parquet\n",
      "download: s3://xdss-public-datasets/demos/taxi_parquet/data_90.parquet to datasets/taxi_parquet/data_90.parquet\n",
      "download: s3://xdss-public-datasets/demos/taxi_parquet/data_900.parquet to datasets/taxi_parquet/data_900.parquet\n",
      "download: s3://xdss-public-datasets/demos/taxi_parquet/data_901.parquet to datasets/taxi_parquet/data_901.parquet\n",
      "download: s3://xdss-public-datasets/demos/taxi_parquet/data_902.parquet to datasets/taxi_parquet/data_902.parquet\n",
      "download: s3://xdss-public-datasets/demos/taxi_parquet/data_904.parquet to datasets/taxi_parquet/data_904.parquet\n",
      "download: s3://xdss-public-datasets/demos/taxi_parquet/data_903.parquet to datasets/taxi_parquet/data_903.parquet\n",
      "download: s3://xdss-public-datasets/demos/taxi_parquet/data_905.parquet to datasets/taxi_parquet/data_905.parquet\n",
      "download: s3://xdss-public-datasets/demos/taxi_parquet/data_906.parquet to datasets/taxi_parquet/data_906.parquet\n",
      "download: s3://xdss-public-datasets/demos/taxi_parquet/data_907.parquet to datasets/taxi_parquet/data_907.parquet\n",
      "download: s3://xdss-public-datasets/demos/taxi_parquet/data_908.parquet to datasets/taxi_parquet/data_908.parquet\n",
      "download: s3://xdss-public-datasets/demos/taxi_parquet/data_909.parquet to datasets/taxi_parquet/data_909.parquet\n",
      "download: s3://xdss-public-datasets/demos/taxi_parquet/data_91.parquet to datasets/taxi_parquet/data_91.parquet\n",
      "download: s3://xdss-public-datasets/demos/taxi_parquet/data_910.parquet to datasets/taxi_parquet/data_910.parquet\n",
      "download: s3://xdss-public-datasets/demos/taxi_parquet/data_911.parquet to datasets/taxi_parquet/data_911.parquet\n",
      "download: s3://xdss-public-datasets/demos/taxi_parquet/data_913.parquet to datasets/taxi_parquet/data_913.parquet\n"
     ]
    },
    {
     "name": "stdout",
     "output_type": "stream",
     "text": [
      "download: s3://xdss-public-datasets/demos/taxi_parquet/data_915.parquet to datasets/taxi_parquet/data_915.parquet\n",
      "download: s3://xdss-public-datasets/demos/taxi_parquet/data_912.parquet to datasets/taxi_parquet/data_912.parquet\n",
      "download: s3://xdss-public-datasets/demos/taxi_parquet/data_916.parquet to datasets/taxi_parquet/data_916.parquet\n",
      "download: s3://xdss-public-datasets/demos/taxi_parquet/data_914.parquet to datasets/taxi_parquet/data_914.parquet\n",
      "download: s3://xdss-public-datasets/demos/taxi_parquet/data_917.parquet to datasets/taxi_parquet/data_917.parquet\n",
      "download: s3://xdss-public-datasets/demos/taxi_parquet/data_918.parquet to datasets/taxi_parquet/data_918.parquet\n",
      "download: s3://xdss-public-datasets/demos/taxi_parquet/data_919.parquet to datasets/taxi_parquet/data_919.parquet\n",
      "download: s3://xdss-public-datasets/demos/taxi_parquet/data_921.parquet to datasets/taxi_parquet/data_921.parquet\n",
      "download: s3://xdss-public-datasets/demos/taxi_parquet/data_92.parquet to datasets/taxi_parquet/data_92.parquet\n",
      "download: s3://xdss-public-datasets/demos/taxi_parquet/data_922.parquet to datasets/taxi_parquet/data_922.parquet\n",
      "download: s3://xdss-public-datasets/demos/taxi_parquet/data_920.parquet to datasets/taxi_parquet/data_920.parquet\n",
      "download: s3://xdss-public-datasets/demos/taxi_parquet/data_923.parquet to datasets/taxi_parquet/data_923.parquet\n",
      "download: s3://xdss-public-datasets/demos/taxi_parquet/data_924.parquet to datasets/taxi_parquet/data_924.parquet\n",
      "download: s3://xdss-public-datasets/demos/taxi_parquet/data_926.parquet to datasets/taxi_parquet/data_926.parquet\n",
      "download: s3://xdss-public-datasets/demos/taxi_parquet/data_925.parquet to datasets/taxi_parquet/data_925.parquet\n",
      "download: s3://xdss-public-datasets/demos/taxi_parquet/data_927.parquet to datasets/taxi_parquet/data_927.parquet\n",
      "download: s3://xdss-public-datasets/demos/taxi_parquet/data_929.parquet to datasets/taxi_parquet/data_929.parquet\n",
      "download: s3://xdss-public-datasets/demos/taxi_parquet/data_928.parquet to datasets/taxi_parquet/data_928.parquet\n",
      "download: s3://xdss-public-datasets/demos/taxi_parquet/data_930.parquet to datasets/taxi_parquet/data_930.parquet\n",
      "download: s3://xdss-public-datasets/demos/taxi_parquet/data_931.parquet to datasets/taxi_parquet/data_931.parquet\n",
      "download: s3://xdss-public-datasets/demos/taxi_parquet/data_93.parquet to datasets/taxi_parquet/data_93.parquet\n",
      "download: s3://xdss-public-datasets/demos/taxi_parquet/data_932.parquet to datasets/taxi_parquet/data_932.parquet\n",
      "download: s3://xdss-public-datasets/demos/taxi_parquet/data_934.parquet to datasets/taxi_parquet/data_934.parquet\n",
      "download: s3://xdss-public-datasets/demos/taxi_parquet/data_933.parquet to datasets/taxi_parquet/data_933.parquet\n",
      "download: s3://xdss-public-datasets/demos/taxi_parquet/data_935.parquet to datasets/taxi_parquet/data_935.parquet\n",
      "download: s3://xdss-public-datasets/demos/taxi_parquet/data_938.parquet to datasets/taxi_parquet/data_938.parquet\n",
      "download: s3://xdss-public-datasets/demos/taxi_parquet/data_939.parquet to datasets/taxi_parquet/data_939.parquet\n",
      "download: s3://xdss-public-datasets/demos/taxi_parquet/data_936.parquet to datasets/taxi_parquet/data_936.parquet\n",
      "download: s3://xdss-public-datasets/demos/taxi_parquet/data_937.parquet to datasets/taxi_parquet/data_937.parquet\n",
      "download: s3://xdss-public-datasets/demos/taxi_parquet/data_94.parquet to datasets/taxi_parquet/data_94.parquet\n",
      "download: s3://xdss-public-datasets/demos/taxi_parquet/data_941.parquet to datasets/taxi_parquet/data_941.parquet\n",
      "download: s3://xdss-public-datasets/demos/taxi_parquet/data_942.parquet to datasets/taxi_parquet/data_942.parquet\n",
      "download: s3://xdss-public-datasets/demos/taxi_parquet/data_940.parquet to datasets/taxi_parquet/data_940.parquet\n",
      "download: s3://xdss-public-datasets/demos/taxi_parquet/data_943.parquet to datasets/taxi_parquet/data_943.parquet\n",
      "download: s3://xdss-public-datasets/demos/taxi_parquet/data_944.parquet to datasets/taxi_parquet/data_944.parquet\n",
      "download: s3://xdss-public-datasets/demos/taxi_parquet/data_946.parquet to datasets/taxi_parquet/data_946.parquet\n",
      "download: s3://xdss-public-datasets/demos/taxi_parquet/data_945.parquet to datasets/taxi_parquet/data_945.parquet\n",
      "download: s3://xdss-public-datasets/demos/taxi_parquet/data_947.parquet to datasets/taxi_parquet/data_947.parquet\n",
      "download: s3://xdss-public-datasets/demos/taxi_parquet/data_949.parquet to datasets/taxi_parquet/data_949.parquet\n",
      "download: s3://xdss-public-datasets/demos/taxi_parquet/data_948.parquet to datasets/taxi_parquet/data_948.parquet\n",
      "download: s3://xdss-public-datasets/demos/taxi_parquet/data_95.parquet to datasets/taxi_parquet/data_95.parquet\n",
      "download: s3://xdss-public-datasets/demos/taxi_parquet/data_952.parquet to datasets/taxi_parquet/data_952.parquet\n",
      "download: s3://xdss-public-datasets/demos/taxi_parquet/data_950.parquet to datasets/taxi_parquet/data_950.parquet\n",
      "download: s3://xdss-public-datasets/demos/taxi_parquet/data_951.parquet to datasets/taxi_parquet/data_951.parquet\n",
      "download: s3://xdss-public-datasets/demos/taxi_parquet/data_953.parquet to datasets/taxi_parquet/data_953.parquet\n",
      "download: s3://xdss-public-datasets/demos/taxi_parquet/data_957.parquet to datasets/taxi_parquet/data_957.parquet\n",
      "download: s3://xdss-public-datasets/demos/taxi_parquet/data_954.parquet to datasets/taxi_parquet/data_954.parquet\n",
      "download: s3://xdss-public-datasets/demos/taxi_parquet/data_955.parquet to datasets/taxi_parquet/data_955.parquet\n",
      "download: s3://xdss-public-datasets/demos/taxi_parquet/data_956.parquet to datasets/taxi_parquet/data_956.parquet\n",
      "download: s3://xdss-public-datasets/demos/taxi_parquet/data_958.parquet to datasets/taxi_parquet/data_958.parquet\n",
      "download: s3://xdss-public-datasets/demos/taxi_parquet/data_959.parquet to datasets/taxi_parquet/data_959.parquet\n",
      "download: s3://xdss-public-datasets/demos/taxi_parquet/data_96.parquet to datasets/taxi_parquet/data_96.parquet\n",
      "download: s3://xdss-public-datasets/demos/taxi_parquet/data_960.parquet to datasets/taxi_parquet/data_960.parquet\n",
      "download: s3://xdss-public-datasets/demos/taxi_parquet/data_961.parquet to datasets/taxi_parquet/data_961.parquet\n",
      "download: s3://xdss-public-datasets/demos/taxi_parquet/data_962.parquet to datasets/taxi_parquet/data_962.parquet\n",
      "download: s3://xdss-public-datasets/demos/taxi_parquet/data_964.parquet to datasets/taxi_parquet/data_964.parquet\n",
      "download: s3://xdss-public-datasets/demos/taxi_parquet/data_966.parquet to datasets/taxi_parquet/data_966.parquet\n",
      "download: s3://xdss-public-datasets/demos/taxi_parquet/data_963.parquet to datasets/taxi_parquet/data_963.parquet\n",
      "download: s3://xdss-public-datasets/demos/taxi_parquet/data_965.parquet to datasets/taxi_parquet/data_965.parquet\n",
      "download: s3://xdss-public-datasets/demos/taxi_parquet/data_967.parquet to datasets/taxi_parquet/data_967.parquet\n",
      "download: s3://xdss-public-datasets/demos/taxi_parquet/data_968.parquet to datasets/taxi_parquet/data_968.parquet\n",
      "download: s3://xdss-public-datasets/demos/taxi_parquet/data_969.parquet to datasets/taxi_parquet/data_969.parquet\n",
      "download: s3://xdss-public-datasets/demos/taxi_parquet/data_97.parquet to datasets/taxi_parquet/data_97.parquet\n",
      "download: s3://xdss-public-datasets/demos/taxi_parquet/data_970.parquet to datasets/taxi_parquet/data_970.parquet\n",
      "download: s3://xdss-public-datasets/demos/taxi_parquet/data_971.parquet to datasets/taxi_parquet/data_971.parquet\n",
      "download: s3://xdss-public-datasets/demos/taxi_parquet/data_973.parquet to datasets/taxi_parquet/data_973.parquet\n",
      "download: s3://xdss-public-datasets/demos/taxi_parquet/data_975.parquet to datasets/taxi_parquet/data_975.parquet\n",
      "download: s3://xdss-public-datasets/demos/taxi_parquet/data_974.parquet to datasets/taxi_parquet/data_974.parquet\n",
      "download: s3://xdss-public-datasets/demos/taxi_parquet/data_976.parquet to datasets/taxi_parquet/data_976.parquet\n",
      "download: s3://xdss-public-datasets/demos/taxi_parquet/data_972.parquet to datasets/taxi_parquet/data_972.parquet\n",
      "download: s3://xdss-public-datasets/demos/taxi_parquet/data_977.parquet to datasets/taxi_parquet/data_977.parquet\n",
      "download: s3://xdss-public-datasets/demos/taxi_parquet/data_978.parquet to datasets/taxi_parquet/data_978.parquet\n"
     ]
    },
    {
     "name": "stdout",
     "output_type": "stream",
     "text": [
      "download: s3://xdss-public-datasets/demos/taxi_parquet/data_980.parquet to datasets/taxi_parquet/data_980.parquet\n",
      "download: s3://xdss-public-datasets/demos/taxi_parquet/data_979.parquet to datasets/taxi_parquet/data_979.parquet\n",
      "download: s3://xdss-public-datasets/demos/taxi_parquet/data_982.parquet to datasets/taxi_parquet/data_982.parquet\n",
      "download: s3://xdss-public-datasets/demos/taxi_parquet/data_98.parquet to datasets/taxi_parquet/data_98.parquet\n",
      "download: s3://xdss-public-datasets/demos/taxi_parquet/data_981.parquet to datasets/taxi_parquet/data_981.parquet\n",
      "download: s3://xdss-public-datasets/demos/taxi_parquet/data_983.parquet to datasets/taxi_parquet/data_983.parquet\n",
      "download: s3://xdss-public-datasets/demos/taxi_parquet/data_984.parquet to datasets/taxi_parquet/data_984.parquet\n",
      "download: s3://xdss-public-datasets/demos/taxi_parquet/data_985.parquet to datasets/taxi_parquet/data_985.parquet\n",
      "download: s3://xdss-public-datasets/demos/taxi_parquet/data_986.parquet to datasets/taxi_parquet/data_986.parquet\n",
      "download: s3://xdss-public-datasets/demos/taxi_parquet/data_989.parquet to datasets/taxi_parquet/data_989.parquet\n",
      "download: s3://xdss-public-datasets/demos/taxi_parquet/data_988.parquet to datasets/taxi_parquet/data_988.parquet\n",
      "download: s3://xdss-public-datasets/demos/taxi_parquet/data_987.parquet to datasets/taxi_parquet/data_987.parquet\n",
      "download: s3://xdss-public-datasets/demos/taxi_parquet/data_990.parquet to datasets/taxi_parquet/data_990.parquet\n",
      "download: s3://xdss-public-datasets/demos/taxi_parquet/data_991.parquet to datasets/taxi_parquet/data_991.parquet\n",
      "download: s3://xdss-public-datasets/demos/taxi_parquet/data_99.parquet to datasets/taxi_parquet/data_99.parquet\n",
      "download: s3://xdss-public-datasets/demos/taxi_parquet/data_993.parquet to datasets/taxi_parquet/data_993.parquet\n",
      "download: s3://xdss-public-datasets/demos/taxi_parquet/data_992.parquet to datasets/taxi_parquet/data_992.parquet\n",
      "download: s3://xdss-public-datasets/demos/taxi_parquet/data_994.parquet to datasets/taxi_parquet/data_994.parquet\n",
      "download: s3://xdss-public-datasets/demos/taxi_parquet/data_995.parquet to datasets/taxi_parquet/data_995.parquet\n",
      "download: s3://xdss-public-datasets/demos/taxi_parquet/data_996.parquet to datasets/taxi_parquet/data_996.parquet\n",
      "download: s3://xdss-public-datasets/demos/taxi_parquet/data_998.parquet to datasets/taxi_parquet/data_998.parquet\n",
      "download: s3://xdss-public-datasets/demos/taxi_parquet/data_999.parquet to datasets/taxi_parquet/data_999.parquet\n",
      "download: s3://xdss-public-datasets/demos/taxi_parquet/data_997.parquet to datasets/taxi_parquet/data_997.parquet\n"
     ]
    }
   ],
   "source": [
    "!aws s3 cp --recursive s3://xdss-public-datasets/demos/taxi_parquet datasets/taxi_parquet"
   ]
  },
  {
   "cell_type": "code",
   "execution_count": 1,
   "metadata": {
    "ExecuteTime": {
     "end_time": "2020-02-18T13:53:45.885720Z",
     "start_time": "2020-02-18T13:53:45.308674Z"
    },
    "code_folding": [
     33,
     38,
     43
    ]
   },
   "outputs": [
    {
     "name": "stdout",
     "output_type": "stream",
     "text": [
      "test for 1 repetitions for join and groupby and 5 repetitions for statistics\n"
     ]
    }
   ],
   "source": [
    "import gc\n",
    "import numpy as np\n",
    "import pandas as pd\n",
    "import warnings\n",
    "import time\n",
    "import gc\n",
    "import os\n",
    "import os\n",
    "\n",
    "\n",
    "instance_type = 'c5d2xlarge' # change this\n",
    "results_bucket = f\"s3://vaex-sagemaker-demo/benchmarks\" # change this\n",
    "\n",
    "os.environ[\"MODIN_ENGINE\"] = \"dask\"  # Modin will use Ray\n",
    "name = 'modin-dask'\n",
    "data_path = 'datasets/taxi_parquet/'\n",
    "output_file = f'{name}_{instance_type}_results.csv'\n",
    "results_path = f\"results/{output_file}\"\n",
    "results_bucket = f\"{results_bucket}/{output_file}\" \n",
    "benchmarks = {}\n",
    "single_repetition = 1\n",
    "statistic_repetition = 5\n",
    "\n",
    "long_min = -74.05\n",
    "long_max = -73.75\n",
    "lat_min = 40.58\n",
    "\n",
    "long_min = -74.05\n",
    "long_max = -73.75\n",
    "lat_min = 40.58\n",
    "lat_max = 40.90\n",
    "\n",
    "\n",
    "def get_results(benchmarks, name):\n",
    "    results = pd.DataFrame.from_dict(benchmarks, orient='index')\n",
    "    results.columns = [name]\n",
    "    return results\n",
    "\n",
    "def persist():\n",
    "    gc.collect()\n",
    "    get_results(benchmarks, name).to_csv(results_path)\n",
    "    os.system(f\"aws s3 cp {results_path} {results_bucket}\")\n",
    "    \n",
    "def benchmark(f, df, name, repetitions=1, **kwargs):\n",
    "    times = []\n",
    "    for i in range(repetitions):\n",
    "        start_time = time.time()\n",
    "        ret = f(df, **kwargs)\n",
    "        times.append(time.time()-start_time)\n",
    "    benchmarks[name] = np.mean(times)\n",
    "    persist()\n",
    "    print(f\"{name} took: {benchmarks[name]}\")\n",
    "    return benchmarks[name]\n",
    "\n",
    "\n",
    "!mkdir -p results\n",
    "!mkdir -p datasets\n",
    "print(f\"test for {single_repetition} repetitions for join and groupby and {statistic_repetition} repetitions for statistics\")"
   ]
  },
  {
   "cell_type": "markdown",
   "metadata": {},
   "source": [
    "# Benchmark"
   ]
  },
  {
   "cell_type": "code",
   "execution_count": 2,
   "metadata": {
    "ExecuteTime": {
     "end_time": "2020-02-18T13:53:51.632779Z",
     "start_time": "2020-02-18T13:53:48.606300Z"
    }
   },
   "outputs": [
    {
     "name": "stderr",
     "output_type": "stream",
     "text": [
      "UserWarning: The Dask Engine for Modin is experimental.\n"
     ]
    },
    {
     "name": "stdout",
     "output_type": "stream",
     "text": [
      "size: 1000000 with 18 columns\n"
     ]
    }
   ],
   "source": [
    "import modin.pandas as pd\n",
    "import numpy as np\n",
    "\n",
    "# Load data\n",
    "data = pd.read_parquet(data_path, engine='pyarrow')\n",
    "print(f\"size: {len(data)} with {len(data.columns)} columns\")"
   ]
  },
  {
   "cell_type": "code",
   "execution_count": 59,
   "metadata": {
    "ExecuteTime": {
     "end_time": "2020-02-18T13:39:14.353180Z",
     "start_time": "2020-02-18T13:39:05.948495Z"
    }
   },
   "outputs": [
    {
     "name": "stderr",
     "output_type": "stream",
     "text": [
      "UserWarning: `from_dict` defaulting to pandas implementation.\n",
      "UserWarning: `DataFrame.to_csv` defaulting to pandas implementation.\n",
      "UserWarning: Distributing <class 'pandas.core.frame.DataFrame'> object. This may take some time.\n"
     ]
    },
    {
     "name": "stdout",
     "output_type": "stream",
     "text": [
      "read_file took: 1.5481024742126466\n"
     ]
    },
    {
     "data": {
      "text/plain": [
       "1.5481024742126466"
      ]
     },
     "execution_count": 59,
     "metadata": {},
     "output_type": "execute_result"
    }
   ],
   "source": [
    "def read_file_parquet(df=None):\n",
    "    return pd.read_parquet(data_path, engine='pyarrow')\n",
    "\n",
    "benchmark(read_file_parquet, df=data, name='read_file', repetitions=statistic_repetition)"
   ]
  },
  {
   "cell_type": "code",
   "execution_count": 60,
   "metadata": {
    "ExecuteTime": {
     "end_time": "2020-02-18T13:39:15.517446Z",
     "start_time": "2020-02-18T13:39:14.355144Z"
    }
   },
   "outputs": [
    {
     "name": "stderr",
     "output_type": "stream",
     "text": [
      "UserWarning: `from_dict` defaulting to pandas implementation.\n",
      "UserWarning: `DataFrame.to_csv` defaulting to pandas implementation.\n",
      "UserWarning: Distributing <class 'pandas.core.frame.DataFrame'> object. This may take some time.\n"
     ]
    },
    {
     "name": "stdout",
     "output_type": "stream",
     "text": [
      "count took: 1.2254714965820312e-05\n"
     ]
    },
    {
     "data": {
      "text/plain": [
       "1.2254714965820312e-05"
      ]
     },
     "execution_count": 60,
     "metadata": {},
     "output_type": "execute_result"
    }
   ],
   "source": [
    "def count(df=None):\n",
    "    return len(df)\n",
    "\n",
    "benchmark(count, df=data, name='count', repetitions=statistic_repetition)"
   ]
  },
  {
   "cell_type": "code",
   "execution_count": 61,
   "metadata": {
    "ExecuteTime": {
     "end_time": "2020-02-18T13:39:16.597380Z",
     "start_time": "2020-02-18T13:39:15.519015Z"
    }
   },
   "outputs": [
    {
     "name": "stderr",
     "output_type": "stream",
     "text": [
      "UserWarning: `from_dict` defaulting to pandas implementation.\n",
      "UserWarning: `DataFrame.to_csv` defaulting to pandas implementation.\n",
      "UserWarning: Distributing <class 'pandas.core.frame.DataFrame'> object. This may take some time.\n"
     ]
    },
    {
     "name": "stdout",
     "output_type": "stream",
     "text": [
      "mean took: 0.05955638885498047\n"
     ]
    },
    {
     "data": {
      "text/plain": [
       "0.05955638885498047"
      ]
     },
     "execution_count": 61,
     "metadata": {},
     "output_type": "execute_result"
    }
   ],
   "source": [
    "def mean(df):\n",
    "    return df.fare_amount.mean()\n",
    "\n",
    "benchmark(mean, df=data, name='mean', repetitions=statistic_repetition)"
   ]
  },
  {
   "cell_type": "code",
   "execution_count": 62,
   "metadata": {
    "ExecuteTime": {
     "end_time": "2020-02-18T13:39:17.374782Z",
     "start_time": "2020-02-18T13:39:16.599136Z"
    }
   },
   "outputs": [
    {
     "name": "stderr",
     "output_type": "stream",
     "text": [
      "UserWarning: `from_dict` defaulting to pandas implementation.\n",
      "UserWarning: `DataFrame.to_csv` defaulting to pandas implementation.\n",
      "UserWarning: Distributing <class 'pandas.core.frame.DataFrame'> object. This may take some time.\n"
     ]
    },
    {
     "name": "stdout",
     "output_type": "stream",
     "text": [
      "standard deviation took: 0.04032907485961914\n"
     ]
    },
    {
     "data": {
      "text/plain": [
       "0.04032907485961914"
      ]
     },
     "execution_count": 62,
     "metadata": {},
     "output_type": "execute_result"
    }
   ],
   "source": [
    "def standard_deviation(df):\n",
    "    return df.fare_amount.std()\n",
    "\n",
    "benchmark(standard_deviation, df=data, name='standard deviation', repetitions=statistic_repetition)"
   ]
  },
  {
   "cell_type": "markdown",
   "metadata": {},
   "source": [
    "To calculate the time when using two columns, we can't return the response since it will get into memroy and break, so we run a mean calculation on it, and then remove the time it took to run the mean."
   ]
  },
  {
   "cell_type": "code",
   "execution_count": 63,
   "metadata": {
    "ExecuteTime": {
     "end_time": "2020-02-18T13:39:18.632582Z",
     "start_time": "2020-02-18T13:39:17.376503Z"
    }
   },
   "outputs": [
    {
     "name": "stderr",
     "output_type": "stream",
     "text": [
      "UserWarning: `from_dict` defaulting to pandas implementation.\n",
      "UserWarning: `DataFrame.to_csv` defaulting to pandas implementation.\n",
      "UserWarning: Distributing <class 'pandas.core.frame.DataFrame'> object. This may take some time.\n"
     ]
    },
    {
     "name": "stdout",
     "output_type": "stream",
     "text": [
      "sum columns mean took: 0.13871545791625978\n"
     ]
    }
   ],
   "source": [
    "def mean_of_sum(df):\n",
    "    return (df.fare_amount + df.trip_distance).mean()\n",
    "\n",
    "benchmark(mean_of_sum, df=data, name='sum columns mean', repetitions=statistic_repetition)\n",
    "benchmarks['sum columns'] =  np.nan"
   ]
  },
  {
   "cell_type": "code",
   "execution_count": 64,
   "metadata": {
    "ExecuteTime": {
     "end_time": "2020-02-18T13:39:19.973659Z",
     "start_time": "2020-02-18T13:39:18.634845Z"
    }
   },
   "outputs": [
    {
     "name": "stderr",
     "output_type": "stream",
     "text": [
      "UserWarning: `from_dict` defaulting to pandas implementation.\n",
      "UserWarning: `DataFrame.to_csv` defaulting to pandas implementation.\n",
      "UserWarning: Distributing <class 'pandas.core.frame.DataFrame'> object. This may take some time.\n"
     ]
    },
    {
     "name": "stdout",
     "output_type": "stream",
     "text": [
      "product columns mean took: 0.14782986640930176\n"
     ]
    }
   ],
   "source": [
    "def mean_of_product(df):\n",
    "    return (df.fare_amount * df.trip_distance).mean()\n",
    "\n",
    "benchmark(mean_of_product, df=data, name='product columns mean', repetitions=statistic_repetition)\n",
    "benchmarks['product columns'] =  np.nan"
   ]
  },
  {
   "cell_type": "code",
   "execution_count": 65,
   "metadata": {
    "ExecuteTime": {
     "end_time": "2020-02-18T13:39:22.053237Z",
     "start_time": "2020-02-18T13:39:19.975743Z"
    }
   },
   "outputs": [
    {
     "name": "stderr",
     "output_type": "stream",
     "text": [
      "UserWarning: `Series.__array_wrap__` defaulting to pandas implementation.\n",
      "UserWarning: Distributing <class 'pandas.core.series.Series'> object. This may take some time.\n",
      "UserWarning: `from_dict` defaulting to pandas implementation.\n",
      "UserWarning: `DataFrame.to_csv` defaulting to pandas implementation.\n",
      "UserWarning: Distributing <class 'pandas.core.frame.DataFrame'> object. This may take some time.\n"
     ]
    },
    {
     "name": "stdout",
     "output_type": "stream",
     "text": [
      "arithmetic operation mean took: 1.4310154914855957\n"
     ]
    }
   ],
   "source": [
    "def mean_of_complicated_arithmetic_operation(df):\n",
    "    theta_1 = df.pickup_longitude\n",
    "    phi_1 = df.pickup_latitude\n",
    "    theta_2 = df.dropoff_longitude\n",
    "    phi_2 = df.dropoff_latitude\n",
    "    temp = (np.sin((theta_2-theta_1)/2*np.pi/180)**2\n",
    "           + np.cos(theta_1*np.pi/180)*np.cos(theta_2*np.pi/180) * np.sin((phi_2-phi_1)/2*np.pi/180)**2)\n",
    "    ret = np.multiply(np.arctan2(np.sqrt(temp), np.sqrt(np.subtract(1, temp))),2) \n",
    "    return ret.mean()\n",
    "\n",
    "benchmark(mean_of_complicated_arithmetic_operation, df=data, name='arithmetic operation mean', repetitions=single_repetition)\n",
    "benchmarks['arithmetic operation'] =  np.nan\n"
   ]
  },
  {
   "cell_type": "code",
   "execution_count": 66,
   "metadata": {
    "ExecuteTime": {
     "end_time": "2020-02-18T13:39:23.309743Z",
     "start_time": "2020-02-18T13:39:22.055132Z"
    }
   },
   "outputs": [
    {
     "name": "stderr",
     "output_type": "stream",
     "text": [
      "UserWarning: `Series.value_counts` defaulting to pandas implementation.\n",
      "UserWarning: Distributing <class 'pandas.core.series.Series'> object. This may take some time.\n",
      "UserWarning: `from_dict` defaulting to pandas implementation.\n",
      "UserWarning: `DataFrame.to_csv` defaulting to pandas implementation.\n",
      "UserWarning: Distributing <class 'pandas.core.frame.DataFrame'> object. This may take some time.\n"
     ]
    },
    {
     "name": "stdout",
     "output_type": "stream",
     "text": [
      "value counts took: 0.13008618354797363\n"
     ]
    },
    {
     "data": {
      "text/plain": [
       "0.13008618354797363"
      ]
     },
     "execution_count": 66,
     "metadata": {},
     "output_type": "execute_result"
    }
   ],
   "source": [
    "def value_counts(df):\n",
    "    return df.fare_amount.value_counts()\n",
    "\n",
    "benchmark(value_counts, df=data, name='value counts', repetitions=statistic_repetition)"
   ]
  },
  {
   "cell_type": "code",
   "execution_count": 67,
   "metadata": {
    "ExecuteTime": {
     "end_time": "2020-02-18T13:39:25.078681Z",
     "start_time": "2020-02-18T13:39:23.311854Z"
    }
   },
   "outputs": [
    {
     "name": "stderr",
     "output_type": "stream",
     "text": [
      "UserWarning: `DataFrame.groupby_on_multiple_columns` defaulting to pandas implementation.\n",
      "UserWarning: Distributing <class 'pandas.core.frame.DataFrame'> object. This may take some time.\n",
      "UserWarning: `from_dict` defaulting to pandas implementation.\n",
      "UserWarning: `DataFrame.to_csv` defaulting to pandas implementation.\n"
     ]
    },
    {
     "name": "stdout",
     "output_type": "stream",
     "text": [
      "groupby statistics took: 1.2036387920379639\n"
     ]
    },
    {
     "data": {
      "text/plain": [
       "1.2036387920379639"
      ]
     },
     "execution_count": 67,
     "metadata": {},
     "output_type": "execute_result"
    }
   ],
   "source": [
    "def groupby_statistics(df):\n",
    "    return df.groupby(by='passenger_count').agg({'fare_amount': ['mean', 'std'], \n",
    "                                               'tip_amount': ['mean', 'std']\n",
    "                                              })\n",
    "\n",
    "benchmark(groupby_statistics, df=data, name='groupby statistics', repetitions=single_repetition)"
   ]
  },
  {
   "cell_type": "code",
   "execution_count": 68,
   "metadata": {
    "ExecuteTime": {
     "end_time": "2020-02-18T13:39:26.116510Z",
     "start_time": "2020-02-18T13:39:25.080668Z"
    }
   },
   "outputs": [
    {
     "name": "stderr",
     "output_type": "stream",
     "text": [
      "UserWarning: merging between different levels can give an unintended result (1 levels on the left, 2 on the right)\n",
      "UserWarning: `from_dict` defaulting to pandas implementation.\n",
      "UserWarning: `DataFrame.to_csv` defaulting to pandas implementation.\n",
      "UserWarning: Distributing <class 'pandas.core.frame.DataFrame'> object. This may take some time.\n"
     ]
    },
    {
     "name": "stdout",
     "output_type": "stream",
     "text": [
      "join took: 0.44701623916625977\n"
     ]
    },
    {
     "data": {
      "text/plain": [
       "0.44701623916625977"
      ]
     },
     "execution_count": 68,
     "metadata": {},
     "output_type": "execute_result"
    }
   ],
   "source": [
    "def join_count(df, other):\n",
    "    return pd.merge(df, other, left_index=True, right_index=True)\n",
    "\n",
    "benchmark(join_count, data, name='join', repetitions=single_repetition, other=other)"
   ]
  },
  {
   "cell_type": "markdown",
   "metadata": {},
   "source": [
    "## This parts require more than 16 GB of RAM"
   ]
  },
  {
   "cell_type": "code",
   "execution_count": 69,
   "metadata": {
    "ExecuteTime": {
     "end_time": "2020-02-18T13:39:27.239491Z",
     "start_time": "2020-02-18T13:39:26.118328Z"
    }
   },
   "outputs": [
    {
     "name": "stderr",
     "output_type": "stream",
     "text": [
      "UserWarning: `DataFrame.groupby_on_multiple_columns` defaulting to pandas implementation.\n",
      "UserWarning: Distributing <class 'pandas.core.frame.DataFrame'> object. This may take some time.\n"
     ]
    }
   ],
   "source": [
    "other = groupby_statistics(data)"
   ]
  },
  {
   "cell_type": "code",
   "execution_count": 70,
   "metadata": {
    "ExecuteTime": {
     "end_time": "2020-02-18T13:39:28.192369Z",
     "start_time": "2020-02-18T13:39:27.241002Z"
    }
   },
   "outputs": [
    {
     "name": "stderr",
     "output_type": "stream",
     "text": [
      "UserWarning: merging between different levels can give an unintended result (1 levels on the left, 2 on the right)\n",
      "UserWarning: `from_dict` defaulting to pandas implementation.\n",
      "UserWarning: `DataFrame.to_csv` defaulting to pandas implementation.\n",
      "UserWarning: Distributing <class 'pandas.core.frame.DataFrame'> object. This may take some time.\n"
     ]
    },
    {
     "name": "stdout",
     "output_type": "stream",
     "text": [
      "join count took: 0.39369869232177734\n"
     ]
    },
    {
     "data": {
      "text/plain": [
       "0.39369869232177734"
      ]
     },
     "execution_count": 70,
     "metadata": {},
     "output_type": "execute_result"
    }
   ],
   "source": [
    "def join_count(df, other):\n",
    "    return len(pd.merge(df, other, left_index=True, right_index=True))\n",
    "\n",
    "benchmark(join_count, data, name='join count', repetitions=single_repetition, other=other)"
   ]
  },
  {
   "cell_type": "markdown",
   "metadata": {},
   "source": [
    "## Filtered data"
   ]
  },
  {
   "cell_type": "markdown",
   "metadata": {},
   "source": [
    "Dask is not build to run on filter data like you would normally, so we will apply the same strategy"
   ]
  },
  {
   "cell_type": "code",
   "execution_count": 71,
   "metadata": {
    "ExecuteTime": {
     "end_time": "2020-02-18T13:39:28.251333Z",
     "start_time": "2020-02-18T13:39:28.194054Z"
    }
   },
   "outputs": [
    {
     "name": "stdout",
     "output_type": "stream",
     "text": [
      "Prepare filtered data and deleted 22 MB\n"
     ]
    }
   ],
   "source": [
    "print(f\"Prepare filtered data and deleted {gc.collect()} MB\")"
   ]
  },
  {
   "cell_type": "code",
   "execution_count": 72,
   "metadata": {
    "ExecuteTime": {
     "end_time": "2020-02-18T13:39:29.405713Z",
     "start_time": "2020-02-18T13:39:28.252723Z"
    }
   },
   "outputs": [],
   "source": [
    "expr_filter = (data.pickup_longitude > long_min)  & (data.pickup_longitude < long_max) & \\\n",
    "                  (data.pickup_latitude > lat_min)    & (data.pickup_latitude < lat_max) & \\\n",
    "                  (data.dropoff_longitude > long_min) & (data.dropoff_longitude < long_max) & \\\n",
    "                  (data.dropoff_latitude > lat_min)   & (data.dropoff_latitude < lat_max)"
   ]
  },
  {
   "cell_type": "code",
   "execution_count": null,
   "metadata": {
    "ExecuteTime": {
     "start_time": "2020-02-18T13:39:09.243Z"
    }
   },
   "outputs": [
    {
     "ename": "IndexingError",
     "evalue": "Unalignable boolean Series provided as indexer (index of the boolean Series and of the indexed object do not match).",
     "output_type": "error",
     "traceback": [
      "\u001b[0;31m---------------------------------------------------------------------------\u001b[0m",
      "\u001b[0;31mIndexingError\u001b[0m                             Traceback (most recent call last)",
      "\u001b[0;32m<ipython-input-73-ed65805cb5fb>\u001b[0m in \u001b[0;36m<module>\u001b[0;34m()\u001b[0m\n\u001b[1;32m      2\u001b[0m     \u001b[0;32mreturn\u001b[0m \u001b[0mdf\u001b[0m\u001b[0;34m[\u001b[0m\u001b[0mexpr_filter\u001b[0m\u001b[0;34m]\u001b[0m\u001b[0;34m\u001b[0m\u001b[0m\n\u001b[1;32m      3\u001b[0m \u001b[0;34m\u001b[0m\u001b[0m\n\u001b[0;32m----> 4\u001b[0;31m \u001b[0mbenchmark\u001b[0m\u001b[0;34m(\u001b[0m\u001b[0mfilter_data\u001b[0m\u001b[0;34m,\u001b[0m \u001b[0mdata\u001b[0m\u001b[0;34m,\u001b[0m \u001b[0mname\u001b[0m\u001b[0;34m=\u001b[0m\u001b[0;34m'filter data'\u001b[0m\u001b[0;34m,\u001b[0m \u001b[0mrepetitions\u001b[0m\u001b[0;34m=\u001b[0m\u001b[0mstatistic_repetition\u001b[0m\u001b[0;34m)\u001b[0m\u001b[0;34m\u001b[0m\u001b[0m\n\u001b[0m",
      "\u001b[0;32m<ipython-input-57-d73373eff208>\u001b[0m in \u001b[0;36mbenchmark\u001b[0;34m(f, df, name, repetitions, **kwargs)\u001b[0m\n\u001b[1;32m     46\u001b[0m     \u001b[0;32mfor\u001b[0m \u001b[0mi\u001b[0m \u001b[0;32min\u001b[0m \u001b[0mrange\u001b[0m\u001b[0;34m(\u001b[0m\u001b[0mrepetitions\u001b[0m\u001b[0;34m)\u001b[0m\u001b[0;34m:\u001b[0m\u001b[0;34m\u001b[0m\u001b[0m\n\u001b[1;32m     47\u001b[0m         \u001b[0mstart_time\u001b[0m \u001b[0;34m=\u001b[0m \u001b[0mtime\u001b[0m\u001b[0;34m.\u001b[0m\u001b[0mtime\u001b[0m\u001b[0;34m(\u001b[0m\u001b[0;34m)\u001b[0m\u001b[0;34m\u001b[0m\u001b[0m\n\u001b[0;32m---> 48\u001b[0;31m         \u001b[0mret\u001b[0m \u001b[0;34m=\u001b[0m \u001b[0mf\u001b[0m\u001b[0;34m(\u001b[0m\u001b[0mdf\u001b[0m\u001b[0;34m,\u001b[0m \u001b[0;34m**\u001b[0m\u001b[0mkwargs\u001b[0m\u001b[0;34m)\u001b[0m\u001b[0;34m\u001b[0m\u001b[0m\n\u001b[0m\u001b[1;32m     49\u001b[0m         \u001b[0mtimes\u001b[0m\u001b[0;34m.\u001b[0m\u001b[0mappend\u001b[0m\u001b[0;34m(\u001b[0m\u001b[0mtime\u001b[0m\u001b[0;34m.\u001b[0m\u001b[0mtime\u001b[0m\u001b[0;34m(\u001b[0m\u001b[0;34m)\u001b[0m\u001b[0;34m-\u001b[0m\u001b[0mstart_time\u001b[0m\u001b[0;34m)\u001b[0m\u001b[0;34m\u001b[0m\u001b[0m\n\u001b[1;32m     50\u001b[0m     \u001b[0mbenchmarks\u001b[0m\u001b[0;34m[\u001b[0m\u001b[0mname\u001b[0m\u001b[0;34m]\u001b[0m \u001b[0;34m=\u001b[0m \u001b[0mnp\u001b[0m\u001b[0;34m.\u001b[0m\u001b[0mmean\u001b[0m\u001b[0;34m(\u001b[0m\u001b[0mtimes\u001b[0m\u001b[0;34m)\u001b[0m\u001b[0;34m\u001b[0m\u001b[0m\n",
      "\u001b[0;32m<ipython-input-73-ed65805cb5fb>\u001b[0m in \u001b[0;36mfilter_data\u001b[0;34m(df)\u001b[0m\n\u001b[1;32m      1\u001b[0m \u001b[0;32mdef\u001b[0m \u001b[0mfilter_data\u001b[0m\u001b[0;34m(\u001b[0m\u001b[0mdf\u001b[0m\u001b[0;34m)\u001b[0m\u001b[0;34m:\u001b[0m\u001b[0;34m\u001b[0m\u001b[0m\n\u001b[0;32m----> 2\u001b[0;31m     \u001b[0;32mreturn\u001b[0m \u001b[0mdf\u001b[0m\u001b[0;34m[\u001b[0m\u001b[0mexpr_filter\u001b[0m\u001b[0;34m]\u001b[0m\u001b[0;34m\u001b[0m\u001b[0m\n\u001b[0m\u001b[1;32m      3\u001b[0m \u001b[0;34m\u001b[0m\u001b[0m\n\u001b[1;32m      4\u001b[0m \u001b[0mbenchmark\u001b[0m\u001b[0;34m(\u001b[0m\u001b[0mfilter_data\u001b[0m\u001b[0;34m,\u001b[0m \u001b[0mdata\u001b[0m\u001b[0;34m,\u001b[0m \u001b[0mname\u001b[0m\u001b[0;34m=\u001b[0m\u001b[0;34m'filter data'\u001b[0m\u001b[0;34m,\u001b[0m \u001b[0mrepetitions\u001b[0m\u001b[0;34m=\u001b[0m\u001b[0mstatistic_repetition\u001b[0m\u001b[0;34m)\u001b[0m\u001b[0;34m\u001b[0m\u001b[0m\n",
      "\u001b[0;32m~/anaconda3/envs/python3/lib/python3.6/site-packages/modin/pandas/base.py\u001b[0m in \u001b[0;36m__getitem__\u001b[0;34m(self, key)\u001b[0m\n\u001b[1;32m   3302\u001b[0m             \u001b[0;32mreturn\u001b[0m \u001b[0mself\u001b[0m\u001b[0;34m.\u001b[0m\u001b[0m_getitem_slice\u001b[0m\u001b[0;34m(\u001b[0m\u001b[0mindexer\u001b[0m\u001b[0;34m)\u001b[0m\u001b[0;34m\u001b[0m\u001b[0m\n\u001b[1;32m   3303\u001b[0m         \u001b[0;32melse\u001b[0m\u001b[0;34m:\u001b[0m\u001b[0;34m\u001b[0m\u001b[0m\n\u001b[0;32m-> 3304\u001b[0;31m             \u001b[0;32mreturn\u001b[0m \u001b[0mself\u001b[0m\u001b[0;34m.\u001b[0m\u001b[0m_getitem\u001b[0m\u001b[0;34m(\u001b[0m\u001b[0mkey\u001b[0m\u001b[0;34m)\u001b[0m\u001b[0;34m\u001b[0m\u001b[0m\n\u001b[0m\u001b[1;32m   3305\u001b[0m \u001b[0;34m\u001b[0m\u001b[0m\n\u001b[1;32m   3306\u001b[0m     \u001b[0;32mdef\u001b[0m \u001b[0m_getitem_slice\u001b[0m\u001b[0;34m(\u001b[0m\u001b[0mself\u001b[0m\u001b[0;34m,\u001b[0m \u001b[0mkey\u001b[0m\u001b[0;34m)\u001b[0m\u001b[0;34m:\u001b[0m\u001b[0;34m\u001b[0m\u001b[0m\n",
      "\u001b[0;32m~/anaconda3/envs/python3/lib/python3.6/site-packages/modin/pandas/dataframe.py\u001b[0m in \u001b[0;36m_getitem\u001b[0;34m(self, key)\u001b[0m\n\u001b[1;32m   1894\u001b[0m             \u001b[0;32mpass\u001b[0m\u001b[0;34m\u001b[0m\u001b[0m\n\u001b[1;32m   1895\u001b[0m         \u001b[0;32mif\u001b[0m \u001b[0misinstance\u001b[0m\u001b[0;34m(\u001b[0m\u001b[0mkey\u001b[0m\u001b[0;34m,\u001b[0m \u001b[0;34m(\u001b[0m\u001b[0mSeries\u001b[0m\u001b[0;34m,\u001b[0m \u001b[0mnp\u001b[0m\u001b[0;34m.\u001b[0m\u001b[0mndarray\u001b[0m\u001b[0;34m,\u001b[0m \u001b[0mpandas\u001b[0m\u001b[0;34m.\u001b[0m\u001b[0mIndex\u001b[0m\u001b[0;34m,\u001b[0m \u001b[0mlist\u001b[0m\u001b[0;34m)\u001b[0m\u001b[0;34m)\u001b[0m\u001b[0;34m:\u001b[0m\u001b[0;34m\u001b[0m\u001b[0m\n\u001b[0;32m-> 1896\u001b[0;31m             \u001b[0;32mreturn\u001b[0m \u001b[0mself\u001b[0m\u001b[0;34m.\u001b[0m\u001b[0m_getitem_array\u001b[0m\u001b[0;34m(\u001b[0m\u001b[0mkey\u001b[0m\u001b[0;34m)\u001b[0m\u001b[0;34m\u001b[0m\u001b[0m\n\u001b[0m\u001b[1;32m   1897\u001b[0m         \u001b[0;32melif\u001b[0m \u001b[0misinstance\u001b[0m\u001b[0;34m(\u001b[0m\u001b[0mkey\u001b[0m\u001b[0;34m,\u001b[0m \u001b[0mDataFrame\u001b[0m\u001b[0;34m)\u001b[0m\u001b[0;34m:\u001b[0m\u001b[0;34m\u001b[0m\u001b[0m\n\u001b[1;32m   1898\u001b[0m             \u001b[0;32mreturn\u001b[0m \u001b[0mself\u001b[0m\u001b[0;34m.\u001b[0m\u001b[0mwhere\u001b[0m\u001b[0;34m(\u001b[0m\u001b[0mkey\u001b[0m\u001b[0;34m)\u001b[0m\u001b[0;34m\u001b[0m\u001b[0m\n",
      "\u001b[0;32m~/anaconda3/envs/python3/lib/python3.6/site-packages/modin/pandas/dataframe.py\u001b[0m in \u001b[0;36m_getitem_array\u001b[0;34m(self, key)\u001b[0m\n\u001b[1;32m   1927\u001b[0m                     )\n\u001b[1;32m   1928\u001b[0m                 )\n\u001b[0;32m-> 1929\u001b[0;31m             \u001b[0mkey\u001b[0m \u001b[0;34m=\u001b[0m \u001b[0mcheck_bool_indexer\u001b[0m\u001b[0;34m(\u001b[0m\u001b[0mself\u001b[0m\u001b[0;34m.\u001b[0m\u001b[0mindex\u001b[0m\u001b[0;34m,\u001b[0m \u001b[0mkey\u001b[0m\u001b[0;34m)\u001b[0m\u001b[0;34m\u001b[0m\u001b[0m\n\u001b[0m\u001b[1;32m   1930\u001b[0m             \u001b[0;31m# We convert to a RangeIndex because getitem_row_array is expecting a list\u001b[0m\u001b[0;34m\u001b[0m\u001b[0;34m\u001b[0m\u001b[0m\n\u001b[1;32m   1931\u001b[0m             \u001b[0;31m# of indices, and RangeIndex will give us the exact indices of each boolean\u001b[0m\u001b[0;34m\u001b[0m\u001b[0;34m\u001b[0m\u001b[0m\n",
      "\u001b[0;32m~/anaconda3/envs/python3/lib/python3.6/site-packages/pandas/core/indexing.py\u001b[0m in \u001b[0;36mcheck_bool_indexer\u001b[0;34m(index, key)\u001b[0m\n\u001b[1;32m   2409\u001b[0m         \u001b[0;32mif\u001b[0m \u001b[0mmask\u001b[0m\u001b[0;34m.\u001b[0m\u001b[0many\u001b[0m\u001b[0;34m(\u001b[0m\u001b[0;34m)\u001b[0m\u001b[0;34m:\u001b[0m\u001b[0;34m\u001b[0m\u001b[0m\n\u001b[1;32m   2410\u001b[0m             raise IndexingError(\n\u001b[0;32m-> 2411\u001b[0;31m                 \u001b[0;34m\"Unalignable boolean Series provided as \"\u001b[0m\u001b[0;34m\u001b[0m\u001b[0m\n\u001b[0m\u001b[1;32m   2412\u001b[0m                 \u001b[0;34m\"indexer (index of the boolean Series and of \"\u001b[0m\u001b[0;34m\u001b[0m\u001b[0m\n\u001b[1;32m   2413\u001b[0m                 \u001b[0;34m\"the indexed object do not match).\"\u001b[0m\u001b[0;34m\u001b[0m\u001b[0m\n",
      "\u001b[0;31mIndexingError\u001b[0m: Unalignable boolean Series provided as indexer (index of the boolean Series and of the indexed object do not match)."
     ]
    }
   ],
   "source": [
    "def filter_data(df):\n",
    "    return df[expr_filter]\n",
    "\n",
    "benchmark(filter_data, data, name='filter data', repetitions=statistic_repetition)"
   ]
  },
  {
   "cell_type": "code",
   "execution_count": null,
   "metadata": {
    "ExecuteTime": {
     "start_time": "2020-02-18T13:39:09.664Z"
    }
   },
   "outputs": [],
   "source": [
    "filterd = filter_data(data)\n",
    "\n",
    "del data\n",
    "print(f\"cleaned {gc.collect()} mb\")"
   ]
  },
  {
   "cell_type": "code",
   "execution_count": null,
   "metadata": {
    "ExecuteTime": {
     "start_time": "2020-02-18T13:39:09.935Z"
    }
   },
   "outputs": [],
   "source": [
    "benchmark(mean, filterd, name='filterd mean', repetitions=statistic_repetition)\n",
    "benchmark(standard_deviation, filterd, name='filtered standard deviation', repetitions=statistic_repetition)\n",
    "benchmark(mean_of_sum, filterd, name ='filtered sum columns mean', repetitions=statistic_repetition)\n",
    "benchmarks['filtered sum columns'] =  np.nan\n",
    "benchmark(mean_of_product, filterd, name ='filterd product columns mean', repetitions=statistic_repetition)\n",
    "benchmarks['filterd product columns'] = np.nan\n",
    "benchmark(mean_of_complicated_arithmetic_operation, filterd, name='filterd arithmetic operation mean', repetitions=single_repetition)\n",
    "benchmarks['filterd arithmetic operation'] =  np.nan\n",
    "benchmark(value_counts, filterd, name ='filtered value counts', repetitions=single_repetition)\n",
    "benchmark(groupby_statistics, filterd, name='filtered groupby statistics', repetitions=single_repetition)\n",
    "other = groupby_statistics(filterd)\n",
    "benchmarks['filtered join'] = np.nan\n",
    "benchmark(join_count, filterd, name='filtered join count', repetitions=single_repetition, other=other)\n",
    "print('Done!')"
   ]
  },
  {
   "cell_type": "code",
   "execution_count": null,
   "metadata": {
    "ExecuteTime": {
     "start_time": "2020-02-18T13:39:10.759Z"
    }
   },
   "outputs": [],
   "source": [
    "print('modin-ray')\n",
    "benchmarks"
   ]
  },
  {
   "cell_type": "code",
   "execution_count": null,
   "metadata": {},
   "outputs": [],
   "source": []
  }
 ],
 "metadata": {
  "kernelspec": {
   "display_name": "conda_python3",
   "language": "python",
   "name": "conda_python3"
  },
  "language_info": {
   "codemirror_mode": {
    "name": "ipython",
    "version": 3
   },
   "file_extension": ".py",
   "mimetype": "text/x-python",
   "name": "python",
   "nbconvert_exporter": "python",
   "pygments_lexer": "ipython3",
   "version": "3.6.5"
  }
 },
 "nbformat": 4,
 "nbformat_minor": 4
}
