{
 "cells": [
  {
   "cell_type": "markdown",
   "metadata": {},
   "source": [
    "# Get data and packages"
   ]
  },
  {
   "cell_type": "code",
   "execution_count": 1,
   "metadata": {
    "ExecuteTime": {
     "end_time": "2020-01-13T14:21:06.690430Z",
     "start_time": "2020-01-13T14:20:54.182849Z"
    },
    "code_folding": [
     0
    ]
   },
   "outputs": [],
   "source": [
    "%%capture\n",
    "%%bash\n",
    "pip install jupyter_contrib_nbextensions\n",
    "pip install jupyter_nbextensions_configurator\n",
    "jupyter contrib nbextension install --user\n",
    "jupyter nbextensions_configurator enable --user\n",
    "\n",
    "jupyter nbextension enable codefolding/main\n",
    "jupyter nbextension enable scratchpad/main\n",
    "jupyter nbextension enable execute_time/ExecuteTime\n",
    "jupyter nbextension enable autosavetime/main\n",
    "pip install -U pip dask numpy fsspec>=0.3.3 tqdm pyarrow\n"
   ]
  },
  {
   "cell_type": "code",
   "execution_count": null,
   "metadata": {},
   "outputs": [],
   "source": [
    "%%capture\n",
    "!pip install -U pip dask numpy fsspec>=0.3.3 tqdm pyarrow"
   ]
  },
  {
   "cell_type": "code",
   "execution_count": null,
   "metadata": {},
   "outputs": [],
   "source": [
    "!aws s3 cp --recursive s3://xdss-public-datasets/demos/taxi_parquet ../datasets/taxi_parquet"
   ]
  },
  {
   "cell_type": "code",
   "execution_count": 5,
   "metadata": {
    "ExecuteTime": {
     "end_time": "2020-01-23T09:09:16.888400Z",
     "start_time": "2020-01-23T09:09:12.748012Z"
    }
   },
   "outputs": [
    {
     "name": "stdout",
     "output_type": "stream",
     "text": [
      "test for 1 repetitions\n"
     ]
    }
   ],
   "source": [
    "import gc\n",
    "from src.benchmarks_utils import benchmark, get_results\n",
    "from src.dask_utils import *\n",
    "from src.config import repetitions\n",
    "\n",
    "name = 'dask'\n",
    "data_path = '../datasets/taxi_parquet/'\n",
    "results_path = f\"../results/{name}_1b.csv\"\n",
    "benchmarks = {}\n",
    "print(f\"test for {repetitions} repetitions\")"
   ]
  },
  {
   "cell_type": "markdown",
   "metadata": {},
   "source": [
    "# Benchmark"
   ]
  },
  {
   "cell_type": "code",
   "execution_count": 4,
   "metadata": {
    "ExecuteTime": {
     "end_time": "2020-01-23T07:39:01.055599Z",
     "start_time": "2020-01-23T07:36:08.419255Z"
    }
   },
   "outputs": [
    {
     "name": "stdout",
     "output_type": "stream",
     "text": [
      "size: 1173057928 with 18 columns\n"
     ]
    }
   ],
   "source": [
    "# Load data\n",
    "data = read_file(None, data_path)\n",
    "# data.pickup_datetime = dd.to_datetime(data.pickup_datetime)\n",
    "# data['pickup_hour'] = data.pickup_datetime.dt.hour\n",
    "# data = data.set_index('passenger_count')\n",
    "print(f\"size: {len(data)} with {len(data.columns)} columns\")"
   ]
  },
  {
   "cell_type": "code",
   "execution_count": null,
   "metadata": {
    "ExecuteTime": {
     "end_time": "2020-01-23T08:33:47.610272Z",
     "start_time": "2020-01-23T08:33:24.747134Z"
    }
   },
   "outputs": [],
   "source": [
    "benchmarks['read_file']= benchmark(read_file, df=data, data_path=data_path, repetitions=repetitions)\n",
    "benchmarks['mean']= benchmark(mean, data, repetitions=repetitions)\n",
    "benchmarks['standard deviation']= benchmark(standard_deviation, data, repetitions=repetitions)\n",
    "benchmarks['sum columns']= benchmark(sum_columns, data, repetitions=repetitions)\n",
    "benchmarks['product columns']= benchmark(product_columns, data, repetitions=repetitions)\n",
    "benchmarks['arithmetic operation']= benchmark(complicated_arithmetic_operation, data, repetitions=repetitions)\n",
    "benchmarks['value counts']= benchmark(value_counts, data, repetitions=repetitions)\n",
    "benchmarks['groupby statistics']= benchmark(groupby_statistics, data, repetitions=repetitions)\n",
    "benchmarks['filter']= benchmark(filter_data, data, repetitions=repetitions)\n",
    "print(f\"cleaned {gc.collect()} mb\")\n",
    "benchmarks['join'] = benchmark(join, data, repetitions=repetitions, other=groupby_statistics(data))\n",
    "print(f\"Done benchmarks on all data\")\n",
    "\n",
    "# filtered\n",
    "filterd = filter_data(data)\n",
    "del data\n",
    "\n",
    "print(f\"Prepare filtered data and deleted {gc.collect()} MB\")\n",
    "benchmarks['filtered mean'] = benchmark(mean, filterd, repetitions=repetitions)\n",
    "benchmarks['filtered standard deviation'] = benchmark(standard_deviation, filterd, repetitions=repetitions)\n",
    "benchmarks['filtered sum columns'] = benchmark(sum_columns , filterd, repetitions=repetitions)\n",
    "benchmarks['filtered product_columns'] = benchmark(product_columns , filterd, repetitions=repetitions)\n",
    "benchmarks['filtered complicated arithmetic operation'] = benchmark(complicated_arithmetic_operation, filterd, repetitions=repetitions)\n",
    "benchmarks['filtered value counts'] = benchmark(value_counts, filterd, repetitions=repetitions)\n",
    "benchmarks['filtered groupby statistics'] = benchmark(groupby_statistics, filterd, repetitions=repetitions)\n",
    "benchmarks['filtered join'] = benchmark(join, filterd, repetitions=repetitions, other=groupby_statistics(filterd))\n",
    "print(f\"Done benchmarks on filterd data\")\n"
   ]
  },
  {
   "cell_type": "code",
   "execution_count": null,
   "metadata": {
    "ExecuteTime": {
     "start_time": "2020-01-14T11:59:17.177Z"
    }
   },
   "outputs": [],
   "source": [
    "results = get_results(benchmarks, name)\n",
    "results.to_csv(results_path)\n",
    "results.head()"
   ]
  },
  {
   "cell_type": "code",
   "execution_count": 6,
   "metadata": {
    "ExecuteTime": {
     "end_time": "2020-01-23T09:10:11.193733Z",
     "start_time": "2020-01-23T09:10:09.547408Z"
    }
   },
   "outputs": [
    {
     "name": "stdout",
     "output_type": "stream",
     "text": [
      "Completed 269 Bytes/269 Bytes (3.1 KiB/s) with 1 file(s) remaining\r",
      "upload: ../results/dask_1b.csv to s3://vaex-sagemaker-demo/benchmarks/dask_1b_results_mlm44xlarge.csv\r\n"
     ]
    }
   ],
   "source": [
    "!aws s3 cp  ../results/dask_1b.csv s3://vaex-sagemaker-demo/benchmarks/dask_1b_results_mlm44xlarge.csv "
   ]
  },
  {
   "cell_type": "markdown",
   "metadata": {},
   "source": [
    "# Benchmark line by line"
   ]
  },
  {
   "cell_type": "code",
   "execution_count": 7,
   "metadata": {
    "ExecuteTime": {
     "end_time": "2020-01-23T09:11:21.999229Z",
     "start_time": "2020-01-23T09:10:20.773904Z"
    }
   },
   "outputs": [
    {
     "name": "stdout",
     "output_type": "stream",
     "text": [
      "size: 1173057928 with 18 columns\n"
     ]
    }
   ],
   "source": [
    "# Load data\n",
    "data = read_file(None, data_path)\n",
    "# data.pickup_datetime = dd.to_datetime(data.pickup_datetime)\n",
    "# data['pickup_hour'] = data.pickup_datetime.dt.hour\n",
    "# data = data.set_index('passenger_count')\n",
    "print(f\"size: {len(data)} with {len(data.columns)} columns\")"
   ]
  },
  {
   "cell_type": "code",
   "execution_count": 8,
   "metadata": {
    "ExecuteTime": {
     "end_time": "2020-01-23T09:11:22.004327Z",
     "start_time": "2020-01-23T09:11:22.001357Z"
    }
   },
   "outputs": [],
   "source": [
    "def persiste_results():\n",
    "    get_results(benchmarks, name).to_csv(results_path)"
   ]
  },
  {
   "cell_type": "code",
   "execution_count": 9,
   "metadata": {
    "ExecuteTime": {
     "end_time": "2020-01-23T09:11:23.114394Z",
     "start_time": "2020-01-23T09:11:22.006355Z"
    }
   },
   "outputs": [],
   "source": [
    "benchmarks['read_file']= benchmark(read_file, df=data, data_path=data_path, repetitions=repetitions)\n",
    "persiste_results()"
   ]
  },
  {
   "cell_type": "code",
   "execution_count": 10,
   "metadata": {
    "ExecuteTime": {
     "end_time": "2020-01-23T09:11:43.809808Z",
     "start_time": "2020-01-23T09:11:23.116266Z"
    }
   },
   "outputs": [],
   "source": [
    "benchmarks['mean']= benchmark(mean, data, repetitions=repetitions)\n",
    "persiste_results()"
   ]
  },
  {
   "cell_type": "code",
   "execution_count": 11,
   "metadata": {
    "ExecuteTime": {
     "end_time": "2020-01-23T09:12:08.661208Z",
     "start_time": "2020-01-23T09:11:43.811693Z"
    }
   },
   "outputs": [],
   "source": [
    "benchmarks['standard deviation']= benchmark(standard_deviation, data, repetitions=repetitions)\n",
    "persiste_results()"
   ]
  },
  {
   "cell_type": "code",
   "execution_count": 12,
   "metadata": {
    "ExecuteTime": {
     "end_time": "2020-01-23T09:12:40.222606Z",
     "start_time": "2020-01-23T09:12:08.663414Z"
    }
   },
   "outputs": [],
   "source": [
    "benchmarks['sum columns']= benchmark(sum_columns, data, repetitions=repetitions)\n",
    "persiste_results()"
   ]
  },
  {
   "cell_type": "code",
   "execution_count": 13,
   "metadata": {
    "ExecuteTime": {
     "end_time": "2020-01-23T09:13:10.811271Z",
     "start_time": "2020-01-23T09:12:40.224532Z"
    }
   },
   "outputs": [],
   "source": [
    "benchmarks['product columns'] = benchmark(product_columns, data, repetitions=repetitions)\n",
    "persiste_results()"
   ]
  },
  {
   "cell_type": "code",
   "execution_count": 14,
   "metadata": {
    "ExecuteTime": {
     "end_time": "2020-01-23T09:14:10.463578Z",
     "start_time": "2020-01-23T09:13:10.813151Z"
    }
   },
   "outputs": [],
   "source": [
    "benchmarks['arithmetic operation'] = benchmark(complicated_arithmetic_operation, data, repetitions=repetitions)\n",
    "persiste_results()"
   ]
  },
  {
   "cell_type": "code",
   "execution_count": 15,
   "metadata": {
    "ExecuteTime": {
     "end_time": "2020-01-23T09:14:25.096308Z",
     "start_time": "2020-01-23T09:14:10.465405Z"
    }
   },
   "outputs": [],
   "source": [
    "benchmarks['value counts'] = benchmark(value_counts, data, repetitions=repetitions)\n",
    "persiste_results()"
   ]
  },
  {
   "cell_type": "code",
   "execution_count": 16,
   "metadata": {
    "ExecuteTime": {
     "end_time": "2020-01-23T09:27:00.193978Z",
     "start_time": "2020-01-23T09:14:25.098130Z"
    }
   },
   "outputs": [],
   "source": [
    "benchmarks['groupby statistics'] = benchmark(groupby_statistics, data, repetitions=repetitions)\n",
    "persiste_results()"
   ]
  },
  {
   "cell_type": "code",
   "execution_count": 18,
   "metadata": {
    "ExecuteTime": {
     "end_time": "2020-01-23T09:39:35.772857Z",
     "start_time": "2020-01-23T09:39:35.722970Z"
    }
   },
   "outputs": [
    {
     "data": {
      "text/plain": [
       "567"
      ]
     },
     "execution_count": 18,
     "metadata": {},
     "output_type": "execute_result"
    }
   ],
   "source": [
    "gc.collect()"
   ]
  },
  {
   "cell_type": "code",
   "execution_count": null,
   "metadata": {
    "ExecuteTime": {
     "start_time": "2020-01-23T09:47:13.955Z"
    }
   },
   "outputs": [],
   "source": [
    "benchmarks['filter']= benchmark(filter_data, data, repetitions=repetitions)\n",
    "persiste_results()"
   ]
  },
  {
   "cell_type": "code",
   "execution_count": null,
   "metadata": {
    "ExecuteTime": {
     "end_time": "2020-01-23T08:18:45.940753Z",
     "start_time": "2020-01-23T07:42:04.748Z"
    }
   },
   "outputs": [],
   "source": [
    "print(f\"cleaned {gc.collect()} mb\")\n",
    "benchmarks['join'] = benchmark(join, data, repetitions=repetitions, other=groupby_statistics(data))\n",
    "persiste_results()\n",
    "print(f\"Done benchmarks on all data\")"
   ]
  },
  {
   "cell_type": "code",
   "execution_count": null,
   "metadata": {
    "ExecuteTime": {
     "end_time": "2020-01-23T08:18:45.942483Z",
     "start_time": "2020-01-23T07:42:05.067Z"
    }
   },
   "outputs": [],
   "source": [
    "filterd = filter_data(data)\n",
    "del data\n",
    "print(f\"Prepare filtered data and deleted {gc.collect()} MB\")"
   ]
  },
  {
   "cell_type": "code",
   "execution_count": null,
   "metadata": {
    "ExecuteTime": {
     "end_time": "2020-01-23T08:18:45.943459Z",
     "start_time": "2020-01-23T07:42:05.340Z"
    }
   },
   "outputs": [],
   "source": [
    "benchmarks['filtered mean'] = benchmark(mean, filterd, repetitions=repetitions)\n",
    "persiste_results()"
   ]
  },
  {
   "cell_type": "code",
   "execution_count": null,
   "metadata": {
    "ExecuteTime": {
     "end_time": "2020-01-23T08:18:45.944296Z",
     "start_time": "2020-01-23T07:42:05.638Z"
    }
   },
   "outputs": [],
   "source": [
    "benchmarks['filtered standard deviation'] = benchmark(standard_deviation, filterd, repetitions=repetitions)\n",
    "persiste_results()"
   ]
  },
  {
   "cell_type": "code",
   "execution_count": null,
   "metadata": {
    "ExecuteTime": {
     "end_time": "2020-01-23T08:18:45.945085Z",
     "start_time": "2020-01-23T07:42:05.956Z"
    }
   },
   "outputs": [],
   "source": [
    "benchmarks['filtered sum columns'] = benchmark(sum_columns , filterd, repetitions=repetitions)\n",
    "persiste_results()"
   ]
  },
  {
   "cell_type": "code",
   "execution_count": null,
   "metadata": {
    "ExecuteTime": {
     "end_time": "2020-01-23T08:18:45.945955Z",
     "start_time": "2020-01-23T07:42:06.245Z"
    }
   },
   "outputs": [],
   "source": [
    "benchmarks['filtered complicated arithmetic operation'] = benchmark(complicated_arithmetic_operation, filterd, repetitions=repetitions)\n",
    "persiste_results()"
   ]
  },
  {
   "cell_type": "code",
   "execution_count": null,
   "metadata": {
    "ExecuteTime": {
     "end_time": "2020-01-23T08:18:45.946763Z",
     "start_time": "2020-01-23T07:42:06.573Z"
    }
   },
   "outputs": [],
   "source": [
    "benchmarks['filtered value counts'] = benchmark(value_counts, filterd, repetitions=repetitions)\n",
    "persiste_results()"
   ]
  },
  {
   "cell_type": "code",
   "execution_count": null,
   "metadata": {
    "ExecuteTime": {
     "end_time": "2020-01-23T08:18:45.947631Z",
     "start_time": "2020-01-23T07:42:06.806Z"
    }
   },
   "outputs": [],
   "source": [
    "benchmarks['filtered groupby statistics'] = benchmark(groupby_statistics, filterd, repetitions=repetitions)\n",
    "persiste_results()"
   ]
  },
  {
   "cell_type": "code",
   "execution_count": null,
   "metadata": {
    "ExecuteTime": {
     "end_time": "2020-01-23T08:18:45.948492Z",
     "start_time": "2020-01-23T07:42:07.051Z"
    }
   },
   "outputs": [],
   "source": [
    "benchmarks['filtered join'] = benchmark(join, filterd, repetitions=repetitions, other=groupby_statistics(filterd))\n",
    "persiste_results()"
   ]
  },
  {
   "cell_type": "code",
   "execution_count": null,
   "metadata": {
    "ExecuteTime": {
     "end_time": "2020-01-23T08:18:45.949548Z",
     "start_time": "2020-01-23T07:42:07.374Z"
    }
   },
   "outputs": [],
   "source": [
    "print(f\"Done benchmarks on filterd data\")"
   ]
  },
  {
   "cell_type": "code",
   "execution_count": null,
   "metadata": {},
   "outputs": [],
   "source": []
  }
 ],
 "metadata": {
  "kernelspec": {
   "display_name": "conda_python3",
   "language": "python",
   "name": "conda_python3"
  },
  "language_info": {
   "codemirror_mode": {
    "name": "ipython",
    "version": 3
   },
   "file_extension": ".py",
   "mimetype": "text/x-python",
   "name": "python",
   "nbconvert_exporter": "python",
   "pygments_lexer": "ipython3",
   "version": "3.6.5"
  }
 },
 "nbformat": 4,
 "nbformat_minor": 4
}
